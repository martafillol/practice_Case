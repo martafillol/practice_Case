{
 "cells": [
  {
   "cell_type": "markdown",
   "metadata": {},
   "source": [
    "## Data migration case\n",
    "\n",
    "Based on this dataset, decide what data we are going to inherit from the origin to the future data system. First understand what the data is about and what are the needs, clean and analyze the dataset and explain the process. "
   ]
  },
  {
   "cell_type": "markdown",
   "metadata": {},
   "source": [
    "## Import and visualize data"
   ]
  },
  {
   "cell_type": "code",
   "execution_count": 12,
   "metadata": {},
   "outputs": [],
   "source": [
    "import pandas as pd"
   ]
  },
  {
   "cell_type": "code",
   "execution_count": 41,
   "metadata": {},
   "outputs": [],
   "source": [
    "origin_dataset = pd.read_csv(\"/Users/martafillolbruguera/Documents/Data_projects/practice_Case/dataset.csv\")"
   ]
  },
  {
   "cell_type": "code",
   "execution_count": 42,
   "metadata": {},
   "outputs": [
    {
     "data": {
      "text/html": [
       "<div>\n",
       "<style scoped>\n",
       "    .dataframe tbody tr th:only-of-type {\n",
       "        vertical-align: middle;\n",
       "    }\n",
       "\n",
       "    .dataframe tbody tr th {\n",
       "        vertical-align: top;\n",
       "    }\n",
       "\n",
       "    .dataframe thead th {\n",
       "        text-align: right;\n",
       "    }\n",
       "</style>\n",
       "<table border=\"1\" class=\"dataframe\">\n",
       "  <thead>\n",
       "    <tr style=\"text-align: right;\">\n",
       "      <th></th>\n",
       "      <th>Número de serie</th>\n",
       "      <th>Equipo</th>\n",
       "      <th>Número-identificación técnica</th>\n",
       "      <th>Grupo planificación</th>\n",
       "      <th>Enviar a parte</th>\n",
       "      <th>Flota</th>\n",
       "      <th>Activo fijo</th>\n",
       "      <th>Año de construcción</th>\n",
       "      <th>Brand name</th>\n",
       "      <th>Creado el</th>\n",
       "      <th>...</th>\n",
       "      <th>Modificado por</th>\n",
       "      <th>Fe.puesta servicio</th>\n",
       "      <th>Fecha de última orden</th>\n",
       "      <th>Inic.garantía clte.</th>\n",
       "      <th>intervalo</th>\n",
       "      <th>Mes de construcción</th>\n",
       "      <th>País de fabricación</th>\n",
       "      <th>Pto.tbjo.responsable</th>\n",
       "      <th>Status de usuario</th>\n",
       "      <th>Tipo de equipo</th>\n",
       "    </tr>\n",
       "  </thead>\n",
       "  <tbody>\n",
       "    <tr>\n",
       "      <th>0</th>\n",
       "      <td>H2X992W15465</td>\n",
       "      <td>1132732</td>\n",
       "      <td>3</td>\n",
       "      <td>E82</td>\n",
       "      <td>33925845</td>\n",
       "      <td>C</td>\n",
       "      <td>NaN</td>\n",
       "      <td>2008.0</td>\n",
       "      <td>LINDE</td>\n",
       "      <td>12/6/2012</td>\n",
       "      <td>...</td>\n",
       "      <td>HK57F5</td>\n",
       "      <td>NaN</td>\n",
       "      <td>11/11/2022</td>\n",
       "      <td>15/9/2008</td>\n",
       "      <td>Contrapesada térmica</td>\n",
       "      <td>5.0</td>\n",
       "      <td>DE</td>\n",
       "      <td>KXE-6188</td>\n",
       "      <td>AVLB</td>\n",
       "      <td>L</td>\n",
       "    </tr>\n",
       "    <tr>\n",
       "      <th>1</th>\n",
       "      <td>H2X995S19125</td>\n",
       "      <td>1207034</td>\n",
       "      <td>NaN</td>\n",
       "      <td>E12</td>\n",
       "      <td>39380933</td>\n",
       "      <td>C</td>\n",
       "      <td>NaN</td>\n",
       "      <td>2005.0</td>\n",
       "      <td>NaN</td>\n",
       "      <td>18/6/2012</td>\n",
       "      <td>...</td>\n",
       "      <td>HK57F5</td>\n",
       "      <td>NaN</td>\n",
       "      <td>13/7/2018</td>\n",
       "      <td>14/12/2011</td>\n",
       "      <td>Contrapesada eléctrica</td>\n",
       "      <td>5.0</td>\n",
       "      <td>DE</td>\n",
       "      <td>KXE-6639</td>\n",
       "      <td>AVLB PINA</td>\n",
       "      <td>L</td>\n",
       "    </tr>\n",
       "    <tr>\n",
       "      <th>2</th>\n",
       "      <td>W4X979W12995</td>\n",
       "      <td>1290040</td>\n",
       "      <td>1204 PMP EX</td>\n",
       "      <td>E82</td>\n",
       "      <td>33927373</td>\n",
       "      <td>C</td>\n",
       "      <td>NaN</td>\n",
       "      <td>2008.0</td>\n",
       "      <td>LINDE</td>\n",
       "      <td>18/12/2012</td>\n",
       "      <td>...</td>\n",
       "      <td>CKMAGKNK</td>\n",
       "      <td>29/5/2008</td>\n",
       "      <td>19/9/2023</td>\n",
       "      <td>NaN</td>\n",
       "      <td>Apilador</td>\n",
       "      <td>6.0</td>\n",
       "      <td>NaN</td>\n",
       "      <td>KXE-6156</td>\n",
       "      <td>AWIN</td>\n",
       "      <td>L</td>\n",
       "    </tr>\n",
       "    <tr>\n",
       "      <th>3</th>\n",
       "      <td>H2X994R11511</td>\n",
       "      <td>1306179</td>\n",
       "      <td>NaN</td>\n",
       "      <td>NaN</td>\n",
       "      <td>33922280</td>\n",
       "      <td>N</td>\n",
       "      <td>NaN</td>\n",
       "      <td>2004.0</td>\n",
       "      <td>LINDE</td>\n",
       "      <td>18/12/2012</td>\n",
       "      <td>...</td>\n",
       "      <td>HK57F5</td>\n",
       "      <td>30/4/2004</td>\n",
       "      <td>24/5/2023</td>\n",
       "      <td>NaN</td>\n",
       "      <td>Contrapesada térmica</td>\n",
       "      <td>5.0</td>\n",
       "      <td>NaN</td>\n",
       "      <td>NaN</td>\n",
       "      <td>AVLB</td>\n",
       "      <td>L</td>\n",
       "    </tr>\n",
       "    <tr>\n",
       "      <th>4</th>\n",
       "      <td>G5X997P11599</td>\n",
       "      <td>1655177</td>\n",
       "      <td>NaN</td>\n",
       "      <td>E11</td>\n",
       "      <td>33923892</td>\n",
       "      <td>C</td>\n",
       "      <td>NaN</td>\n",
       "      <td>2003.0</td>\n",
       "      <td>NaN</td>\n",
       "      <td>23/9/2014</td>\n",
       "      <td>...</td>\n",
       "      <td>HK57F5</td>\n",
       "      <td>NaN</td>\n",
       "      <td>1/4/2020</td>\n",
       "      <td>15/7/2003</td>\n",
       "      <td>Contrapesada eléctrica</td>\n",
       "      <td>6.0</td>\n",
       "      <td>GB</td>\n",
       "      <td>KXE-6263</td>\n",
       "      <td>AVLB PINA</td>\n",
       "      <td>L</td>\n",
       "    </tr>\n",
       "  </tbody>\n",
       "</table>\n",
       "<p>5 rows × 22 columns</p>\n",
       "</div>"
      ],
      "text/plain": [
       "  Número de serie   Equipo Número-identificación técnica Grupo planificación  \\\n",
       "0    H2X992W15465  1132732                             3                 E82   \n",
       "1    H2X995S19125  1207034                           NaN                 E12   \n",
       "2    W4X979W12995  1290040                   1204 PMP EX                 E82   \n",
       "3    H2X994R11511  1306179                           NaN                 NaN   \n",
       "4    G5X997P11599  1655177                           NaN                 E11   \n",
       "\n",
       "   Enviar a parte Flota Activo fijo  Año de construcción Brand name  \\\n",
       "0        33925845     C         NaN               2008.0      LINDE   \n",
       "1        39380933     C         NaN               2005.0        NaN   \n",
       "2        33927373     C         NaN               2008.0      LINDE   \n",
       "3        33922280     N         NaN               2004.0      LINDE   \n",
       "4        33923892     C         NaN               2003.0        NaN   \n",
       "\n",
       "    Creado el  ... Modificado por Fe.puesta servicio Fecha de última orden  \\\n",
       "0   12/6/2012  ...         HK57F5                NaN            11/11/2022   \n",
       "1   18/6/2012  ...         HK57F5                NaN             13/7/2018   \n",
       "2  18/12/2012  ...       CKMAGKNK          29/5/2008             19/9/2023   \n",
       "3  18/12/2012  ...         HK57F5          30/4/2004             24/5/2023   \n",
       "4   23/9/2014  ...         HK57F5                NaN              1/4/2020   \n",
       "\n",
       "  Inic.garantía clte.               intervalo Mes de construcción  \\\n",
       "0           15/9/2008    Contrapesada térmica                 5.0   \n",
       "1          14/12/2011  Contrapesada eléctrica                 5.0   \n",
       "2                 NaN                Apilador                 6.0   \n",
       "3                 NaN    Contrapesada térmica                 5.0   \n",
       "4           15/7/2003  Contrapesada eléctrica                 6.0   \n",
       "\n",
       "  País de fabricación  Pto.tbjo.responsable Status de usuario Tipo de equipo  \n",
       "0                  DE              KXE-6188              AVLB              L  \n",
       "1                  DE              KXE-6639         AVLB PINA              L  \n",
       "2                 NaN              KXE-6156              AWIN              L  \n",
       "3                 NaN                   NaN              AVLB              L  \n",
       "4                  GB              KXE-6263         AVLB PINA              L  \n",
       "\n",
       "[5 rows x 22 columns]"
      ]
     },
     "execution_count": 42,
     "metadata": {},
     "output_type": "execute_result"
    }
   ],
   "source": [
    "origin_dataset.head()"
   ]
  },
  {
   "cell_type": "markdown",
   "metadata": {},
   "source": [
    "## What information do we need to migrate to the future system and what data is not essential? \n",
    "\n",
    "In order to know this, we need to answer the next questions:\n",
    "\n",
    "- What is the purpose of the future system? What do we want to analyze or extract from this data in the future? Will this data have to be compared and merged with other systems? \n",
    "- What is the use that we will get from this data? For example, if we want to know what is the biggest client and what machines they usually use? We want to control manufacturing time for machines that are more popular?\n",
    "- Are we evaluating manufacturing time to see if we can improve it?\n",
    "\n",
    "Knowing this we can be sure about what data is not needed or just overcomplicating the dataset and what data would be nice to have (for example, calculated fields from what we already have).\n",
    "\n",
    "Assumption: why we need this data and what we will be using it for.\n",
    "\n",
    "Important data according to our assumption: "
   ]
  },
  {
   "cell_type": "markdown",
   "metadata": {},
   "source": [
    "## Let's analyze all the dataset step by step: \n",
    "\n",
    "- Check for null values, duplicates, unique values, and possible errors in format\n",
    "- Substitute null values or other unnecessary data and why (ex: activo fijo could be boolean)\n",
    "- Fix errors or change values that could lead to confusion\n",
    "- See if we can group data to simplify the dataset\n",
    "- See if we can add calculated fields to get more relevant information\n",
    "- Remove columns that we won't need in the future"
   ]
  },
  {
   "cell_type": "markdown",
   "metadata": {},
   "source": [
    "## Other options?\n",
    "\n",
    "- SQL\n",
    "- Review assumptions?\n",
    "\n"
   ]
  },
  {
   "cell_type": "markdown",
   "metadata": {},
   "source": [
    "## General exploration"
   ]
  },
  {
   "cell_type": "code",
   "execution_count": null,
   "metadata": {},
   "outputs": [
    {
     "data": {
      "text/html": [
       "<div>\n",
       "<style scoped>\n",
       "    .dataframe tbody tr th:only-of-type {\n",
       "        vertical-align: middle;\n",
       "    }\n",
       "\n",
       "    .dataframe tbody tr th {\n",
       "        vertical-align: top;\n",
       "    }\n",
       "\n",
       "    .dataframe thead th {\n",
       "        text-align: right;\n",
       "    }\n",
       "</style>\n",
       "<table border=\"1\" class=\"dataframe\">\n",
       "  <thead>\n",
       "    <tr style=\"text-align: right;\">\n",
       "      <th></th>\n",
       "      <th>Número de serie</th>\n",
       "      <th>Equipo</th>\n",
       "      <th>Número-identificación técnica</th>\n",
       "      <th>Grupo planificación</th>\n",
       "      <th>Enviar a parte</th>\n",
       "      <th>Flota</th>\n",
       "      <th>Activo fijo</th>\n",
       "      <th>Año de construcción</th>\n",
       "      <th>Brand name</th>\n",
       "      <th>Creado el</th>\n",
       "      <th>...</th>\n",
       "      <th>Modificado por</th>\n",
       "      <th>Fe.puesta servicio</th>\n",
       "      <th>Fecha de última orden</th>\n",
       "      <th>Inic.garantía clte.</th>\n",
       "      <th>intervalo</th>\n",
       "      <th>Mes de construcción</th>\n",
       "      <th>País de fabricación</th>\n",
       "      <th>Pto.tbjo.responsable</th>\n",
       "      <th>Status de usuario</th>\n",
       "      <th>Tipo de equipo</th>\n",
       "    </tr>\n",
       "  </thead>\n",
       "  <tbody>\n",
       "    <tr>\n",
       "      <th>0</th>\n",
       "      <td>H2X992W15465</td>\n",
       "      <td>1132732</td>\n",
       "      <td>3</td>\n",
       "      <td>E82</td>\n",
       "      <td>33925845</td>\n",
       "      <td>C</td>\n",
       "      <td>NaN</td>\n",
       "      <td>2008.0</td>\n",
       "      <td>LINDE</td>\n",
       "      <td>12/6/2012</td>\n",
       "      <td>...</td>\n",
       "      <td>HK57F5</td>\n",
       "      <td>NaN</td>\n",
       "      <td>11/11/2022</td>\n",
       "      <td>15/9/2008</td>\n",
       "      <td>Contrapesada térmica</td>\n",
       "      <td>5.0</td>\n",
       "      <td>DE</td>\n",
       "      <td>KXE-6188</td>\n",
       "      <td>AVLB</td>\n",
       "      <td>L</td>\n",
       "    </tr>\n",
       "    <tr>\n",
       "      <th>1</th>\n",
       "      <td>H2X995S19125</td>\n",
       "      <td>1207034</td>\n",
       "      <td>NaN</td>\n",
       "      <td>E12</td>\n",
       "      <td>39380933</td>\n",
       "      <td>C</td>\n",
       "      <td>NaN</td>\n",
       "      <td>2005.0</td>\n",
       "      <td>NaN</td>\n",
       "      <td>18/6/2012</td>\n",
       "      <td>...</td>\n",
       "      <td>HK57F5</td>\n",
       "      <td>NaN</td>\n",
       "      <td>13/7/2018</td>\n",
       "      <td>14/12/2011</td>\n",
       "      <td>Contrapesada eléctrica</td>\n",
       "      <td>5.0</td>\n",
       "      <td>DE</td>\n",
       "      <td>KXE-6639</td>\n",
       "      <td>AVLB PINA</td>\n",
       "      <td>L</td>\n",
       "    </tr>\n",
       "    <tr>\n",
       "      <th>2</th>\n",
       "      <td>W4X979W12995</td>\n",
       "      <td>1290040</td>\n",
       "      <td>1204 PMP EX</td>\n",
       "      <td>E82</td>\n",
       "      <td>33927373</td>\n",
       "      <td>C</td>\n",
       "      <td>NaN</td>\n",
       "      <td>2008.0</td>\n",
       "      <td>LINDE</td>\n",
       "      <td>18/12/2012</td>\n",
       "      <td>...</td>\n",
       "      <td>CKMAGKNK</td>\n",
       "      <td>29/5/2008</td>\n",
       "      <td>19/9/2023</td>\n",
       "      <td>NaN</td>\n",
       "      <td>Apilador</td>\n",
       "      <td>6.0</td>\n",
       "      <td>NaN</td>\n",
       "      <td>KXE-6156</td>\n",
       "      <td>AWIN</td>\n",
       "      <td>L</td>\n",
       "    </tr>\n",
       "    <tr>\n",
       "      <th>3</th>\n",
       "      <td>H2X994R11511</td>\n",
       "      <td>1306179</td>\n",
       "      <td>NaN</td>\n",
       "      <td>NaN</td>\n",
       "      <td>33922280</td>\n",
       "      <td>N</td>\n",
       "      <td>NaN</td>\n",
       "      <td>2004.0</td>\n",
       "      <td>LINDE</td>\n",
       "      <td>18/12/2012</td>\n",
       "      <td>...</td>\n",
       "      <td>HK57F5</td>\n",
       "      <td>30/4/2004</td>\n",
       "      <td>24/5/2023</td>\n",
       "      <td>NaN</td>\n",
       "      <td>Contrapesada térmica</td>\n",
       "      <td>5.0</td>\n",
       "      <td>NaN</td>\n",
       "      <td>NaN</td>\n",
       "      <td>AVLB</td>\n",
       "      <td>L</td>\n",
       "    </tr>\n",
       "    <tr>\n",
       "      <th>4</th>\n",
       "      <td>G5X997P11599</td>\n",
       "      <td>1655177</td>\n",
       "      <td>NaN</td>\n",
       "      <td>E11</td>\n",
       "      <td>33923892</td>\n",
       "      <td>C</td>\n",
       "      <td>NaN</td>\n",
       "      <td>2003.0</td>\n",
       "      <td>NaN</td>\n",
       "      <td>23/9/2014</td>\n",
       "      <td>...</td>\n",
       "      <td>HK57F5</td>\n",
       "      <td>NaN</td>\n",
       "      <td>1/4/2020</td>\n",
       "      <td>15/7/2003</td>\n",
       "      <td>Contrapesada eléctrica</td>\n",
       "      <td>6.0</td>\n",
       "      <td>GB</td>\n",
       "      <td>KXE-6263</td>\n",
       "      <td>AVLB PINA</td>\n",
       "      <td>L</td>\n",
       "    </tr>\n",
       "  </tbody>\n",
       "</table>\n",
       "<p>5 rows × 22 columns</p>\n",
       "</div>"
      ],
      "text/plain": [
       "  Número de serie   Equipo Número-identificación técnica Grupo planificación  \\\n",
       "0    H2X992W15465  1132732                             3                 E82   \n",
       "1    H2X995S19125  1207034                           NaN                 E12   \n",
       "2    W4X979W12995  1290040                   1204 PMP EX                 E82   \n",
       "3    H2X994R11511  1306179                           NaN                 NaN   \n",
       "4    G5X997P11599  1655177                           NaN                 E11   \n",
       "\n",
       "   Enviar a parte Flota Activo fijo  Año de construcción Brand name  \\\n",
       "0        33925845     C         NaN               2008.0      LINDE   \n",
       "1        39380933     C         NaN               2005.0        NaN   \n",
       "2        33927373     C         NaN               2008.0      LINDE   \n",
       "3        33922280     N         NaN               2004.0      LINDE   \n",
       "4        33923892     C         NaN               2003.0        NaN   \n",
       "\n",
       "    Creado el  ... Modificado por Fe.puesta servicio Fecha de última orden  \\\n",
       "0   12/6/2012  ...         HK57F5                NaN            11/11/2022   \n",
       "1   18/6/2012  ...         HK57F5                NaN             13/7/2018   \n",
       "2  18/12/2012  ...       CKMAGKNK          29/5/2008             19/9/2023   \n",
       "3  18/12/2012  ...         HK57F5          30/4/2004             24/5/2023   \n",
       "4   23/9/2014  ...         HK57F5                NaN              1/4/2020   \n",
       "\n",
       "  Inic.garantía clte.               intervalo Mes de construcción  \\\n",
       "0           15/9/2008    Contrapesada térmica                 5.0   \n",
       "1          14/12/2011  Contrapesada eléctrica                 5.0   \n",
       "2                 NaN                Apilador                 6.0   \n",
       "3                 NaN    Contrapesada térmica                 5.0   \n",
       "4           15/7/2003  Contrapesada eléctrica                 6.0   \n",
       "\n",
       "  País de fabricación  Pto.tbjo.responsable Status de usuario Tipo de equipo  \n",
       "0                  DE              KXE-6188              AVLB              L  \n",
       "1                  DE              KXE-6639         AVLB PINA              L  \n",
       "2                 NaN              KXE-6156              AWIN              L  \n",
       "3                 NaN                   NaN              AVLB              L  \n",
       "4                  GB              KXE-6263         AVLB PINA              L  \n",
       "\n",
       "[5 rows x 22 columns]"
      ]
     },
     "execution_count": 86,
     "metadata": {},
     "output_type": "execute_result"
    }
   ],
   "source": [
    "#first let's look at the columns and description that we are working with.\n",
    "#First thing that comes to mind is there are some column names that could be improved to be more readable, like enviar a parte, creado el, intervalo. It's important that we understand what the column is about without confusing it with something else in case we need to merge with other data in the future\n",
    "#I also see that we have the same date were the machine was manufactured but one column is the year and the other the month, is there a reason we need this division? Can we create a column just with the manufacturing date?\n",
    "#Seems like the n serie needs to be 12 cts long, so would be good to check that for all items\n",
    "#Do we need to calculate extra columns? Time from manufacturing to service? Final garantía? Status PINA\n",
    "#Check type of data so it can be used for analysis later\n",
    "#Would be interesting to analyze later by brand, country, status\n",
    "\n",
    "\n",
    "origin_dataset.head()"
   ]
  },
  {
   "cell_type": "code",
   "execution_count": 80,
   "metadata": {},
   "outputs": [
    {
     "data": {
      "text/plain": [
       "(75564, 22)"
      ]
     },
     "execution_count": 80,
     "metadata": {},
     "output_type": "execute_result"
    }
   ],
   "source": [
    "origin_dataset.shape\n",
    "\n",
    "#check shape of table (rows, columns)"
   ]
  },
  {
   "cell_type": "code",
   "execution_count": 87,
   "metadata": {},
   "outputs": [
    {
     "data": {
      "text/html": [
       "<div>\n",
       "<style scoped>\n",
       "    .dataframe tbody tr th:only-of-type {\n",
       "        vertical-align: middle;\n",
       "    }\n",
       "\n",
       "    .dataframe tbody tr th {\n",
       "        vertical-align: top;\n",
       "    }\n",
       "\n",
       "    .dataframe thead th {\n",
       "        text-align: right;\n",
       "    }\n",
       "</style>\n",
       "<table border=\"1\" class=\"dataframe\">\n",
       "  <thead>\n",
       "    <tr style=\"text-align: right;\">\n",
       "      <th></th>\n",
       "      <th>Equipo</th>\n",
       "      <th>Enviar a parte</th>\n",
       "      <th>Año de construcción</th>\n",
       "      <th>Mes de construcción</th>\n",
       "    </tr>\n",
       "  </thead>\n",
       "  <tbody>\n",
       "    <tr>\n",
       "      <th>count</th>\n",
       "      <td>7.556400e+04</td>\n",
       "      <td>7.556400e+04</td>\n",
       "      <td>73369.000000</td>\n",
       "      <td>71685.000000</td>\n",
       "    </tr>\n",
       "    <tr>\n",
       "      <th>mean</th>\n",
       "      <td>3.778983e+06</td>\n",
       "      <td>3.403705e+07</td>\n",
       "      <td>2015.357113</td>\n",
       "      <td>5.317458</td>\n",
       "    </tr>\n",
       "    <tr>\n",
       "      <th>std</th>\n",
       "      <td>8.280466e+05</td>\n",
       "      <td>2.435792e+06</td>\n",
       "      <td>8.611414</td>\n",
       "      <td>3.835214</td>\n",
       "    </tr>\n",
       "    <tr>\n",
       "      <th>min</th>\n",
       "      <td>1.132732e+06</td>\n",
       "      <td>2.000000e+00</td>\n",
       "      <td>199.000000</td>\n",
       "      <td>0.000000</td>\n",
       "    </tr>\n",
       "    <tr>\n",
       "      <th>25%</th>\n",
       "      <td>3.222933e+06</td>\n",
       "      <td>3.392587e+07</td>\n",
       "      <td>2013.000000</td>\n",
       "      <td>2.000000</td>\n",
       "    </tr>\n",
       "    <tr>\n",
       "      <th>50%</th>\n",
       "      <td>3.256996e+06</td>\n",
       "      <td>3.393747e+07</td>\n",
       "      <td>2016.000000</td>\n",
       "      <td>5.000000</td>\n",
       "    </tr>\n",
       "    <tr>\n",
       "      <th>75%</th>\n",
       "      <td>4.280855e+06</td>\n",
       "      <td>3.394443e+07</td>\n",
       "      <td>2019.000000</td>\n",
       "      <td>9.000000</td>\n",
       "    </tr>\n",
       "    <tr>\n",
       "      <th>max</th>\n",
       "      <td>6.122680e+06</td>\n",
       "      <td>7.395305e+07</td>\n",
       "      <td>2202.000000</td>\n",
       "      <td>12.000000</td>\n",
       "    </tr>\n",
       "  </tbody>\n",
       "</table>\n",
       "</div>"
      ],
      "text/plain": [
       "             Equipo  Enviar a parte  Año de construcción  Mes de construcción\n",
       "count  7.556400e+04    7.556400e+04         73369.000000         71685.000000\n",
       "mean   3.778983e+06    3.403705e+07          2015.357113             5.317458\n",
       "std    8.280466e+05    2.435792e+06             8.611414             3.835214\n",
       "min    1.132732e+06    2.000000e+00           199.000000             0.000000\n",
       "25%    3.222933e+06    3.392587e+07          2013.000000             2.000000\n",
       "50%    3.256996e+06    3.393747e+07          2016.000000             5.000000\n",
       "75%    4.280855e+06    3.394443e+07          2019.000000             9.000000\n",
       "max    6.122680e+06    7.395305e+07          2202.000000            12.000000"
      ]
     },
     "execution_count": 87,
     "metadata": {},
     "output_type": "execute_result"
    }
   ],
   "source": [
    "origin_dataset.describe()\n",
    "\n",
    "#not relevant in this case"
   ]
  },
  {
   "cell_type": "code",
   "execution_count": null,
   "metadata": {},
   "outputs": [
    {
     "name": "stdout",
     "output_type": "stream",
     "text": [
      "<class 'pandas.core.frame.DataFrame'>\n",
      "RangeIndex: 75564 entries, 0 to 75563\n",
      "Data columns (total 22 columns):\n",
      " #   Column                               Non-Null Count  Dtype  \n",
      "---  ------                               --------------  -----  \n",
      " 0   Número de serie                      50634 non-null  object \n",
      " 1   Equipo                               75564 non-null  int64  \n",
      " 2   Número-identificación técnica        5817 non-null   object \n",
      " 3   Grupo planificación                  13431 non-null  object \n",
      " 4   Enviar a parte                       75564 non-null  int64  \n",
      " 5   Flota                                75558 non-null  object \n",
      " 6   Activo fijo                          1800 non-null   object \n",
      " 7   Año de construcción                  73369 non-null  float64\n",
      " 8   Brand name                           70433 non-null  object \n",
      " 9   Creado el                            75564 non-null  object \n",
      " 10  Denominación de garantía de cliente  11980 non-null  object \n",
      " 11  Modificado el                        63966 non-null  object \n",
      " 12  Modificado por                       63966 non-null  object \n",
      " 13  Fe.puesta servicio                   9741 non-null   object \n",
      " 14  Fecha de última orden                12824 non-null  object \n",
      " 15  Inic.garantía clte.                  11982 non-null  object \n",
      " 16  intervalo                            11251 non-null  object \n",
      " 17  Mes de construcción                  71685 non-null  float64\n",
      " 18  País de fabricación                  9543 non-null   object \n",
      " 19  Pto.tbjo.responsable                 13336 non-null  object \n",
      " 20  Status de usuario                    14319 non-null  object \n",
      " 21  Tipo de equipo                       75564 non-null  object \n",
      "dtypes: float64(2), int64(2), object(18)\n",
      "memory usage: 12.7+ MB\n"
     ]
    }
   ],
   "source": [
    "info = pd.DataFrame(origin_dataset.info())\n",
    "\n",
    "# information about the type of data we have and the number of null values\n",
    "# we can already see here that there are some weird dtypes (dates have different types, equipo being integer, month being float) so we will fix this when cleaning.\n",
    "#There are some columns that are more relevant: Equipo, Flota, Tipo de Equipo, Numero de serie. I would drop the rows that have null values in more than one of these."
   ]
  },
  {
   "cell_type": "code",
   "execution_count": null,
   "metadata": {},
   "outputs": [
    {
     "data": {
      "text/plain": [
       "Número de serie                        24930\n",
       "Equipo                                     0\n",
       "Número-identificación técnica          69747\n",
       "Grupo planificación                    62133\n",
       "Enviar a parte                             0\n",
       "Flota                                      6\n",
       "Activo fijo                            73764\n",
       "Año de construcción                     2195\n",
       "Brand name                              5131\n",
       "Creado el                                  0\n",
       "Denominación de garantía de cliente    63584\n",
       "Modificado el                          11598\n",
       "Modificado por                         11598\n",
       "Fe.puesta servicio                     65823\n",
       "Fecha de última orden                  62740\n",
       "Inic.garantía clte.                    63582\n",
       "intervalo                              64313\n",
       "Mes de construcción                     3879\n",
       "País de fabricación                    66021\n",
       "Pto.tbjo.responsable                   62228\n",
       "Status de usuario                      61245\n",
       "Tipo de equipo                             0\n",
       "dtype: int64"
      ]
     },
     "execution_count": 84,
     "metadata": {},
     "output_type": "execute_result"
    }
   ],
   "source": [
    "origin_dataset.isnull().sum()\n",
    "\n",
    "#check for null values. The only columns that don't have any are Equipo, enviar a parte, Creado el, Tipo de equipo\n",
    "#Activo fijo has the most null values so we will check this column later to see if we need it or we can substitute the null values."
   ]
  },
  {
   "cell_type": "code",
   "execution_count": null,
   "metadata": {},
   "outputs": [
    {
     "data": {
      "text/plain": [
       "1132732    1\n",
       "3880535    1\n",
       "3882621    1\n",
       "3882562    1\n",
       "3882310    1\n",
       "          ..\n",
       "3230089    1\n",
       "3230088    1\n",
       "3230087    1\n",
       "3230086    1\n",
       "6122680    1\n",
       "Name: Equipo, Length: 75564, dtype: int64"
      ]
     },
     "execution_count": 94,
     "metadata": {},
     "output_type": "execute_result"
    }
   ],
   "source": [
    "origin_dataset[\"Equipo\"].value_counts()\n",
    "\n",
    "#equipo are all unique values and non-null"
   ]
  },
  {
   "cell_type": "code",
   "execution_count": null,
   "metadata": {},
   "outputs": [
    {
     "data": {
      "text/plain": [
       "2,99E+52         17\n",
       "2991552111259    12\n",
       "2991552111252    11\n",
       "7991142115255    11\n",
       "2991552111555    11\n",
       "                 ..\n",
       "9521122111499     1\n",
       "9521122111492     1\n",
       "9521122111911     1\n",
       "9521142111421     1\n",
       "W45565N11195      1\n",
       "Name: Número de serie, Length: 33667, dtype: int64"
      ]
     },
     "execution_count": 92,
     "metadata": {},
     "output_type": "execute_result"
    }
   ],
   "source": [
    "origin_dataset[\"Número de serie\"].value_counts()\n",
    "# check the number of unique values in each column.\n",
    "# For numero de serie which is a unique identifier we have multiple elements in the table, which means they have different values in other columns\n",
    "\n",
    "#I would drop the rows that are duplicated if they don't have any other relevant data in other columns."
   ]
  },
  {
   "cell_type": "code",
   "execution_count": null,
   "metadata": {},
   "outputs": [],
   "source": []
  },
  {
   "cell_type": "markdown",
   "metadata": {},
   "source": [
    "## Cleaning by column"
   ]
  },
  {
   "cell_type": "code",
   "execution_count": 95,
   "metadata": {},
   "outputs": [],
   "source": [
    "clean_dataset = pd.read_csv(\"/Users/martafillolbruguera/Documents/Data_projects/practice_Case/dataset.csv\")"
   ]
  },
  {
   "cell_type": "code",
   "execution_count": 100,
   "metadata": {},
   "outputs": [
    {
     "data": {
      "text/plain": [
       "Index(['Número de serie', 'Equipo', 'Número-identificación técnica',\n",
       "       'Grupo planificación', 'Enviar a parte', 'Flota', 'Activo fijo',\n",
       "       'Año de construcción', 'Brand name', 'Creado el',\n",
       "       'Denominación de garantía de cliente', 'Modificado el',\n",
       "       'Modificado por', 'Fe.puesta servicio', 'Fecha de última orden',\n",
       "       'Inic.garantía clte.', 'intervalo', 'Mes de construcción',\n",
       "       'País de fabricación', 'Pto.tbjo.responsable', 'Status de usuario',\n",
       "       'Tipo de equipo'],\n",
       "      dtype='object')"
      ]
     },
     "execution_count": 100,
     "metadata": {},
     "output_type": "execute_result"
    }
   ],
   "source": [
    "list = clean_dataset.columns\n",
    "list"
   ]
  },
  {
   "cell_type": "code",
   "execution_count": 103,
   "metadata": {},
   "outputs": [
    {
     "name": "stdout",
     "output_type": "stream",
     "text": [
      "### Número de serie\n",
      "### Equipo\n",
      "### Número-identificación técnica\n",
      "### Grupo planificación\n",
      "### Enviar a parte\n",
      "### Flota\n",
      "### Activo fijo\n",
      "### Año de construcción\n",
      "### Brand name\n",
      "### Creado el\n",
      "### Denominación de garantía de cliente\n",
      "### Modificado el\n",
      "### Modificado por\n",
      "### Fe.puesta servicio\n",
      "### Fecha de última orden\n",
      "### Inic.garantía clte.\n",
      "### intervalo\n",
      "### Mes de construcción\n",
      "### País de fabricación\n",
      "### Pto.tbjo.responsable\n",
      "### Status de usuario\n",
      "### Tipo de equipo\n"
     ]
    }
   ],
   "source": [
    "for i in list:\n",
    "    print(\"### \"+i)"
   ]
  },
  {
   "cell_type": "markdown",
   "metadata": {},
   "source": [
    "### Número de serie\n"
   ]
  },
  {
   "cell_type": "markdown",
   "metadata": {},
   "source": [
    "### Equipo"
   ]
  },
  {
   "cell_type": "markdown",
   "metadata": {},
   "source": [
    "### Numero-identificación técnica"
   ]
  },
  {
   "cell_type": "markdown",
   "metadata": {},
   "source": [
    "### Grupo planificación"
   ]
  },
  {
   "cell_type": "markdown",
   "metadata": {},
   "source": [
    "### Enviar a parte"
   ]
  },
  {
   "cell_type": "markdown",
   "metadata": {},
   "source": [
    "### Flota"
   ]
  },
  {
   "cell_type": "markdown",
   "metadata": {},
   "source": [
    "### Activo fijo"
   ]
  },
  {
   "cell_type": "markdown",
   "metadata": {},
   "source": [
    "### Año de construcción"
   ]
  },
  {
   "cell_type": "markdown",
   "metadata": {},
   "source": [
    "### Brand name"
   ]
  },
  {
   "cell_type": "markdown",
   "metadata": {},
   "source": [
    "### Creado el"
   ]
  },
  {
   "cell_type": "markdown",
   "metadata": {},
   "source": [
    "### Denominación de garantía de cliente"
   ]
  },
  {
   "cell_type": "markdown",
   "metadata": {},
   "source": [
    "### Modificado el"
   ]
  },
  {
   "cell_type": "markdown",
   "metadata": {},
   "source": [
    "### Modificado por"
   ]
  },
  {
   "cell_type": "markdown",
   "metadata": {},
   "source": [
    "### Fe.puesta servicio"
   ]
  },
  {
   "cell_type": "markdown",
   "metadata": {},
   "source": [
    "### Fecha de última orden"
   ]
  },
  {
   "cell_type": "markdown",
   "metadata": {},
   "source": [
    "### Inic.garantía clte."
   ]
  },
  {
   "cell_type": "markdown",
   "metadata": {},
   "source": [
    "### intervalo"
   ]
  },
  {
   "cell_type": "markdown",
   "metadata": {},
   "source": [
    "### Mes de construcción"
   ]
  },
  {
   "cell_type": "markdown",
   "metadata": {},
   "source": [
    "### País de fabricación"
   ]
  },
  {
   "cell_type": "markdown",
   "metadata": {},
   "source": [
    "### Pto.tbjo.responsable\n"
   ]
  },
  {
   "cell_type": "markdown",
   "metadata": {},
   "source": [
    "### Status de usuario\n"
   ]
  },
  {
   "cell_type": "markdown",
   "metadata": {},
   "source": [
    "### Tipo de equipo"
   ]
  },
  {
   "cell_type": "markdown",
   "metadata": {},
   "source": []
  }
 ],
 "metadata": {
  "kernelspec": {
   "display_name": "lewagon",
   "language": "python",
   "name": "python3"
  },
  "language_info": {
   "codemirror_mode": {
    "name": "ipython",
    "version": 3
   },
   "file_extension": ".py",
   "mimetype": "text/x-python",
   "name": "python",
   "nbconvert_exporter": "python",
   "pygments_lexer": "ipython3",
   "version": "3.10.6"
  }
 },
 "nbformat": 4,
 "nbformat_minor": 2
}
