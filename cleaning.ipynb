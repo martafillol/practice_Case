{
 "cells": [
  {
   "cell_type": "markdown",
   "metadata": {},
   "source": [
    "## DATA MIGRATION CASE\n",
    "\n",
    "Based on this dataset, decide what data we are going to inherit from the origin to the future data system. First understand what the data is about and what are the needs, clean and analyze the dataset and explain the process. "
   ]
  },
  {
   "cell_type": "markdown",
   "metadata": {},
   "source": [
    "------"
   ]
  },
  {
   "cell_type": "markdown",
   "metadata": {},
   "source": [
    "## What information do we need to migrate to the future system and what data is not essential? \n",
    "\n",
    "In order to know this, we need to answer the next questions:\n",
    "\n",
    "- What is the purpose of the future system? What do we want to analyze or extract from this data in the future? Will this data have to be compared and merged with other systems? \n",
    "- What is the use that we will get from this data? For example, if we want to know what is the biggest client and what machines they usually use? We want to control manufacturing time for machines that are more popular?\n",
    "- Are we evaluating manufacturing time to see if we can improve it?\n",
    "\n",
    "Knowing this we can be sure about what data is not needed or just overcomplicating the dataset and what data would be nice to have (for example, calculated fields from what we already have).\n",
    "\n",
    "Assumption: why we need this data and what we will be using it for.\n",
    "\n",
    "Important data according to our assumption: "
   ]
  },
  {
   "cell_type": "markdown",
   "metadata": {},
   "source": [
    "## Let's analyze all the dataset step by step: \n",
    "\n",
    "- Check for null values, duplicates, unique values, and possible errors in format\n",
    "- Substitute null values or other unnecessary data and why (ex: activo fijo could be boolean)\n",
    "- Fix errors or change values that could lead to confusion\n",
    "- See if we can group data to simplify the dataset\n",
    "- See if we can add calculated fields to get more relevant information\n",
    "- Remove columns that we won't need in the future"
   ]
  },
  {
   "cell_type": "markdown",
   "metadata": {},
   "source": [
    "## Other options?\n",
    "\n",
    "- SQL\n",
    "- Review assumptions?\n",
    "\n"
   ]
  },
  {
   "cell_type": "markdown",
   "metadata": {},
   "source": [
    "-------"
   ]
  },
  {
   "cell_type": "markdown",
   "metadata": {},
   "source": [
    "# General exploration"
   ]
  },
  {
   "cell_type": "markdown",
   "metadata": {},
   "source": [
    "## Import and visualize data"
   ]
  },
  {
   "cell_type": "code",
   "execution_count": 120,
   "metadata": {},
   "outputs": [],
   "source": [
    "import pandas as pd"
   ]
  },
  {
   "cell_type": "code",
   "execution_count": 121,
   "metadata": {},
   "outputs": [],
   "source": [
    "origin_dataset = pd.read_csv(\"/Users/martafillolbruguera/Documents/Data_projects/practice_Case/dataset.csv\")"
   ]
  },
  {
   "cell_type": "code",
   "execution_count": 122,
   "metadata": {},
   "outputs": [
    {
     "data": {
      "text/html": [
       "<div>\n",
       "<style scoped>\n",
       "    .dataframe tbody tr th:only-of-type {\n",
       "        vertical-align: middle;\n",
       "    }\n",
       "\n",
       "    .dataframe tbody tr th {\n",
       "        vertical-align: top;\n",
       "    }\n",
       "\n",
       "    .dataframe thead th {\n",
       "        text-align: right;\n",
       "    }\n",
       "</style>\n",
       "<table border=\"1\" class=\"dataframe\">\n",
       "  <thead>\n",
       "    <tr style=\"text-align: right;\">\n",
       "      <th></th>\n",
       "      <th>Número de serie</th>\n",
       "      <th>Equipo</th>\n",
       "      <th>Número-identificación técnica</th>\n",
       "      <th>Grupo planificación</th>\n",
       "      <th>Enviar a parte</th>\n",
       "      <th>Flota</th>\n",
       "      <th>Activo fijo</th>\n",
       "      <th>Año de construcción</th>\n",
       "      <th>Brand name</th>\n",
       "      <th>Creado el</th>\n",
       "      <th>...</th>\n",
       "      <th>Modificado por</th>\n",
       "      <th>Fe.puesta servicio</th>\n",
       "      <th>Fecha de última orden</th>\n",
       "      <th>Inic.garantía clte.</th>\n",
       "      <th>intervalo</th>\n",
       "      <th>Mes de construcción</th>\n",
       "      <th>País de fabricación</th>\n",
       "      <th>Pto.tbjo.responsable</th>\n",
       "      <th>Status de usuario</th>\n",
       "      <th>Tipo de equipo</th>\n",
       "    </tr>\n",
       "  </thead>\n",
       "  <tbody>\n",
       "    <tr>\n",
       "      <th>0</th>\n",
       "      <td>H2X992W15465</td>\n",
       "      <td>1132732</td>\n",
       "      <td>3</td>\n",
       "      <td>E82</td>\n",
       "      <td>33925845</td>\n",
       "      <td>C</td>\n",
       "      <td>NaN</td>\n",
       "      <td>2008.0</td>\n",
       "      <td>LINDE</td>\n",
       "      <td>12/6/2012</td>\n",
       "      <td>...</td>\n",
       "      <td>HK57F5</td>\n",
       "      <td>NaN</td>\n",
       "      <td>11/11/2022</td>\n",
       "      <td>15/9/2008</td>\n",
       "      <td>Contrapesada térmica</td>\n",
       "      <td>5.0</td>\n",
       "      <td>DE</td>\n",
       "      <td>KXE-6188</td>\n",
       "      <td>AVLB</td>\n",
       "      <td>L</td>\n",
       "    </tr>\n",
       "    <tr>\n",
       "      <th>1</th>\n",
       "      <td>H2X995S19125</td>\n",
       "      <td>1207034</td>\n",
       "      <td>NaN</td>\n",
       "      <td>E12</td>\n",
       "      <td>39380933</td>\n",
       "      <td>C</td>\n",
       "      <td>NaN</td>\n",
       "      <td>2005.0</td>\n",
       "      <td>NaN</td>\n",
       "      <td>18/6/2012</td>\n",
       "      <td>...</td>\n",
       "      <td>HK57F5</td>\n",
       "      <td>NaN</td>\n",
       "      <td>13/7/2018</td>\n",
       "      <td>14/12/2011</td>\n",
       "      <td>Contrapesada eléctrica</td>\n",
       "      <td>5.0</td>\n",
       "      <td>DE</td>\n",
       "      <td>KXE-6639</td>\n",
       "      <td>AVLB PINA</td>\n",
       "      <td>L</td>\n",
       "    </tr>\n",
       "    <tr>\n",
       "      <th>2</th>\n",
       "      <td>W4X979W12995</td>\n",
       "      <td>1290040</td>\n",
       "      <td>1204 PMP EX</td>\n",
       "      <td>E82</td>\n",
       "      <td>33927373</td>\n",
       "      <td>C</td>\n",
       "      <td>NaN</td>\n",
       "      <td>2008.0</td>\n",
       "      <td>LINDE</td>\n",
       "      <td>18/12/2012</td>\n",
       "      <td>...</td>\n",
       "      <td>CKMAGKNK</td>\n",
       "      <td>29/5/2008</td>\n",
       "      <td>19/9/2023</td>\n",
       "      <td>NaN</td>\n",
       "      <td>Apilador</td>\n",
       "      <td>6.0</td>\n",
       "      <td>NaN</td>\n",
       "      <td>KXE-6156</td>\n",
       "      <td>AWIN</td>\n",
       "      <td>L</td>\n",
       "    </tr>\n",
       "    <tr>\n",
       "      <th>3</th>\n",
       "      <td>H2X994R11511</td>\n",
       "      <td>1306179</td>\n",
       "      <td>NaN</td>\n",
       "      <td>NaN</td>\n",
       "      <td>33922280</td>\n",
       "      <td>N</td>\n",
       "      <td>NaN</td>\n",
       "      <td>2004.0</td>\n",
       "      <td>LINDE</td>\n",
       "      <td>18/12/2012</td>\n",
       "      <td>...</td>\n",
       "      <td>HK57F5</td>\n",
       "      <td>30/4/2004</td>\n",
       "      <td>24/5/2023</td>\n",
       "      <td>NaN</td>\n",
       "      <td>Contrapesada térmica</td>\n",
       "      <td>5.0</td>\n",
       "      <td>NaN</td>\n",
       "      <td>NaN</td>\n",
       "      <td>AVLB</td>\n",
       "      <td>L</td>\n",
       "    </tr>\n",
       "    <tr>\n",
       "      <th>4</th>\n",
       "      <td>G5X997P11599</td>\n",
       "      <td>1655177</td>\n",
       "      <td>NaN</td>\n",
       "      <td>E11</td>\n",
       "      <td>33923892</td>\n",
       "      <td>C</td>\n",
       "      <td>NaN</td>\n",
       "      <td>2003.0</td>\n",
       "      <td>NaN</td>\n",
       "      <td>23/9/2014</td>\n",
       "      <td>...</td>\n",
       "      <td>HK57F5</td>\n",
       "      <td>NaN</td>\n",
       "      <td>1/4/2020</td>\n",
       "      <td>15/7/2003</td>\n",
       "      <td>Contrapesada eléctrica</td>\n",
       "      <td>6.0</td>\n",
       "      <td>GB</td>\n",
       "      <td>KXE-6263</td>\n",
       "      <td>AVLB PINA</td>\n",
       "      <td>L</td>\n",
       "    </tr>\n",
       "  </tbody>\n",
       "</table>\n",
       "<p>5 rows × 22 columns</p>\n",
       "</div>"
      ],
      "text/plain": [
       "  Número de serie   Equipo Número-identificación técnica Grupo planificación  \\\n",
       "0    H2X992W15465  1132732                             3                 E82   \n",
       "1    H2X995S19125  1207034                           NaN                 E12   \n",
       "2    W4X979W12995  1290040                   1204 PMP EX                 E82   \n",
       "3    H2X994R11511  1306179                           NaN                 NaN   \n",
       "4    G5X997P11599  1655177                           NaN                 E11   \n",
       "\n",
       "   Enviar a parte Flota Activo fijo  Año de construcción Brand name  \\\n",
       "0        33925845     C         NaN               2008.0      LINDE   \n",
       "1        39380933     C         NaN               2005.0        NaN   \n",
       "2        33927373     C         NaN               2008.0      LINDE   \n",
       "3        33922280     N         NaN               2004.0      LINDE   \n",
       "4        33923892     C         NaN               2003.0        NaN   \n",
       "\n",
       "    Creado el  ... Modificado por Fe.puesta servicio Fecha de última orden  \\\n",
       "0   12/6/2012  ...         HK57F5                NaN            11/11/2022   \n",
       "1   18/6/2012  ...         HK57F5                NaN             13/7/2018   \n",
       "2  18/12/2012  ...       CKMAGKNK          29/5/2008             19/9/2023   \n",
       "3  18/12/2012  ...         HK57F5          30/4/2004             24/5/2023   \n",
       "4   23/9/2014  ...         HK57F5                NaN              1/4/2020   \n",
       "\n",
       "  Inic.garantía clte.               intervalo Mes de construcción  \\\n",
       "0           15/9/2008    Contrapesada térmica                 5.0   \n",
       "1          14/12/2011  Contrapesada eléctrica                 5.0   \n",
       "2                 NaN                Apilador                 6.0   \n",
       "3                 NaN    Contrapesada térmica                 5.0   \n",
       "4           15/7/2003  Contrapesada eléctrica                 6.0   \n",
       "\n",
       "  País de fabricación  Pto.tbjo.responsable Status de usuario Tipo de equipo  \n",
       "0                  DE              KXE-6188              AVLB              L  \n",
       "1                  DE              KXE-6639         AVLB PINA              L  \n",
       "2                 NaN              KXE-6156              AWIN              L  \n",
       "3                 NaN                   NaN              AVLB              L  \n",
       "4                  GB              KXE-6263         AVLB PINA              L  \n",
       "\n",
       "[5 rows x 22 columns]"
      ]
     },
     "execution_count": 122,
     "metadata": {},
     "output_type": "execute_result"
    }
   ],
   "source": [
    "origin_dataset.head()"
   ]
  },
  {
   "cell_type": "code",
   "execution_count": 123,
   "metadata": {},
   "outputs": [
    {
     "data": {
      "text/html": [
       "<div>\n",
       "<style scoped>\n",
       "    .dataframe tbody tr th:only-of-type {\n",
       "        vertical-align: middle;\n",
       "    }\n",
       "\n",
       "    .dataframe tbody tr th {\n",
       "        vertical-align: top;\n",
       "    }\n",
       "\n",
       "    .dataframe thead th {\n",
       "        text-align: right;\n",
       "    }\n",
       "</style>\n",
       "<table border=\"1\" class=\"dataframe\">\n",
       "  <thead>\n",
       "    <tr style=\"text-align: right;\">\n",
       "      <th></th>\n",
       "      <th>Número de serie</th>\n",
       "      <th>Equipo</th>\n",
       "      <th>Número-identificación técnica</th>\n",
       "      <th>Grupo planificación</th>\n",
       "      <th>Enviar a parte</th>\n",
       "      <th>Flota</th>\n",
       "      <th>Activo fijo</th>\n",
       "      <th>Año de construcción</th>\n",
       "      <th>Brand name</th>\n",
       "      <th>Creado el</th>\n",
       "      <th>...</th>\n",
       "      <th>Modificado por</th>\n",
       "      <th>Fe.puesta servicio</th>\n",
       "      <th>Fecha de última orden</th>\n",
       "      <th>Inic.garantía clte.</th>\n",
       "      <th>intervalo</th>\n",
       "      <th>Mes de construcción</th>\n",
       "      <th>País de fabricación</th>\n",
       "      <th>Pto.tbjo.responsable</th>\n",
       "      <th>Status de usuario</th>\n",
       "      <th>Tipo de equipo</th>\n",
       "    </tr>\n",
       "  </thead>\n",
       "  <tbody>\n",
       "    <tr>\n",
       "      <th>0</th>\n",
       "      <td>H2X992W15465</td>\n",
       "      <td>1132732</td>\n",
       "      <td>3</td>\n",
       "      <td>E82</td>\n",
       "      <td>33925845</td>\n",
       "      <td>C</td>\n",
       "      <td>NaN</td>\n",
       "      <td>2008.0</td>\n",
       "      <td>LINDE</td>\n",
       "      <td>12/6/2012</td>\n",
       "      <td>...</td>\n",
       "      <td>HK57F5</td>\n",
       "      <td>NaN</td>\n",
       "      <td>11/11/2022</td>\n",
       "      <td>15/9/2008</td>\n",
       "      <td>Contrapesada térmica</td>\n",
       "      <td>5.0</td>\n",
       "      <td>DE</td>\n",
       "      <td>KXE-6188</td>\n",
       "      <td>AVLB</td>\n",
       "      <td>L</td>\n",
       "    </tr>\n",
       "    <tr>\n",
       "      <th>1</th>\n",
       "      <td>H2X995S19125</td>\n",
       "      <td>1207034</td>\n",
       "      <td>NaN</td>\n",
       "      <td>E12</td>\n",
       "      <td>39380933</td>\n",
       "      <td>C</td>\n",
       "      <td>NaN</td>\n",
       "      <td>2005.0</td>\n",
       "      <td>NaN</td>\n",
       "      <td>18/6/2012</td>\n",
       "      <td>...</td>\n",
       "      <td>HK57F5</td>\n",
       "      <td>NaN</td>\n",
       "      <td>13/7/2018</td>\n",
       "      <td>14/12/2011</td>\n",
       "      <td>Contrapesada eléctrica</td>\n",
       "      <td>5.0</td>\n",
       "      <td>DE</td>\n",
       "      <td>KXE-6639</td>\n",
       "      <td>AVLB PINA</td>\n",
       "      <td>L</td>\n",
       "    </tr>\n",
       "    <tr>\n",
       "      <th>2</th>\n",
       "      <td>W4X979W12995</td>\n",
       "      <td>1290040</td>\n",
       "      <td>1204 PMP EX</td>\n",
       "      <td>E82</td>\n",
       "      <td>33927373</td>\n",
       "      <td>C</td>\n",
       "      <td>NaN</td>\n",
       "      <td>2008.0</td>\n",
       "      <td>LINDE</td>\n",
       "      <td>18/12/2012</td>\n",
       "      <td>...</td>\n",
       "      <td>CKMAGKNK</td>\n",
       "      <td>29/5/2008</td>\n",
       "      <td>19/9/2023</td>\n",
       "      <td>NaN</td>\n",
       "      <td>Apilador</td>\n",
       "      <td>6.0</td>\n",
       "      <td>NaN</td>\n",
       "      <td>KXE-6156</td>\n",
       "      <td>AWIN</td>\n",
       "      <td>L</td>\n",
       "    </tr>\n",
       "    <tr>\n",
       "      <th>3</th>\n",
       "      <td>H2X994R11511</td>\n",
       "      <td>1306179</td>\n",
       "      <td>NaN</td>\n",
       "      <td>NaN</td>\n",
       "      <td>33922280</td>\n",
       "      <td>N</td>\n",
       "      <td>NaN</td>\n",
       "      <td>2004.0</td>\n",
       "      <td>LINDE</td>\n",
       "      <td>18/12/2012</td>\n",
       "      <td>...</td>\n",
       "      <td>HK57F5</td>\n",
       "      <td>30/4/2004</td>\n",
       "      <td>24/5/2023</td>\n",
       "      <td>NaN</td>\n",
       "      <td>Contrapesada térmica</td>\n",
       "      <td>5.0</td>\n",
       "      <td>NaN</td>\n",
       "      <td>NaN</td>\n",
       "      <td>AVLB</td>\n",
       "      <td>L</td>\n",
       "    </tr>\n",
       "    <tr>\n",
       "      <th>4</th>\n",
       "      <td>G5X997P11599</td>\n",
       "      <td>1655177</td>\n",
       "      <td>NaN</td>\n",
       "      <td>E11</td>\n",
       "      <td>33923892</td>\n",
       "      <td>C</td>\n",
       "      <td>NaN</td>\n",
       "      <td>2003.0</td>\n",
       "      <td>NaN</td>\n",
       "      <td>23/9/2014</td>\n",
       "      <td>...</td>\n",
       "      <td>HK57F5</td>\n",
       "      <td>NaN</td>\n",
       "      <td>1/4/2020</td>\n",
       "      <td>15/7/2003</td>\n",
       "      <td>Contrapesada eléctrica</td>\n",
       "      <td>6.0</td>\n",
       "      <td>GB</td>\n",
       "      <td>KXE-6263</td>\n",
       "      <td>AVLB PINA</td>\n",
       "      <td>L</td>\n",
       "    </tr>\n",
       "  </tbody>\n",
       "</table>\n",
       "<p>5 rows × 22 columns</p>\n",
       "</div>"
      ],
      "text/plain": [
       "  Número de serie   Equipo Número-identificación técnica Grupo planificación  \\\n",
       "0    H2X992W15465  1132732                             3                 E82   \n",
       "1    H2X995S19125  1207034                           NaN                 E12   \n",
       "2    W4X979W12995  1290040                   1204 PMP EX                 E82   \n",
       "3    H2X994R11511  1306179                           NaN                 NaN   \n",
       "4    G5X997P11599  1655177                           NaN                 E11   \n",
       "\n",
       "   Enviar a parte Flota Activo fijo  Año de construcción Brand name  \\\n",
       "0        33925845     C         NaN               2008.0      LINDE   \n",
       "1        39380933     C         NaN               2005.0        NaN   \n",
       "2        33927373     C         NaN               2008.0      LINDE   \n",
       "3        33922280     N         NaN               2004.0      LINDE   \n",
       "4        33923892     C         NaN               2003.0        NaN   \n",
       "\n",
       "    Creado el  ... Modificado por Fe.puesta servicio Fecha de última orden  \\\n",
       "0   12/6/2012  ...         HK57F5                NaN            11/11/2022   \n",
       "1   18/6/2012  ...         HK57F5                NaN             13/7/2018   \n",
       "2  18/12/2012  ...       CKMAGKNK          29/5/2008             19/9/2023   \n",
       "3  18/12/2012  ...         HK57F5          30/4/2004             24/5/2023   \n",
       "4   23/9/2014  ...         HK57F5                NaN              1/4/2020   \n",
       "\n",
       "  Inic.garantía clte.               intervalo Mes de construcción  \\\n",
       "0           15/9/2008    Contrapesada térmica                 5.0   \n",
       "1          14/12/2011  Contrapesada eléctrica                 5.0   \n",
       "2                 NaN                Apilador                 6.0   \n",
       "3                 NaN    Contrapesada térmica                 5.0   \n",
       "4           15/7/2003  Contrapesada eléctrica                 6.0   \n",
       "\n",
       "  País de fabricación  Pto.tbjo.responsable Status de usuario Tipo de equipo  \n",
       "0                  DE              KXE-6188              AVLB              L  \n",
       "1                  DE              KXE-6639         AVLB PINA              L  \n",
       "2                 NaN              KXE-6156              AWIN              L  \n",
       "3                 NaN                   NaN              AVLB              L  \n",
       "4                  GB              KXE-6263         AVLB PINA              L  \n",
       "\n",
       "[5 rows x 22 columns]"
      ]
     },
     "execution_count": 123,
     "metadata": {},
     "output_type": "execute_result"
    }
   ],
   "source": [
    "#first let's look at the columns and description that we are working with.\n",
    "#First thing that comes to mind is there are some column names that could be improved to be more readable, like enviar a parte, creado el, intervalo. It's important that we understand what the column is about without confusing it with something else in case we need to merge with other data in the future\n",
    "#I also see that we have the same date were the machine was manufactured but one column is the year and the other the month, is there a reason we need this division? Can we create a column just with the manufacturing date?\n",
    "#Seems like the n serie needs to be 12 cts long, so would be good to check that for all items\n",
    "#Do we need to calculate extra columns? Time from manufacturing to service? Final garantía? Status PINA\n",
    "#Check type of data so it can be used for analysis later\n",
    "#Would be interesting to analyze later by brand, country, status\n",
    "\n",
    "\n",
    "origin_dataset.head()"
   ]
  },
  {
   "cell_type": "code",
   "execution_count": 124,
   "metadata": {},
   "outputs": [
    {
     "data": {
      "text/plain": [
       "Index(['Número de serie', 'Equipo', 'Número-identificación técnica',\n",
       "       'Grupo planificación', 'Enviar a parte', 'Flota', 'Activo fijo',\n",
       "       'Año de construcción', 'Brand name', 'Creado el',\n",
       "       'Denominación de garantía de cliente', 'Modificado el',\n",
       "       'Modificado por', 'Fe.puesta servicio', 'Fecha de última orden',\n",
       "       'Inic.garantía clte.', 'intervalo', 'Mes de construcción',\n",
       "       'País de fabricación', 'Pto.tbjo.responsable', 'Status de usuario',\n",
       "       'Tipo de equipo'],\n",
       "      dtype='object')"
      ]
     },
     "execution_count": 124,
     "metadata": {},
     "output_type": "execute_result"
    }
   ],
   "source": [
    "origin_dataset.columns"
   ]
  },
  {
   "cell_type": "code",
   "execution_count": 125,
   "metadata": {},
   "outputs": [
    {
     "data": {
      "text/plain": [
       "(75564, 22)"
      ]
     },
     "execution_count": 125,
     "metadata": {},
     "output_type": "execute_result"
    }
   ],
   "source": [
    "origin_dataset.shape\n",
    "\n",
    "#check shape of table (rows, columns)"
   ]
  },
  {
   "cell_type": "code",
   "execution_count": 126,
   "metadata": {},
   "outputs": [
    {
     "data": {
      "text/html": [
       "<div>\n",
       "<style scoped>\n",
       "    .dataframe tbody tr th:only-of-type {\n",
       "        vertical-align: middle;\n",
       "    }\n",
       "\n",
       "    .dataframe tbody tr th {\n",
       "        vertical-align: top;\n",
       "    }\n",
       "\n",
       "    .dataframe thead th {\n",
       "        text-align: right;\n",
       "    }\n",
       "</style>\n",
       "<table border=\"1\" class=\"dataframe\">\n",
       "  <thead>\n",
       "    <tr style=\"text-align: right;\">\n",
       "      <th></th>\n",
       "      <th>Equipo</th>\n",
       "      <th>Enviar a parte</th>\n",
       "      <th>Año de construcción</th>\n",
       "      <th>Mes de construcción</th>\n",
       "    </tr>\n",
       "  </thead>\n",
       "  <tbody>\n",
       "    <tr>\n",
       "      <th>count</th>\n",
       "      <td>7.556400e+04</td>\n",
       "      <td>7.556400e+04</td>\n",
       "      <td>73369.000000</td>\n",
       "      <td>71685.000000</td>\n",
       "    </tr>\n",
       "    <tr>\n",
       "      <th>mean</th>\n",
       "      <td>3.778983e+06</td>\n",
       "      <td>3.403705e+07</td>\n",
       "      <td>2015.357113</td>\n",
       "      <td>5.317458</td>\n",
       "    </tr>\n",
       "    <tr>\n",
       "      <th>std</th>\n",
       "      <td>8.280466e+05</td>\n",
       "      <td>2.435792e+06</td>\n",
       "      <td>8.611414</td>\n",
       "      <td>3.835214</td>\n",
       "    </tr>\n",
       "    <tr>\n",
       "      <th>min</th>\n",
       "      <td>1.132732e+06</td>\n",
       "      <td>2.000000e+00</td>\n",
       "      <td>199.000000</td>\n",
       "      <td>0.000000</td>\n",
       "    </tr>\n",
       "    <tr>\n",
       "      <th>25%</th>\n",
       "      <td>3.222933e+06</td>\n",
       "      <td>3.392587e+07</td>\n",
       "      <td>2013.000000</td>\n",
       "      <td>2.000000</td>\n",
       "    </tr>\n",
       "    <tr>\n",
       "      <th>50%</th>\n",
       "      <td>3.256996e+06</td>\n",
       "      <td>3.393747e+07</td>\n",
       "      <td>2016.000000</td>\n",
       "      <td>5.000000</td>\n",
       "    </tr>\n",
       "    <tr>\n",
       "      <th>75%</th>\n",
       "      <td>4.280855e+06</td>\n",
       "      <td>3.394443e+07</td>\n",
       "      <td>2019.000000</td>\n",
       "      <td>9.000000</td>\n",
       "    </tr>\n",
       "    <tr>\n",
       "      <th>max</th>\n",
       "      <td>6.122680e+06</td>\n",
       "      <td>7.395305e+07</td>\n",
       "      <td>2202.000000</td>\n",
       "      <td>12.000000</td>\n",
       "    </tr>\n",
       "  </tbody>\n",
       "</table>\n",
       "</div>"
      ],
      "text/plain": [
       "             Equipo  Enviar a parte  Año de construcción  Mes de construcción\n",
       "count  7.556400e+04    7.556400e+04         73369.000000         71685.000000\n",
       "mean   3.778983e+06    3.403705e+07          2015.357113             5.317458\n",
       "std    8.280466e+05    2.435792e+06             8.611414             3.835214\n",
       "min    1.132732e+06    2.000000e+00           199.000000             0.000000\n",
       "25%    3.222933e+06    3.392587e+07          2013.000000             2.000000\n",
       "50%    3.256996e+06    3.393747e+07          2016.000000             5.000000\n",
       "75%    4.280855e+06    3.394443e+07          2019.000000             9.000000\n",
       "max    6.122680e+06    7.395305e+07          2202.000000            12.000000"
      ]
     },
     "execution_count": 126,
     "metadata": {},
     "output_type": "execute_result"
    }
   ],
   "source": [
    "origin_dataset.describe()\n",
    "\n",
    "#not relevant in this case"
   ]
  },
  {
   "cell_type": "code",
   "execution_count": 127,
   "metadata": {},
   "outputs": [
    {
     "name": "stdout",
     "output_type": "stream",
     "text": [
      "<class 'pandas.core.frame.DataFrame'>\n",
      "RangeIndex: 75564 entries, 0 to 75563\n",
      "Data columns (total 22 columns):\n",
      " #   Column                               Non-Null Count  Dtype  \n",
      "---  ------                               --------------  -----  \n",
      " 0   Número de serie                      50634 non-null  object \n",
      " 1   Equipo                               75564 non-null  int64  \n",
      " 2   Número-identificación técnica        5817 non-null   object \n",
      " 3   Grupo planificación                  13431 non-null  object \n",
      " 4   Enviar a parte                       75564 non-null  int64  \n",
      " 5   Flota                                75558 non-null  object \n",
      " 6   Activo fijo                          1800 non-null   object \n",
      " 7   Año de construcción                  73369 non-null  float64\n",
      " 8   Brand name                           70433 non-null  object \n",
      " 9   Creado el                            75564 non-null  object \n",
      " 10  Denominación de garantía de cliente  11980 non-null  object \n",
      " 11  Modificado el                        63966 non-null  object \n",
      " 12  Modificado por                       63966 non-null  object \n",
      " 13  Fe.puesta servicio                   9741 non-null   object \n",
      " 14  Fecha de última orden                12824 non-null  object \n",
      " 15  Inic.garantía clte.                  11982 non-null  object \n",
      " 16  intervalo                            11251 non-null  object \n",
      " 17  Mes de construcción                  71685 non-null  float64\n",
      " 18  País de fabricación                  9543 non-null   object \n",
      " 19  Pto.tbjo.responsable                 13336 non-null  object \n",
      " 20  Status de usuario                    14319 non-null  object \n",
      " 21  Tipo de equipo                       75564 non-null  object \n",
      "dtypes: float64(2), int64(2), object(18)\n",
      "memory usage: 12.7+ MB\n"
     ]
    }
   ],
   "source": [
    "info = pd.DataFrame(origin_dataset.info())\n",
    "\n",
    "# information about the type of data we have and the number of null values\n",
    "# we can already see here that there are some weird dtypes (dates have different types, equipo being integer, month being float) so we will fix this when cleaning.\n",
    "#There are some columns that are more relevant: Equipo, Flota, Tipo de Equipo, Numero de serie. I would drop the rows that have null values in more than one of these."
   ]
  },
  {
   "cell_type": "code",
   "execution_count": 128,
   "metadata": {},
   "outputs": [
    {
     "data": {
      "text/plain": [
       "Número de serie                        24930\n",
       "Equipo                                     0\n",
       "Número-identificación técnica          69747\n",
       "Grupo planificación                    62133\n",
       "Enviar a parte                             0\n",
       "Flota                                      6\n",
       "Activo fijo                            73764\n",
       "Año de construcción                     2195\n",
       "Brand name                              5131\n",
       "Creado el                                  0\n",
       "Denominación de garantía de cliente    63584\n",
       "Modificado el                          11598\n",
       "Modificado por                         11598\n",
       "Fe.puesta servicio                     65823\n",
       "Fecha de última orden                  62740\n",
       "Inic.garantía clte.                    63582\n",
       "intervalo                              64313\n",
       "Mes de construcción                     3879\n",
       "País de fabricación                    66021\n",
       "Pto.tbjo.responsable                   62228\n",
       "Status de usuario                      61245\n",
       "Tipo de equipo                             0\n",
       "dtype: int64"
      ]
     },
     "execution_count": 128,
     "metadata": {},
     "output_type": "execute_result"
    }
   ],
   "source": [
    "origin_dataset.isnull().sum()\n",
    "\n",
    "#check for null values. The only columns that don't have any are Equipo, enviar a parte, Creado el, Tipo de equipo so we will consider these columns like the most relevant\n",
    "#Activo fijo has the most null values so we will check this column later to see if we need it or we can substitute the null values."
   ]
  },
  {
   "cell_type": "code",
   "execution_count": 129,
   "metadata": {},
   "outputs": [
    {
     "data": {
      "text/plain": [
       "1132732    1\n",
       "3880535    1\n",
       "3882621    1\n",
       "3882562    1\n",
       "3882310    1\n",
       "          ..\n",
       "3230089    1\n",
       "3230088    1\n",
       "3230087    1\n",
       "3230086    1\n",
       "6122680    1\n",
       "Name: Equipo, Length: 75564, dtype: int64"
      ]
     },
     "execution_count": 129,
     "metadata": {},
     "output_type": "execute_result"
    }
   ],
   "source": [
    "origin_dataset[\"Equipo\"].value_counts()\n",
    "\n",
    "#equipo are all unique values and non-null"
   ]
  },
  {
   "cell_type": "code",
   "execution_count": 130,
   "metadata": {},
   "outputs": [
    {
     "data": {
      "text/plain": [
       "2,99E+52         17\n",
       "2991552111259    12\n",
       "2991552111252    11\n",
       "7991142115255    11\n",
       "2991552111555    11\n",
       "                 ..\n",
       "9521122111499     1\n",
       "9521122111492     1\n",
       "9521122111911     1\n",
       "9521142111421     1\n",
       "W45565N11195      1\n",
       "Name: Número de serie, Length: 33667, dtype: int64"
      ]
     },
     "execution_count": 130,
     "metadata": {},
     "output_type": "execute_result"
    }
   ],
   "source": [
    "origin_dataset[\"Número de serie\"].value_counts()\n",
    "# check the number of unique values in each column.\n",
    "# For numero de serie which is a unique identifier we have multiple elements in the table, which means they have different values in other columns\n",
    "\n",
    "#I would drop the rows that are duplicated if they don't have any other relevant data in other columns."
   ]
  },
  {
   "cell_type": "markdown",
   "metadata": {},
   "source": [
    "---------"
   ]
  },
  {
   "cell_type": "markdown",
   "metadata": {},
   "source": [
    "### Conclusions from this exploration:\n",
    "\n",
    "- We could make some adjustments in the naming of the columns to see faster what they are\n",
    "- The type of data is not coherent, we will change some columns to make it easier to use in the future.\n",
    "- The columns año/mes could be grouped but we have a lot of nulls, so drop the rows where we have both empty and create a new column called \"manufacturing date\".\n",
    "- Activo Fijo has a lot of null values, could be transformed to boolean maybe.\n",
    "- We could create another column to know how long has been the warranty active. because the start date alone does not say anything. \n",
    "- Before dropping columns\n",
    "  - The most relevant fields could be Numero de serie, Equipo, Flota, Tipo de Equipo, Enviar a parte, brand, fecha construcción. We will drop rows that have null values in more than one of these. \n",
    "\n",
    "- columns to drop:  \n",
    "    Modificado por: could be dropped, doesn't seem relevant for analysis or to migrate to the future system.   \n",
    "    Pto.tbjo.responsable: internal doesn't seem relevant to migrate, many nulls   \n",
    "    Grupo planificación: also internal seems like something that could change over time and many nulls   \n"
   ]
  },
  {
   "cell_type": "markdown",
   "metadata": {},
   "source": [
    "------"
   ]
  },
  {
   "cell_type": "markdown",
   "metadata": {},
   "source": [
    "## General changes"
   ]
  },
  {
   "cell_type": "markdown",
   "metadata": {},
   "source": [
    "### Updating names"
   ]
  },
  {
   "cell_type": "code",
   "execution_count": 131,
   "metadata": {},
   "outputs": [
    {
     "data": {
      "text/html": [
       "<div>\n",
       "<style scoped>\n",
       "    .dataframe tbody tr th:only-of-type {\n",
       "        vertical-align: middle;\n",
       "    }\n",
       "\n",
       "    .dataframe tbody tr th {\n",
       "        vertical-align: top;\n",
       "    }\n",
       "\n",
       "    .dataframe thead th {\n",
       "        text-align: right;\n",
       "    }\n",
       "</style>\n",
       "<table border=\"1\" class=\"dataframe\">\n",
       "  <thead>\n",
       "    <tr style=\"text-align: right;\">\n",
       "      <th></th>\n",
       "      <th>Número de serie</th>\n",
       "      <th>Equipo</th>\n",
       "      <th>Número-identificación técnica</th>\n",
       "      <th>Grupo planificación</th>\n",
       "      <th>Enviar a parte</th>\n",
       "      <th>Flota</th>\n",
       "      <th>Activo fijo</th>\n",
       "      <th>Año de construcción</th>\n",
       "      <th>Brand name</th>\n",
       "      <th>Creado el</th>\n",
       "      <th>...</th>\n",
       "      <th>Modificado por</th>\n",
       "      <th>Fe.puesta servicio</th>\n",
       "      <th>Fecha de última orden</th>\n",
       "      <th>Inic.garantía clte.</th>\n",
       "      <th>intervalo</th>\n",
       "      <th>Mes de construcción</th>\n",
       "      <th>País de fabricación</th>\n",
       "      <th>Pto.tbjo.responsable</th>\n",
       "      <th>Status de usuario</th>\n",
       "      <th>Tipo de equipo</th>\n",
       "    </tr>\n",
       "  </thead>\n",
       "  <tbody>\n",
       "    <tr>\n",
       "      <th>0</th>\n",
       "      <td>H2X992W15465</td>\n",
       "      <td>1132732</td>\n",
       "      <td>3</td>\n",
       "      <td>E82</td>\n",
       "      <td>33925845</td>\n",
       "      <td>C</td>\n",
       "      <td>NaN</td>\n",
       "      <td>2008.0</td>\n",
       "      <td>LINDE</td>\n",
       "      <td>12/6/2012</td>\n",
       "      <td>...</td>\n",
       "      <td>HK57F5</td>\n",
       "      <td>NaN</td>\n",
       "      <td>11/11/2022</td>\n",
       "      <td>15/9/2008</td>\n",
       "      <td>Contrapesada térmica</td>\n",
       "      <td>5.0</td>\n",
       "      <td>DE</td>\n",
       "      <td>KXE-6188</td>\n",
       "      <td>AVLB</td>\n",
       "      <td>L</td>\n",
       "    </tr>\n",
       "    <tr>\n",
       "      <th>1</th>\n",
       "      <td>H2X995S19125</td>\n",
       "      <td>1207034</td>\n",
       "      <td>NaN</td>\n",
       "      <td>E12</td>\n",
       "      <td>39380933</td>\n",
       "      <td>C</td>\n",
       "      <td>NaN</td>\n",
       "      <td>2005.0</td>\n",
       "      <td>NaN</td>\n",
       "      <td>18/6/2012</td>\n",
       "      <td>...</td>\n",
       "      <td>HK57F5</td>\n",
       "      <td>NaN</td>\n",
       "      <td>13/7/2018</td>\n",
       "      <td>14/12/2011</td>\n",
       "      <td>Contrapesada eléctrica</td>\n",
       "      <td>5.0</td>\n",
       "      <td>DE</td>\n",
       "      <td>KXE-6639</td>\n",
       "      <td>AVLB PINA</td>\n",
       "      <td>L</td>\n",
       "    </tr>\n",
       "    <tr>\n",
       "      <th>2</th>\n",
       "      <td>W4X979W12995</td>\n",
       "      <td>1290040</td>\n",
       "      <td>1204 PMP EX</td>\n",
       "      <td>E82</td>\n",
       "      <td>33927373</td>\n",
       "      <td>C</td>\n",
       "      <td>NaN</td>\n",
       "      <td>2008.0</td>\n",
       "      <td>LINDE</td>\n",
       "      <td>18/12/2012</td>\n",
       "      <td>...</td>\n",
       "      <td>CKMAGKNK</td>\n",
       "      <td>29/5/2008</td>\n",
       "      <td>19/9/2023</td>\n",
       "      <td>NaN</td>\n",
       "      <td>Apilador</td>\n",
       "      <td>6.0</td>\n",
       "      <td>NaN</td>\n",
       "      <td>KXE-6156</td>\n",
       "      <td>AWIN</td>\n",
       "      <td>L</td>\n",
       "    </tr>\n",
       "    <tr>\n",
       "      <th>3</th>\n",
       "      <td>H2X994R11511</td>\n",
       "      <td>1306179</td>\n",
       "      <td>NaN</td>\n",
       "      <td>NaN</td>\n",
       "      <td>33922280</td>\n",
       "      <td>N</td>\n",
       "      <td>NaN</td>\n",
       "      <td>2004.0</td>\n",
       "      <td>LINDE</td>\n",
       "      <td>18/12/2012</td>\n",
       "      <td>...</td>\n",
       "      <td>HK57F5</td>\n",
       "      <td>30/4/2004</td>\n",
       "      <td>24/5/2023</td>\n",
       "      <td>NaN</td>\n",
       "      <td>Contrapesada térmica</td>\n",
       "      <td>5.0</td>\n",
       "      <td>NaN</td>\n",
       "      <td>NaN</td>\n",
       "      <td>AVLB</td>\n",
       "      <td>L</td>\n",
       "    </tr>\n",
       "    <tr>\n",
       "      <th>4</th>\n",
       "      <td>G5X997P11599</td>\n",
       "      <td>1655177</td>\n",
       "      <td>NaN</td>\n",
       "      <td>E11</td>\n",
       "      <td>33923892</td>\n",
       "      <td>C</td>\n",
       "      <td>NaN</td>\n",
       "      <td>2003.0</td>\n",
       "      <td>NaN</td>\n",
       "      <td>23/9/2014</td>\n",
       "      <td>...</td>\n",
       "      <td>HK57F5</td>\n",
       "      <td>NaN</td>\n",
       "      <td>1/4/2020</td>\n",
       "      <td>15/7/2003</td>\n",
       "      <td>Contrapesada eléctrica</td>\n",
       "      <td>6.0</td>\n",
       "      <td>GB</td>\n",
       "      <td>KXE-6263</td>\n",
       "      <td>AVLB PINA</td>\n",
       "      <td>L</td>\n",
       "    </tr>\n",
       "  </tbody>\n",
       "</table>\n",
       "<p>5 rows × 22 columns</p>\n",
       "</div>"
      ],
      "text/plain": [
       "  Número de serie   Equipo Número-identificación técnica Grupo planificación  \\\n",
       "0    H2X992W15465  1132732                             3                 E82   \n",
       "1    H2X995S19125  1207034                           NaN                 E12   \n",
       "2    W4X979W12995  1290040                   1204 PMP EX                 E82   \n",
       "3    H2X994R11511  1306179                           NaN                 NaN   \n",
       "4    G5X997P11599  1655177                           NaN                 E11   \n",
       "\n",
       "   Enviar a parte Flota Activo fijo  Año de construcción Brand name  \\\n",
       "0        33925845     C         NaN               2008.0      LINDE   \n",
       "1        39380933     C         NaN               2005.0        NaN   \n",
       "2        33927373     C         NaN               2008.0      LINDE   \n",
       "3        33922280     N         NaN               2004.0      LINDE   \n",
       "4        33923892     C         NaN               2003.0        NaN   \n",
       "\n",
       "    Creado el  ... Modificado por Fe.puesta servicio Fecha de última orden  \\\n",
       "0   12/6/2012  ...         HK57F5                NaN            11/11/2022   \n",
       "1   18/6/2012  ...         HK57F5                NaN             13/7/2018   \n",
       "2  18/12/2012  ...       CKMAGKNK          29/5/2008             19/9/2023   \n",
       "3  18/12/2012  ...         HK57F5          30/4/2004             24/5/2023   \n",
       "4   23/9/2014  ...         HK57F5                NaN              1/4/2020   \n",
       "\n",
       "  Inic.garantía clte.               intervalo Mes de construcción  \\\n",
       "0           15/9/2008    Contrapesada térmica                 5.0   \n",
       "1          14/12/2011  Contrapesada eléctrica                 5.0   \n",
       "2                 NaN                Apilador                 6.0   \n",
       "3                 NaN    Contrapesada térmica                 5.0   \n",
       "4           15/7/2003  Contrapesada eléctrica                 6.0   \n",
       "\n",
       "  País de fabricación  Pto.tbjo.responsable Status de usuario Tipo de equipo  \n",
       "0                  DE              KXE-6188              AVLB              L  \n",
       "1                  DE              KXE-6639         AVLB PINA              L  \n",
       "2                 NaN              KXE-6156              AWIN              L  \n",
       "3                 NaN                   NaN              AVLB              L  \n",
       "4                  GB              KXE-6263         AVLB PINA              L  \n",
       "\n",
       "[5 rows x 22 columns]"
      ]
     },
     "execution_count": 131,
     "metadata": {},
     "output_type": "execute_result"
    }
   ],
   "source": [
    "clean_dataset = pd.read_csv(\"/Users/martafillolbruguera/Documents/Data_projects/practice_Case/dataset.csv\")\n",
    "\n",
    "clean_dataset.head()"
   ]
  },
  {
   "cell_type": "code",
   "execution_count": 132,
   "metadata": {},
   "outputs": [
    {
     "name": "stdout",
     "output_type": "stream",
     "text": [
      "Número de serie\n",
      "Equipo\n",
      "Número-identificación técnica\n",
      "Grupo planificación\n",
      "Enviar a parte\n",
      "Flota\n",
      "Activo fijo\n",
      "Año de construcción\n",
      "Brand name\n",
      "Creado el\n",
      "Denominación de garantía de cliente\n",
      "Modificado el\n",
      "Modificado por\n",
      "Fe.puesta servicio\n",
      "Fecha de última orden\n",
      "Inic.garantía clte.\n",
      "intervalo\n",
      "Mes de construcción\n",
      "País de fabricación\n",
      "Pto.tbjo.responsable\n",
      "Status de usuario\n",
      "Tipo de equipo\n"
     ]
    }
   ],
   "source": [
    "list = clean_dataset.columns\n",
    "list\n",
    "\n",
    "for i in list:\n",
    "    print(i)"
   ]
  },
  {
   "cell_type": "code",
   "execution_count": 133,
   "metadata": {},
   "outputs": [],
   "source": [
    "# Mapping of old column names to new column names\n",
    "\n",
    "column_mapping = {\n",
    "    \"Número de serie\": \"serial_number\",\n",
    "    \"Equipo\": \"equipment_id\",\n",
    "    \"Número-identificación técnica\": \"client_id\",\n",
    "    \"Grupo planificación\": \"group\",\n",
    "    \"Enviar a parte\": \"client_code\",\n",
    "    \"Flota\": \"fleet_type\",\n",
    "    \"Activo fijo\": \"fixed_asset\",\n",
    "    \"Año de construcción\": \"construction_year\",\n",
    "    \"Brand name\": \"brand_name\",\n",
    "    \"Creado el\": \"created_date\",\n",
    "    \"Denominación de garantía de cliente\": \"warranty_type\",\n",
    "    \"Modificado el\": \"last_modified\",\n",
    "    \"Modificado por\": \"modified_by\",\n",
    "    \"Fe.puesta servicio\": \"service_start_date\",\n",
    "    \"Fecha de última orden\": \"last_service_date\",\n",
    "    \"Inic.garantía clte.\": \"warranty_start\",\n",
    "    \"intervalo\": \"equipment_type_name\",\n",
    "    \"Mes de construcción\": \"construction_month\",\n",
    "    \"País de fabricación\": \"country\",\n",
    "    \"Pto.tbjo.responsable\": \"technician\",\n",
    "    \"Status de usuario\": \"user_status\",\n",
    "    \"Tipo de equipo\": \"equipment_type\"\n",
    "}\n",
    "\n",
    "clean_dataset.reset_index(drop=True, inplace=True)\n",
    "\n",
    "clean_dataset.rename(columns=column_mapping, inplace=True)\n"
   ]
  },
  {
   "cell_type": "code",
   "execution_count": 134,
   "metadata": {},
   "outputs": [
    {
     "data": {
      "text/html": [
       "<div>\n",
       "<style scoped>\n",
       "    .dataframe tbody tr th:only-of-type {\n",
       "        vertical-align: middle;\n",
       "    }\n",
       "\n",
       "    .dataframe tbody tr th {\n",
       "        vertical-align: top;\n",
       "    }\n",
       "\n",
       "    .dataframe thead th {\n",
       "        text-align: right;\n",
       "    }\n",
       "</style>\n",
       "<table border=\"1\" class=\"dataframe\">\n",
       "  <thead>\n",
       "    <tr style=\"text-align: right;\">\n",
       "      <th></th>\n",
       "      <th>serial_number</th>\n",
       "      <th>equipment_id</th>\n",
       "      <th>client_id</th>\n",
       "      <th>group</th>\n",
       "      <th>client_code</th>\n",
       "      <th>fleet_type</th>\n",
       "      <th>fixed_asset</th>\n",
       "      <th>construction_year</th>\n",
       "      <th>brand_name</th>\n",
       "      <th>created_date</th>\n",
       "      <th>...</th>\n",
       "      <th>modified_by</th>\n",
       "      <th>service_start_date</th>\n",
       "      <th>last_service_date</th>\n",
       "      <th>warranty_start</th>\n",
       "      <th>equipment_type_name</th>\n",
       "      <th>construction_month</th>\n",
       "      <th>country</th>\n",
       "      <th>technician</th>\n",
       "      <th>user_status</th>\n",
       "      <th>equipment_type</th>\n",
       "    </tr>\n",
       "  </thead>\n",
       "  <tbody>\n",
       "    <tr>\n",
       "      <th>0</th>\n",
       "      <td>H2X992W15465</td>\n",
       "      <td>1132732</td>\n",
       "      <td>3</td>\n",
       "      <td>E82</td>\n",
       "      <td>33925845</td>\n",
       "      <td>C</td>\n",
       "      <td>NaN</td>\n",
       "      <td>2008.0</td>\n",
       "      <td>LINDE</td>\n",
       "      <td>12/6/2012</td>\n",
       "      <td>...</td>\n",
       "      <td>HK57F5</td>\n",
       "      <td>NaN</td>\n",
       "      <td>11/11/2022</td>\n",
       "      <td>15/9/2008</td>\n",
       "      <td>Contrapesada térmica</td>\n",
       "      <td>5.0</td>\n",
       "      <td>DE</td>\n",
       "      <td>KXE-6188</td>\n",
       "      <td>AVLB</td>\n",
       "      <td>L</td>\n",
       "    </tr>\n",
       "    <tr>\n",
       "      <th>1</th>\n",
       "      <td>H2X995S19125</td>\n",
       "      <td>1207034</td>\n",
       "      <td>NaN</td>\n",
       "      <td>E12</td>\n",
       "      <td>39380933</td>\n",
       "      <td>C</td>\n",
       "      <td>NaN</td>\n",
       "      <td>2005.0</td>\n",
       "      <td>NaN</td>\n",
       "      <td>18/6/2012</td>\n",
       "      <td>...</td>\n",
       "      <td>HK57F5</td>\n",
       "      <td>NaN</td>\n",
       "      <td>13/7/2018</td>\n",
       "      <td>14/12/2011</td>\n",
       "      <td>Contrapesada eléctrica</td>\n",
       "      <td>5.0</td>\n",
       "      <td>DE</td>\n",
       "      <td>KXE-6639</td>\n",
       "      <td>AVLB PINA</td>\n",
       "      <td>L</td>\n",
       "    </tr>\n",
       "    <tr>\n",
       "      <th>2</th>\n",
       "      <td>W4X979W12995</td>\n",
       "      <td>1290040</td>\n",
       "      <td>1204 PMP EX</td>\n",
       "      <td>E82</td>\n",
       "      <td>33927373</td>\n",
       "      <td>C</td>\n",
       "      <td>NaN</td>\n",
       "      <td>2008.0</td>\n",
       "      <td>LINDE</td>\n",
       "      <td>18/12/2012</td>\n",
       "      <td>...</td>\n",
       "      <td>CKMAGKNK</td>\n",
       "      <td>29/5/2008</td>\n",
       "      <td>19/9/2023</td>\n",
       "      <td>NaN</td>\n",
       "      <td>Apilador</td>\n",
       "      <td>6.0</td>\n",
       "      <td>NaN</td>\n",
       "      <td>KXE-6156</td>\n",
       "      <td>AWIN</td>\n",
       "      <td>L</td>\n",
       "    </tr>\n",
       "    <tr>\n",
       "      <th>3</th>\n",
       "      <td>H2X994R11511</td>\n",
       "      <td>1306179</td>\n",
       "      <td>NaN</td>\n",
       "      <td>NaN</td>\n",
       "      <td>33922280</td>\n",
       "      <td>N</td>\n",
       "      <td>NaN</td>\n",
       "      <td>2004.0</td>\n",
       "      <td>LINDE</td>\n",
       "      <td>18/12/2012</td>\n",
       "      <td>...</td>\n",
       "      <td>HK57F5</td>\n",
       "      <td>30/4/2004</td>\n",
       "      <td>24/5/2023</td>\n",
       "      <td>NaN</td>\n",
       "      <td>Contrapesada térmica</td>\n",
       "      <td>5.0</td>\n",
       "      <td>NaN</td>\n",
       "      <td>NaN</td>\n",
       "      <td>AVLB</td>\n",
       "      <td>L</td>\n",
       "    </tr>\n",
       "    <tr>\n",
       "      <th>4</th>\n",
       "      <td>G5X997P11599</td>\n",
       "      <td>1655177</td>\n",
       "      <td>NaN</td>\n",
       "      <td>E11</td>\n",
       "      <td>33923892</td>\n",
       "      <td>C</td>\n",
       "      <td>NaN</td>\n",
       "      <td>2003.0</td>\n",
       "      <td>NaN</td>\n",
       "      <td>23/9/2014</td>\n",
       "      <td>...</td>\n",
       "      <td>HK57F5</td>\n",
       "      <td>NaN</td>\n",
       "      <td>1/4/2020</td>\n",
       "      <td>15/7/2003</td>\n",
       "      <td>Contrapesada eléctrica</td>\n",
       "      <td>6.0</td>\n",
       "      <td>GB</td>\n",
       "      <td>KXE-6263</td>\n",
       "      <td>AVLB PINA</td>\n",
       "      <td>L</td>\n",
       "    </tr>\n",
       "  </tbody>\n",
       "</table>\n",
       "<p>5 rows × 22 columns</p>\n",
       "</div>"
      ],
      "text/plain": [
       "  serial_number  equipment_id    client_id group  client_code fleet_type  \\\n",
       "0  H2X992W15465       1132732            3   E82     33925845          C   \n",
       "1  H2X995S19125       1207034          NaN   E12     39380933          C   \n",
       "2  W4X979W12995       1290040  1204 PMP EX   E82     33927373          C   \n",
       "3  H2X994R11511       1306179          NaN   NaN     33922280          N   \n",
       "4  G5X997P11599       1655177          NaN   E11     33923892          C   \n",
       "\n",
       "  fixed_asset  construction_year brand_name created_date  ... modified_by  \\\n",
       "0         NaN             2008.0      LINDE    12/6/2012  ...      HK57F5   \n",
       "1         NaN             2005.0        NaN    18/6/2012  ...      HK57F5   \n",
       "2         NaN             2008.0      LINDE   18/12/2012  ...    CKMAGKNK   \n",
       "3         NaN             2004.0      LINDE   18/12/2012  ...      HK57F5   \n",
       "4         NaN             2003.0        NaN    23/9/2014  ...      HK57F5   \n",
       "\n",
       "  service_start_date last_service_date warranty_start     equipment_type_name  \\\n",
       "0                NaN        11/11/2022      15/9/2008    Contrapesada térmica   \n",
       "1                NaN         13/7/2018     14/12/2011  Contrapesada eléctrica   \n",
       "2          29/5/2008         19/9/2023            NaN                Apilador   \n",
       "3          30/4/2004         24/5/2023            NaN    Contrapesada térmica   \n",
       "4                NaN          1/4/2020      15/7/2003  Contrapesada eléctrica   \n",
       "\n",
       "  construction_month country  technician user_status equipment_type  \n",
       "0                5.0      DE    KXE-6188        AVLB              L  \n",
       "1                5.0      DE    KXE-6639   AVLB PINA              L  \n",
       "2                6.0     NaN    KXE-6156        AWIN              L  \n",
       "3                5.0     NaN         NaN        AVLB              L  \n",
       "4                6.0      GB    KXE-6263   AVLB PINA              L  \n",
       "\n",
       "[5 rows x 22 columns]"
      ]
     },
     "execution_count": 134,
     "metadata": {},
     "output_type": "execute_result"
    }
   ],
   "source": [
    "clean_dataset.head()"
   ]
  },
  {
   "cell_type": "markdown",
   "metadata": {},
   "source": [
    "### Changing dtypes"
   ]
  },
  {
   "cell_type": "code",
   "execution_count": 135,
   "metadata": {},
   "outputs": [
    {
     "name": "stdout",
     "output_type": "stream",
     "text": [
      "<class 'pandas.core.frame.DataFrame'>\n",
      "RangeIndex: 75564 entries, 0 to 75563\n",
      "Data columns (total 22 columns):\n",
      " #   Column               Non-Null Count  Dtype  \n",
      "---  ------               --------------  -----  \n",
      " 0   serial_number        50634 non-null  object \n",
      " 1   equipment_id         75564 non-null  int64  \n",
      " 2   client_id            5817 non-null   object \n",
      " 3   group                13431 non-null  object \n",
      " 4   client_code          75564 non-null  int64  \n",
      " 5   fleet_type           75558 non-null  object \n",
      " 6   fixed_asset          1800 non-null   object \n",
      " 7   construction_year    73369 non-null  float64\n",
      " 8   brand_name           70433 non-null  object \n",
      " 9   created_date         75564 non-null  object \n",
      " 10  warranty_type        11980 non-null  object \n",
      " 11  last_modified        63966 non-null  object \n",
      " 12  modified_by          63966 non-null  object \n",
      " 13  service_start_date   9741 non-null   object \n",
      " 14  last_service_date    12824 non-null  object \n",
      " 15  warranty_start       11982 non-null  object \n",
      " 16  equipment_type_name  11251 non-null  object \n",
      " 17  construction_month   71685 non-null  float64\n",
      " 18  country              9543 non-null   object \n",
      " 19  technician           13336 non-null  object \n",
      " 20  user_status          14319 non-null  object \n",
      " 21  equipment_type       75564 non-null  object \n",
      "dtypes: float64(2), int64(2), object(18)\n",
      "memory usage: 12.7+ MB\n"
     ]
    }
   ],
   "source": [
    "clean_dataset.info()"
   ]
  },
  {
   "cell_type": "code",
   "execution_count": 136,
   "metadata": {},
   "outputs": [],
   "source": [
    "#for now, change dates into datetime format, and change mes/año to int instead of float to combine later\n",
    "\n",
    "# created_date\n",
    "# last_modified\n",
    "# service_start_date\n",
    "# last_service_date\n",
    "# warranty_start"
   ]
  },
  {
   "cell_type": "code",
   "execution_count": 137,
   "metadata": {},
   "outputs": [],
   "source": [
    "clean_dataset.created_date = pd.to_datetime(clean_dataset.created_date, format='%d/%m/%Y', errors='coerce')\n",
    "clean_dataset.last_modified = pd.to_datetime(clean_dataset.last_modified, format='%d/%m/%Y', errors='coerce')\n",
    "clean_dataset.service_start_date = pd.to_datetime(clean_dataset.service_start_date, format='%d/%m/%Y', errors='coerce')\n",
    "clean_dataset.last_service_date = pd.to_datetime(clean_dataset.last_service_date, format='%d/%m/%Y', errors='coerce')\n",
    "clean_dataset.warranty_start = pd.to_datetime(clean_dataset.warranty_start, format='%d/%m/%Y', errors='coerce')"
   ]
  },
  {
   "cell_type": "code",
   "execution_count": 138,
   "metadata": {},
   "outputs": [
    {
     "name": "stdout",
     "output_type": "stream",
     "text": [
      "<class 'pandas.core.frame.DataFrame'>\n",
      "RangeIndex: 75564 entries, 0 to 75563\n",
      "Data columns (total 22 columns):\n",
      " #   Column               Non-Null Count  Dtype         \n",
      "---  ------               --------------  -----         \n",
      " 0   serial_number        50634 non-null  object        \n",
      " 1   equipment_id         75564 non-null  int64         \n",
      " 2   client_id            5817 non-null   object        \n",
      " 3   group                13431 non-null  object        \n",
      " 4   client_code          75564 non-null  int64         \n",
      " 5   fleet_type           75558 non-null  object        \n",
      " 6   fixed_asset          1800 non-null   object        \n",
      " 7   construction_year    73369 non-null  float64       \n",
      " 8   brand_name           70433 non-null  object        \n",
      " 9   created_date         75564 non-null  datetime64[ns]\n",
      " 10  warranty_type        11980 non-null  object        \n",
      " 11  last_modified        63966 non-null  datetime64[ns]\n",
      " 12  modified_by          63966 non-null  object        \n",
      " 13  service_start_date   9741 non-null   datetime64[ns]\n",
      " 14  last_service_date    12824 non-null  datetime64[ns]\n",
      " 15  warranty_start       11982 non-null  datetime64[ns]\n",
      " 16  equipment_type_name  11251 non-null  object        \n",
      " 17  construction_month   71685 non-null  float64       \n",
      " 18  country              9543 non-null   object        \n",
      " 19  technician           13336 non-null  object        \n",
      " 20  user_status          14319 non-null  object        \n",
      " 21  equipment_type       75564 non-null  object        \n",
      "dtypes: datetime64[ns](5), float64(2), int64(2), object(13)\n",
      "memory usage: 12.7+ MB\n"
     ]
    }
   ],
   "source": [
    "clean_dataset.info()"
   ]
  },
  {
   "cell_type": "code",
   "execution_count": 139,
   "metadata": {},
   "outputs": [
    {
     "data": {
      "text/html": [
       "<div>\n",
       "<style scoped>\n",
       "    .dataframe tbody tr th:only-of-type {\n",
       "        vertical-align: middle;\n",
       "    }\n",
       "\n",
       "    .dataframe tbody tr th {\n",
       "        vertical-align: top;\n",
       "    }\n",
       "\n",
       "    .dataframe thead th {\n",
       "        text-align: right;\n",
       "    }\n",
       "</style>\n",
       "<table border=\"1\" class=\"dataframe\">\n",
       "  <thead>\n",
       "    <tr style=\"text-align: right;\">\n",
       "      <th></th>\n",
       "      <th>serial_number</th>\n",
       "      <th>equipment_id</th>\n",
       "      <th>client_id</th>\n",
       "      <th>group</th>\n",
       "      <th>client_code</th>\n",
       "      <th>fleet_type</th>\n",
       "      <th>fixed_asset</th>\n",
       "      <th>construction_year</th>\n",
       "      <th>brand_name</th>\n",
       "      <th>created_date</th>\n",
       "      <th>...</th>\n",
       "      <th>modified_by</th>\n",
       "      <th>service_start_date</th>\n",
       "      <th>last_service_date</th>\n",
       "      <th>warranty_start</th>\n",
       "      <th>equipment_type_name</th>\n",
       "      <th>construction_month</th>\n",
       "      <th>country</th>\n",
       "      <th>technician</th>\n",
       "      <th>user_status</th>\n",
       "      <th>equipment_type</th>\n",
       "    </tr>\n",
       "  </thead>\n",
       "  <tbody>\n",
       "    <tr>\n",
       "      <th>0</th>\n",
       "      <td>H2X992W15465</td>\n",
       "      <td>1132732</td>\n",
       "      <td>3</td>\n",
       "      <td>E82</td>\n",
       "      <td>33925845</td>\n",
       "      <td>C</td>\n",
       "      <td>NaN</td>\n",
       "      <td>2008.0</td>\n",
       "      <td>LINDE</td>\n",
       "      <td>2012-06-12</td>\n",
       "      <td>...</td>\n",
       "      <td>HK57F5</td>\n",
       "      <td>NaT</td>\n",
       "      <td>2022-11-11</td>\n",
       "      <td>2008-09-15</td>\n",
       "      <td>Contrapesada térmica</td>\n",
       "      <td>5.0</td>\n",
       "      <td>DE</td>\n",
       "      <td>KXE-6188</td>\n",
       "      <td>AVLB</td>\n",
       "      <td>L</td>\n",
       "    </tr>\n",
       "    <tr>\n",
       "      <th>1</th>\n",
       "      <td>H2X995S19125</td>\n",
       "      <td>1207034</td>\n",
       "      <td>NaN</td>\n",
       "      <td>E12</td>\n",
       "      <td>39380933</td>\n",
       "      <td>C</td>\n",
       "      <td>NaN</td>\n",
       "      <td>2005.0</td>\n",
       "      <td>NaN</td>\n",
       "      <td>2012-06-18</td>\n",
       "      <td>...</td>\n",
       "      <td>HK57F5</td>\n",
       "      <td>NaT</td>\n",
       "      <td>2018-07-13</td>\n",
       "      <td>2011-12-14</td>\n",
       "      <td>Contrapesada eléctrica</td>\n",
       "      <td>5.0</td>\n",
       "      <td>DE</td>\n",
       "      <td>KXE-6639</td>\n",
       "      <td>AVLB PINA</td>\n",
       "      <td>L</td>\n",
       "    </tr>\n",
       "    <tr>\n",
       "      <th>2</th>\n",
       "      <td>W4X979W12995</td>\n",
       "      <td>1290040</td>\n",
       "      <td>1204 PMP EX</td>\n",
       "      <td>E82</td>\n",
       "      <td>33927373</td>\n",
       "      <td>C</td>\n",
       "      <td>NaN</td>\n",
       "      <td>2008.0</td>\n",
       "      <td>LINDE</td>\n",
       "      <td>2012-12-18</td>\n",
       "      <td>...</td>\n",
       "      <td>CKMAGKNK</td>\n",
       "      <td>2008-05-29</td>\n",
       "      <td>2023-09-19</td>\n",
       "      <td>NaT</td>\n",
       "      <td>Apilador</td>\n",
       "      <td>6.0</td>\n",
       "      <td>NaN</td>\n",
       "      <td>KXE-6156</td>\n",
       "      <td>AWIN</td>\n",
       "      <td>L</td>\n",
       "    </tr>\n",
       "    <tr>\n",
       "      <th>3</th>\n",
       "      <td>H2X994R11511</td>\n",
       "      <td>1306179</td>\n",
       "      <td>NaN</td>\n",
       "      <td>NaN</td>\n",
       "      <td>33922280</td>\n",
       "      <td>N</td>\n",
       "      <td>NaN</td>\n",
       "      <td>2004.0</td>\n",
       "      <td>LINDE</td>\n",
       "      <td>2012-12-18</td>\n",
       "      <td>...</td>\n",
       "      <td>HK57F5</td>\n",
       "      <td>2004-04-30</td>\n",
       "      <td>2023-05-24</td>\n",
       "      <td>NaT</td>\n",
       "      <td>Contrapesada térmica</td>\n",
       "      <td>5.0</td>\n",
       "      <td>NaN</td>\n",
       "      <td>NaN</td>\n",
       "      <td>AVLB</td>\n",
       "      <td>L</td>\n",
       "    </tr>\n",
       "    <tr>\n",
       "      <th>4</th>\n",
       "      <td>G5X997P11599</td>\n",
       "      <td>1655177</td>\n",
       "      <td>NaN</td>\n",
       "      <td>E11</td>\n",
       "      <td>33923892</td>\n",
       "      <td>C</td>\n",
       "      <td>NaN</td>\n",
       "      <td>2003.0</td>\n",
       "      <td>NaN</td>\n",
       "      <td>2014-09-23</td>\n",
       "      <td>...</td>\n",
       "      <td>HK57F5</td>\n",
       "      <td>NaT</td>\n",
       "      <td>2020-04-01</td>\n",
       "      <td>2003-07-15</td>\n",
       "      <td>Contrapesada eléctrica</td>\n",
       "      <td>6.0</td>\n",
       "      <td>GB</td>\n",
       "      <td>KXE-6263</td>\n",
       "      <td>AVLB PINA</td>\n",
       "      <td>L</td>\n",
       "    </tr>\n",
       "  </tbody>\n",
       "</table>\n",
       "<p>5 rows × 22 columns</p>\n",
       "</div>"
      ],
      "text/plain": [
       "  serial_number  equipment_id    client_id group  client_code fleet_type  \\\n",
       "0  H2X992W15465       1132732            3   E82     33925845          C   \n",
       "1  H2X995S19125       1207034          NaN   E12     39380933          C   \n",
       "2  W4X979W12995       1290040  1204 PMP EX   E82     33927373          C   \n",
       "3  H2X994R11511       1306179          NaN   NaN     33922280          N   \n",
       "4  G5X997P11599       1655177          NaN   E11     33923892          C   \n",
       "\n",
       "  fixed_asset  construction_year brand_name created_date  ... modified_by  \\\n",
       "0         NaN             2008.0      LINDE   2012-06-12  ...      HK57F5   \n",
       "1         NaN             2005.0        NaN   2012-06-18  ...      HK57F5   \n",
       "2         NaN             2008.0      LINDE   2012-12-18  ...    CKMAGKNK   \n",
       "3         NaN             2004.0      LINDE   2012-12-18  ...      HK57F5   \n",
       "4         NaN             2003.0        NaN   2014-09-23  ...      HK57F5   \n",
       "\n",
       "  service_start_date last_service_date warranty_start     equipment_type_name  \\\n",
       "0                NaT        2022-11-11     2008-09-15    Contrapesada térmica   \n",
       "1                NaT        2018-07-13     2011-12-14  Contrapesada eléctrica   \n",
       "2         2008-05-29        2023-09-19            NaT                Apilador   \n",
       "3         2004-04-30        2023-05-24            NaT    Contrapesada térmica   \n",
       "4                NaT        2020-04-01     2003-07-15  Contrapesada eléctrica   \n",
       "\n",
       "  construction_month country  technician user_status equipment_type  \n",
       "0                5.0      DE    KXE-6188        AVLB              L  \n",
       "1                5.0      DE    KXE-6639   AVLB PINA              L  \n",
       "2                6.0     NaN    KXE-6156        AWIN              L  \n",
       "3                5.0     NaN         NaN        AVLB              L  \n",
       "4                6.0      GB    KXE-6263   AVLB PINA              L  \n",
       "\n",
       "[5 rows x 22 columns]"
      ]
     },
     "execution_count": 139,
     "metadata": {},
     "output_type": "execute_result"
    }
   ],
   "source": [
    "# review changes\n",
    "clean_dataset.head()"
   ]
  },
  {
   "cell_type": "code",
   "execution_count": 140,
   "metadata": {},
   "outputs": [
    {
     "name": "stdout",
     "output_type": "stream",
     "text": [
      "serial_number          24930\n",
      "equipment_id               0\n",
      "client_id              69747\n",
      "group                  62133\n",
      "client_code                0\n",
      "fleet_type                 6\n",
      "fixed_asset            73764\n",
      "construction_year       2195\n",
      "brand_name              5131\n",
      "created_date               0\n",
      "warranty_type          63584\n",
      "last_modified          11598\n",
      "modified_by            11598\n",
      "service_start_date     65823\n",
      "last_service_date      62740\n",
      "warranty_start         63582\n",
      "equipment_type_name    64313\n",
      "construction_month      3879\n",
      "country                66021\n",
      "technician             62228\n",
      "user_status            61245\n",
      "equipment_type             0\n",
      "dtype: int64\n"
     ]
    },
    {
     "data": {
      "text/plain": [
       "Número de serie                        24930\n",
       "Equipo                                     0\n",
       "Número-identificación técnica          69747\n",
       "Grupo planificación                    62133\n",
       "Enviar a parte                             0\n",
       "Flota                                      6\n",
       "Activo fijo                            73764\n",
       "Año de construcción                     2195\n",
       "Brand name                              5131\n",
       "Creado el                                  0\n",
       "Denominación de garantía de cliente    63584\n",
       "Modificado el                          11598\n",
       "Modificado por                         11598\n",
       "Fe.puesta servicio                     65823\n",
       "Fecha de última orden                  62740\n",
       "Inic.garantía clte.                    63582\n",
       "intervalo                              64313\n",
       "Mes de construcción                     3879\n",
       "País de fabricación                    66021\n",
       "Pto.tbjo.responsable                   62228\n",
       "Status de usuario                      61245\n",
       "Tipo de equipo                             0\n",
       "dtype: int64"
      ]
     },
     "execution_count": 140,
     "metadata": {},
     "output_type": "execute_result"
    }
   ],
   "source": [
    "#review nulls are the same as before\n",
    "\n",
    "print(clean_dataset.isnull().sum())\n",
    "\n",
    "origin_dataset.isnull().sum()\n"
   ]
  },
  {
   "cell_type": "code",
   "execution_count": 141,
   "metadata": {},
   "outputs": [],
   "source": [
    "#change float to int month and year. We can't convert null values directly to int, so we have to fill null values with 0.\n",
    "\n",
    "clean_dataset.construction_month = clean_dataset.construction_month.fillna(1).astype(int)\n",
    "clean_dataset.construction_year = clean_dataset.construction_year.fillna(2016).astype(int)"
   ]
  },
  {
   "cell_type": "code",
   "execution_count": 142,
   "metadata": {},
   "outputs": [
    {
     "name": "stdout",
     "output_type": "stream",
     "text": [
      "<class 'pandas.core.frame.DataFrame'>\n",
      "RangeIndex: 75564 entries, 0 to 75563\n",
      "Data columns (total 22 columns):\n",
      " #   Column               Non-Null Count  Dtype         \n",
      "---  ------               --------------  -----         \n",
      " 0   serial_number        50634 non-null  object        \n",
      " 1   equipment_id         75564 non-null  int64         \n",
      " 2   client_id            5817 non-null   object        \n",
      " 3   group                13431 non-null  object        \n",
      " 4   client_code          75564 non-null  int64         \n",
      " 5   fleet_type           75558 non-null  object        \n",
      " 6   fixed_asset          1800 non-null   object        \n",
      " 7   construction_year    75564 non-null  int64         \n",
      " 8   brand_name           70433 non-null  object        \n",
      " 9   created_date         75564 non-null  datetime64[ns]\n",
      " 10  warranty_type        11980 non-null  object        \n",
      " 11  last_modified        63966 non-null  datetime64[ns]\n",
      " 12  modified_by          63966 non-null  object        \n",
      " 13  service_start_date   9741 non-null   datetime64[ns]\n",
      " 14  last_service_date    12824 non-null  datetime64[ns]\n",
      " 15  warranty_start       11982 non-null  datetime64[ns]\n",
      " 16  equipment_type_name  11251 non-null  object        \n",
      " 17  construction_month   75564 non-null  int64         \n",
      " 18  country              9543 non-null   object        \n",
      " 19  technician           13336 non-null  object        \n",
      " 20  user_status          14319 non-null  object        \n",
      " 21  equipment_type       75564 non-null  object        \n",
      "dtypes: datetime64[ns](5), int64(4), object(13)\n",
      "memory usage: 12.7+ MB\n"
     ]
    }
   ],
   "source": [
    "#check that the change has been made correctly\n",
    "\n",
    "clean_dataset.info()"
   ]
  },
  {
   "cell_type": "code",
   "execution_count": 143,
   "metadata": {},
   "outputs": [
    {
     "data": {
      "text/plain": [
       "serial_number          24930\n",
       "equipment_id               0\n",
       "client_id              69747\n",
       "group                  62133\n",
       "client_code                0\n",
       "fleet_type                 6\n",
       "fixed_asset            73764\n",
       "construction_year          0\n",
       "brand_name              5131\n",
       "created_date               0\n",
       "warranty_type          63584\n",
       "last_modified          11598\n",
       "modified_by            11598\n",
       "service_start_date     65823\n",
       "last_service_date      62740\n",
       "warranty_start         63582\n",
       "equipment_type_name    64313\n",
       "construction_month         0\n",
       "country                66021\n",
       "technician             62228\n",
       "user_status            61245\n",
       "equipment_type             0\n",
       "dtype: int64"
      ]
     },
     "execution_count": 143,
     "metadata": {},
     "output_type": "execute_result"
    }
   ],
   "source": [
    "clean_dataset.isnull().sum()\n",
    "\n",
    "#now the columns construction year and month have 0 null values."
   ]
  },
  {
   "cell_type": "code",
   "execution_count": 144,
   "metadata": {},
   "outputs": [
    {
     "data": {
      "text/plain": [
       "1     11416\n",
       "0      8791\n",
       "7      6864\n",
       "2      6589\n",
       "5      6294\n",
       "9      5608\n",
       "6      4873\n",
       "12     4647\n",
       "4      4588\n",
       "11     4575\n",
       "3      4316\n",
       "10     3913\n",
       "8      3090\n",
       "Name: construction_month, dtype: int64"
      ]
     },
     "execution_count": 144,
     "metadata": {},
     "output_type": "execute_result"
    }
   ],
   "source": [
    "clean_dataset.construction_month.value_counts()"
   ]
  },
  {
   "cell_type": "code",
   "execution_count": 145,
   "metadata": {},
   "outputs": [
    {
     "name": "stdout",
     "output_type": "stream",
     "text": [
      "1     20207\n",
      "7      6864\n",
      "2      6589\n",
      "5      6294\n",
      "9      5608\n",
      "6      4873\n",
      "12     4647\n",
      "4      4588\n",
      "11     4575\n",
      "3      4316\n",
      "10     3913\n",
      "8      3090\n",
      "Name: construction_month, dtype: int64\n"
     ]
    }
   ],
   "source": [
    "#there are some months values with a 0, we will change them for january as we did with the default nulls before\n",
    "\n",
    "# Replace 0 with 1 in the \"construction_month\" column\n",
    "clean_dataset['construction_month'] = clean_dataset['construction_month'].replace(0, 1)\n",
    "\n",
    "# Verify the changes\n",
    "print(clean_dataset['construction_month'].value_counts())"
   ]
  },
  {
   "cell_type": "markdown",
   "metadata": {},
   "source": [
    "-----"
   ]
  },
  {
   "cell_type": "markdown",
   "metadata": {},
   "source": [
    "## Cleaning by column"
   ]
  },
  {
   "cell_type": "code",
   "execution_count": 146,
   "metadata": {},
   "outputs": [
    {
     "name": "stdout",
     "output_type": "stream",
     "text": [
      "### serial_number\n",
      "### equipment_id\n",
      "### client_id\n",
      "### group\n",
      "### client_code\n",
      "### fleet_type\n",
      "### fixed_asset\n",
      "### construction_year\n",
      "### brand_name\n",
      "### created_date\n",
      "### warranty_type\n",
      "### last_modified\n",
      "### modified_by\n",
      "### service_start_date\n",
      "### last_service_date\n",
      "### warranty_start\n",
      "### equipment_type_name\n",
      "### construction_month\n",
      "### country\n",
      "### technician\n",
      "### user_status\n",
      "### equipment_type\n"
     ]
    }
   ],
   "source": [
    "list = clean_dataset.columns\n",
    "\n",
    "for i in list:\n",
    "    print(\"### \"+i)"
   ]
  },
  {
   "cell_type": "markdown",
   "metadata": {},
   "source": [
    "### serial_number\n",
    "\n",
    "- verify if Linde have 12 cts \n",
    "- Unique? \n",
    "- Missing values\n",
    "- Dtype"
   ]
  },
  {
   "cell_type": "code",
   "execution_count": 147,
   "metadata": {},
   "outputs": [
    {
     "name": "stdout",
     "output_type": "stream",
     "text": [
      "<class 'pandas.core.series.Series'>\n",
      "RangeIndex: 75564 entries, 0 to 75563\n",
      "Series name: serial_number\n",
      "Non-Null Count  Dtype \n",
      "--------------  ----- \n",
      "50634 non-null  object\n",
      "dtypes: object(1)\n",
      "memory usage: 590.5+ KB\n"
     ]
    }
   ],
   "source": [
    "\n",
    "clean_dataset.serial_number.info()\n",
    "\n",
    "#dtype is string and it makes sense since it's alphanumeric element"
   ]
  },
  {
   "cell_type": "code",
   "execution_count": 148,
   "metadata": {},
   "outputs": [
    {
     "data": {
      "text/html": [
       "<div>\n",
       "<style scoped>\n",
       "    .dataframe tbody tr th:only-of-type {\n",
       "        vertical-align: middle;\n",
       "    }\n",
       "\n",
       "    .dataframe tbody tr th {\n",
       "        vertical-align: top;\n",
       "    }\n",
       "\n",
       "    .dataframe thead th {\n",
       "        text-align: right;\n",
       "    }\n",
       "</style>\n",
       "<table border=\"1\" class=\"dataframe\">\n",
       "  <thead>\n",
       "    <tr style=\"text-align: right;\">\n",
       "      <th></th>\n",
       "      <th>serial_number</th>\n",
       "      <th>equipment_id</th>\n",
       "      <th>client_id</th>\n",
       "      <th>group</th>\n",
       "      <th>client_code</th>\n",
       "      <th>fleet_type</th>\n",
       "      <th>fixed_asset</th>\n",
       "      <th>construction_year</th>\n",
       "      <th>brand_name</th>\n",
       "      <th>created_date</th>\n",
       "      <th>...</th>\n",
       "      <th>modified_by</th>\n",
       "      <th>service_start_date</th>\n",
       "      <th>last_service_date</th>\n",
       "      <th>warranty_start</th>\n",
       "      <th>equipment_type_name</th>\n",
       "      <th>construction_month</th>\n",
       "      <th>country</th>\n",
       "      <th>technician</th>\n",
       "      <th>user_status</th>\n",
       "      <th>equipment_type</th>\n",
       "    </tr>\n",
       "  </thead>\n",
       "  <tbody>\n",
       "    <tr>\n",
       "      <th>0</th>\n",
       "      <td>H2X992W15465</td>\n",
       "      <td>1132732</td>\n",
       "      <td>3</td>\n",
       "      <td>E82</td>\n",
       "      <td>33925845</td>\n",
       "      <td>C</td>\n",
       "      <td>NaN</td>\n",
       "      <td>2008</td>\n",
       "      <td>LINDE</td>\n",
       "      <td>2012-06-12</td>\n",
       "      <td>...</td>\n",
       "      <td>HK57F5</td>\n",
       "      <td>NaT</td>\n",
       "      <td>2022-11-11</td>\n",
       "      <td>2008-09-15</td>\n",
       "      <td>Contrapesada térmica</td>\n",
       "      <td>5</td>\n",
       "      <td>DE</td>\n",
       "      <td>KXE-6188</td>\n",
       "      <td>AVLB</td>\n",
       "      <td>L</td>\n",
       "    </tr>\n",
       "    <tr>\n",
       "      <th>2</th>\n",
       "      <td>W4X979W12995</td>\n",
       "      <td>1290040</td>\n",
       "      <td>1204 PMP EX</td>\n",
       "      <td>E82</td>\n",
       "      <td>33927373</td>\n",
       "      <td>C</td>\n",
       "      <td>NaN</td>\n",
       "      <td>2008</td>\n",
       "      <td>LINDE</td>\n",
       "      <td>2012-12-18</td>\n",
       "      <td>...</td>\n",
       "      <td>CKMAGKNK</td>\n",
       "      <td>2008-05-29</td>\n",
       "      <td>2023-09-19</td>\n",
       "      <td>NaT</td>\n",
       "      <td>Apilador</td>\n",
       "      <td>6</td>\n",
       "      <td>NaN</td>\n",
       "      <td>KXE-6156</td>\n",
       "      <td>AWIN</td>\n",
       "      <td>L</td>\n",
       "    </tr>\n",
       "    <tr>\n",
       "      <th>3</th>\n",
       "      <td>H2X994R11511</td>\n",
       "      <td>1306179</td>\n",
       "      <td>NaN</td>\n",
       "      <td>NaN</td>\n",
       "      <td>33922280</td>\n",
       "      <td>N</td>\n",
       "      <td>NaN</td>\n",
       "      <td>2004</td>\n",
       "      <td>LINDE</td>\n",
       "      <td>2012-12-18</td>\n",
       "      <td>...</td>\n",
       "      <td>HK57F5</td>\n",
       "      <td>2004-04-30</td>\n",
       "      <td>2023-05-24</td>\n",
       "      <td>NaT</td>\n",
       "      <td>Contrapesada térmica</td>\n",
       "      <td>5</td>\n",
       "      <td>NaN</td>\n",
       "      <td>NaN</td>\n",
       "      <td>AVLB</td>\n",
       "      <td>L</td>\n",
       "    </tr>\n",
       "    <tr>\n",
       "      <th>5</th>\n",
       "      <td>W4X595F14922</td>\n",
       "      <td>2139958</td>\n",
       "      <td>NaN</td>\n",
       "      <td>E11</td>\n",
       "      <td>33933808</td>\n",
       "      <td>C</td>\n",
       "      <td>NaN</td>\n",
       "      <td>2015</td>\n",
       "      <td>LINDE</td>\n",
       "      <td>2015-10-14</td>\n",
       "      <td>...</td>\n",
       "      <td>HK57F5</td>\n",
       "      <td>NaT</td>\n",
       "      <td>2021-02-10</td>\n",
       "      <td>2015-10-05</td>\n",
       "      <td>Transpaleta eléctrica</td>\n",
       "      <td>10</td>\n",
       "      <td>FR</td>\n",
       "      <td>KXE-6626</td>\n",
       "      <td>ONOD PINA</td>\n",
       "      <td>L</td>\n",
       "    </tr>\n",
       "    <tr>\n",
       "      <th>7</th>\n",
       "      <td>H2X926C19625</td>\n",
       "      <td>2205572</td>\n",
       "      <td>NaN</td>\n",
       "      <td>E12</td>\n",
       "      <td>39327943</td>\n",
       "      <td>C</td>\n",
       "      <td>NaN</td>\n",
       "      <td>2012</td>\n",
       "      <td>LINDE</td>\n",
       "      <td>2015-12-05</td>\n",
       "      <td>...</td>\n",
       "      <td>CKMAGKNK</td>\n",
       "      <td>2020-10-08</td>\n",
       "      <td>2024-03-14</td>\n",
       "      <td>2020-12-18</td>\n",
       "      <td>Contrapesada eléctrica</td>\n",
       "      <td>5</td>\n",
       "      <td>DE</td>\n",
       "      <td>KXE-6157</td>\n",
       "      <td>SOLD RSVD</td>\n",
       "      <td>L</td>\n",
       "    </tr>\n",
       "    <tr>\n",
       "      <th>...</th>\n",
       "      <td>...</td>\n",
       "      <td>...</td>\n",
       "      <td>...</td>\n",
       "      <td>...</td>\n",
       "      <td>...</td>\n",
       "      <td>...</td>\n",
       "      <td>...</td>\n",
       "      <td>...</td>\n",
       "      <td>...</td>\n",
       "      <td>...</td>\n",
       "      <td>...</td>\n",
       "      <td>...</td>\n",
       "      <td>...</td>\n",
       "      <td>...</td>\n",
       "      <td>...</td>\n",
       "      <td>...</td>\n",
       "      <td>...</td>\n",
       "      <td>...</td>\n",
       "      <td>...</td>\n",
       "      <td>...</td>\n",
       "      <td>...</td>\n",
       "    </tr>\n",
       "    <tr>\n",
       "      <th>75514</th>\n",
       "      <td>W41559C15595</td>\n",
       "      <td>6106796</td>\n",
       "      <td>A7</td>\n",
       "      <td>E81</td>\n",
       "      <td>33933227</td>\n",
       "      <td>C</td>\n",
       "      <td>NaN</td>\n",
       "      <td>2016</td>\n",
       "      <td>LINDE</td>\n",
       "      <td>2024-03-20</td>\n",
       "      <td>...</td>\n",
       "      <td>NaN</td>\n",
       "      <td>NaT</td>\n",
       "      <td>2024-03-07</td>\n",
       "      <td>NaT</td>\n",
       "      <td>Transpaleta eléctrica</td>\n",
       "      <td>1</td>\n",
       "      <td>NaN</td>\n",
       "      <td>KXE-6215</td>\n",
       "      <td>AVLB</td>\n",
       "      <td>L</td>\n",
       "    </tr>\n",
       "    <tr>\n",
       "      <th>75517</th>\n",
       "      <td>W45565N11199</td>\n",
       "      <td>6108537</td>\n",
       "      <td>NaN</td>\n",
       "      <td>E11</td>\n",
       "      <td>33934507</td>\n",
       "      <td>R</td>\n",
       "      <td>NaN</td>\n",
       "      <td>2024</td>\n",
       "      <td>LINDE</td>\n",
       "      <td>2024-03-21</td>\n",
       "      <td>...</td>\n",
       "      <td>A0063827</td>\n",
       "      <td>2024-04-02</td>\n",
       "      <td>NaT</td>\n",
       "      <td>2024-04-02</td>\n",
       "      <td>Apilador</td>\n",
       "      <td>3</td>\n",
       "      <td>FR</td>\n",
       "      <td>LE196666</td>\n",
       "      <td>AVLB</td>\n",
       "      <td>L</td>\n",
       "    </tr>\n",
       "    <tr>\n",
       "      <th>75522</th>\n",
       "      <td>996F12155991</td>\n",
       "      <td>6109448</td>\n",
       "      <td>NaN</td>\n",
       "      <td>E11</td>\n",
       "      <td>39303353</td>\n",
       "      <td>C</td>\n",
       "      <td>NaN</td>\n",
       "      <td>2016</td>\n",
       "      <td>LINDE</td>\n",
       "      <td>2024-03-22</td>\n",
       "      <td>...</td>\n",
       "      <td>KS411A</td>\n",
       "      <td>NaT</td>\n",
       "      <td>NaT</td>\n",
       "      <td>NaT</td>\n",
       "      <td>NaN</td>\n",
       "      <td>1</td>\n",
       "      <td>NaN</td>\n",
       "      <td>KXE-6642</td>\n",
       "      <td>AVLB</td>\n",
       "      <td>L</td>\n",
       "    </tr>\n",
       "    <tr>\n",
       "      <th>75526</th>\n",
       "      <td>W45552F19256</td>\n",
       "      <td>6109504</td>\n",
       "      <td>NaN</td>\n",
       "      <td>E12</td>\n",
       "      <td>33933702</td>\n",
       "      <td>C</td>\n",
       "      <td>NaN</td>\n",
       "      <td>2016</td>\n",
       "      <td>LINDE</td>\n",
       "      <td>2024-03-22</td>\n",
       "      <td>...</td>\n",
       "      <td>NaN</td>\n",
       "      <td>NaT</td>\n",
       "      <td>NaT</td>\n",
       "      <td>NaT</td>\n",
       "      <td>NaN</td>\n",
       "      <td>1</td>\n",
       "      <td>NaN</td>\n",
       "      <td>KXE-6646</td>\n",
       "      <td>AVLB</td>\n",
       "      <td>L</td>\n",
       "    </tr>\n",
       "    <tr>\n",
       "      <th>75548</th>\n",
       "      <td>W45565N11195</td>\n",
       "      <td>6118220</td>\n",
       "      <td>NaN</td>\n",
       "      <td>E11</td>\n",
       "      <td>33934507</td>\n",
       "      <td>R</td>\n",
       "      <td>NaN</td>\n",
       "      <td>2024</td>\n",
       "      <td>LINDE</td>\n",
       "      <td>2024-03-29</td>\n",
       "      <td>...</td>\n",
       "      <td>A0084112</td>\n",
       "      <td>2024-04-03</td>\n",
       "      <td>NaT</td>\n",
       "      <td>2024-04-03</td>\n",
       "      <td>Apilador</td>\n",
       "      <td>3</td>\n",
       "      <td>FR</td>\n",
       "      <td>LE196666</td>\n",
       "      <td>AVLB</td>\n",
       "      <td>L</td>\n",
       "    </tr>\n",
       "  </tbody>\n",
       "</table>\n",
       "<p>11502 rows × 22 columns</p>\n",
       "</div>"
      ],
      "text/plain": [
       "      serial_number  equipment_id    client_id group  client_code fleet_type  \\\n",
       "0      H2X992W15465       1132732            3   E82     33925845          C   \n",
       "2      W4X979W12995       1290040  1204 PMP EX   E82     33927373          C   \n",
       "3      H2X994R11511       1306179          NaN   NaN     33922280          N   \n",
       "5      W4X595F14922       2139958          NaN   E11     33933808          C   \n",
       "7      H2X926C19625       2205572          NaN   E12     39327943          C   \n",
       "...             ...           ...          ...   ...          ...        ...   \n",
       "75514  W41559C15595       6106796           A7   E81     33933227          C   \n",
       "75517  W45565N11199       6108537          NaN   E11     33934507          R   \n",
       "75522  996F12155991       6109448          NaN   E11     39303353          C   \n",
       "75526  W45552F19256       6109504          NaN   E12     33933702          C   \n",
       "75548  W45565N11195       6118220          NaN   E11     33934507          R   \n",
       "\n",
       "      fixed_asset  construction_year brand_name created_date  ... modified_by  \\\n",
       "0             NaN               2008      LINDE   2012-06-12  ...      HK57F5   \n",
       "2             NaN               2008      LINDE   2012-12-18  ...    CKMAGKNK   \n",
       "3             NaN               2004      LINDE   2012-12-18  ...      HK57F5   \n",
       "5             NaN               2015      LINDE   2015-10-14  ...      HK57F5   \n",
       "7             NaN               2012      LINDE   2015-12-05  ...    CKMAGKNK   \n",
       "...           ...                ...        ...          ...  ...         ...   \n",
       "75514         NaN               2016      LINDE   2024-03-20  ...         NaN   \n",
       "75517         NaN               2024      LINDE   2024-03-21  ...    A0063827   \n",
       "75522         NaN               2016      LINDE   2024-03-22  ...      KS411A   \n",
       "75526         NaN               2016      LINDE   2024-03-22  ...         NaN   \n",
       "75548         NaN               2024      LINDE   2024-03-29  ...    A0084112   \n",
       "\n",
       "      service_start_date last_service_date warranty_start  \\\n",
       "0                    NaT        2022-11-11     2008-09-15   \n",
       "2             2008-05-29        2023-09-19            NaT   \n",
       "3             2004-04-30        2023-05-24            NaT   \n",
       "5                    NaT        2021-02-10     2015-10-05   \n",
       "7             2020-10-08        2024-03-14     2020-12-18   \n",
       "...                  ...               ...            ...   \n",
       "75514                NaT        2024-03-07            NaT   \n",
       "75517         2024-04-02               NaT     2024-04-02   \n",
       "75522                NaT               NaT            NaT   \n",
       "75526                NaT               NaT            NaT   \n",
       "75548         2024-04-03               NaT     2024-04-03   \n",
       "\n",
       "          equipment_type_name construction_month country  technician  \\\n",
       "0        Contrapesada térmica                  5      DE    KXE-6188   \n",
       "2                    Apilador                  6     NaN    KXE-6156   \n",
       "3        Contrapesada térmica                  5     NaN         NaN   \n",
       "5       Transpaleta eléctrica                 10      FR    KXE-6626   \n",
       "7      Contrapesada eléctrica                  5      DE    KXE-6157   \n",
       "...                       ...                ...     ...         ...   \n",
       "75514   Transpaleta eléctrica                  1     NaN    KXE-6215   \n",
       "75517                Apilador                  3      FR    LE196666   \n",
       "75522                     NaN                  1     NaN    KXE-6642   \n",
       "75526                     NaN                  1     NaN    KXE-6646   \n",
       "75548                Apilador                  3      FR    LE196666   \n",
       "\n",
       "      user_status equipment_type  \n",
       "0            AVLB              L  \n",
       "2            AWIN              L  \n",
       "3            AVLB              L  \n",
       "5       ONOD PINA              L  \n",
       "7       SOLD RSVD              L  \n",
       "...           ...            ...  \n",
       "75514        AVLB              L  \n",
       "75517        AVLB              L  \n",
       "75522        AVLB              L  \n",
       "75526        AVLB              L  \n",
       "75548        AVLB              L  \n",
       "\n",
       "[11502 rows x 22 columns]"
      ]
     },
     "execution_count": 148,
     "metadata": {},
     "output_type": "execute_result"
    }
   ],
   "source": [
    "#verify if Linde has 12 cts in serial number\n",
    "\n",
    "linde_brand = clean_dataset[clean_dataset.brand_name == \"LINDE\"]\n",
    "linde_brand"
   ]
  },
  {
   "cell_type": "code",
   "execution_count": 149,
   "metadata": {},
   "outputs": [
    {
     "data": {
      "text/html": [
       "<div>\n",
       "<style scoped>\n",
       "    .dataframe tbody tr th:only-of-type {\n",
       "        vertical-align: middle;\n",
       "    }\n",
       "\n",
       "    .dataframe tbody tr th {\n",
       "        vertical-align: top;\n",
       "    }\n",
       "\n",
       "    .dataframe thead th {\n",
       "        text-align: right;\n",
       "    }\n",
       "</style>\n",
       "<table border=\"1\" class=\"dataframe\">\n",
       "  <thead>\n",
       "    <tr style=\"text-align: right;\">\n",
       "      <th></th>\n",
       "      <th>serial_number</th>\n",
       "      <th>equipment_id</th>\n",
       "      <th>client_id</th>\n",
       "      <th>group</th>\n",
       "      <th>client_code</th>\n",
       "      <th>fleet_type</th>\n",
       "      <th>fixed_asset</th>\n",
       "      <th>construction_year</th>\n",
       "      <th>brand_name</th>\n",
       "      <th>created_date</th>\n",
       "      <th>...</th>\n",
       "      <th>modified_by</th>\n",
       "      <th>service_start_date</th>\n",
       "      <th>last_service_date</th>\n",
       "      <th>warranty_start</th>\n",
       "      <th>equipment_type_name</th>\n",
       "      <th>construction_month</th>\n",
       "      <th>country</th>\n",
       "      <th>technician</th>\n",
       "      <th>user_status</th>\n",
       "      <th>equipment_type</th>\n",
       "    </tr>\n",
       "  </thead>\n",
       "  <tbody>\n",
       "    <tr>\n",
       "      <th>61</th>\n",
       "      <td>E1L71GTE1119242</td>\n",
       "      <td>2981089</td>\n",
       "      <td>NaN</td>\n",
       "      <td>E11</td>\n",
       "      <td>33930535</td>\n",
       "      <td>C</td>\n",
       "      <td>NaN</td>\n",
       "      <td>2016</td>\n",
       "      <td>LINDE</td>\n",
       "      <td>2017-11-29</td>\n",
       "      <td>...</td>\n",
       "      <td>HK57F5</td>\n",
       "      <td>2019-05-30</td>\n",
       "      <td>2020-04-06</td>\n",
       "      <td>NaT</td>\n",
       "      <td>NaN</td>\n",
       "      <td>1</td>\n",
       "      <td>NaN</td>\n",
       "      <td>LE616666</td>\n",
       "      <td>SOTR PINA</td>\n",
       "      <td>C</td>\n",
       "    </tr>\n",
       "    <tr>\n",
       "      <th>348</th>\n",
       "      <td>HLI1416595</td>\n",
       "      <td>2984170</td>\n",
       "      <td>NaN</td>\n",
       "      <td>E14</td>\n",
       "      <td>33933050</td>\n",
       "      <td>R</td>\n",
       "      <td>J01186</td>\n",
       "      <td>2017</td>\n",
       "      <td>LINDE</td>\n",
       "      <td>2017-11-29</td>\n",
       "      <td>...</td>\n",
       "      <td>CKMAGKNK</td>\n",
       "      <td>NaT</td>\n",
       "      <td>2024-01-12</td>\n",
       "      <td>2017-08-22</td>\n",
       "      <td>Transpaleta manual</td>\n",
       "      <td>8</td>\n",
       "      <td>NaN</td>\n",
       "      <td>KXE-6278</td>\n",
       "      <td>NORE</td>\n",
       "      <td>L</td>\n",
       "    </tr>\n",
       "    <tr>\n",
       "      <th>393</th>\n",
       "      <td>GRSSALVESEN</td>\n",
       "      <td>2984446</td>\n",
       "      <td>NaN</td>\n",
       "      <td>E11</td>\n",
       "      <td>33929798</td>\n",
       "      <td>C</td>\n",
       "      <td>NaN</td>\n",
       "      <td>2016</td>\n",
       "      <td>LINDE</td>\n",
       "      <td>2017-11-29</td>\n",
       "      <td>...</td>\n",
       "      <td>HK57F5</td>\n",
       "      <td>NaT</td>\n",
       "      <td>2020-02-05</td>\n",
       "      <td>2016-02-02</td>\n",
       "      <td>NaN</td>\n",
       "      <td>1</td>\n",
       "      <td>NaN</td>\n",
       "      <td>KXE-6191</td>\n",
       "      <td>AVLB PINA</td>\n",
       "      <td>C</td>\n",
       "    </tr>\n",
       "    <tr>\n",
       "      <th>3233</th>\n",
       "      <td>UFW212792</td>\n",
       "      <td>3013111</td>\n",
       "      <td>NaN</td>\n",
       "      <td>E11</td>\n",
       "      <td>33923308</td>\n",
       "      <td>C</td>\n",
       "      <td>NaN</td>\n",
       "      <td>2017</td>\n",
       "      <td>LINDE</td>\n",
       "      <td>2017-11-29</td>\n",
       "      <td>...</td>\n",
       "      <td>HK57F5</td>\n",
       "      <td>2021-06-15</td>\n",
       "      <td>2022-01-28</td>\n",
       "      <td>2021-06-15</td>\n",
       "      <td>Retráctil</td>\n",
       "      <td>1</td>\n",
       "      <td>SE</td>\n",
       "      <td>KXE-6626</td>\n",
       "      <td>SOLD PINA</td>\n",
       "      <td>L</td>\n",
       "    </tr>\n",
       "    <tr>\n",
       "      <th>3454</th>\n",
       "      <td>W4X595F15472OLD</td>\n",
       "      <td>3014862</td>\n",
       "      <td>NaN</td>\n",
       "      <td>NaN</td>\n",
       "      <td>55</td>\n",
       "      <td>C</td>\n",
       "      <td>NaN</td>\n",
       "      <td>2015</td>\n",
       "      <td>LINDE</td>\n",
       "      <td>2017-11-30</td>\n",
       "      <td>...</td>\n",
       "      <td>HK57F5</td>\n",
       "      <td>2018-10-05</td>\n",
       "      <td>NaT</td>\n",
       "      <td>2015-03-26</td>\n",
       "      <td>Transpaleta eléctrica</td>\n",
       "      <td>1</td>\n",
       "      <td>FR</td>\n",
       "      <td>NaN</td>\n",
       "      <td>SOLD PINA</td>\n",
       "      <td>L</td>\n",
       "    </tr>\n",
       "    <tr>\n",
       "      <th>...</th>\n",
       "      <td>...</td>\n",
       "      <td>...</td>\n",
       "      <td>...</td>\n",
       "      <td>...</td>\n",
       "      <td>...</td>\n",
       "      <td>...</td>\n",
       "      <td>...</td>\n",
       "      <td>...</td>\n",
       "      <td>...</td>\n",
       "      <td>...</td>\n",
       "      <td>...</td>\n",
       "      <td>...</td>\n",
       "      <td>...</td>\n",
       "      <td>...</td>\n",
       "      <td>...</td>\n",
       "      <td>...</td>\n",
       "      <td>...</td>\n",
       "      <td>...</td>\n",
       "      <td>...</td>\n",
       "      <td>...</td>\n",
       "      <td>...</td>\n",
       "    </tr>\n",
       "    <tr>\n",
       "      <th>75156</th>\n",
       "      <td>NaN</td>\n",
       "      <td>6045292</td>\n",
       "      <td>NaN</td>\n",
       "      <td>NaN</td>\n",
       "      <td>39354898</td>\n",
       "      <td>C</td>\n",
       "      <td>NaN</td>\n",
       "      <td>2006</td>\n",
       "      <td>LINDE</td>\n",
       "      <td>2024-02-07</td>\n",
       "      <td>...</td>\n",
       "      <td>NaN</td>\n",
       "      <td>NaT</td>\n",
       "      <td>NaT</td>\n",
       "      <td>NaT</td>\n",
       "      <td>NaN</td>\n",
       "      <td>1</td>\n",
       "      <td>NaN</td>\n",
       "      <td>NaN</td>\n",
       "      <td>NaN</td>\n",
       "      <td>G</td>\n",
       "    </tr>\n",
       "    <tr>\n",
       "      <th>75301</th>\n",
       "      <td>NaN</td>\n",
       "      <td>6074424</td>\n",
       "      <td>NaN</td>\n",
       "      <td>NaN</td>\n",
       "      <td>32384905</td>\n",
       "      <td>C</td>\n",
       "      <td>NaN</td>\n",
       "      <td>1996</td>\n",
       "      <td>LINDE</td>\n",
       "      <td>2024-02-27</td>\n",
       "      <td>...</td>\n",
       "      <td>NaN</td>\n",
       "      <td>NaT</td>\n",
       "      <td>NaT</td>\n",
       "      <td>NaT</td>\n",
       "      <td>NaN</td>\n",
       "      <td>1</td>\n",
       "      <td>NaN</td>\n",
       "      <td>NaN</td>\n",
       "      <td>NaN</td>\n",
       "      <td>G</td>\n",
       "    </tr>\n",
       "    <tr>\n",
       "      <th>75323</th>\n",
       "      <td>BAT.H2X922D11122</td>\n",
       "      <td>6076355</td>\n",
       "      <td>NaN</td>\n",
       "      <td>E12</td>\n",
       "      <td>33937707</td>\n",
       "      <td>C</td>\n",
       "      <td>NaN</td>\n",
       "      <td>2016</td>\n",
       "      <td>LINDE</td>\n",
       "      <td>2024-02-28</td>\n",
       "      <td>...</td>\n",
       "      <td>KS411A</td>\n",
       "      <td>NaT</td>\n",
       "      <td>NaT</td>\n",
       "      <td>NaT</td>\n",
       "      <td>NaN</td>\n",
       "      <td>1</td>\n",
       "      <td>NaN</td>\n",
       "      <td>KXE-6646</td>\n",
       "      <td>AVLB</td>\n",
       "      <td>L</td>\n",
       "    </tr>\n",
       "    <tr>\n",
       "      <th>75429</th>\n",
       "      <td>NaN</td>\n",
       "      <td>6087932</td>\n",
       "      <td>NaN</td>\n",
       "      <td>NaN</td>\n",
       "      <td>33940808</td>\n",
       "      <td>C</td>\n",
       "      <td>NaN</td>\n",
       "      <td>1998</td>\n",
       "      <td>LINDE</td>\n",
       "      <td>2024-03-07</td>\n",
       "      <td>...</td>\n",
       "      <td>NaN</td>\n",
       "      <td>NaT</td>\n",
       "      <td>NaT</td>\n",
       "      <td>NaT</td>\n",
       "      <td>NaN</td>\n",
       "      <td>1</td>\n",
       "      <td>NaN</td>\n",
       "      <td>NaN</td>\n",
       "      <td>NaN</td>\n",
       "      <td>G</td>\n",
       "    </tr>\n",
       "    <tr>\n",
       "      <th>75430</th>\n",
       "      <td>NaN</td>\n",
       "      <td>6087934</td>\n",
       "      <td>NaN</td>\n",
       "      <td>NaN</td>\n",
       "      <td>33940808</td>\n",
       "      <td>C</td>\n",
       "      <td>NaN</td>\n",
       "      <td>1998</td>\n",
       "      <td>LINDE</td>\n",
       "      <td>2024-03-07</td>\n",
       "      <td>...</td>\n",
       "      <td>NaN</td>\n",
       "      <td>NaT</td>\n",
       "      <td>NaT</td>\n",
       "      <td>NaT</td>\n",
       "      <td>NaN</td>\n",
       "      <td>1</td>\n",
       "      <td>NaN</td>\n",
       "      <td>NaN</td>\n",
       "      <td>NaN</td>\n",
       "      <td>G</td>\n",
       "    </tr>\n",
       "  </tbody>\n",
       "</table>\n",
       "<p>777 rows × 22 columns</p>\n",
       "</div>"
      ],
      "text/plain": [
       "          serial_number  equipment_id client_id group  client_code fleet_type  \\\n",
       "61      E1L71GTE1119242       2981089       NaN   E11     33930535          C   \n",
       "348          HLI1416595       2984170       NaN   E14     33933050          R   \n",
       "393         GRSSALVESEN       2984446       NaN   E11     33929798          C   \n",
       "3233          UFW212792       3013111       NaN   E11     33923308          C   \n",
       "3454    W4X595F15472OLD       3014862       NaN   NaN           55          C   \n",
       "...                 ...           ...       ...   ...          ...        ...   \n",
       "75156               NaN       6045292       NaN   NaN     39354898          C   \n",
       "75301               NaN       6074424       NaN   NaN     32384905          C   \n",
       "75323  BAT.H2X922D11122       6076355       NaN   E12     33937707          C   \n",
       "75429               NaN       6087932       NaN   NaN     33940808          C   \n",
       "75430               NaN       6087934       NaN   NaN     33940808          C   \n",
       "\n",
       "      fixed_asset  construction_year brand_name created_date  ... modified_by  \\\n",
       "61            NaN               2016      LINDE   2017-11-29  ...      HK57F5   \n",
       "348        J01186               2017      LINDE   2017-11-29  ...    CKMAGKNK   \n",
       "393           NaN               2016      LINDE   2017-11-29  ...      HK57F5   \n",
       "3233          NaN               2017      LINDE   2017-11-29  ...      HK57F5   \n",
       "3454          NaN               2015      LINDE   2017-11-30  ...      HK57F5   \n",
       "...           ...                ...        ...          ...  ...         ...   \n",
       "75156         NaN               2006      LINDE   2024-02-07  ...         NaN   \n",
       "75301         NaN               1996      LINDE   2024-02-27  ...         NaN   \n",
       "75323         NaN               2016      LINDE   2024-02-28  ...      KS411A   \n",
       "75429         NaN               1998      LINDE   2024-03-07  ...         NaN   \n",
       "75430         NaN               1998      LINDE   2024-03-07  ...         NaN   \n",
       "\n",
       "      service_start_date last_service_date warranty_start  \\\n",
       "61            2019-05-30        2020-04-06            NaT   \n",
       "348                  NaT        2024-01-12     2017-08-22   \n",
       "393                  NaT        2020-02-05     2016-02-02   \n",
       "3233          2021-06-15        2022-01-28     2021-06-15   \n",
       "3454          2018-10-05               NaT     2015-03-26   \n",
       "...                  ...               ...            ...   \n",
       "75156                NaT               NaT            NaT   \n",
       "75301                NaT               NaT            NaT   \n",
       "75323                NaT               NaT            NaT   \n",
       "75429                NaT               NaT            NaT   \n",
       "75430                NaT               NaT            NaT   \n",
       "\n",
       "         equipment_type_name construction_month country  technician  \\\n",
       "61                       NaN                  1     NaN    LE616666   \n",
       "348       Transpaleta manual                  8     NaN    KXE-6278   \n",
       "393                      NaN                  1     NaN    KXE-6191   \n",
       "3233               Retráctil                  1      SE    KXE-6626   \n",
       "3454   Transpaleta eléctrica                  1      FR         NaN   \n",
       "...                      ...                ...     ...         ...   \n",
       "75156                    NaN                  1     NaN         NaN   \n",
       "75301                    NaN                  1     NaN         NaN   \n",
       "75323                    NaN                  1     NaN    KXE-6646   \n",
       "75429                    NaN                  1     NaN         NaN   \n",
       "75430                    NaN                  1     NaN         NaN   \n",
       "\n",
       "      user_status equipment_type  \n",
       "61      SOTR PINA              C  \n",
       "348          NORE              L  \n",
       "393     AVLB PINA              C  \n",
       "3233    SOLD PINA              L  \n",
       "3454    SOLD PINA              L  \n",
       "...           ...            ...  \n",
       "75156         NaN              G  \n",
       "75301         NaN              G  \n",
       "75323        AVLB              L  \n",
       "75429         NaN              G  \n",
       "75430         NaN              G  \n",
       "\n",
       "[777 rows x 22 columns]"
      ]
     },
     "execution_count": 149,
     "metadata": {},
     "output_type": "execute_result"
    }
   ],
   "source": [
    "#We have 11502 rows with Linde brand elements. Now check character length\n",
    "\n",
    "# Check rows where the length of elements in the column is NOT 12\n",
    "invalid_length = linde_brand[\"serial_number\"].str.len() != 12\n",
    "\n",
    "# Display rows with invalid lengths with a boolean mask\n",
    "rows_with_invalid_length = linde_brand[invalid_length]\n",
    "rows_with_invalid_length"
   ]
  },
  {
   "cell_type": "code",
   "execution_count": 150,
   "metadata": {},
   "outputs": [
    {
     "name": "stdout",
     "output_type": "stream",
     "text": [
      "      serial_number  equipment_id    client_id group  client_code fleet_type  \\\n",
      "0      H2X992W15465       1132732            3   E82     33925845          C   \n",
      "1      H2X995S19125       1207034          NaN   E12     39380933          C   \n",
      "2      W4X979W12995       1290040  1204 PMP EX   E82     33927373          C   \n",
      "3      H2X994R11511       1306179          NaN   NaN     33922280          N   \n",
      "4      G5X997P11599       1655177          NaN   E11     33923892          C   \n",
      "...             ...           ...          ...   ...          ...        ...   \n",
      "75559           NaN       6122641          NaN   NaN     39333323          C   \n",
      "75560           NaN       6122642          NaN   NaN     39333323          C   \n",
      "75561           NaN       6122677          NaN   NaN     39333323          C   \n",
      "75562           NaN       6122678          NaN   NaN     39333323          C   \n",
      "75563           NaN       6122680          NaN   NaN     39333323          C   \n",
      "\n",
      "      fixed_asset  construction_year brand_name created_date  ... modified_by  \\\n",
      "0             NaN               2008      LINDE   2012-06-12  ...      HK57F5   \n",
      "1             NaN               2005        NaN   2012-06-18  ...      HK57F5   \n",
      "2             NaN               2008      LINDE   2012-12-18  ...    CKMAGKNK   \n",
      "3             NaN               2004      LINDE   2012-12-18  ...      HK57F5   \n",
      "4             NaN               2003        NaN   2014-09-23  ...      HK57F5   \n",
      "...           ...                ...        ...          ...  ...         ...   \n",
      "75559         NaN               2024     Others   2024-04-03  ...         NaN   \n",
      "75560         NaN               2024     Others   2024-04-03  ...         NaN   \n",
      "75561         NaN               2024     Others   2024-04-03  ...         NaN   \n",
      "75562         NaN               2024     Others   2024-04-03  ...         NaN   \n",
      "75563         NaN               2024     Others   2024-04-03  ...         NaN   \n",
      "\n",
      "      service_start_date last_service_date warranty_start  \\\n",
      "0                    NaT        2022-11-11     2008-09-15   \n",
      "1                    NaT        2018-07-13     2011-12-14   \n",
      "2             2008-05-29        2023-09-19            NaT   \n",
      "3             2004-04-30        2023-05-24            NaT   \n",
      "4                    NaT        2020-04-01     2003-07-15   \n",
      "...                  ...               ...            ...   \n",
      "75559                NaT               NaT            NaT   \n",
      "75560                NaT               NaT            NaT   \n",
      "75561                NaT               NaT            NaT   \n",
      "75562                NaT               NaT            NaT   \n",
      "75563                NaT               NaT            NaT   \n",
      "\n",
      "          equipment_type_name construction_month country  technician  \\\n",
      "0        Contrapesada térmica                  5      DE    KXE-6188   \n",
      "1      Contrapesada eléctrica                  5      DE    KXE-6639   \n",
      "2                    Apilador                  6     NaN    KXE-6156   \n",
      "3        Contrapesada térmica                  5     NaN         NaN   \n",
      "4      Contrapesada eléctrica                  6      GB    KXE-6263   \n",
      "...                       ...                ...     ...         ...   \n",
      "75559                     NaN                  6     NaN         NaN   \n",
      "75560                     NaN                  6     NaN         NaN   \n",
      "75561                     NaN                  6     NaN         NaN   \n",
      "75562                     NaN                  6     NaN         NaN   \n",
      "75563                     NaN                  6     NaN         NaN   \n",
      "\n",
      "      user_status equipment_type  \n",
      "0            AVLB              L  \n",
      "1       AVLB PINA              L  \n",
      "2            AWIN              L  \n",
      "3            AVLB              L  \n",
      "4       AVLB PINA              L  \n",
      "...           ...            ...  \n",
      "75559         NaN              G  \n",
      "75560         NaN              G  \n",
      "75561         NaN              G  \n",
      "75562         NaN              G  \n",
      "75563         NaN              G  \n",
      "\n",
      "[74787 rows x 22 columns]\n"
     ]
    }
   ],
   "source": [
    "#there are 777 rows of invalid length, so i would drop these\n",
    "\n",
    "invalid_rows = (clean_dataset[\"brand_name\"] == \"LINDE\") & (clean_dataset[\"serial_number\"].str.len() != 12)\n",
    "clean_dataset = clean_dataset[~invalid_rows]\n",
    "\n",
    "print(clean_dataset)"
   ]
  },
  {
   "cell_type": "code",
   "execution_count": 151,
   "metadata": {},
   "outputs": [
    {
     "data": {
      "text/plain": [
       "(74787, 22)"
      ]
     },
     "execution_count": 151,
     "metadata": {},
     "output_type": "execute_result"
    }
   ],
   "source": [
    "#now we have 74787 rows, 777 less than before\n",
    "\n",
    "clean_dataset.shape"
   ]
  },
  {
   "cell_type": "code",
   "execution_count": 152,
   "metadata": {},
   "outputs": [
    {
     "data": {
      "text/plain": [
       "24261"
      ]
     },
     "execution_count": 152,
     "metadata": {},
     "output_type": "execute_result"
    }
   ],
   "source": [
    "#we still have null values. I would drop them unless we can use equipment id as a unique identifier. So let's check first equipment ID unique values and then come back to this to see if we have still too many nulls.\n",
    "\n",
    "clean_dataset.serial_number.isnull().sum()"
   ]
  },
  {
   "cell_type": "code",
   "execution_count": 153,
   "metadata": {},
   "outputs": [],
   "source": [
    "#since serial number is critical, I would drop the rows that have nulls (it's 30% of the rows)\n",
    "\n",
    "clean_dataset = clean_dataset.dropna(subset=[\"serial_number\"])"
   ]
  },
  {
   "cell_type": "code",
   "execution_count": 154,
   "metadata": {},
   "outputs": [
    {
     "data": {
      "text/plain": [
       "(50526, 22)"
      ]
     },
     "execution_count": 154,
     "metadata": {},
     "output_type": "execute_result"
    }
   ],
   "source": [
    "clean_dataset.shape"
   ]
  },
  {
   "cell_type": "markdown",
   "metadata": {},
   "source": [
    "### equipment_id\n",
    "\n",
    "- see if we have unique values\n",
    "- missing values\n",
    "- dtype"
   ]
  },
  {
   "cell_type": "code",
   "execution_count": 155,
   "metadata": {},
   "outputs": [
    {
     "data": {
      "text/plain": [
       "0"
      ]
     },
     "execution_count": 155,
     "metadata": {},
     "output_type": "execute_result"
    }
   ],
   "source": [
    "clean_dataset.equipment_id.isnull().sum()"
   ]
  },
  {
   "cell_type": "code",
   "execution_count": 156,
   "metadata": {},
   "outputs": [
    {
     "data": {
      "text/plain": [
       "<bound method Series.unique of 0        1132732\n",
       "1        1207034\n",
       "2        1290040\n",
       "3        1306179\n",
       "4        1655177\n",
       "          ...   \n",
       "75532    6109690\n",
       "75533    6109768\n",
       "75541    6111696\n",
       "75542    6112185\n",
       "75548    6118220\n",
       "Name: equipment_id, Length: 50526, dtype: int64>"
      ]
     },
     "execution_count": 156,
     "metadata": {},
     "output_type": "execute_result"
    }
   ],
   "source": [
    "clean_dataset.equipment_id.unique"
   ]
  },
  {
   "cell_type": "code",
   "execution_count": 157,
   "metadata": {},
   "outputs": [],
   "source": [
    "#perfect, we have 74787 unique values and 0 nulls so we don't have to drop anything."
   ]
  },
  {
   "cell_type": "markdown",
   "metadata": {},
   "source": [
    "### client_id\n",
    "\n",
    "- see if we have unique values\n",
    "- missing values\n",
    "- dtype\n"
   ]
  },
  {
   "cell_type": "code",
   "execution_count": 158,
   "metadata": {},
   "outputs": [
    {
     "data": {
      "text/plain": [
       "44787"
      ]
     },
     "execution_count": 158,
     "metadata": {},
     "output_type": "execute_result"
    }
   ],
   "source": [
    "clean_dataset.client_id.isnull().sum()"
   ]
  },
  {
   "cell_type": "code",
   "execution_count": 159,
   "metadata": {},
   "outputs": [
    {
     "data": {
      "text/plain": [
       "2                      78\n",
       "3                      77\n",
       "1                      72\n",
       "SUPERSOL BELLAVISTA    68\n",
       "SUPERSOL GETAFE        63\n",
       "                       ..\n",
       "PALENCIA                1\n",
       "SALAMANCA               1\n",
       "24v/225ah               1\n",
       "CON POCISIONADOR        1\n",
       "muelle palas largas     1\n",
       "Name: client_id, Length: 2953, dtype: int64"
      ]
     },
     "execution_count": 159,
     "metadata": {},
     "output_type": "execute_result"
    }
   ],
   "source": [
    "clean_dataset.client_id.value_counts()"
   ]
  },
  {
   "cell_type": "code",
   "execution_count": 160,
   "metadata": {},
   "outputs": [
    {
     "name": "stdout",
     "output_type": "stream",
     "text": [
      "<class 'pandas.core.series.Series'>\n",
      "Int64Index: 50526 entries, 0 to 75548\n",
      "Series name: client_id\n",
      "Non-Null Count  Dtype \n",
      "--------------  ----- \n",
      "5739 non-null   object\n",
      "dtypes: object(1)\n",
      "memory usage: 789.5+ KB\n"
     ]
    }
   ],
   "source": [
    "clean_dataset.client_id.info()"
   ]
  },
  {
   "cell_type": "code",
   "execution_count": 161,
   "metadata": {},
   "outputs": [
    {
     "data": {
      "text/html": [
       "<div>\n",
       "<style scoped>\n",
       "    .dataframe tbody tr th:only-of-type {\n",
       "        vertical-align: middle;\n",
       "    }\n",
       "\n",
       "    .dataframe tbody tr th {\n",
       "        vertical-align: top;\n",
       "    }\n",
       "\n",
       "    .dataframe thead th {\n",
       "        text-align: right;\n",
       "    }\n",
       "</style>\n",
       "<table border=\"1\" class=\"dataframe\">\n",
       "  <thead>\n",
       "    <tr style=\"text-align: right;\">\n",
       "      <th></th>\n",
       "      <th>serial_number</th>\n",
       "      <th>equipment_id</th>\n",
       "      <th>group</th>\n",
       "      <th>client_code</th>\n",
       "      <th>fleet_type</th>\n",
       "      <th>fixed_asset</th>\n",
       "      <th>construction_year</th>\n",
       "      <th>brand_name</th>\n",
       "      <th>created_date</th>\n",
       "      <th>warranty_type</th>\n",
       "      <th>...</th>\n",
       "      <th>modified_by</th>\n",
       "      <th>service_start_date</th>\n",
       "      <th>last_service_date</th>\n",
       "      <th>warranty_start</th>\n",
       "      <th>equipment_type_name</th>\n",
       "      <th>construction_month</th>\n",
       "      <th>country</th>\n",
       "      <th>technician</th>\n",
       "      <th>user_status</th>\n",
       "      <th>equipment_type</th>\n",
       "    </tr>\n",
       "  </thead>\n",
       "  <tbody>\n",
       "    <tr>\n",
       "      <th>0</th>\n",
       "      <td>H2X992W15465</td>\n",
       "      <td>1132732</td>\n",
       "      <td>E82</td>\n",
       "      <td>33925845</td>\n",
       "      <td>C</td>\n",
       "      <td>NaN</td>\n",
       "      <td>2008</td>\n",
       "      <td>LINDE</td>\n",
       "      <td>2012-06-12</td>\n",
       "      <td>NaN</td>\n",
       "      <td>...</td>\n",
       "      <td>HK57F5</td>\n",
       "      <td>NaT</td>\n",
       "      <td>2022-11-11</td>\n",
       "      <td>2008-09-15</td>\n",
       "      <td>Contrapesada térmica</td>\n",
       "      <td>5</td>\n",
       "      <td>DE</td>\n",
       "      <td>KXE-6188</td>\n",
       "      <td>AVLB</td>\n",
       "      <td>L</td>\n",
       "    </tr>\n",
       "    <tr>\n",
       "      <th>1</th>\n",
       "      <td>H2X995S19125</td>\n",
       "      <td>1207034</td>\n",
       "      <td>E12</td>\n",
       "      <td>39380933</td>\n",
       "      <td>C</td>\n",
       "      <td>NaN</td>\n",
       "      <td>2005</td>\n",
       "      <td>NaN</td>\n",
       "      <td>2012-06-18</td>\n",
       "      <td>NaN</td>\n",
       "      <td>...</td>\n",
       "      <td>HK57F5</td>\n",
       "      <td>NaT</td>\n",
       "      <td>2018-07-13</td>\n",
       "      <td>2011-12-14</td>\n",
       "      <td>Contrapesada eléctrica</td>\n",
       "      <td>5</td>\n",
       "      <td>DE</td>\n",
       "      <td>KXE-6639</td>\n",
       "      <td>AVLB PINA</td>\n",
       "      <td>L</td>\n",
       "    </tr>\n",
       "    <tr>\n",
       "      <th>2</th>\n",
       "      <td>W4X979W12995</td>\n",
       "      <td>1290040</td>\n",
       "      <td>E82</td>\n",
       "      <td>33927373</td>\n",
       "      <td>C</td>\n",
       "      <td>NaN</td>\n",
       "      <td>2008</td>\n",
       "      <td>LINDE</td>\n",
       "      <td>2012-12-18</td>\n",
       "      <td>NaN</td>\n",
       "      <td>...</td>\n",
       "      <td>CKMAGKNK</td>\n",
       "      <td>2008-05-29</td>\n",
       "      <td>2023-09-19</td>\n",
       "      <td>NaT</td>\n",
       "      <td>Apilador</td>\n",
       "      <td>6</td>\n",
       "      <td>NaN</td>\n",
       "      <td>KXE-6156</td>\n",
       "      <td>AWIN</td>\n",
       "      <td>L</td>\n",
       "    </tr>\n",
       "    <tr>\n",
       "      <th>3</th>\n",
       "      <td>H2X994R11511</td>\n",
       "      <td>1306179</td>\n",
       "      <td>NaN</td>\n",
       "      <td>33922280</td>\n",
       "      <td>N</td>\n",
       "      <td>NaN</td>\n",
       "      <td>2004</td>\n",
       "      <td>LINDE</td>\n",
       "      <td>2012-12-18</td>\n",
       "      <td>NaN</td>\n",
       "      <td>...</td>\n",
       "      <td>HK57F5</td>\n",
       "      <td>2004-04-30</td>\n",
       "      <td>2023-05-24</td>\n",
       "      <td>NaT</td>\n",
       "      <td>Contrapesada térmica</td>\n",
       "      <td>5</td>\n",
       "      <td>NaN</td>\n",
       "      <td>NaN</td>\n",
       "      <td>AVLB</td>\n",
       "      <td>L</td>\n",
       "    </tr>\n",
       "    <tr>\n",
       "      <th>4</th>\n",
       "      <td>G5X997P11599</td>\n",
       "      <td>1655177</td>\n",
       "      <td>E11</td>\n",
       "      <td>33923892</td>\n",
       "      <td>C</td>\n",
       "      <td>NaN</td>\n",
       "      <td>2003</td>\n",
       "      <td>NaN</td>\n",
       "      <td>2014-09-23</td>\n",
       "      <td>12 Mon./2000 h</td>\n",
       "      <td>...</td>\n",
       "      <td>HK57F5</td>\n",
       "      <td>NaT</td>\n",
       "      <td>2020-04-01</td>\n",
       "      <td>2003-07-15</td>\n",
       "      <td>Contrapesada eléctrica</td>\n",
       "      <td>6</td>\n",
       "      <td>GB</td>\n",
       "      <td>KXE-6263</td>\n",
       "      <td>AVLB PINA</td>\n",
       "      <td>L</td>\n",
       "    </tr>\n",
       "  </tbody>\n",
       "</table>\n",
       "<p>5 rows × 21 columns</p>\n",
       "</div>"
      ],
      "text/plain": [
       "  serial_number  equipment_id group  client_code fleet_type fixed_asset  \\\n",
       "0  H2X992W15465       1132732   E82     33925845          C         NaN   \n",
       "1  H2X995S19125       1207034   E12     39380933          C         NaN   \n",
       "2  W4X979W12995       1290040   E82     33927373          C         NaN   \n",
       "3  H2X994R11511       1306179   NaN     33922280          N         NaN   \n",
       "4  G5X997P11599       1655177   E11     33923892          C         NaN   \n",
       "\n",
       "   construction_year brand_name created_date   warranty_type  ... modified_by  \\\n",
       "0               2008      LINDE   2012-06-12             NaN  ...      HK57F5   \n",
       "1               2005        NaN   2012-06-18             NaN  ...      HK57F5   \n",
       "2               2008      LINDE   2012-12-18             NaN  ...    CKMAGKNK   \n",
       "3               2004      LINDE   2012-12-18             NaN  ...      HK57F5   \n",
       "4               2003        NaN   2014-09-23  12 Mon./2000 h  ...      HK57F5   \n",
       "\n",
       "  service_start_date last_service_date warranty_start     equipment_type_name  \\\n",
       "0                NaT        2022-11-11     2008-09-15    Contrapesada térmica   \n",
       "1                NaT        2018-07-13     2011-12-14  Contrapesada eléctrica   \n",
       "2         2008-05-29        2023-09-19            NaT                Apilador   \n",
       "3         2004-04-30        2023-05-24            NaT    Contrapesada térmica   \n",
       "4                NaT        2020-04-01     2003-07-15  Contrapesada eléctrica   \n",
       "\n",
       "  construction_month  country technician user_status equipment_type  \n",
       "0                  5       DE   KXE-6188        AVLB              L  \n",
       "1                  5       DE   KXE-6639   AVLB PINA              L  \n",
       "2                  6      NaN   KXE-6156        AWIN              L  \n",
       "3                  5      NaN        NaN        AVLB              L  \n",
       "4                  6       GB   KXE-6263   AVLB PINA              L  \n",
       "\n",
       "[5 rows x 21 columns]"
      ]
     },
     "execution_count": 161,
     "metadata": {},
     "output_type": "execute_result"
    }
   ],
   "source": [
    "#we could drop this column because it has 93% null values and it's not reliable as an id, as it's how the client identifies it so we might not need this for future systems.\n",
    "\n",
    "clean_dataset = clean_dataset.drop(columns=[\"client_id\"])\n",
    "clean_dataset.head()"
   ]
  },
  {
   "cell_type": "markdown",
   "metadata": {},
   "source": [
    "### group\n",
    "\n",
    "Also could be dropped, I don't see how this would be relevant in the future"
   ]
  },
  {
   "cell_type": "code",
   "execution_count": 162,
   "metadata": {},
   "outputs": [
    {
     "data": {
      "text/plain": [
       "37178"
      ]
     },
     "execution_count": 162,
     "metadata": {},
     "output_type": "execute_result"
    }
   ],
   "source": [
    "clean_dataset.group.isnull().sum()"
   ]
  },
  {
   "cell_type": "code",
   "execution_count": 163,
   "metadata": {},
   "outputs": [
    {
     "data": {
      "text/plain": [
       "E11    5446\n",
       "E12    2648\n",
       "E81    2271\n",
       "E14    1740\n",
       "E13     646\n",
       "E82     596\n",
       "E83       1\n",
       "Name: group, dtype: int64"
      ]
     },
     "execution_count": 163,
     "metadata": {},
     "output_type": "execute_result"
    }
   ],
   "source": [
    "clean_dataset.group.value_counts()"
   ]
  },
  {
   "cell_type": "code",
   "execution_count": 164,
   "metadata": {},
   "outputs": [
    {
     "data": {
      "text/plain": [
       "array(['E82', 'E12', nan, 'E11', 'E13', 'E14', 'E81', 'E83'], dtype=object)"
      ]
     },
     "execution_count": 164,
     "metadata": {},
     "output_type": "execute_result"
    }
   ],
   "source": [
    "clean_dataset.group.unique()\n"
   ]
  },
  {
   "cell_type": "code",
   "execution_count": 165,
   "metadata": {},
   "outputs": [
    {
     "data": {
      "text/plain": [
       "0"
      ]
     },
     "execution_count": 165,
     "metadata": {},
     "output_type": "execute_result"
    }
   ],
   "source": [
    "#for now maybe let's fillna with \"unknown\"\n",
    "\n",
    "clean_dataset.group = clean_dataset.group.fillna(\"unknown\")\n",
    "clean_dataset.group.isnull().sum()"
   ]
  },
  {
   "cell_type": "code",
   "execution_count": 166,
   "metadata": {},
   "outputs": [
    {
     "data": {
      "text/plain": [
       "unknown    37178\n",
       "E11         5446\n",
       "E12         2648\n",
       "E81         2271\n",
       "E14         1740\n",
       "E13          646\n",
       "E82          596\n",
       "E83            1\n",
       "Name: group, dtype: int64"
      ]
     },
     "execution_count": 166,
     "metadata": {},
     "output_type": "execute_result"
    }
   ],
   "source": [
    "clean_dataset.group.value_counts()"
   ]
  },
  {
   "cell_type": "markdown",
   "metadata": {},
   "source": [
    "### client_code\n",
    "\n",
    "\"enviar a parte\" \n",
    "\n",
    "This is a relevant column"
   ]
  },
  {
   "cell_type": "code",
   "execution_count": 167,
   "metadata": {},
   "outputs": [
    {
     "data": {
      "text/plain": [
       "0"
      ]
     },
     "execution_count": 167,
     "metadata": {},
     "output_type": "execute_result"
    }
   ],
   "source": [
    "clean_dataset.client_code.isnull().sum()"
   ]
  },
  {
   "cell_type": "code",
   "execution_count": 168,
   "metadata": {},
   "outputs": [
    {
     "data": {
      "text/plain": [
       "<bound method Series.unique of 0        33925845\n",
       "1        39380933\n",
       "2        33927373\n",
       "3        33922280\n",
       "4        33923892\n",
       "           ...   \n",
       "75532    33934592\n",
       "75533    33934592\n",
       "75541    33920279\n",
       "75542    33923302\n",
       "75548    33934507\n",
       "Name: client_code, Length: 50526, dtype: int64>"
      ]
     },
     "execution_count": 168,
     "metadata": {},
     "output_type": "execute_result"
    }
   ],
   "source": [
    "clean_dataset.client_code.unique"
   ]
  },
  {
   "cell_type": "code",
   "execution_count": 169,
   "metadata": {},
   "outputs": [
    {
     "data": {
      "text/plain": [
       "(50526, 21)"
      ]
     },
     "execution_count": 169,
     "metadata": {},
     "output_type": "execute_result"
    }
   ],
   "source": [
    "clean_dataset.shape"
   ]
  },
  {
   "cell_type": "code",
   "execution_count": 170,
   "metadata": {},
   "outputs": [],
   "source": [
    "#all the client codes are unique, so this is good.\n"
   ]
  },
  {
   "cell_type": "code",
   "execution_count": 171,
   "metadata": {},
   "outputs": [
    {
     "name": "stdout",
     "output_type": "stream",
     "text": [
      "<class 'pandas.core.series.Series'>\n",
      "Int64Index: 50526 entries, 0 to 75548\n",
      "Series name: client_code\n",
      "Non-Null Count  Dtype\n",
      "--------------  -----\n",
      "50526 non-null  int64\n",
      "dtypes: int64(1)\n",
      "memory usage: 789.5 KB\n"
     ]
    }
   ],
   "source": [
    "clean_dataset.client_code.info()"
   ]
  },
  {
   "cell_type": "markdown",
   "metadata": {},
   "source": [
    "### fleet_type\n",
    "\n",
    "\n",
    "\n"
   ]
  },
  {
   "cell_type": "code",
   "execution_count": 172,
   "metadata": {},
   "outputs": [
    {
     "data": {
      "text/plain": [
       "6"
      ]
     },
     "execution_count": 172,
     "metadata": {},
     "output_type": "execute_result"
    }
   ],
   "source": [
    "clean_dataset.fleet_type.isnull().sum()"
   ]
  },
  {
   "cell_type": "code",
   "execution_count": 173,
   "metadata": {},
   "outputs": [
    {
     "data": {
      "text/plain": [
       "array(['C', 'N', 'U', 'R', 'D', nan], dtype=object)"
      ]
     },
     "execution_count": 173,
     "metadata": {},
     "output_type": "execute_result"
    }
   ],
   "source": [
    "clean_dataset.fleet_type.unique()"
   ]
  },
  {
   "cell_type": "code",
   "execution_count": 174,
   "metadata": {},
   "outputs": [],
   "source": [
    "#since there are only 6 nulls and it's a relevant field, i will drop them\n",
    "\n",
    "clean_dataset = clean_dataset.dropna(subset=[\"fleet_type\"])"
   ]
  },
  {
   "cell_type": "code",
   "execution_count": 175,
   "metadata": {},
   "outputs": [
    {
     "data": {
      "text/plain": [
       "0"
      ]
     },
     "execution_count": 175,
     "metadata": {},
     "output_type": "execute_result"
    }
   ],
   "source": [
    "clean_dataset.fleet_type.isnull().sum()"
   ]
  },
  {
   "cell_type": "code",
   "execution_count": 176,
   "metadata": {},
   "outputs": [
    {
     "data": {
      "text/plain": [
       "(50520, 21)"
      ]
     },
     "execution_count": 176,
     "metadata": {},
     "output_type": "execute_result"
    }
   ],
   "source": [
    "clean_dataset.shape"
   ]
  },
  {
   "cell_type": "markdown",
   "metadata": {},
   "source": [
    "### Activo fijo\n",
    "\n",
    "Activo Fijo. Cuanto la maquina pertenece a flotas de la compañía tiene asociado un numero de activo.\n",
    "\n",
    "Convert to boolean, 0/1"
   ]
  },
  {
   "cell_type": "code",
   "execution_count": 177,
   "metadata": {},
   "outputs": [
    {
     "data": {
      "text/plain": [
       "48723"
      ]
     },
     "execution_count": 177,
     "metadata": {},
     "output_type": "execute_result"
    }
   ],
   "source": [
    "clean_dataset.fixed_asset.isnull().sum()"
   ]
  },
  {
   "cell_type": "code",
   "execution_count": 178,
   "metadata": {},
   "outputs": [
    {
     "data": {
      "text/plain": [
       "array([nan, 'J06271', 'J05127', ..., 'J096J3', 'J096J2', 'J096JJ'],\n",
       "      dtype=object)"
      ]
     },
     "execution_count": 178,
     "metadata": {},
     "output_type": "execute_result"
    }
   ],
   "source": [
    "clean_dataset.fixed_asset.unique()"
   ]
  },
  {
   "cell_type": "code",
   "execution_count": 179,
   "metadata": {},
   "outputs": [
    {
     "data": {
      "text/plain": [
       "J05127    2\n",
       "J01211    2\n",
       "J072J6    1\n",
       "J07JJ9    1\n",
       "J07378    1\n",
       "         ..\n",
       "J08856    1\n",
       "J0391J    1\n",
       "J08953    1\n",
       "J0J921    1\n",
       "J096JJ    1\n",
       "Name: fixed_asset, Length: 1795, dtype: int64"
      ]
     },
     "execution_count": 179,
     "metadata": {},
     "output_type": "execute_result"
    }
   ],
   "source": [
    "clean_dataset.fixed_asset.value_counts()"
   ]
  },
  {
   "cell_type": "code",
   "execution_count": 180,
   "metadata": {},
   "outputs": [],
   "source": [
    "#not sure if i would drop it, because it's internal classification so not sure about the future use with other systems. and there are only 1795 assets.\n",
    "\n",
    "#for now let's fillna with not applicable in case it's not a fixed asset\n",
    "\n",
    "clean_dataset.fixed_asset = clean_dataset.fixed_asset.fillna(\"N/A\")"
   ]
  },
  {
   "cell_type": "code",
   "execution_count": 181,
   "metadata": {},
   "outputs": [
    {
     "data": {
      "text/plain": [
       "0"
      ]
     },
     "execution_count": 181,
     "metadata": {},
     "output_type": "execute_result"
    }
   ],
   "source": [
    "clean_dataset.fixed_asset.isnull().sum()"
   ]
  },
  {
   "cell_type": "markdown",
   "metadata": {},
   "source": [
    "### Año de construcción\n",
    "\n",
    "Año de fabricación del equipo.  \n",
    "\n",
    "Converted to int, we will group later"
   ]
  },
  {
   "cell_type": "code",
   "execution_count": 182,
   "metadata": {},
   "outputs": [
    {
     "data": {
      "text/plain": [
       "0"
      ]
     },
     "execution_count": 182,
     "metadata": {},
     "output_type": "execute_result"
    }
   ],
   "source": [
    "clean_dataset.construction_year.isnull().sum()"
   ]
  },
  {
   "cell_type": "code",
   "execution_count": 183,
   "metadata": {},
   "outputs": [
    {
     "data": {
      "text/plain": [
       "array([2008, 2005, 2004, 2003, 2015, 2012, 2016, 2017, 2013, 2014, 2000,\n",
       "       2001, 2007, 1999, 2002, 2006, 2010, 2011, 2009, 2019, 1998, 1993,\n",
       "       1995, 1997, 1991, 1989, 1990, 1992, 1994, 1984, 1986, 1987, 1988,\n",
       "       1900, 1996, 1985, 2018, 2023, 2020, 2022, 2021, 2024,  199])"
      ]
     },
     "execution_count": 183,
     "metadata": {},
     "output_type": "execute_result"
    }
   ],
   "source": [
    "clean_dataset.construction_year.unique()"
   ]
  },
  {
   "cell_type": "code",
   "execution_count": 184,
   "metadata": {},
   "outputs": [
    {
     "data": {
      "text/plain": [
       "199    1\n",
       "Name: construction_year, dtype: int64"
      ]
     },
     "execution_count": 184,
     "metadata": {},
     "output_type": "execute_result"
    }
   ],
   "source": [
    "# we see some wrong years, let's delete them\n",
    "\n",
    "wrong_year = clean_dataset[(clean_dataset.construction_year == 0) | (clean_dataset.construction_year == 199)]\n",
    "wrong_year.construction_year.value_counts()"
   ]
  },
  {
   "cell_type": "code",
   "execution_count": 185,
   "metadata": {},
   "outputs": [
    {
     "data": {
      "text/plain": [
       "array([2008, 2005, 2004, 2003, 2015, 2012, 2016, 2017, 2013, 2014, 2000,\n",
       "       2001, 2007, 1999, 2002, 2006, 2010, 2011, 2009, 2019, 1998, 1993,\n",
       "       1995, 1997, 1991, 1989, 1990, 1992, 1994, 1984, 1986, 1987, 1988,\n",
       "       1900, 1996, 1985, 2018, 2023, 2020, 2022, 2021, 2024])"
      ]
     },
     "execution_count": 185,
     "metadata": {},
     "output_type": "execute_result"
    }
   ],
   "source": [
    "clean_dataset = clean_dataset[~((clean_dataset.construction_year == 0) | (clean_dataset.construction_year == 199))]\n",
    "clean_dataset.construction_year.unique()"
   ]
  },
  {
   "cell_type": "code",
   "execution_count": 186,
   "metadata": {},
   "outputs": [
    {
     "data": {
      "text/plain": [
       "(50519, 21)"
      ]
     },
     "execution_count": 186,
     "metadata": {},
     "output_type": "execute_result"
    }
   ],
   "source": [
    "clean_dataset.shape"
   ]
  },
  {
   "cell_type": "code",
   "execution_count": 187,
   "metadata": {},
   "outputs": [
    {
     "data": {
      "text/plain": [
       "0"
      ]
     },
     "execution_count": 187,
     "metadata": {},
     "output_type": "execute_result"
    }
   ],
   "source": [
    "clean_dataset.construction_year.isnull().sum()"
   ]
  },
  {
   "cell_type": "markdown",
   "metadata": {},
   "source": [
    "### Brand name"
   ]
  },
  {
   "cell_type": "code",
   "execution_count": 188,
   "metadata": {},
   "outputs": [
    {
     "data": {
      "text/plain": [
       "5123"
      ]
     },
     "execution_count": 188,
     "metadata": {},
     "output_type": "execute_result"
    }
   ],
   "source": [
    "clean_dataset.brand_name.isnull().sum()"
   ]
  },
  {
   "cell_type": "code",
   "execution_count": 189,
   "metadata": {},
   "outputs": [
    {
     "data": {
      "text/plain": [
       "array(['LINDE', nan, 'Others', 'KÄRCHER', 'Still / OM Pimespo', 'FENWICK',\n",
       "       'BT !!OUT OF DATE!!', 'Not defined', 'Toyota / BT', 'VOLVO',\n",
       "       'NISSAN', 'JUNGHEINRICH', 'CLARK', 'DAEWOO', 'YALE', 'CATERPILLAR',\n",
       "       'MITSUBISHI', 'HYSTER', 'CROWN', 'KOMATSU', 'CESAB', 'KALMAR',\n",
       "       'ATLET', 'STEINBOCK', 'MANITOU', 'LUGLI', 'TCM', 'BOLZONI-AURAMO',\n",
       "       'CASCADE', 'HYUNDAI', 'TOYOTA !!OUT OF DATE!!', 'FRANKEL',\n",
       "       'SCANIA'], dtype=object)"
      ]
     },
     "execution_count": 189,
     "metadata": {},
     "output_type": "execute_result"
    }
   ],
   "source": [
    "#ok we have some null values, let's see what the others are\n",
    "\n",
    "clean_dataset.brand_name.unique()"
   ]
  },
  {
   "cell_type": "code",
   "execution_count": 190,
   "metadata": {},
   "outputs": [
    {
     "data": {
      "text/plain": [
       "LINDE                     10725\n",
       "Toyota / BT               10174\n",
       "JUNGHEINRICH               5694\n",
       "Still / OM Pimespo         5193\n",
       "Others                     4385\n",
       "HYSTER                     2407\n",
       "NISSAN                     2333\n",
       "CATERPILLAR                1063\n",
       "MITSUBISHI                  940\n",
       "YALE                        726\n",
       "CROWN                       526\n",
       "KOMATSU                     365\n",
       "CLARK                       294\n",
       "CESAB                       240\n",
       "DAEWOO                      117\n",
       "ATLET                       116\n",
       "KALMAR                       36\n",
       "TOYOTA !!OUT OF DATE!!       11\n",
       "LUGLI                        11\n",
       "STEINBOCK                    10\n",
       "BT !!OUT OF DATE!!            8\n",
       "Not defined                   4\n",
       "MANITOU                       3\n",
       "CASCADE                       3\n",
       "KÄRCHER                       2\n",
       "FENWICK                       2\n",
       "TCM                           2\n",
       "HYUNDAI                       2\n",
       "BOLZONI-AURAMO                1\n",
       "VOLVO                         1\n",
       "FRANKEL                       1\n",
       "SCANIA                        1\n",
       "Name: brand_name, dtype: int64"
      ]
     },
     "execution_count": 190,
     "metadata": {},
     "output_type": "execute_result"
    }
   ],
   "source": [
    "clean_dataset.brand_name.value_counts()"
   ]
  },
  {
   "cell_type": "code",
   "execution_count": 191,
   "metadata": {},
   "outputs": [
    {
     "data": {
      "text/plain": [
       "0"
      ]
     },
     "execution_count": 191,
     "metadata": {},
     "output_type": "execute_result"
    }
   ],
   "source": [
    "#i see that there is a not defined brand, so let's check if we can fillna with this value\n",
    "clean_dataset.brand_name = clean_dataset.brand_name.fillna(\"Not defined\")\n",
    "clean_dataset.brand_name.isnull().sum()"
   ]
  },
  {
   "cell_type": "code",
   "execution_count": 192,
   "metadata": {},
   "outputs": [
    {
     "data": {
      "text/plain": [
       "LINDE                     10725\n",
       "Toyota / BT               10174\n",
       "JUNGHEINRICH               5694\n",
       "Still / OM Pimespo         5193\n",
       "Not defined                5127\n",
       "Others                     4385\n",
       "HYSTER                     2407\n",
       "NISSAN                     2333\n",
       "CATERPILLAR                1063\n",
       "MITSUBISHI                  940\n",
       "YALE                        726\n",
       "CROWN                       526\n",
       "KOMATSU                     365\n",
       "CLARK                       294\n",
       "CESAB                       240\n",
       "DAEWOO                      117\n",
       "ATLET                       116\n",
       "KALMAR                       36\n",
       "TOYOTA !!OUT OF DATE!!       11\n",
       "LUGLI                        11\n",
       "STEINBOCK                    10\n",
       "BT !!OUT OF DATE!!            8\n",
       "MANITOU                       3\n",
       "CASCADE                       3\n",
       "KÄRCHER                       2\n",
       "TCM                           2\n",
       "HYUNDAI                       2\n",
       "FENWICK                       2\n",
       "VOLVO                         1\n",
       "BOLZONI-AURAMO                1\n",
       "FRANKEL                       1\n",
       "SCANIA                        1\n",
       "Name: brand_name, dtype: int64"
      ]
     },
     "execution_count": 192,
     "metadata": {},
     "output_type": "execute_result"
    }
   ],
   "source": [
    "clean_dataset.brand_name.value_counts()"
   ]
  },
  {
   "cell_type": "markdown",
   "metadata": {},
   "source": [
    "### created_date"
   ]
  },
  {
   "cell_type": "code",
   "execution_count": 193,
   "metadata": {},
   "outputs": [
    {
     "data": {
      "text/plain": [
       "0"
      ]
     },
     "execution_count": 193,
     "metadata": {},
     "output_type": "execute_result"
    }
   ],
   "source": [
    "clean_dataset.created_date.isnull().sum()"
   ]
  },
  {
   "cell_type": "code",
   "execution_count": 194,
   "metadata": {},
   "outputs": [
    {
     "data": {
      "text/plain": [
       "<bound method Series.unique of 0       2012-06-12\n",
       "1       2012-06-18\n",
       "2       2012-12-18\n",
       "3       2012-12-18\n",
       "4       2014-09-23\n",
       "           ...    \n",
       "75532   2024-03-22\n",
       "75533   2024-03-22\n",
       "75541   2024-03-25\n",
       "75542   2024-03-25\n",
       "75548   2024-03-29\n",
       "Name: created_date, Length: 50519, dtype: datetime64[ns]>"
      ]
     },
     "execution_count": 194,
     "metadata": {},
     "output_type": "execute_result"
    }
   ],
   "source": [
    "clean_dataset.created_date.unique"
   ]
  },
  {
   "cell_type": "code",
   "execution_count": 195,
   "metadata": {},
   "outputs": [
    {
     "data": {
      "text/plain": [
       "(50519, 21)"
      ]
     },
     "execution_count": 195,
     "metadata": {},
     "output_type": "execute_result"
    }
   ],
   "source": [
    "clean_dataset.shape"
   ]
  },
  {
   "cell_type": "markdown",
   "metadata": {},
   "source": [
    "### warranty_type\n",
    "\n",
    "Tipo de garantía del cliente\n",
    "\n",
    "Pensar quina utilitat podria tenir al sistema futur"
   ]
  },
  {
   "cell_type": "code",
   "execution_count": 196,
   "metadata": {},
   "outputs": [
    {
     "data": {
      "text/plain": [
       "38573"
      ]
     },
     "execution_count": 196,
     "metadata": {},
     "output_type": "execute_result"
    }
   ],
   "source": [
    "clean_dataset.warranty_type.isnull().sum()"
   ]
  },
  {
   "cell_type": "code",
   "execution_count": 197,
   "metadata": {},
   "outputs": [
    {
     "data": {
      "text/plain": [
       "12 Mon./2000 h     11703\n",
       "12mon/900hrs          84\n",
       "6 mon/500h            61\n",
       "12mon/650hrs          51\n",
       "3 Mon./300 h          29\n",
       "24 Mon./3000 h        11\n",
       "12mon/1000hrs          6\n",
       "6 mon. /900 hrs        1\n",
       "Name: warranty_type, dtype: int64"
      ]
     },
     "execution_count": 197,
     "metadata": {},
     "output_type": "execute_result"
    }
   ],
   "source": [
    "clean_dataset.warranty_type.value_counts()"
   ]
  },
  {
   "cell_type": "code",
   "execution_count": 198,
   "metadata": {},
   "outputs": [
    {
     "name": "stdout",
     "output_type": "stream",
     "text": [
      "<class 'pandas.core.series.Series'>\n",
      "Int64Index: 50519 entries, 0 to 75548\n",
      "Series name: warranty_type\n",
      "Non-Null Count  Dtype \n",
      "--------------  ----- \n",
      "11946 non-null  object\n",
      "dtypes: object(1)\n",
      "memory usage: 789.4+ KB\n"
     ]
    }
   ],
   "source": [
    "clean_dataset.warranty_type.info()"
   ]
  },
  {
   "cell_type": "code",
   "execution_count": 199,
   "metadata": {},
   "outputs": [],
   "source": [
    "#not sure how useful this is, for now fillna\n",
    "\n",
    "clean_dataset.warranty_type = clean_dataset.warranty_type.fillna(\"N/A\")"
   ]
  },
  {
   "cell_type": "code",
   "execution_count": 200,
   "metadata": {},
   "outputs": [
    {
     "data": {
      "text/plain": [
       "0"
      ]
     },
     "execution_count": 200,
     "metadata": {},
     "output_type": "execute_result"
    }
   ],
   "source": [
    "clean_dataset.warranty_type.isnull().sum()"
   ]
  },
  {
   "cell_type": "markdown",
   "metadata": {},
   "source": [
    "### last_modified\n",
    "\n",
    "since we have assumed that we only migrate business related data, I think this is one of the columns that will become redundant in the future system, so I would drop it. "
   ]
  },
  {
   "cell_type": "code",
   "execution_count": 201,
   "metadata": {},
   "outputs": [
    {
     "data": {
      "text/html": [
       "<div>\n",
       "<style scoped>\n",
       "    .dataframe tbody tr th:only-of-type {\n",
       "        vertical-align: middle;\n",
       "    }\n",
       "\n",
       "    .dataframe tbody tr th {\n",
       "        vertical-align: top;\n",
       "    }\n",
       "\n",
       "    .dataframe thead th {\n",
       "        text-align: right;\n",
       "    }\n",
       "</style>\n",
       "<table border=\"1\" class=\"dataframe\">\n",
       "  <thead>\n",
       "    <tr style=\"text-align: right;\">\n",
       "      <th></th>\n",
       "      <th>serial_number</th>\n",
       "      <th>equipment_id</th>\n",
       "      <th>group</th>\n",
       "      <th>client_code</th>\n",
       "      <th>fleet_type</th>\n",
       "      <th>fixed_asset</th>\n",
       "      <th>construction_year</th>\n",
       "      <th>brand_name</th>\n",
       "      <th>created_date</th>\n",
       "      <th>warranty_type</th>\n",
       "      <th>modified_by</th>\n",
       "      <th>service_start_date</th>\n",
       "      <th>last_service_date</th>\n",
       "      <th>warranty_start</th>\n",
       "      <th>equipment_type_name</th>\n",
       "      <th>construction_month</th>\n",
       "      <th>country</th>\n",
       "      <th>technician</th>\n",
       "      <th>user_status</th>\n",
       "      <th>equipment_type</th>\n",
       "    </tr>\n",
       "  </thead>\n",
       "  <tbody>\n",
       "    <tr>\n",
       "      <th>0</th>\n",
       "      <td>H2X992W15465</td>\n",
       "      <td>1132732</td>\n",
       "      <td>E82</td>\n",
       "      <td>33925845</td>\n",
       "      <td>C</td>\n",
       "      <td>N/A</td>\n",
       "      <td>2008</td>\n",
       "      <td>LINDE</td>\n",
       "      <td>2012-06-12</td>\n",
       "      <td>N/A</td>\n",
       "      <td>HK57F5</td>\n",
       "      <td>NaT</td>\n",
       "      <td>2022-11-11</td>\n",
       "      <td>2008-09-15</td>\n",
       "      <td>Contrapesada térmica</td>\n",
       "      <td>5</td>\n",
       "      <td>DE</td>\n",
       "      <td>KXE-6188</td>\n",
       "      <td>AVLB</td>\n",
       "      <td>L</td>\n",
       "    </tr>\n",
       "    <tr>\n",
       "      <th>1</th>\n",
       "      <td>H2X995S19125</td>\n",
       "      <td>1207034</td>\n",
       "      <td>E12</td>\n",
       "      <td>39380933</td>\n",
       "      <td>C</td>\n",
       "      <td>N/A</td>\n",
       "      <td>2005</td>\n",
       "      <td>Not defined</td>\n",
       "      <td>2012-06-18</td>\n",
       "      <td>N/A</td>\n",
       "      <td>HK57F5</td>\n",
       "      <td>NaT</td>\n",
       "      <td>2018-07-13</td>\n",
       "      <td>2011-12-14</td>\n",
       "      <td>Contrapesada eléctrica</td>\n",
       "      <td>5</td>\n",
       "      <td>DE</td>\n",
       "      <td>KXE-6639</td>\n",
       "      <td>AVLB PINA</td>\n",
       "      <td>L</td>\n",
       "    </tr>\n",
       "    <tr>\n",
       "      <th>2</th>\n",
       "      <td>W4X979W12995</td>\n",
       "      <td>1290040</td>\n",
       "      <td>E82</td>\n",
       "      <td>33927373</td>\n",
       "      <td>C</td>\n",
       "      <td>N/A</td>\n",
       "      <td>2008</td>\n",
       "      <td>LINDE</td>\n",
       "      <td>2012-12-18</td>\n",
       "      <td>N/A</td>\n",
       "      <td>CKMAGKNK</td>\n",
       "      <td>2008-05-29</td>\n",
       "      <td>2023-09-19</td>\n",
       "      <td>NaT</td>\n",
       "      <td>Apilador</td>\n",
       "      <td>6</td>\n",
       "      <td>NaN</td>\n",
       "      <td>KXE-6156</td>\n",
       "      <td>AWIN</td>\n",
       "      <td>L</td>\n",
       "    </tr>\n",
       "    <tr>\n",
       "      <th>3</th>\n",
       "      <td>H2X994R11511</td>\n",
       "      <td>1306179</td>\n",
       "      <td>unknown</td>\n",
       "      <td>33922280</td>\n",
       "      <td>N</td>\n",
       "      <td>N/A</td>\n",
       "      <td>2004</td>\n",
       "      <td>LINDE</td>\n",
       "      <td>2012-12-18</td>\n",
       "      <td>N/A</td>\n",
       "      <td>HK57F5</td>\n",
       "      <td>2004-04-30</td>\n",
       "      <td>2023-05-24</td>\n",
       "      <td>NaT</td>\n",
       "      <td>Contrapesada térmica</td>\n",
       "      <td>5</td>\n",
       "      <td>NaN</td>\n",
       "      <td>NaN</td>\n",
       "      <td>AVLB</td>\n",
       "      <td>L</td>\n",
       "    </tr>\n",
       "    <tr>\n",
       "      <th>4</th>\n",
       "      <td>G5X997P11599</td>\n",
       "      <td>1655177</td>\n",
       "      <td>E11</td>\n",
       "      <td>33923892</td>\n",
       "      <td>C</td>\n",
       "      <td>N/A</td>\n",
       "      <td>2003</td>\n",
       "      <td>Not defined</td>\n",
       "      <td>2014-09-23</td>\n",
       "      <td>12 Mon./2000 h</td>\n",
       "      <td>HK57F5</td>\n",
       "      <td>NaT</td>\n",
       "      <td>2020-04-01</td>\n",
       "      <td>2003-07-15</td>\n",
       "      <td>Contrapesada eléctrica</td>\n",
       "      <td>6</td>\n",
       "      <td>GB</td>\n",
       "      <td>KXE-6263</td>\n",
       "      <td>AVLB PINA</td>\n",
       "      <td>L</td>\n",
       "    </tr>\n",
       "  </tbody>\n",
       "</table>\n",
       "</div>"
      ],
      "text/plain": [
       "  serial_number  equipment_id    group  client_code fleet_type fixed_asset  \\\n",
       "0  H2X992W15465       1132732      E82     33925845          C         N/A   \n",
       "1  H2X995S19125       1207034      E12     39380933          C         N/A   \n",
       "2  W4X979W12995       1290040      E82     33927373          C         N/A   \n",
       "3  H2X994R11511       1306179  unknown     33922280          N         N/A   \n",
       "4  G5X997P11599       1655177      E11     33923892          C         N/A   \n",
       "\n",
       "   construction_year   brand_name created_date   warranty_type modified_by  \\\n",
       "0               2008        LINDE   2012-06-12             N/A      HK57F5   \n",
       "1               2005  Not defined   2012-06-18             N/A      HK57F5   \n",
       "2               2008        LINDE   2012-12-18             N/A    CKMAGKNK   \n",
       "3               2004        LINDE   2012-12-18             N/A      HK57F5   \n",
       "4               2003  Not defined   2014-09-23  12 Mon./2000 h      HK57F5   \n",
       "\n",
       "  service_start_date last_service_date warranty_start     equipment_type_name  \\\n",
       "0                NaT        2022-11-11     2008-09-15    Contrapesada térmica   \n",
       "1                NaT        2018-07-13     2011-12-14  Contrapesada eléctrica   \n",
       "2         2008-05-29        2023-09-19            NaT                Apilador   \n",
       "3         2004-04-30        2023-05-24            NaT    Contrapesada térmica   \n",
       "4                NaT        2020-04-01     2003-07-15  Contrapesada eléctrica   \n",
       "\n",
       "   construction_month country technician user_status equipment_type  \n",
       "0                   5      DE   KXE-6188        AVLB              L  \n",
       "1                   5      DE   KXE-6639   AVLB PINA              L  \n",
       "2                   6     NaN   KXE-6156        AWIN              L  \n",
       "3                   5     NaN        NaN        AVLB              L  \n",
       "4                   6      GB   KXE-6263   AVLB PINA              L  "
      ]
     },
     "execution_count": 201,
     "metadata": {},
     "output_type": "execute_result"
    }
   ],
   "source": [
    "#drop the last modified column\n",
    "\n",
    "clean_dataset.drop(columns=[\"last_modified\"], inplace=True)\n",
    "clean_dataset.head()"
   ]
  },
  {
   "cell_type": "code",
   "execution_count": 202,
   "metadata": {},
   "outputs": [
    {
     "data": {
      "text/plain": [
       "Index(['serial_number', 'equipment_id', 'group', 'client_code', 'fleet_type',\n",
       "       'fixed_asset', 'construction_year', 'brand_name', 'created_date',\n",
       "       'warranty_type', 'modified_by', 'service_start_date',\n",
       "       'last_service_date', 'warranty_start', 'equipment_type_name',\n",
       "       'construction_month', 'country', 'technician', 'user_status',\n",
       "       'equipment_type'],\n",
       "      dtype='object')"
      ]
     },
     "execution_count": 202,
     "metadata": {},
     "output_type": "execute_result"
    }
   ],
   "source": [
    "clean_dataset.columns"
   ]
  },
  {
   "cell_type": "markdown",
   "metadata": {},
   "source": [
    "### modified_by\n",
    "\n",
    "Same as before, we don't need this information in the future system. "
   ]
  },
  {
   "cell_type": "code",
   "execution_count": 203,
   "metadata": {
    "scrolled": true
   },
   "outputs": [
    {
     "data": {
      "text/html": [
       "<div>\n",
       "<style scoped>\n",
       "    .dataframe tbody tr th:only-of-type {\n",
       "        vertical-align: middle;\n",
       "    }\n",
       "\n",
       "    .dataframe tbody tr th {\n",
       "        vertical-align: top;\n",
       "    }\n",
       "\n",
       "    .dataframe thead th {\n",
       "        text-align: right;\n",
       "    }\n",
       "</style>\n",
       "<table border=\"1\" class=\"dataframe\">\n",
       "  <thead>\n",
       "    <tr style=\"text-align: right;\">\n",
       "      <th></th>\n",
       "      <th>serial_number</th>\n",
       "      <th>equipment_id</th>\n",
       "      <th>group</th>\n",
       "      <th>client_code</th>\n",
       "      <th>fleet_type</th>\n",
       "      <th>fixed_asset</th>\n",
       "      <th>construction_year</th>\n",
       "      <th>brand_name</th>\n",
       "      <th>created_date</th>\n",
       "      <th>warranty_type</th>\n",
       "      <th>service_start_date</th>\n",
       "      <th>last_service_date</th>\n",
       "      <th>warranty_start</th>\n",
       "      <th>equipment_type_name</th>\n",
       "      <th>construction_month</th>\n",
       "      <th>country</th>\n",
       "      <th>technician</th>\n",
       "      <th>user_status</th>\n",
       "      <th>equipment_type</th>\n",
       "    </tr>\n",
       "  </thead>\n",
       "  <tbody>\n",
       "    <tr>\n",
       "      <th>0</th>\n",
       "      <td>H2X992W15465</td>\n",
       "      <td>1132732</td>\n",
       "      <td>E82</td>\n",
       "      <td>33925845</td>\n",
       "      <td>C</td>\n",
       "      <td>N/A</td>\n",
       "      <td>2008</td>\n",
       "      <td>LINDE</td>\n",
       "      <td>2012-06-12</td>\n",
       "      <td>N/A</td>\n",
       "      <td>NaT</td>\n",
       "      <td>2022-11-11</td>\n",
       "      <td>2008-09-15</td>\n",
       "      <td>Contrapesada térmica</td>\n",
       "      <td>5</td>\n",
       "      <td>DE</td>\n",
       "      <td>KXE-6188</td>\n",
       "      <td>AVLB</td>\n",
       "      <td>L</td>\n",
       "    </tr>\n",
       "    <tr>\n",
       "      <th>1</th>\n",
       "      <td>H2X995S19125</td>\n",
       "      <td>1207034</td>\n",
       "      <td>E12</td>\n",
       "      <td>39380933</td>\n",
       "      <td>C</td>\n",
       "      <td>N/A</td>\n",
       "      <td>2005</td>\n",
       "      <td>Not defined</td>\n",
       "      <td>2012-06-18</td>\n",
       "      <td>N/A</td>\n",
       "      <td>NaT</td>\n",
       "      <td>2018-07-13</td>\n",
       "      <td>2011-12-14</td>\n",
       "      <td>Contrapesada eléctrica</td>\n",
       "      <td>5</td>\n",
       "      <td>DE</td>\n",
       "      <td>KXE-6639</td>\n",
       "      <td>AVLB PINA</td>\n",
       "      <td>L</td>\n",
       "    </tr>\n",
       "    <tr>\n",
       "      <th>2</th>\n",
       "      <td>W4X979W12995</td>\n",
       "      <td>1290040</td>\n",
       "      <td>E82</td>\n",
       "      <td>33927373</td>\n",
       "      <td>C</td>\n",
       "      <td>N/A</td>\n",
       "      <td>2008</td>\n",
       "      <td>LINDE</td>\n",
       "      <td>2012-12-18</td>\n",
       "      <td>N/A</td>\n",
       "      <td>2008-05-29</td>\n",
       "      <td>2023-09-19</td>\n",
       "      <td>NaT</td>\n",
       "      <td>Apilador</td>\n",
       "      <td>6</td>\n",
       "      <td>NaN</td>\n",
       "      <td>KXE-6156</td>\n",
       "      <td>AWIN</td>\n",
       "      <td>L</td>\n",
       "    </tr>\n",
       "    <tr>\n",
       "      <th>3</th>\n",
       "      <td>H2X994R11511</td>\n",
       "      <td>1306179</td>\n",
       "      <td>unknown</td>\n",
       "      <td>33922280</td>\n",
       "      <td>N</td>\n",
       "      <td>N/A</td>\n",
       "      <td>2004</td>\n",
       "      <td>LINDE</td>\n",
       "      <td>2012-12-18</td>\n",
       "      <td>N/A</td>\n",
       "      <td>2004-04-30</td>\n",
       "      <td>2023-05-24</td>\n",
       "      <td>NaT</td>\n",
       "      <td>Contrapesada térmica</td>\n",
       "      <td>5</td>\n",
       "      <td>NaN</td>\n",
       "      <td>NaN</td>\n",
       "      <td>AVLB</td>\n",
       "      <td>L</td>\n",
       "    </tr>\n",
       "    <tr>\n",
       "      <th>4</th>\n",
       "      <td>G5X997P11599</td>\n",
       "      <td>1655177</td>\n",
       "      <td>E11</td>\n",
       "      <td>33923892</td>\n",
       "      <td>C</td>\n",
       "      <td>N/A</td>\n",
       "      <td>2003</td>\n",
       "      <td>Not defined</td>\n",
       "      <td>2014-09-23</td>\n",
       "      <td>12 Mon./2000 h</td>\n",
       "      <td>NaT</td>\n",
       "      <td>2020-04-01</td>\n",
       "      <td>2003-07-15</td>\n",
       "      <td>Contrapesada eléctrica</td>\n",
       "      <td>6</td>\n",
       "      <td>GB</td>\n",
       "      <td>KXE-6263</td>\n",
       "      <td>AVLB PINA</td>\n",
       "      <td>L</td>\n",
       "    </tr>\n",
       "  </tbody>\n",
       "</table>\n",
       "</div>"
      ],
      "text/plain": [
       "  serial_number  equipment_id    group  client_code fleet_type fixed_asset  \\\n",
       "0  H2X992W15465       1132732      E82     33925845          C         N/A   \n",
       "1  H2X995S19125       1207034      E12     39380933          C         N/A   \n",
       "2  W4X979W12995       1290040      E82     33927373          C         N/A   \n",
       "3  H2X994R11511       1306179  unknown     33922280          N         N/A   \n",
       "4  G5X997P11599       1655177      E11     33923892          C         N/A   \n",
       "\n",
       "   construction_year   brand_name created_date   warranty_type  \\\n",
       "0               2008        LINDE   2012-06-12             N/A   \n",
       "1               2005  Not defined   2012-06-18             N/A   \n",
       "2               2008        LINDE   2012-12-18             N/A   \n",
       "3               2004        LINDE   2012-12-18             N/A   \n",
       "4               2003  Not defined   2014-09-23  12 Mon./2000 h   \n",
       "\n",
       "  service_start_date last_service_date warranty_start     equipment_type_name  \\\n",
       "0                NaT        2022-11-11     2008-09-15    Contrapesada térmica   \n",
       "1                NaT        2018-07-13     2011-12-14  Contrapesada eléctrica   \n",
       "2         2008-05-29        2023-09-19            NaT                Apilador   \n",
       "3         2004-04-30        2023-05-24            NaT    Contrapesada térmica   \n",
       "4                NaT        2020-04-01     2003-07-15  Contrapesada eléctrica   \n",
       "\n",
       "   construction_month country technician user_status equipment_type  \n",
       "0                   5      DE   KXE-6188        AVLB              L  \n",
       "1                   5      DE   KXE-6639   AVLB PINA              L  \n",
       "2                   6     NaN   KXE-6156        AWIN              L  \n",
       "3                   5     NaN        NaN        AVLB              L  \n",
       "4                   6      GB   KXE-6263   AVLB PINA              L  "
      ]
     },
     "execution_count": 203,
     "metadata": {},
     "output_type": "execute_result"
    }
   ],
   "source": [
    "clean_dataset = clean_dataset.drop(columns=[\"modified_by\"])\n",
    "clean_dataset.head()"
   ]
  },
  {
   "cell_type": "code",
   "execution_count": 204,
   "metadata": {},
   "outputs": [
    {
     "data": {
      "text/plain": [
       "(50519, 19)"
      ]
     },
     "execution_count": 204,
     "metadata": {},
     "output_type": "execute_result"
    }
   ],
   "source": [
    "clean_dataset.shape"
   ]
  },
  {
   "cell_type": "markdown",
   "metadata": {},
   "source": [
    "### service_start_date\n",
    "\n",
    "This is relevant for business, so let's see if we can keep it"
   ]
  },
  {
   "cell_type": "code",
   "execution_count": 205,
   "metadata": {},
   "outputs": [
    {
     "data": {
      "text/plain": [
       "40818"
      ]
     },
     "execution_count": 205,
     "metadata": {},
     "output_type": "execute_result"
    }
   ],
   "source": [
    "clean_dataset.service_start_date.isnull().sum()"
   ]
  },
  {
   "cell_type": "code",
   "execution_count": 206,
   "metadata": {},
   "outputs": [
    {
     "data": {
      "text/plain": [
       "(50519, 19)"
      ]
     },
     "execution_count": 206,
     "metadata": {},
     "output_type": "execute_result"
    }
   ],
   "source": [
    "clean_dataset.shape"
   ]
  },
  {
   "cell_type": "code",
   "execution_count": 207,
   "metadata": {},
   "outputs": [
    {
     "data": {
      "text/plain": [
       "(8843, 19)"
      ]
     },
     "execution_count": 207,
     "metadata": {},
     "output_type": "execute_result"
    }
   ],
   "source": [
    "#we have 80% of null values, if we were to keep this it would be maybe to relate it to construction date, so let's see if the ones we have (not null) are also not null in construction date\n",
    "\n",
    "# Filter rows with no null values in both columns\n",
    "filtered_dataset = clean_dataset[clean_dataset['service_start_date'].notna() & clean_dataset['last_service_date'].notna()]\n",
    "\n",
    "# Display the filtered dataset\n",
    "filtered_dataset.shape"
   ]
  },
  {
   "cell_type": "code",
   "execution_count": 208,
   "metadata": {},
   "outputs": [
    {
     "data": {
      "text/plain": [
       "(858, 19)"
      ]
     },
     "execution_count": 208,
     "metadata": {},
     "output_type": "execute_result"
    }
   ],
   "source": [
    "filtered_dataset_na = clean_dataset[clean_dataset['service_start_date'].notna() & clean_dataset['last_service_date'].isna()]\n",
    "\n",
    "filtered_dataset_na.shape"
   ]
  },
  {
   "cell_type": "code",
   "execution_count": 209,
   "metadata": {},
   "outputs": [],
   "source": [
    "#From all the values that we have for service start date, there is a construction year too. In that case, we are not going to drop them as at least for these we might be able to do some comparisons for manufacturing time.\n",
    "# maybe we could drop all rows that are empty, but we need to look at the rest of the data first in case we have more important fields that we want to keep from those rows.\n",
    "#if we look at last service date too, we have 287 rows with null values in last service and not null in service start. Let's do the opposite."
   ]
  },
  {
   "cell_type": "markdown",
   "metadata": {},
   "source": [
    "### last_service_date\n",
    "\n",
    "same, could be interesting to compare with service start date and manufacturing date"
   ]
  },
  {
   "cell_type": "code",
   "execution_count": 210,
   "metadata": {},
   "outputs": [
    {
     "data": {
      "text/plain": [
       "37765"
      ]
     },
     "execution_count": 210,
     "metadata": {},
     "output_type": "execute_result"
    }
   ],
   "source": [
    "clean_dataset.last_service_date.isnull().sum()"
   ]
  },
  {
   "cell_type": "code",
   "execution_count": 211,
   "metadata": {},
   "outputs": [
    {
     "data": {
      "text/plain": [
       "(8843, 19)"
      ]
     },
     "execution_count": 211,
     "metadata": {},
     "output_type": "execute_result"
    }
   ],
   "source": [
    "#we also have some nulls, let's check the same as before\n",
    "\n",
    "# Filter rows with no null values in both columns\n",
    "filtered_dataset_ls = clean_dataset[clean_dataset['last_service_date'].notna() & clean_dataset['service_start_date'].notna()]\n",
    "\n",
    "# Display the filtered dataset\n",
    "filtered_dataset_ls.shape"
   ]
  },
  {
   "cell_type": "code",
   "execution_count": 212,
   "metadata": {},
   "outputs": [
    {
     "data": {
      "text/plain": [
       "(3911, 19)"
      ]
     },
     "execution_count": 212,
     "metadata": {},
     "output_type": "execute_result"
    }
   ],
   "source": [
    "# Filter rows with no null values in service start and not null on last service\n",
    "filtered_dataset_ls_na = clean_dataset[clean_dataset['last_service_date'].notna() & clean_dataset['service_start_date'].isna()]\n",
    "\n",
    "# Display the filtered dataset\n",
    "filtered_dataset_ls_na.shape"
   ]
  },
  {
   "cell_type": "code",
   "execution_count": 213,
   "metadata": {},
   "outputs": [],
   "source": [
    "#seeing this case I would delete all the rows that have null values for Service start dates and not null for last service date, as there is no point in having the last service if we can't compare to anything\n",
    "\n",
    "clean_dataset = clean_dataset[~((clean_dataset.service_start_date.isna()) & (clean_dataset.last_service_date.notna()))]\n"
   ]
  },
  {
   "cell_type": "code",
   "execution_count": 214,
   "metadata": {},
   "outputs": [
    {
     "data": {
      "text/plain": [
       "(36907, 19)"
      ]
     },
     "execution_count": 214,
     "metadata": {},
     "output_type": "execute_result"
    }
   ],
   "source": [
    "clean_dataset.last_service_date.isnull().sum()\n",
    "\n",
    "#we still have nulls in last service date, let's see if we have nulls as well in service start date\n",
    "\n",
    "# Filter rows with null values in both columns\n",
    "filtered_dataset_ls = clean_dataset[clean_dataset['last_service_date'].isna() & clean_dataset['service_start_date'].isna()]\n",
    "\n",
    "filtered_dataset_ls.shape"
   ]
  },
  {
   "cell_type": "code",
   "execution_count": 215,
   "metadata": {},
   "outputs": [
    {
     "name": "stdout",
     "output_type": "stream",
     "text": [
      "0\n",
      "0\n"
     ]
    }
   ],
   "source": [
    "#there are many nulls in both last service and service start date, but I can't drop these rows because they might contain other relevant information.\n",
    "# Let's keep these columns and fill null values with N/A for now\n",
    "clean_dataset.last_service_date = clean_dataset.last_service_date.fillna(\"N/A\")\n",
    "clean_dataset.service_start_date = clean_dataset.service_start_date.fillna(\"N/A\")\n",
    "print(clean_dataset.last_service_date.isnull().sum())\n",
    "print(clean_dataset.service_start_date.isnull().sum())"
   ]
  },
  {
   "cell_type": "code",
   "execution_count": 216,
   "metadata": {},
   "outputs": [
    {
     "data": {
      "text/plain": [
       "array([2008, 2004, 2012, 2016, 2017, 2000, 1999, 2002, 2006, 2014, 2013,\n",
       "       2007, 2015, 2003, 2010, 2011, 2005, 2009, 2001, 2019, 1998, 1995,\n",
       "       2018, 2023, 2020, 2022, 2021, 1992, 1996, 1990, 1985, 1991, 2024])"
      ]
     },
     "execution_count": 216,
     "metadata": {},
     "output_type": "execute_result"
    }
   ],
   "source": [
    "clean_dataset.construction_year.unique()"
   ]
  },
  {
   "cell_type": "markdown",
   "metadata": {},
   "source": [
    "### warranty_start\n",
    "\n",
    "Fecha de inicio de garantía. \n",
    "\n",
    "We might want to compare this to > service start date"
   ]
  },
  {
   "cell_type": "code",
   "execution_count": 217,
   "metadata": {},
   "outputs": [
    {
     "data": {
      "text/plain": [
       "37906"
      ]
     },
     "execution_count": 217,
     "metadata": {},
     "output_type": "execute_result"
    }
   ],
   "source": [
    "clean_dataset.warranty_start.isnull().sum()"
   ]
  },
  {
   "cell_type": "code",
   "execution_count": 218,
   "metadata": {},
   "outputs": [
    {
     "data": {
      "text/plain": [
       "<bound method Series.unique of 2              NaT\n",
       "3              NaT\n",
       "7       2020-12-18\n",
       "8       2016-10-25\n",
       "9       2007-03-20\n",
       "           ...    \n",
       "75532          NaT\n",
       "75533          NaT\n",
       "75541          NaT\n",
       "75542          NaT\n",
       "75548   2024-04-03\n",
       "Name: warranty_start, Length: 46608, dtype: datetime64[ns]>"
      ]
     },
     "execution_count": 218,
     "metadata": {},
     "output_type": "execute_result"
    }
   ],
   "source": [
    "clean_dataset.warranty_start.unique"
   ]
  },
  {
   "cell_type": "code",
   "execution_count": 219,
   "metadata": {},
   "outputs": [
    {
     "name": "stdout",
     "output_type": "stream",
     "text": [
      "<class 'pandas.core.series.Series'>\n",
      "Int64Index: 46608 entries, 2 to 75548\n",
      "Series name: warranty_start\n",
      "Non-Null Count  Dtype         \n",
      "--------------  -----         \n",
      "8702 non-null   datetime64[ns]\n",
      "dtypes: datetime64[ns](1)\n",
      "memory usage: 728.2 KB\n"
     ]
    }
   ],
   "source": [
    "\n",
    "clean_dataset.warranty_start.info()"
   ]
  },
  {
   "cell_type": "code",
   "execution_count": 220,
   "metadata": {},
   "outputs": [
    {
     "data": {
      "text/html": [
       "<div>\n",
       "<style scoped>\n",
       "    .dataframe tbody tr th:only-of-type {\n",
       "        vertical-align: middle;\n",
       "    }\n",
       "\n",
       "    .dataframe tbody tr th {\n",
       "        vertical-align: top;\n",
       "    }\n",
       "\n",
       "    .dataframe thead th {\n",
       "        text-align: right;\n",
       "    }\n",
       "</style>\n",
       "<table border=\"1\" class=\"dataframe\">\n",
       "  <thead>\n",
       "    <tr style=\"text-align: right;\">\n",
       "      <th></th>\n",
       "      <th>serial_number</th>\n",
       "      <th>equipment_id</th>\n",
       "      <th>group</th>\n",
       "      <th>client_code</th>\n",
       "      <th>fleet_type</th>\n",
       "      <th>fixed_asset</th>\n",
       "      <th>construction_year</th>\n",
       "      <th>brand_name</th>\n",
       "      <th>created_date</th>\n",
       "      <th>warranty_type</th>\n",
       "      <th>service_start_date</th>\n",
       "      <th>last_service_date</th>\n",
       "      <th>warranty_start</th>\n",
       "      <th>equipment_type_name</th>\n",
       "      <th>construction_month</th>\n",
       "      <th>country</th>\n",
       "      <th>technician</th>\n",
       "      <th>user_status</th>\n",
       "      <th>equipment_type</th>\n",
       "    </tr>\n",
       "  </thead>\n",
       "  <tbody>\n",
       "    <tr>\n",
       "      <th>129</th>\n",
       "      <td>F25572D11112</td>\n",
       "      <td>2981948</td>\n",
       "      <td>E13</td>\n",
       "      <td>50</td>\n",
       "      <td>C</td>\n",
       "      <td>N/A</td>\n",
       "      <td>2013</td>\n",
       "      <td>Not defined</td>\n",
       "      <td>2017-11-29</td>\n",
       "      <td>12 Mon./2000 h</td>\n",
       "      <td>N/A</td>\n",
       "      <td>N/A</td>\n",
       "      <td>2013-12-18</td>\n",
       "      <td>NaN</td>\n",
       "      <td>1</td>\n",
       "      <td>FR</td>\n",
       "      <td>LE616666</td>\n",
       "      <td>AVLB PINA</td>\n",
       "      <td>L</td>\n",
       "    </tr>\n",
       "    <tr>\n",
       "      <th>130</th>\n",
       "      <td>F25572D11222</td>\n",
       "      <td>2981956</td>\n",
       "      <td>E13</td>\n",
       "      <td>50</td>\n",
       "      <td>C</td>\n",
       "      <td>N/A</td>\n",
       "      <td>2013</td>\n",
       "      <td>Not defined</td>\n",
       "      <td>2017-11-29</td>\n",
       "      <td>12 Mon./2000 h</td>\n",
       "      <td>N/A</td>\n",
       "      <td>N/A</td>\n",
       "      <td>2013-12-18</td>\n",
       "      <td>NaN</td>\n",
       "      <td>1</td>\n",
       "      <td>FR</td>\n",
       "      <td>LE616666</td>\n",
       "      <td>AVLB PINA</td>\n",
       "      <td>L</td>\n",
       "    </tr>\n",
       "    <tr>\n",
       "      <th>136</th>\n",
       "      <td>F25572E11952</td>\n",
       "      <td>2982032</td>\n",
       "      <td>E11</td>\n",
       "      <td>50</td>\n",
       "      <td>C</td>\n",
       "      <td>N/A</td>\n",
       "      <td>2014</td>\n",
       "      <td>Not defined</td>\n",
       "      <td>2017-11-29</td>\n",
       "      <td>12 Mon./2000 h</td>\n",
       "      <td>N/A</td>\n",
       "      <td>N/A</td>\n",
       "      <td>2014-02-26</td>\n",
       "      <td>NaN</td>\n",
       "      <td>1</td>\n",
       "      <td>FR</td>\n",
       "      <td>KXE-6641</td>\n",
       "      <td>AVLB PINA</td>\n",
       "      <td>L</td>\n",
       "    </tr>\n",
       "    <tr>\n",
       "      <th>259</th>\n",
       "      <td>BA556797</td>\n",
       "      <td>2983751</td>\n",
       "      <td>E13</td>\n",
       "      <td>33934593</td>\n",
       "      <td>R</td>\n",
       "      <td>J05866</td>\n",
       "      <td>2015</td>\n",
       "      <td>Not defined</td>\n",
       "      <td>2017-11-29</td>\n",
       "      <td>12 Mon./2000 h</td>\n",
       "      <td>N/A</td>\n",
       "      <td>N/A</td>\n",
       "      <td>2015-08-11</td>\n",
       "      <td>NaN</td>\n",
       "      <td>8</td>\n",
       "      <td>NaN</td>\n",
       "      <td>LE616666</td>\n",
       "      <td>AVLB PINA</td>\n",
       "      <td>V</td>\n",
       "    </tr>\n",
       "    <tr>\n",
       "      <th>269</th>\n",
       "      <td>CK149592292</td>\n",
       "      <td>2983810</td>\n",
       "      <td>E13</td>\n",
       "      <td>33933802</td>\n",
       "      <td>R</td>\n",
       "      <td>J01126</td>\n",
       "      <td>2016</td>\n",
       "      <td>Not defined</td>\n",
       "      <td>2017-11-29</td>\n",
       "      <td>12 Mon./2000 h</td>\n",
       "      <td>N/A</td>\n",
       "      <td>N/A</td>\n",
       "      <td>2016-11-18</td>\n",
       "      <td>NaN</td>\n",
       "      <td>11</td>\n",
       "      <td>NaN</td>\n",
       "      <td>LE616666</td>\n",
       "      <td>HIRE PINA</td>\n",
       "      <td>V</td>\n",
       "    </tr>\n",
       "    <tr>\n",
       "      <th>...</th>\n",
       "      <td>...</td>\n",
       "      <td>...</td>\n",
       "      <td>...</td>\n",
       "      <td>...</td>\n",
       "      <td>...</td>\n",
       "      <td>...</td>\n",
       "      <td>...</td>\n",
       "      <td>...</td>\n",
       "      <td>...</td>\n",
       "      <td>...</td>\n",
       "      <td>...</td>\n",
       "      <td>...</td>\n",
       "      <td>...</td>\n",
       "      <td>...</td>\n",
       "      <td>...</td>\n",
       "      <td>...</td>\n",
       "      <td>...</td>\n",
       "      <td>...</td>\n",
       "      <td>...</td>\n",
       "    </tr>\n",
       "    <tr>\n",
       "      <th>5549</th>\n",
       "      <td>222226</td>\n",
       "      <td>3050764</td>\n",
       "      <td>unknown</td>\n",
       "      <td>39373829</td>\n",
       "      <td>C</td>\n",
       "      <td>N/A</td>\n",
       "      <td>2016</td>\n",
       "      <td>Not defined</td>\n",
       "      <td>2017-11-30</td>\n",
       "      <td>12 Mon./2000 h</td>\n",
       "      <td>N/A</td>\n",
       "      <td>N/A</td>\n",
       "      <td>1987-11-06</td>\n",
       "      <td>NaN</td>\n",
       "      <td>1</td>\n",
       "      <td>NaN</td>\n",
       "      <td>NaN</td>\n",
       "      <td>AVLB PINA</td>\n",
       "      <td>V</td>\n",
       "    </tr>\n",
       "    <tr>\n",
       "      <th>5552</th>\n",
       "      <td>225759</td>\n",
       "      <td>3050794</td>\n",
       "      <td>unknown</td>\n",
       "      <td>39373829</td>\n",
       "      <td>C</td>\n",
       "      <td>N/A</td>\n",
       "      <td>2016</td>\n",
       "      <td>Not defined</td>\n",
       "      <td>2017-11-30</td>\n",
       "      <td>12 Mon./2000 h</td>\n",
       "      <td>N/A</td>\n",
       "      <td>N/A</td>\n",
       "      <td>1988-11-30</td>\n",
       "      <td>NaN</td>\n",
       "      <td>1</td>\n",
       "      <td>NaN</td>\n",
       "      <td>NaN</td>\n",
       "      <td>AVLB PINA</td>\n",
       "      <td>V</td>\n",
       "    </tr>\n",
       "    <tr>\n",
       "      <th>5553</th>\n",
       "      <td>225754</td>\n",
       "      <td>3050795</td>\n",
       "      <td>unknown</td>\n",
       "      <td>39373829</td>\n",
       "      <td>C</td>\n",
       "      <td>N/A</td>\n",
       "      <td>2016</td>\n",
       "      <td>Not defined</td>\n",
       "      <td>2017-11-30</td>\n",
       "      <td>12 Mon./2000 h</td>\n",
       "      <td>N/A</td>\n",
       "      <td>N/A</td>\n",
       "      <td>1988-11-30</td>\n",
       "      <td>NaN</td>\n",
       "      <td>1</td>\n",
       "      <td>NaN</td>\n",
       "      <td>NaN</td>\n",
       "      <td>AVLB PINA</td>\n",
       "      <td>V</td>\n",
       "    </tr>\n",
       "    <tr>\n",
       "      <th>5580</th>\n",
       "      <td>92616-45</td>\n",
       "      <td>3051436</td>\n",
       "      <td>E13</td>\n",
       "      <td>33937324</td>\n",
       "      <td>C</td>\n",
       "      <td>N/A</td>\n",
       "      <td>2016</td>\n",
       "      <td>Not defined</td>\n",
       "      <td>2017-11-30</td>\n",
       "      <td>12 Mon./2000 h</td>\n",
       "      <td>N/A</td>\n",
       "      <td>N/A</td>\n",
       "      <td>2017-03-24</td>\n",
       "      <td>NaN</td>\n",
       "      <td>1</td>\n",
       "      <td>NaN</td>\n",
       "      <td>LE616666</td>\n",
       "      <td>AVLB PINA</td>\n",
       "      <td>V</td>\n",
       "    </tr>\n",
       "    <tr>\n",
       "      <th>72152</th>\n",
       "      <td>W45579M11159</td>\n",
       "      <td>5595226</td>\n",
       "      <td>unknown</td>\n",
       "      <td>33943223</td>\n",
       "      <td>C</td>\n",
       "      <td>N/A</td>\n",
       "      <td>2016</td>\n",
       "      <td>LINDE</td>\n",
       "      <td>2023-02-23</td>\n",
       "      <td>12 Mon./2000 h</td>\n",
       "      <td>N/A</td>\n",
       "      <td>N/A</td>\n",
       "      <td>2023-02-23</td>\n",
       "      <td>NaN</td>\n",
       "      <td>1</td>\n",
       "      <td>NaN</td>\n",
       "      <td>NaN</td>\n",
       "      <td>AVLB</td>\n",
       "      <td>L</td>\n",
       "    </tr>\n",
       "  </tbody>\n",
       "</table>\n",
       "<p>181 rows × 19 columns</p>\n",
       "</div>"
      ],
      "text/plain": [
       "      serial_number  equipment_id    group  client_code fleet_type  \\\n",
       "129    F25572D11112       2981948      E13           50          C   \n",
       "130    F25572D11222       2981956      E13           50          C   \n",
       "136    F25572E11952       2982032      E11           50          C   \n",
       "259        BA556797       2983751      E13     33934593          R   \n",
       "269     CK149592292       2983810      E13     33933802          R   \n",
       "...             ...           ...      ...          ...        ...   \n",
       "5549         222226       3050764  unknown     39373829          C   \n",
       "5552         225759       3050794  unknown     39373829          C   \n",
       "5553         225754       3050795  unknown     39373829          C   \n",
       "5580       92616-45       3051436      E13     33937324          C   \n",
       "72152  W45579M11159       5595226  unknown     33943223          C   \n",
       "\n",
       "      fixed_asset  construction_year   brand_name created_date  \\\n",
       "129           N/A               2013  Not defined   2017-11-29   \n",
       "130           N/A               2013  Not defined   2017-11-29   \n",
       "136           N/A               2014  Not defined   2017-11-29   \n",
       "259        J05866               2015  Not defined   2017-11-29   \n",
       "269        J01126               2016  Not defined   2017-11-29   \n",
       "...           ...                ...          ...          ...   \n",
       "5549          N/A               2016  Not defined   2017-11-30   \n",
       "5552          N/A               2016  Not defined   2017-11-30   \n",
       "5553          N/A               2016  Not defined   2017-11-30   \n",
       "5580          N/A               2016  Not defined   2017-11-30   \n",
       "72152         N/A               2016        LINDE   2023-02-23   \n",
       "\n",
       "        warranty_type service_start_date last_service_date warranty_start  \\\n",
       "129    12 Mon./2000 h                N/A               N/A     2013-12-18   \n",
       "130    12 Mon./2000 h                N/A               N/A     2013-12-18   \n",
       "136    12 Mon./2000 h                N/A               N/A     2014-02-26   \n",
       "259    12 Mon./2000 h                N/A               N/A     2015-08-11   \n",
       "269    12 Mon./2000 h                N/A               N/A     2016-11-18   \n",
       "...               ...                ...               ...            ...   \n",
       "5549   12 Mon./2000 h                N/A               N/A     1987-11-06   \n",
       "5552   12 Mon./2000 h                N/A               N/A     1988-11-30   \n",
       "5553   12 Mon./2000 h                N/A               N/A     1988-11-30   \n",
       "5580   12 Mon./2000 h                N/A               N/A     2017-03-24   \n",
       "72152  12 Mon./2000 h                N/A               N/A     2023-02-23   \n",
       "\n",
       "      equipment_type_name  construction_month country technician user_status  \\\n",
       "129                   NaN                   1      FR   LE616666   AVLB PINA   \n",
       "130                   NaN                   1      FR   LE616666   AVLB PINA   \n",
       "136                   NaN                   1      FR   KXE-6641   AVLB PINA   \n",
       "259                   NaN                   8     NaN   LE616666   AVLB PINA   \n",
       "269                   NaN                  11     NaN   LE616666   HIRE PINA   \n",
       "...                   ...                 ...     ...        ...         ...   \n",
       "5549                  NaN                   1     NaN        NaN   AVLB PINA   \n",
       "5552                  NaN                   1     NaN        NaN   AVLB PINA   \n",
       "5553                  NaN                   1     NaN        NaN   AVLB PINA   \n",
       "5580                  NaN                   1     NaN   LE616666   AVLB PINA   \n",
       "72152                 NaN                   1     NaN        NaN        AVLB   \n",
       "\n",
       "      equipment_type  \n",
       "129                L  \n",
       "130                L  \n",
       "136                L  \n",
       "259                V  \n",
       "269                V  \n",
       "...              ...  \n",
       "5549               V  \n",
       "5552               V  \n",
       "5553               V  \n",
       "5580               V  \n",
       "72152              L  \n",
       "\n",
       "[181 rows x 19 columns]"
      ]
     },
     "execution_count": 220,
     "metadata": {},
     "output_type": "execute_result"
    }
   ],
   "source": [
    "\n",
    "filter_warranty = clean_dataset[(clean_dataset.warranty_start.notna()) & (clean_dataset.service_start_date == \"N/A\")]\n",
    "filter_warranty"
   ]
  },
  {
   "cell_type": "code",
   "execution_count": 221,
   "metadata": {},
   "outputs": [
    {
     "data": {
      "text/html": [
       "<div>\n",
       "<style scoped>\n",
       "    .dataframe tbody tr th:only-of-type {\n",
       "        vertical-align: middle;\n",
       "    }\n",
       "\n",
       "    .dataframe tbody tr th {\n",
       "        vertical-align: top;\n",
       "    }\n",
       "\n",
       "    .dataframe thead th {\n",
       "        text-align: right;\n",
       "    }\n",
       "</style>\n",
       "<table border=\"1\" class=\"dataframe\">\n",
       "  <thead>\n",
       "    <tr style=\"text-align: right;\">\n",
       "      <th></th>\n",
       "      <th>serial_number</th>\n",
       "      <th>equipment_id</th>\n",
       "      <th>group</th>\n",
       "      <th>client_code</th>\n",
       "      <th>fleet_type</th>\n",
       "      <th>fixed_asset</th>\n",
       "      <th>construction_year</th>\n",
       "      <th>brand_name</th>\n",
       "      <th>created_date</th>\n",
       "      <th>warranty_type</th>\n",
       "      <th>service_start_date</th>\n",
       "      <th>last_service_date</th>\n",
       "      <th>warranty_start</th>\n",
       "      <th>equipment_type_name</th>\n",
       "      <th>construction_month</th>\n",
       "      <th>country</th>\n",
       "      <th>technician</th>\n",
       "      <th>user_status</th>\n",
       "      <th>equipment_type</th>\n",
       "    </tr>\n",
       "  </thead>\n",
       "  <tbody>\n",
       "  </tbody>\n",
       "</table>\n",
       "</div>"
      ],
      "text/plain": [
       "Empty DataFrame\n",
       "Columns: [serial_number, equipment_id, group, client_code, fleet_type, fixed_asset, construction_year, brand_name, created_date, warranty_type, service_start_date, last_service_date, warranty_start, equipment_type_name, construction_month, country, technician, user_status, equipment_type]\n",
       "Index: []"
      ]
     },
     "execution_count": 221,
     "metadata": {},
     "output_type": "execute_result"
    }
   ],
   "source": [
    "\n",
    "filter_warranty_isna= clean_dataset[clean_dataset.warranty_start.isna() & clean_dataset.service_start_date.isna()]\n",
    "filter_warranty_isna"
   ]
  },
  {
   "cell_type": "code",
   "execution_count": 222,
   "metadata": {},
   "outputs": [
    {
     "data": {
      "text/html": [
       "<div>\n",
       "<style scoped>\n",
       "    .dataframe tbody tr th:only-of-type {\n",
       "        vertical-align: middle;\n",
       "    }\n",
       "\n",
       "    .dataframe tbody tr th {\n",
       "        vertical-align: top;\n",
       "    }\n",
       "\n",
       "    .dataframe thead th {\n",
       "        text-align: right;\n",
       "    }\n",
       "</style>\n",
       "<table border=\"1\" class=\"dataframe\">\n",
       "  <thead>\n",
       "    <tr style=\"text-align: right;\">\n",
       "      <th></th>\n",
       "      <th>serial_number</th>\n",
       "      <th>equipment_id</th>\n",
       "      <th>group</th>\n",
       "      <th>client_code</th>\n",
       "      <th>fleet_type</th>\n",
       "      <th>fixed_asset</th>\n",
       "      <th>construction_year</th>\n",
       "      <th>brand_name</th>\n",
       "      <th>created_date</th>\n",
       "      <th>warranty_type</th>\n",
       "      <th>service_start_date</th>\n",
       "      <th>last_service_date</th>\n",
       "      <th>warranty_start</th>\n",
       "      <th>equipment_type_name</th>\n",
       "      <th>construction_month</th>\n",
       "      <th>country</th>\n",
       "      <th>technician</th>\n",
       "      <th>user_status</th>\n",
       "      <th>equipment_type</th>\n",
       "    </tr>\n",
       "  </thead>\n",
       "  <tbody>\n",
       "    <tr>\n",
       "      <th>2</th>\n",
       "      <td>W4X979W12995</td>\n",
       "      <td>1290040</td>\n",
       "      <td>E82</td>\n",
       "      <td>33927373</td>\n",
       "      <td>C</td>\n",
       "      <td>N/A</td>\n",
       "      <td>2008</td>\n",
       "      <td>LINDE</td>\n",
       "      <td>2012-12-18</td>\n",
       "      <td>N/A</td>\n",
       "      <td>2008-05-29 00:00:00</td>\n",
       "      <td>2023-09-19 00:00:00</td>\n",
       "      <td>NaT</td>\n",
       "      <td>Apilador</td>\n",
       "      <td>6</td>\n",
       "      <td>NaN</td>\n",
       "      <td>KXE-6156</td>\n",
       "      <td>AWIN</td>\n",
       "      <td>L</td>\n",
       "    </tr>\n",
       "    <tr>\n",
       "      <th>3</th>\n",
       "      <td>H2X994R11511</td>\n",
       "      <td>1306179</td>\n",
       "      <td>unknown</td>\n",
       "      <td>33922280</td>\n",
       "      <td>N</td>\n",
       "      <td>N/A</td>\n",
       "      <td>2004</td>\n",
       "      <td>LINDE</td>\n",
       "      <td>2012-12-18</td>\n",
       "      <td>N/A</td>\n",
       "      <td>2004-04-30 00:00:00</td>\n",
       "      <td>2023-05-24 00:00:00</td>\n",
       "      <td>NaT</td>\n",
       "      <td>Contrapesada térmica</td>\n",
       "      <td>5</td>\n",
       "      <td>NaN</td>\n",
       "      <td>NaN</td>\n",
       "      <td>AVLB</td>\n",
       "      <td>L</td>\n",
       "    </tr>\n",
       "    <tr>\n",
       "      <th>144</th>\n",
       "      <td>F25572E15252</td>\n",
       "      <td>2982144</td>\n",
       "      <td>E11</td>\n",
       "      <td>33930535</td>\n",
       "      <td>C</td>\n",
       "      <td>N/A</td>\n",
       "      <td>2014</td>\n",
       "      <td>LINDE</td>\n",
       "      <td>2017-11-29</td>\n",
       "      <td>N/A</td>\n",
       "      <td>2022-10-20 00:00:00</td>\n",
       "      <td>2022-07-27 00:00:00</td>\n",
       "      <td>NaT</td>\n",
       "      <td>Preparador de pedidos vertical</td>\n",
       "      <td>1</td>\n",
       "      <td>FR</td>\n",
       "      <td>KXE-6647</td>\n",
       "      <td>SOTR</td>\n",
       "      <td>L</td>\n",
       "    </tr>\n",
       "    <tr>\n",
       "      <th>362</th>\n",
       "      <td>TM55CIN115151</td>\n",
       "      <td>2984215</td>\n",
       "      <td>E11</td>\n",
       "      <td>33934593</td>\n",
       "      <td>R</td>\n",
       "      <td>J0J769</td>\n",
       "      <td>2014</td>\n",
       "      <td>Not defined</td>\n",
       "      <td>2017-11-29</td>\n",
       "      <td>N/A</td>\n",
       "      <td>N/A</td>\n",
       "      <td>N/A</td>\n",
       "      <td>NaT</td>\n",
       "      <td>NaN</td>\n",
       "      <td>9</td>\n",
       "      <td>NaN</td>\n",
       "      <td>LE616666</td>\n",
       "      <td>AWIN PINA</td>\n",
       "      <td>V</td>\n",
       "    </tr>\n",
       "    <tr>\n",
       "      <th>384</th>\n",
       "      <td>15/9715/5-12</td>\n",
       "      <td>2984332</td>\n",
       "      <td>E11</td>\n",
       "      <td>33934593</td>\n",
       "      <td>R</td>\n",
       "      <td>J01166</td>\n",
       "      <td>2017</td>\n",
       "      <td>Not defined</td>\n",
       "      <td>2017-11-29</td>\n",
       "      <td>N/A</td>\n",
       "      <td>N/A</td>\n",
       "      <td>N/A</td>\n",
       "      <td>NaT</td>\n",
       "      <td>NaN</td>\n",
       "      <td>6</td>\n",
       "      <td>NaN</td>\n",
       "      <td>LE616666</td>\n",
       "      <td>AWIN PINA</td>\n",
       "      <td>V</td>\n",
       "    </tr>\n",
       "    <tr>\n",
       "      <th>...</th>\n",
       "      <td>...</td>\n",
       "      <td>...</td>\n",
       "      <td>...</td>\n",
       "      <td>...</td>\n",
       "      <td>...</td>\n",
       "      <td>...</td>\n",
       "      <td>...</td>\n",
       "      <td>...</td>\n",
       "      <td>...</td>\n",
       "      <td>...</td>\n",
       "      <td>...</td>\n",
       "      <td>...</td>\n",
       "      <td>...</td>\n",
       "      <td>...</td>\n",
       "      <td>...</td>\n",
       "      <td>...</td>\n",
       "      <td>...</td>\n",
       "      <td>...</td>\n",
       "      <td>...</td>\n",
       "    </tr>\n",
       "    <tr>\n",
       "      <th>75531</th>\n",
       "      <td>22421261</td>\n",
       "      <td>6109680</td>\n",
       "      <td>unknown</td>\n",
       "      <td>33934592</td>\n",
       "      <td>U</td>\n",
       "      <td>N/A</td>\n",
       "      <td>2016</td>\n",
       "      <td>Not defined</td>\n",
       "      <td>2024-03-22</td>\n",
       "      <td>N/A</td>\n",
       "      <td>N/A</td>\n",
       "      <td>N/A</td>\n",
       "      <td>NaT</td>\n",
       "      <td>NaN</td>\n",
       "      <td>1</td>\n",
       "      <td>NaN</td>\n",
       "      <td>NaN</td>\n",
       "      <td>AVLB</td>\n",
       "      <td>V</td>\n",
       "    </tr>\n",
       "    <tr>\n",
       "      <th>75532</th>\n",
       "      <td>91149257</td>\n",
       "      <td>6109690</td>\n",
       "      <td>unknown</td>\n",
       "      <td>33934592</td>\n",
       "      <td>U</td>\n",
       "      <td>N/A</td>\n",
       "      <td>2016</td>\n",
       "      <td>Not defined</td>\n",
       "      <td>2024-03-22</td>\n",
       "      <td>N/A</td>\n",
       "      <td>N/A</td>\n",
       "      <td>N/A</td>\n",
       "      <td>NaT</td>\n",
       "      <td>NaN</td>\n",
       "      <td>1</td>\n",
       "      <td>NaN</td>\n",
       "      <td>NaN</td>\n",
       "      <td>AVLB</td>\n",
       "      <td>V</td>\n",
       "    </tr>\n",
       "    <tr>\n",
       "      <th>75533</th>\n",
       "      <td>29516965</td>\n",
       "      <td>6109768</td>\n",
       "      <td>unknown</td>\n",
       "      <td>33934592</td>\n",
       "      <td>U</td>\n",
       "      <td>N/A</td>\n",
       "      <td>2016</td>\n",
       "      <td>Not defined</td>\n",
       "      <td>2024-03-22</td>\n",
       "      <td>N/A</td>\n",
       "      <td>N/A</td>\n",
       "      <td>N/A</td>\n",
       "      <td>NaT</td>\n",
       "      <td>NaN</td>\n",
       "      <td>1</td>\n",
       "      <td>NaN</td>\n",
       "      <td>NaN</td>\n",
       "      <td>AVLB</td>\n",
       "      <td>V</td>\n",
       "    </tr>\n",
       "    <tr>\n",
       "      <th>75541</th>\n",
       "      <td>HLI5172622</td>\n",
       "      <td>6111696</td>\n",
       "      <td>E11</td>\n",
       "      <td>33920279</td>\n",
       "      <td>C</td>\n",
       "      <td>N/A</td>\n",
       "      <td>2016</td>\n",
       "      <td>Not defined</td>\n",
       "      <td>2024-03-25</td>\n",
       "      <td>N/A</td>\n",
       "      <td>2024-03-25 00:00:00</td>\n",
       "      <td>N/A</td>\n",
       "      <td>NaT</td>\n",
       "      <td>NaN</td>\n",
       "      <td>1</td>\n",
       "      <td>NaN</td>\n",
       "      <td>LE196666</td>\n",
       "      <td>SOLD</td>\n",
       "      <td>V</td>\n",
       "    </tr>\n",
       "    <tr>\n",
       "      <th>75542</th>\n",
       "      <td>HLI5172659</td>\n",
       "      <td>6112185</td>\n",
       "      <td>E11</td>\n",
       "      <td>33923302</td>\n",
       "      <td>C</td>\n",
       "      <td>N/A</td>\n",
       "      <td>2016</td>\n",
       "      <td>Not defined</td>\n",
       "      <td>2024-03-25</td>\n",
       "      <td>N/A</td>\n",
       "      <td>2024-03-25 00:00:00</td>\n",
       "      <td>N/A</td>\n",
       "      <td>NaT</td>\n",
       "      <td>NaN</td>\n",
       "      <td>1</td>\n",
       "      <td>NaN</td>\n",
       "      <td>LE196666</td>\n",
       "      <td>SOLD</td>\n",
       "      <td>V</td>\n",
       "    </tr>\n",
       "  </tbody>\n",
       "</table>\n",
       "<p>37906 rows × 19 columns</p>\n",
       "</div>"
      ],
      "text/plain": [
       "       serial_number  equipment_id    group  client_code fleet_type  \\\n",
       "2       W4X979W12995       1290040      E82     33927373          C   \n",
       "3       H2X994R11511       1306179  unknown     33922280          N   \n",
       "144     F25572E15252       2982144      E11     33930535          C   \n",
       "362    TM55CIN115151       2984215      E11     33934593          R   \n",
       "384     15/9715/5-12       2984332      E11     33934593          R   \n",
       "...              ...           ...      ...          ...        ...   \n",
       "75531       22421261       6109680  unknown     33934592          U   \n",
       "75532       91149257       6109690  unknown     33934592          U   \n",
       "75533       29516965       6109768  unknown     33934592          U   \n",
       "75541     HLI5172622       6111696      E11     33920279          C   \n",
       "75542     HLI5172659       6112185      E11     33923302          C   \n",
       "\n",
       "      fixed_asset  construction_year   brand_name created_date warranty_type  \\\n",
       "2             N/A               2008        LINDE   2012-12-18           N/A   \n",
       "3             N/A               2004        LINDE   2012-12-18           N/A   \n",
       "144           N/A               2014        LINDE   2017-11-29           N/A   \n",
       "362        J0J769               2014  Not defined   2017-11-29           N/A   \n",
       "384        J01166               2017  Not defined   2017-11-29           N/A   \n",
       "...           ...                ...          ...          ...           ...   \n",
       "75531         N/A               2016  Not defined   2024-03-22           N/A   \n",
       "75532         N/A               2016  Not defined   2024-03-22           N/A   \n",
       "75533         N/A               2016  Not defined   2024-03-22           N/A   \n",
       "75541         N/A               2016  Not defined   2024-03-25           N/A   \n",
       "75542         N/A               2016  Not defined   2024-03-25           N/A   \n",
       "\n",
       "        service_start_date    last_service_date warranty_start  \\\n",
       "2      2008-05-29 00:00:00  2023-09-19 00:00:00            NaT   \n",
       "3      2004-04-30 00:00:00  2023-05-24 00:00:00            NaT   \n",
       "144    2022-10-20 00:00:00  2022-07-27 00:00:00            NaT   \n",
       "362                    N/A                  N/A            NaT   \n",
       "384                    N/A                  N/A            NaT   \n",
       "...                    ...                  ...            ...   \n",
       "75531                  N/A                  N/A            NaT   \n",
       "75532                  N/A                  N/A            NaT   \n",
       "75533                  N/A                  N/A            NaT   \n",
       "75541  2024-03-25 00:00:00                  N/A            NaT   \n",
       "75542  2024-03-25 00:00:00                  N/A            NaT   \n",
       "\n",
       "                  equipment_type_name  construction_month country technician  \\\n",
       "2                            Apilador                   6     NaN   KXE-6156   \n",
       "3                Contrapesada térmica                   5     NaN        NaN   \n",
       "144    Preparador de pedidos vertical                   1      FR   KXE-6647   \n",
       "362                               NaN                   9     NaN   LE616666   \n",
       "384                               NaN                   6     NaN   LE616666   \n",
       "...                               ...                 ...     ...        ...   \n",
       "75531                             NaN                   1     NaN        NaN   \n",
       "75532                             NaN                   1     NaN        NaN   \n",
       "75533                             NaN                   1     NaN        NaN   \n",
       "75541                             NaN                   1     NaN   LE196666   \n",
       "75542                             NaN                   1     NaN   LE196666   \n",
       "\n",
       "      user_status equipment_type  \n",
       "2            AWIN              L  \n",
       "3            AVLB              L  \n",
       "144          SOTR              L  \n",
       "362     AWIN PINA              V  \n",
       "384     AWIN PINA              V  \n",
       "...           ...            ...  \n",
       "75531        AVLB              V  \n",
       "75532        AVLB              V  \n",
       "75533        AVLB              V  \n",
       "75541        SOLD              V  \n",
       "75542        SOLD              V  \n",
       "\n",
       "[37906 rows x 19 columns]"
      ]
     },
     "execution_count": 222,
     "metadata": {},
     "output_type": "execute_result"
    }
   ],
   "source": [
    "#as we can see from all the null values in warranty_start (37906) we have 37906 that are also null at service_start_date\n",
    "\n",
    "#let's compare with warranty_type too\n",
    "\n",
    "filter_warranty_isna_type = clean_dataset[(clean_dataset.warranty_start.isna()) & (clean_dataset.warranty_type == \"N/A\")]\n",
    "filter_warranty_isna_type\n"
   ]
  },
  {
   "cell_type": "code",
   "execution_count": 223,
   "metadata": {},
   "outputs": [
    {
     "data": {
      "text/plain": [
       "N/A                    37906\n",
       "2023-05-15 00:00:00       51\n",
       "2022-09-27 00:00:00       50\n",
       "2021-03-24 00:00:00       47\n",
       "2021-03-01 00:00:00       43\n",
       "                       ...  \n",
       "2010-11-03 00:00:00        1\n",
       "2017-06-07 00:00:00        1\n",
       "2016-12-22 00:00:00        1\n",
       "2016-12-15 00:00:00        1\n",
       "2019-09-17 00:00:00        1\n",
       "Name: warranty_start, Length: 2169, dtype: int64"
      ]
     },
     "execution_count": 223,
     "metadata": {},
     "output_type": "execute_result"
    }
   ],
   "source": [
    "#it seems that for all warranty start nulls we also have warranty_type N/A so let's fill the null values with N/A too in warranty_start, later we see if we can remove it\n",
    "\n",
    "#let's fillna with N/A\n",
    "\n",
    "clean_dataset.warranty_start = clean_dataset.warranty_start.fillna(\"N/A\")\n",
    "clean_dataset.warranty_start.value_counts()\n"
   ]
  },
  {
   "cell_type": "markdown",
   "metadata": {},
   "source": [
    "### equipment_type_name\n",
    "\n",
    "let's see if this is relevant"
   ]
  },
  {
   "cell_type": "code",
   "execution_count": 224,
   "metadata": {},
   "outputs": [
    {
     "data": {
      "text/plain": [
       "38034"
      ]
     },
     "execution_count": 224,
     "metadata": {},
     "output_type": "execute_result"
    }
   ],
   "source": [
    "clean_dataset.equipment_type_name.isnull().sum()"
   ]
  },
  {
   "cell_type": "code",
   "execution_count": 225,
   "metadata": {},
   "outputs": [
    {
     "data": {
      "text/plain": [
       "Contrapesada eléctrica            2428\n",
       "Transpaleta eléctrica             2106\n",
       "Apilador                          1135\n",
       "Contrapesada térmica              1066\n",
       "Transpaleta manual                 830\n",
       "Retráctil                          465\n",
       "Preparador de pedidos              264\n",
       "Preparador de pedidos vertical      82\n",
       "Carretilla Combi                    61\n",
       "Tractor de arrastre                 60\n",
       "Transpaleta de tijera               37\n",
       "Batería                             16\n",
       "Otros                               16\n",
       "Trilateral (VNA)                     5\n",
       "Remolque                             3\n",
       "Name: equipment_type_name, dtype: int64"
      ]
     },
     "execution_count": 225,
     "metadata": {},
     "output_type": "execute_result"
    }
   ],
   "source": [
    "clean_dataset.equipment_type_name.value_counts()"
   ]
  },
  {
   "cell_type": "code",
   "execution_count": 226,
   "metadata": {},
   "outputs": [
    {
     "name": "stdout",
     "output_type": "stream",
     "text": [
      "<class 'pandas.core.series.Series'>\n",
      "Int64Index: 46608 entries, 2 to 75548\n",
      "Series name: equipment_type_name\n",
      "Non-Null Count  Dtype \n",
      "--------------  ----- \n",
      "8574 non-null   object\n",
      "dtypes: object(1)\n",
      "memory usage: 728.2+ KB\n"
     ]
    }
   ],
   "source": [
    "clean_dataset.equipment_type_name.info()"
   ]
  },
  {
   "cell_type": "code",
   "execution_count": 227,
   "metadata": {},
   "outputs": [
    {
     "data": {
      "text/html": [
       "<div>\n",
       "<style scoped>\n",
       "    .dataframe tbody tr th:only-of-type {\n",
       "        vertical-align: middle;\n",
       "    }\n",
       "\n",
       "    .dataframe tbody tr th {\n",
       "        vertical-align: top;\n",
       "    }\n",
       "\n",
       "    .dataframe thead th {\n",
       "        text-align: right;\n",
       "    }\n",
       "</style>\n",
       "<table border=\"1\" class=\"dataframe\">\n",
       "  <thead>\n",
       "    <tr style=\"text-align: right;\">\n",
       "      <th></th>\n",
       "      <th>serial_number</th>\n",
       "      <th>equipment_id</th>\n",
       "      <th>group</th>\n",
       "      <th>client_code</th>\n",
       "      <th>fleet_type</th>\n",
       "      <th>fixed_asset</th>\n",
       "      <th>construction_year</th>\n",
       "      <th>brand_name</th>\n",
       "      <th>created_date</th>\n",
       "      <th>warranty_type</th>\n",
       "      <th>service_start_date</th>\n",
       "      <th>last_service_date</th>\n",
       "      <th>warranty_start</th>\n",
       "      <th>equipment_type_name</th>\n",
       "      <th>construction_month</th>\n",
       "      <th>country</th>\n",
       "      <th>technician</th>\n",
       "      <th>user_status</th>\n",
       "      <th>equipment_type</th>\n",
       "    </tr>\n",
       "  </thead>\n",
       "  <tbody>\n",
       "    <tr>\n",
       "      <th>11</th>\n",
       "      <td>AJC62569</td>\n",
       "      <td>2979975</td>\n",
       "      <td>E11</td>\n",
       "      <td>33925229</td>\n",
       "      <td>C</td>\n",
       "      <td>N/A</td>\n",
       "      <td>2016</td>\n",
       "      <td>Not defined</td>\n",
       "      <td>2017-11-29</td>\n",
       "      <td>12 Mon./2000 h</td>\n",
       "      <td>2023-06-06 00:00:00</td>\n",
       "      <td>2023-04-26 00:00:00</td>\n",
       "      <td>2010-06-30 00:00:00</td>\n",
       "      <td>NaN</td>\n",
       "      <td>1</td>\n",
       "      <td>NaN</td>\n",
       "      <td>KXE-6236</td>\n",
       "      <td>SOLD</td>\n",
       "      <td>C</td>\n",
       "    </tr>\n",
       "    <tr>\n",
       "      <th>15</th>\n",
       "      <td>51996</td>\n",
       "      <td>2980140</td>\n",
       "      <td>E13</td>\n",
       "      <td>39383374</td>\n",
       "      <td>C</td>\n",
       "      <td>N/A</td>\n",
       "      <td>2017</td>\n",
       "      <td>KÄRCHER</td>\n",
       "      <td>2017-11-29</td>\n",
       "      <td>12 Mon./2000 h</td>\n",
       "      <td>2021-06-07 00:00:00</td>\n",
       "      <td>N/A</td>\n",
       "      <td>2014-09-30 00:00:00</td>\n",
       "      <td>NaN</td>\n",
       "      <td>11</td>\n",
       "      <td>NaN</td>\n",
       "      <td>LE616666</td>\n",
       "      <td>SOLD PINA</td>\n",
       "      <td>V</td>\n",
       "    </tr>\n",
       "    <tr>\n",
       "      <th>16</th>\n",
       "      <td>BID14195552114297</td>\n",
       "      <td>2980142</td>\n",
       "      <td>E13</td>\n",
       "      <td>33924295</td>\n",
       "      <td>C</td>\n",
       "      <td>N/A</td>\n",
       "      <td>2017</td>\n",
       "      <td>Others</td>\n",
       "      <td>2017-11-29</td>\n",
       "      <td>12 Mon./2000 h</td>\n",
       "      <td>2021-05-25 00:00:00</td>\n",
       "      <td>N/A</td>\n",
       "      <td>2014-09-30 00:00:00</td>\n",
       "      <td>NaN</td>\n",
       "      <td>11</td>\n",
       "      <td>NaN</td>\n",
       "      <td>LE616666</td>\n",
       "      <td>SOTR PINA</td>\n",
       "      <td>V</td>\n",
       "    </tr>\n",
       "    <tr>\n",
       "      <th>53</th>\n",
       "      <td>DTA-6999</td>\n",
       "      <td>2980849</td>\n",
       "      <td>E12</td>\n",
       "      <td>33957850</td>\n",
       "      <td>C</td>\n",
       "      <td>N/A</td>\n",
       "      <td>2016</td>\n",
       "      <td>Others</td>\n",
       "      <td>2017-11-29</td>\n",
       "      <td>12 Mon./2000 h</td>\n",
       "      <td>2022-07-06 00:00:00</td>\n",
       "      <td>2023-08-10 00:00:00</td>\n",
       "      <td>2022-07-06 00:00:00</td>\n",
       "      <td>NaN</td>\n",
       "      <td>1</td>\n",
       "      <td>NaN</td>\n",
       "      <td>KXE-6227</td>\n",
       "      <td>SOLD</td>\n",
       "      <td>L</td>\n",
       "    </tr>\n",
       "    <tr>\n",
       "      <th>129</th>\n",
       "      <td>F25572D11112</td>\n",
       "      <td>2981948</td>\n",
       "      <td>E13</td>\n",
       "      <td>50</td>\n",
       "      <td>C</td>\n",
       "      <td>N/A</td>\n",
       "      <td>2013</td>\n",
       "      <td>Not defined</td>\n",
       "      <td>2017-11-29</td>\n",
       "      <td>12 Mon./2000 h</td>\n",
       "      <td>N/A</td>\n",
       "      <td>N/A</td>\n",
       "      <td>2013-12-18 00:00:00</td>\n",
       "      <td>NaN</td>\n",
       "      <td>1</td>\n",
       "      <td>FR</td>\n",
       "      <td>LE616666</td>\n",
       "      <td>AVLB PINA</td>\n",
       "      <td>L</td>\n",
       "    </tr>\n",
       "    <tr>\n",
       "      <th>...</th>\n",
       "      <td>...</td>\n",
       "      <td>...</td>\n",
       "      <td>...</td>\n",
       "      <td>...</td>\n",
       "      <td>...</td>\n",
       "      <td>...</td>\n",
       "      <td>...</td>\n",
       "      <td>...</td>\n",
       "      <td>...</td>\n",
       "      <td>...</td>\n",
       "      <td>...</td>\n",
       "      <td>...</td>\n",
       "      <td>...</td>\n",
       "      <td>...</td>\n",
       "      <td>...</td>\n",
       "      <td>...</td>\n",
       "      <td>...</td>\n",
       "      <td>...</td>\n",
       "      <td>...</td>\n",
       "    </tr>\n",
       "    <tr>\n",
       "      <th>75531</th>\n",
       "      <td>22421261</td>\n",
       "      <td>6109680</td>\n",
       "      <td>unknown</td>\n",
       "      <td>33934592</td>\n",
       "      <td>U</td>\n",
       "      <td>N/A</td>\n",
       "      <td>2016</td>\n",
       "      <td>Not defined</td>\n",
       "      <td>2024-03-22</td>\n",
       "      <td>N/A</td>\n",
       "      <td>N/A</td>\n",
       "      <td>N/A</td>\n",
       "      <td>N/A</td>\n",
       "      <td>NaN</td>\n",
       "      <td>1</td>\n",
       "      <td>NaN</td>\n",
       "      <td>NaN</td>\n",
       "      <td>AVLB</td>\n",
       "      <td>V</td>\n",
       "    </tr>\n",
       "    <tr>\n",
       "      <th>75532</th>\n",
       "      <td>91149257</td>\n",
       "      <td>6109690</td>\n",
       "      <td>unknown</td>\n",
       "      <td>33934592</td>\n",
       "      <td>U</td>\n",
       "      <td>N/A</td>\n",
       "      <td>2016</td>\n",
       "      <td>Not defined</td>\n",
       "      <td>2024-03-22</td>\n",
       "      <td>N/A</td>\n",
       "      <td>N/A</td>\n",
       "      <td>N/A</td>\n",
       "      <td>N/A</td>\n",
       "      <td>NaN</td>\n",
       "      <td>1</td>\n",
       "      <td>NaN</td>\n",
       "      <td>NaN</td>\n",
       "      <td>AVLB</td>\n",
       "      <td>V</td>\n",
       "    </tr>\n",
       "    <tr>\n",
       "      <th>75533</th>\n",
       "      <td>29516965</td>\n",
       "      <td>6109768</td>\n",
       "      <td>unknown</td>\n",
       "      <td>33934592</td>\n",
       "      <td>U</td>\n",
       "      <td>N/A</td>\n",
       "      <td>2016</td>\n",
       "      <td>Not defined</td>\n",
       "      <td>2024-03-22</td>\n",
       "      <td>N/A</td>\n",
       "      <td>N/A</td>\n",
       "      <td>N/A</td>\n",
       "      <td>N/A</td>\n",
       "      <td>NaN</td>\n",
       "      <td>1</td>\n",
       "      <td>NaN</td>\n",
       "      <td>NaN</td>\n",
       "      <td>AVLB</td>\n",
       "      <td>V</td>\n",
       "    </tr>\n",
       "    <tr>\n",
       "      <th>75541</th>\n",
       "      <td>HLI5172622</td>\n",
       "      <td>6111696</td>\n",
       "      <td>E11</td>\n",
       "      <td>33920279</td>\n",
       "      <td>C</td>\n",
       "      <td>N/A</td>\n",
       "      <td>2016</td>\n",
       "      <td>Not defined</td>\n",
       "      <td>2024-03-25</td>\n",
       "      <td>N/A</td>\n",
       "      <td>2024-03-25 00:00:00</td>\n",
       "      <td>N/A</td>\n",
       "      <td>N/A</td>\n",
       "      <td>NaN</td>\n",
       "      <td>1</td>\n",
       "      <td>NaN</td>\n",
       "      <td>LE196666</td>\n",
       "      <td>SOLD</td>\n",
       "      <td>V</td>\n",
       "    </tr>\n",
       "    <tr>\n",
       "      <th>75542</th>\n",
       "      <td>HLI5172659</td>\n",
       "      <td>6112185</td>\n",
       "      <td>E11</td>\n",
       "      <td>33923302</td>\n",
       "      <td>C</td>\n",
       "      <td>N/A</td>\n",
       "      <td>2016</td>\n",
       "      <td>Not defined</td>\n",
       "      <td>2024-03-25</td>\n",
       "      <td>N/A</td>\n",
       "      <td>2024-03-25 00:00:00</td>\n",
       "      <td>N/A</td>\n",
       "      <td>N/A</td>\n",
       "      <td>NaN</td>\n",
       "      <td>1</td>\n",
       "      <td>NaN</td>\n",
       "      <td>LE196666</td>\n",
       "      <td>SOLD</td>\n",
       "      <td>V</td>\n",
       "    </tr>\n",
       "  </tbody>\n",
       "</table>\n",
       "<p>38034 rows × 19 columns</p>\n",
       "</div>"
      ],
      "text/plain": [
       "           serial_number  equipment_id    group  client_code fleet_type  \\\n",
       "11              AJC62569       2979975      E11     33925229          C   \n",
       "15                 51996       2980140      E13     39383374          C   \n",
       "16     BID14195552114297       2980142      E13     33924295          C   \n",
       "53              DTA-6999       2980849      E12     33957850          C   \n",
       "129         F25572D11112       2981948      E13           50          C   \n",
       "...                  ...           ...      ...          ...        ...   \n",
       "75531           22421261       6109680  unknown     33934592          U   \n",
       "75532           91149257       6109690  unknown     33934592          U   \n",
       "75533           29516965       6109768  unknown     33934592          U   \n",
       "75541         HLI5172622       6111696      E11     33920279          C   \n",
       "75542         HLI5172659       6112185      E11     33923302          C   \n",
       "\n",
       "      fixed_asset  construction_year   brand_name created_date  \\\n",
       "11            N/A               2016  Not defined   2017-11-29   \n",
       "15            N/A               2017      KÄRCHER   2017-11-29   \n",
       "16            N/A               2017       Others   2017-11-29   \n",
       "53            N/A               2016       Others   2017-11-29   \n",
       "129           N/A               2013  Not defined   2017-11-29   \n",
       "...           ...                ...          ...          ...   \n",
       "75531         N/A               2016  Not defined   2024-03-22   \n",
       "75532         N/A               2016  Not defined   2024-03-22   \n",
       "75533         N/A               2016  Not defined   2024-03-22   \n",
       "75541         N/A               2016  Not defined   2024-03-25   \n",
       "75542         N/A               2016  Not defined   2024-03-25   \n",
       "\n",
       "        warranty_type   service_start_date    last_service_date  \\\n",
       "11     12 Mon./2000 h  2023-06-06 00:00:00  2023-04-26 00:00:00   \n",
       "15     12 Mon./2000 h  2021-06-07 00:00:00                  N/A   \n",
       "16     12 Mon./2000 h  2021-05-25 00:00:00                  N/A   \n",
       "53     12 Mon./2000 h  2022-07-06 00:00:00  2023-08-10 00:00:00   \n",
       "129    12 Mon./2000 h                  N/A                  N/A   \n",
       "...               ...                  ...                  ...   \n",
       "75531             N/A                  N/A                  N/A   \n",
       "75532             N/A                  N/A                  N/A   \n",
       "75533             N/A                  N/A                  N/A   \n",
       "75541             N/A  2024-03-25 00:00:00                  N/A   \n",
       "75542             N/A  2024-03-25 00:00:00                  N/A   \n",
       "\n",
       "            warranty_start equipment_type_name  construction_month country  \\\n",
       "11     2010-06-30 00:00:00                 NaN                   1     NaN   \n",
       "15     2014-09-30 00:00:00                 NaN                  11     NaN   \n",
       "16     2014-09-30 00:00:00                 NaN                  11     NaN   \n",
       "53     2022-07-06 00:00:00                 NaN                   1     NaN   \n",
       "129    2013-12-18 00:00:00                 NaN                   1      FR   \n",
       "...                    ...                 ...                 ...     ...   \n",
       "75531                  N/A                 NaN                   1     NaN   \n",
       "75532                  N/A                 NaN                   1     NaN   \n",
       "75533                  N/A                 NaN                   1     NaN   \n",
       "75541                  N/A                 NaN                   1     NaN   \n",
       "75542                  N/A                 NaN                   1     NaN   \n",
       "\n",
       "      technician user_status equipment_type  \n",
       "11      KXE-6236        SOLD              C  \n",
       "15      LE616666   SOLD PINA              V  \n",
       "16      LE616666   SOTR PINA              V  \n",
       "53      KXE-6227        SOLD              L  \n",
       "129     LE616666   AVLB PINA              L  \n",
       "...          ...         ...            ...  \n",
       "75531        NaN        AVLB              V  \n",
       "75532        NaN        AVLB              V  \n",
       "75533        NaN        AVLB              V  \n",
       "75541   LE196666        SOLD              V  \n",
       "75542   LE196666        SOLD              V  \n",
       "\n",
       "[38034 rows x 19 columns]"
      ]
     },
     "execution_count": 227,
     "metadata": {},
     "output_type": "execute_result"
    }
   ],
   "source": [
    "#like before, let's check if the nulls in this field have nulls in other relevant fields to see if we can remove some rows.\n",
    "#we could compare it to equipment type but it has 0 null values\n",
    "\n",
    "#let's check serial_number\n",
    "\n",
    "\n",
    "filter_equipment = clean_dataset[clean_dataset.equipment_type_name.isna() & clean_dataset.serial_number.notna()]\n",
    "filter_equipment"
   ]
  },
  {
   "cell_type": "code",
   "execution_count": 228,
   "metadata": {},
   "outputs": [
    {
     "data": {
      "text/plain": [
       "0"
      ]
     },
     "execution_count": 228,
     "metadata": {},
     "output_type": "execute_result"
    }
   ],
   "source": [
    "#okay so for 39303 of the 39303 null values in equipment type we actually have a value in serial number\n",
    "#that makes sense since we deleted the rows without serial numbers\n",
    "#let's fill Nulls with N/A\n",
    "\n",
    "clean_dataset.equipment_type_name = clean_dataset.equipment_type_name.fillna(\"N/A\")\n",
    "clean_dataset.equipment_type_name.isnull().sum()"
   ]
  },
  {
   "cell_type": "markdown",
   "metadata": {},
   "source": [
    "### construction_month"
   ]
  },
  {
   "cell_type": "code",
   "execution_count": 229,
   "metadata": {},
   "outputs": [
    {
     "data": {
      "text/plain": [
       "0"
      ]
     },
     "execution_count": 229,
     "metadata": {},
     "output_type": "execute_result"
    }
   ],
   "source": [
    "clean_dataset.construction_month.isna().sum()"
   ]
  },
  {
   "cell_type": "code",
   "execution_count": 230,
   "metadata": {},
   "outputs": [
    {
     "data": {
      "text/plain": [
       "array([ 6,  5,  9,  1, 11,  7,  3,  4,  2,  8, 10, 12])"
      ]
     },
     "execution_count": 230,
     "metadata": {},
     "output_type": "execute_result"
    }
   ],
   "source": [
    "clean_dataset.construction_month.unique()"
   ]
  },
  {
   "cell_type": "code",
   "execution_count": null,
   "metadata": {},
   "outputs": [],
   "source": []
  },
  {
   "cell_type": "markdown",
   "metadata": {},
   "source": [
    "### country"
   ]
  },
  {
   "cell_type": "code",
   "execution_count": 231,
   "metadata": {},
   "outputs": [
    {
     "data": {
      "text/plain": [
       "39162"
      ]
     },
     "execution_count": 231,
     "metadata": {},
     "output_type": "execute_result"
    }
   ],
   "source": [
    "clean_dataset.country.isna().sum()"
   ]
  },
  {
   "cell_type": "code",
   "execution_count": 232,
   "metadata": {},
   "outputs": [
    {
     "data": {
      "text/plain": [
       "(46608, 19)"
      ]
     },
     "execution_count": 232,
     "metadata": {},
     "output_type": "execute_result"
    }
   ],
   "source": [
    "clean_dataset.shape"
   ]
  },
  {
   "cell_type": "code",
   "execution_count": 233,
   "metadata": {},
   "outputs": [
    {
     "data": {
      "text/plain": [
       "array([nan, 'DE', 'CN', 'GB', 'CZ', 'IT', 'FR', 'PL', 'AM', 'ES'],\n",
       "      dtype=object)"
      ]
     },
     "execution_count": 233,
     "metadata": {},
     "output_type": "execute_result"
    }
   ],
   "source": [
    "clean_dataset.country.unique()"
   ]
  },
  {
   "cell_type": "markdown",
   "metadata": {},
   "source": [
    "### technician\n",
    "\n",
    "Pto.tbjo.responsable. Técnico asignado al equipo.\n",
    "\n",
    "this seems like a metric that could expire and become redundant for future systems"
   ]
  },
  {
   "cell_type": "code",
   "execution_count": 234,
   "metadata": {},
   "outputs": [
    {
     "data": {
      "text/plain": [
       "37071"
      ]
     },
     "execution_count": 234,
     "metadata": {},
     "output_type": "execute_result"
    }
   ],
   "source": [
    "clean_dataset.technician.isna().sum()"
   ]
  },
  {
   "cell_type": "code",
   "execution_count": 235,
   "metadata": {},
   "outputs": [
    {
     "data": {
      "text/plain": [
       "LE196666    2296\n",
       "LE616666     787\n",
       "KXE-6278     219\n",
       "KXE-6642     214\n",
       "KXE-6614     206\n",
       "            ... \n",
       "KXE-6126       1\n",
       "KXE-6115       1\n",
       "KXE-6189       1\n",
       "KXE-6672       1\n",
       "KXE-6218       1\n",
       "Name: technician, Length: 100, dtype: int64"
      ]
     },
     "execution_count": 235,
     "metadata": {},
     "output_type": "execute_result"
    }
   ],
   "source": [
    "clean_dataset.technician.value_counts()"
   ]
  },
  {
   "cell_type": "code",
   "execution_count": 236,
   "metadata": {},
   "outputs": [
    {
     "data": {
      "text/plain": [
       "array(['KXE-6156', nan, 'KXE-6157', 'LE616666', 'KXE-6236', 'KXE-6626',\n",
       "       'KXE-6633', 'KXE-6659', 'KXE-6227', 'KXE-6664', 'KXE-6642',\n",
       "       'KXE-6663', 'KXE-6149', 'KXE-6215', 'KXE-6629', 'KXE-6653',\n",
       "       'KXE-6641', 'KXE-6269', 'KXE-6171', 'KXE-6647', 'KXE-6658',\n",
       "       'KXE-6263', 'KXE-6644', 'KXE-6614', 'KXE-6212', 'KXE-6624',\n",
       "       'KXE-6617', 'KXE-6223', 'KXE-6649', 'KXE-6656', 'KXE-6635',\n",
       "       'KXE-6276', 'KXE-6278', 'KXE-6646', 'KXE-6619', 'KXE-6266',\n",
       "       'KXE-6657', 'KXE-6654', 'KXE-6655', 'KXE-6191', 'KXE-6143',\n",
       "       'LE686666', 'KXE-6634', 'KXE-6228', 'KXE-6639', 'KXE-6148',\n",
       "       'KXE-6146', 'KXE-6666', 'KXE-6187', 'KXE-6271', 'KXE-6621',\n",
       "       'KXE-6618', 'KXE-6264', 'KXE-6686', 'KXE-6183', 'KXE-6175',\n",
       "       'KXE-6178', 'KXE-6126', 'KXE-6142', 'KXE-6256', 'KXE-6196',\n",
       "       'KXE-6238', 'KXE-6158', 'KXE-6683', 'KXE-6622', 'KXE-6166',\n",
       "       'KXE-6268', 'KXE-6672', 'KXE-6677', 'KXE-6189', 'KXE-6144',\n",
       "       'KXE-6231', 'KXE-6115', 'LE196666', 'KXE-6188', 'KXE-6113',\n",
       "       'KXE-6697', 'KXE-6114', 'KXE-6638', 'KXE-6193', 'KXE-6153',\n",
       "       'LE636666', 'KXE-6676', 'KXE-6261', 'KXE-6135', 'KXE-6169',\n",
       "       'KXE-6287', 'KXE-6662', 'LPT-6176', 'KXE-6361', 'LPT-6186',\n",
       "       'KXE-6168', 'KXE-6162', 'KXE-6316', 'KXE-6687', 'KXE-6363',\n",
       "       'KXE-6282', 'LE626666', 'KXE-6314', 'KXE-6283', 'KXE-6218'],\n",
       "      dtype=object)"
      ]
     },
     "execution_count": 236,
     "metadata": {},
     "output_type": "execute_result"
    }
   ],
   "source": [
    "clean_dataset.technician.unique()"
   ]
  },
  {
   "cell_type": "code",
   "execution_count": 237,
   "metadata": {},
   "outputs": [],
   "source": [
    "#we only have 104 unique technician ids. And 36964 are null values"
   ]
  },
  {
   "cell_type": "markdown",
   "metadata": {},
   "source": [
    "### user_status\n",
    "\n",
    "Status de Usuario. Solo tener en cuenta, estado PINA, significa que se lleva dos años sin dar servicio al equipo.\n",
    "\n"
   ]
  },
  {
   "cell_type": "code",
   "execution_count": 238,
   "metadata": {},
   "outputs": [
    {
     "data": {
      "text/plain": [
       "36246"
      ]
     },
     "execution_count": 238,
     "metadata": {},
     "output_type": "execute_result"
    }
   ],
   "source": [
    "clean_dataset.user_status.isna().sum()"
   ]
  },
  {
   "cell_type": "code",
   "execution_count": 239,
   "metadata": {},
   "outputs": [
    {
     "data": {
      "text/plain": [
       "array(['AWIN', 'AVLB', 'SOLD RSVD', 'SOTR', 'SOTR PINA', 'SOLD',\n",
       "       'SOLD PINA', 'SOTR PINA RSVD', 'SOTR RSVD', 'AVLB PINA', 'HIRE',\n",
       "       'SOTR AVLB PINA RESH', 'AVLB PINA RESH', 'HIRE PINA', 'AWIN PINA',\n",
       "       'NORE PINA', 'AVLB PINA RSVD', 'SCRA PINA', 'SOLD PINA RESH',\n",
       "       'SOTR RESH', 'SOTR AVLB', 'SOTR PINA RESH', 'SOLD RESH',\n",
       "       'SOTR RESH RSVD', 'AWIN RESH', 'AWIP', 'AWIN RSVD',\n",
       "       'SOLD PINA RSVD', 'HIRE RESH', 'NORE', 'AWIP RESH', 'AVLB RESH',\n",
       "       'AVLB RSVD', 'SOTR AVLB PINA', 'SOTR AVLB RSVD', 'AWIN PINA RESH',\n",
       "       'STOL PINA', nan, 'NOKN PINA', 'AWIP RSVD', 'SCRA',\n",
       "       'AWIP HIRE RESH', 'NORE RESH', 'SOTR FTRA PINA'], dtype=object)"
      ]
     },
     "execution_count": 239,
     "metadata": {},
     "output_type": "execute_result"
    }
   ],
   "source": [
    "clean_dataset.user_status.unique()"
   ]
  },
  {
   "cell_type": "code",
   "execution_count": 240,
   "metadata": {},
   "outputs": [
    {
     "data": {
      "text/html": [
       "<div>\n",
       "<style scoped>\n",
       "    .dataframe tbody tr th:only-of-type {\n",
       "        vertical-align: middle;\n",
       "    }\n",
       "\n",
       "    .dataframe tbody tr th {\n",
       "        vertical-align: top;\n",
       "    }\n",
       "\n",
       "    .dataframe thead th {\n",
       "        text-align: right;\n",
       "    }\n",
       "</style>\n",
       "<table border=\"1\" class=\"dataframe\">\n",
       "  <thead>\n",
       "    <tr style=\"text-align: right;\">\n",
       "      <th></th>\n",
       "      <th>serial_number</th>\n",
       "      <th>equipment_id</th>\n",
       "      <th>group</th>\n",
       "      <th>client_code</th>\n",
       "      <th>fleet_type</th>\n",
       "      <th>fixed_asset</th>\n",
       "      <th>construction_year</th>\n",
       "      <th>brand_name</th>\n",
       "      <th>created_date</th>\n",
       "      <th>warranty_type</th>\n",
       "      <th>service_start_date</th>\n",
       "      <th>last_service_date</th>\n",
       "      <th>warranty_start</th>\n",
       "      <th>equipment_type_name</th>\n",
       "      <th>construction_month</th>\n",
       "      <th>country</th>\n",
       "      <th>technician</th>\n",
       "      <th>user_status</th>\n",
       "      <th>equipment_type</th>\n",
       "      <th>is_inactive</th>\n",
       "    </tr>\n",
       "  </thead>\n",
       "  <tbody>\n",
       "    <tr>\n",
       "      <th>2</th>\n",
       "      <td>W4X979W12995</td>\n",
       "      <td>1290040</td>\n",
       "      <td>E82</td>\n",
       "      <td>33927373</td>\n",
       "      <td>C</td>\n",
       "      <td>N/A</td>\n",
       "      <td>2008</td>\n",
       "      <td>LINDE</td>\n",
       "      <td>2012-12-18</td>\n",
       "      <td>N/A</td>\n",
       "      <td>2008-05-29 00:00:00</td>\n",
       "      <td>2023-09-19 00:00:00</td>\n",
       "      <td>N/A</td>\n",
       "      <td>Apilador</td>\n",
       "      <td>6</td>\n",
       "      <td>NaN</td>\n",
       "      <td>KXE-6156</td>\n",
       "      <td>AWIN</td>\n",
       "      <td>L</td>\n",
       "      <td>False</td>\n",
       "    </tr>\n",
       "    <tr>\n",
       "      <th>3</th>\n",
       "      <td>H2X994R11511</td>\n",
       "      <td>1306179</td>\n",
       "      <td>unknown</td>\n",
       "      <td>33922280</td>\n",
       "      <td>N</td>\n",
       "      <td>N/A</td>\n",
       "      <td>2004</td>\n",
       "      <td>LINDE</td>\n",
       "      <td>2012-12-18</td>\n",
       "      <td>N/A</td>\n",
       "      <td>2004-04-30 00:00:00</td>\n",
       "      <td>2023-05-24 00:00:00</td>\n",
       "      <td>N/A</td>\n",
       "      <td>Contrapesada térmica</td>\n",
       "      <td>5</td>\n",
       "      <td>NaN</td>\n",
       "      <td>NaN</td>\n",
       "      <td>AVLB</td>\n",
       "      <td>L</td>\n",
       "      <td>False</td>\n",
       "    </tr>\n",
       "    <tr>\n",
       "      <th>7</th>\n",
       "      <td>H2X926C19625</td>\n",
       "      <td>2205572</td>\n",
       "      <td>E12</td>\n",
       "      <td>39327943</td>\n",
       "      <td>C</td>\n",
       "      <td>N/A</td>\n",
       "      <td>2012</td>\n",
       "      <td>LINDE</td>\n",
       "      <td>2015-12-05</td>\n",
       "      <td>12mon/900hrs</td>\n",
       "      <td>2020-10-08 00:00:00</td>\n",
       "      <td>2024-03-14 00:00:00</td>\n",
       "      <td>2020-12-18 00:00:00</td>\n",
       "      <td>Contrapesada eléctrica</td>\n",
       "      <td>5</td>\n",
       "      <td>DE</td>\n",
       "      <td>KXE-6157</td>\n",
       "      <td>SOLD RSVD</td>\n",
       "      <td>L</td>\n",
       "      <td>False</td>\n",
       "    </tr>\n",
       "    <tr>\n",
       "      <th>8</th>\n",
       "      <td>W45552G19154</td>\n",
       "      <td>2576292</td>\n",
       "      <td>unknown</td>\n",
       "      <td>383</td>\n",
       "      <td>C</td>\n",
       "      <td>N/A</td>\n",
       "      <td>2016</td>\n",
       "      <td>LINDE</td>\n",
       "      <td>2016-09-23</td>\n",
       "      <td>12 Mon./2000 h</td>\n",
       "      <td>2022-09-21 00:00:00</td>\n",
       "      <td>2023-06-27 00:00:00</td>\n",
       "      <td>2016-10-25 00:00:00</td>\n",
       "      <td>Transpaleta eléctrica</td>\n",
       "      <td>9</td>\n",
       "      <td>NaN</td>\n",
       "      <td>NaN</td>\n",
       "      <td>SOTR</td>\n",
       "      <td>L</td>\n",
       "      <td>False</td>\n",
       "    </tr>\n",
       "    <tr>\n",
       "      <th>9</th>\n",
       "      <td>AE512955</td>\n",
       "      <td>2979962</td>\n",
       "      <td>E11</td>\n",
       "      <td>33923773</td>\n",
       "      <td>C</td>\n",
       "      <td>N/A</td>\n",
       "      <td>2016</td>\n",
       "      <td>Others</td>\n",
       "      <td>2017-11-29</td>\n",
       "      <td>12 Mon./2000 h</td>\n",
       "      <td>2019-04-16 00:00:00</td>\n",
       "      <td>2019-08-19 00:00:00</td>\n",
       "      <td>2007-03-20 00:00:00</td>\n",
       "      <td>Batería</td>\n",
       "      <td>1</td>\n",
       "      <td>NaN</td>\n",
       "      <td>LE616666</td>\n",
       "      <td>SOTR PINA</td>\n",
       "      <td>C</td>\n",
       "      <td>True</td>\n",
       "    </tr>\n",
       "    <tr>\n",
       "      <th>...</th>\n",
       "      <td>...</td>\n",
       "      <td>...</td>\n",
       "      <td>...</td>\n",
       "      <td>...</td>\n",
       "      <td>...</td>\n",
       "      <td>...</td>\n",
       "      <td>...</td>\n",
       "      <td>...</td>\n",
       "      <td>...</td>\n",
       "      <td>...</td>\n",
       "      <td>...</td>\n",
       "      <td>...</td>\n",
       "      <td>...</td>\n",
       "      <td>...</td>\n",
       "      <td>...</td>\n",
       "      <td>...</td>\n",
       "      <td>...</td>\n",
       "      <td>...</td>\n",
       "      <td>...</td>\n",
       "      <td>...</td>\n",
       "    </tr>\n",
       "    <tr>\n",
       "      <th>75532</th>\n",
       "      <td>91149257</td>\n",
       "      <td>6109690</td>\n",
       "      <td>unknown</td>\n",
       "      <td>33934592</td>\n",
       "      <td>U</td>\n",
       "      <td>N/A</td>\n",
       "      <td>2016</td>\n",
       "      <td>Not defined</td>\n",
       "      <td>2024-03-22</td>\n",
       "      <td>N/A</td>\n",
       "      <td>N/A</td>\n",
       "      <td>N/A</td>\n",
       "      <td>N/A</td>\n",
       "      <td>N/A</td>\n",
       "      <td>1</td>\n",
       "      <td>NaN</td>\n",
       "      <td>NaN</td>\n",
       "      <td>AVLB</td>\n",
       "      <td>V</td>\n",
       "      <td>False</td>\n",
       "    </tr>\n",
       "    <tr>\n",
       "      <th>75533</th>\n",
       "      <td>29516965</td>\n",
       "      <td>6109768</td>\n",
       "      <td>unknown</td>\n",
       "      <td>33934592</td>\n",
       "      <td>U</td>\n",
       "      <td>N/A</td>\n",
       "      <td>2016</td>\n",
       "      <td>Not defined</td>\n",
       "      <td>2024-03-22</td>\n",
       "      <td>N/A</td>\n",
       "      <td>N/A</td>\n",
       "      <td>N/A</td>\n",
       "      <td>N/A</td>\n",
       "      <td>N/A</td>\n",
       "      <td>1</td>\n",
       "      <td>NaN</td>\n",
       "      <td>NaN</td>\n",
       "      <td>AVLB</td>\n",
       "      <td>V</td>\n",
       "      <td>False</td>\n",
       "    </tr>\n",
       "    <tr>\n",
       "      <th>75541</th>\n",
       "      <td>HLI5172622</td>\n",
       "      <td>6111696</td>\n",
       "      <td>E11</td>\n",
       "      <td>33920279</td>\n",
       "      <td>C</td>\n",
       "      <td>N/A</td>\n",
       "      <td>2016</td>\n",
       "      <td>Not defined</td>\n",
       "      <td>2024-03-25</td>\n",
       "      <td>N/A</td>\n",
       "      <td>2024-03-25 00:00:00</td>\n",
       "      <td>N/A</td>\n",
       "      <td>N/A</td>\n",
       "      <td>N/A</td>\n",
       "      <td>1</td>\n",
       "      <td>NaN</td>\n",
       "      <td>LE196666</td>\n",
       "      <td>SOLD</td>\n",
       "      <td>V</td>\n",
       "      <td>False</td>\n",
       "    </tr>\n",
       "    <tr>\n",
       "      <th>75542</th>\n",
       "      <td>HLI5172659</td>\n",
       "      <td>6112185</td>\n",
       "      <td>E11</td>\n",
       "      <td>33923302</td>\n",
       "      <td>C</td>\n",
       "      <td>N/A</td>\n",
       "      <td>2016</td>\n",
       "      <td>Not defined</td>\n",
       "      <td>2024-03-25</td>\n",
       "      <td>N/A</td>\n",
       "      <td>2024-03-25 00:00:00</td>\n",
       "      <td>N/A</td>\n",
       "      <td>N/A</td>\n",
       "      <td>N/A</td>\n",
       "      <td>1</td>\n",
       "      <td>NaN</td>\n",
       "      <td>LE196666</td>\n",
       "      <td>SOLD</td>\n",
       "      <td>V</td>\n",
       "      <td>False</td>\n",
       "    </tr>\n",
       "    <tr>\n",
       "      <th>75548</th>\n",
       "      <td>W45565N11195</td>\n",
       "      <td>6118220</td>\n",
       "      <td>E11</td>\n",
       "      <td>33934507</td>\n",
       "      <td>R</td>\n",
       "      <td>N/A</td>\n",
       "      <td>2024</td>\n",
       "      <td>LINDE</td>\n",
       "      <td>2024-03-29</td>\n",
       "      <td>12 Mon./2000 h</td>\n",
       "      <td>2024-04-03 00:00:00</td>\n",
       "      <td>N/A</td>\n",
       "      <td>2024-04-03 00:00:00</td>\n",
       "      <td>Apilador</td>\n",
       "      <td>3</td>\n",
       "      <td>FR</td>\n",
       "      <td>LE196666</td>\n",
       "      <td>AVLB</td>\n",
       "      <td>L</td>\n",
       "      <td>False</td>\n",
       "    </tr>\n",
       "  </tbody>\n",
       "</table>\n",
       "<p>46608 rows × 20 columns</p>\n",
       "</div>"
      ],
      "text/plain": [
       "      serial_number  equipment_id    group  client_code fleet_type  \\\n",
       "2      W4X979W12995       1290040      E82     33927373          C   \n",
       "3      H2X994R11511       1306179  unknown     33922280          N   \n",
       "7      H2X926C19625       2205572      E12     39327943          C   \n",
       "8      W45552G19154       2576292  unknown          383          C   \n",
       "9          AE512955       2979962      E11     33923773          C   \n",
       "...             ...           ...      ...          ...        ...   \n",
       "75532      91149257       6109690  unknown     33934592          U   \n",
       "75533      29516965       6109768  unknown     33934592          U   \n",
       "75541    HLI5172622       6111696      E11     33920279          C   \n",
       "75542    HLI5172659       6112185      E11     33923302          C   \n",
       "75548  W45565N11195       6118220      E11     33934507          R   \n",
       "\n",
       "      fixed_asset  construction_year   brand_name created_date  \\\n",
       "2             N/A               2008        LINDE   2012-12-18   \n",
       "3             N/A               2004        LINDE   2012-12-18   \n",
       "7             N/A               2012        LINDE   2015-12-05   \n",
       "8             N/A               2016        LINDE   2016-09-23   \n",
       "9             N/A               2016       Others   2017-11-29   \n",
       "...           ...                ...          ...          ...   \n",
       "75532         N/A               2016  Not defined   2024-03-22   \n",
       "75533         N/A               2016  Not defined   2024-03-22   \n",
       "75541         N/A               2016  Not defined   2024-03-25   \n",
       "75542         N/A               2016  Not defined   2024-03-25   \n",
       "75548         N/A               2024        LINDE   2024-03-29   \n",
       "\n",
       "        warranty_type   service_start_date    last_service_date  \\\n",
       "2                 N/A  2008-05-29 00:00:00  2023-09-19 00:00:00   \n",
       "3                 N/A  2004-04-30 00:00:00  2023-05-24 00:00:00   \n",
       "7        12mon/900hrs  2020-10-08 00:00:00  2024-03-14 00:00:00   \n",
       "8      12 Mon./2000 h  2022-09-21 00:00:00  2023-06-27 00:00:00   \n",
       "9      12 Mon./2000 h  2019-04-16 00:00:00  2019-08-19 00:00:00   \n",
       "...               ...                  ...                  ...   \n",
       "75532             N/A                  N/A                  N/A   \n",
       "75533             N/A                  N/A                  N/A   \n",
       "75541             N/A  2024-03-25 00:00:00                  N/A   \n",
       "75542             N/A  2024-03-25 00:00:00                  N/A   \n",
       "75548  12 Mon./2000 h  2024-04-03 00:00:00                  N/A   \n",
       "\n",
       "            warranty_start     equipment_type_name  construction_month  \\\n",
       "2                      N/A                Apilador                   6   \n",
       "3                      N/A    Contrapesada térmica                   5   \n",
       "7      2020-12-18 00:00:00  Contrapesada eléctrica                   5   \n",
       "8      2016-10-25 00:00:00   Transpaleta eléctrica                   9   \n",
       "9      2007-03-20 00:00:00                 Batería                   1   \n",
       "...                    ...                     ...                 ...   \n",
       "75532                  N/A                     N/A                   1   \n",
       "75533                  N/A                     N/A                   1   \n",
       "75541                  N/A                     N/A                   1   \n",
       "75542                  N/A                     N/A                   1   \n",
       "75548  2024-04-03 00:00:00                Apilador                   3   \n",
       "\n",
       "      country technician user_status equipment_type  is_inactive  \n",
       "2         NaN   KXE-6156        AWIN              L        False  \n",
       "3         NaN        NaN        AVLB              L        False  \n",
       "7          DE   KXE-6157   SOLD RSVD              L        False  \n",
       "8         NaN        NaN        SOTR              L        False  \n",
       "9         NaN   LE616666   SOTR PINA              C         True  \n",
       "...       ...        ...         ...            ...          ...  \n",
       "75532     NaN        NaN        AVLB              V        False  \n",
       "75533     NaN        NaN        AVLB              V        False  \n",
       "75541     NaN   LE196666        SOLD              V        False  \n",
       "75542     NaN   LE196666        SOLD              V        False  \n",
       "75548      FR   LE196666        AVLB              L        False  \n",
       "\n",
       "[46608 rows x 20 columns]"
      ]
     },
     "execution_count": 240,
     "metadata": {},
     "output_type": "execute_result"
    }
   ],
   "source": [
    "#since it seems we only care about the PINA status, I will create another column called \"is_inactive\" and return True or False depending on PINA from the user status column\n",
    "\n",
    "clean_dataset['is_inactive'] = clean_dataset['user_status'].str.contains('PINA', case=False, na=False)\n",
    "\n",
    "clean_dataset"
   ]
  },
  {
   "cell_type": "code",
   "execution_count": 241,
   "metadata": {},
   "outputs": [],
   "source": [
    "#now we can drop the user status column\n",
    "\n",
    "clean_dataset = clean_dataset.drop(columns=['user_status'])"
   ]
  },
  {
   "cell_type": "code",
   "execution_count": 242,
   "metadata": {},
   "outputs": [
    {
     "data": {
      "text/html": [
       "<div>\n",
       "<style scoped>\n",
       "    .dataframe tbody tr th:only-of-type {\n",
       "        vertical-align: middle;\n",
       "    }\n",
       "\n",
       "    .dataframe tbody tr th {\n",
       "        vertical-align: top;\n",
       "    }\n",
       "\n",
       "    .dataframe thead th {\n",
       "        text-align: right;\n",
       "    }\n",
       "</style>\n",
       "<table border=\"1\" class=\"dataframe\">\n",
       "  <thead>\n",
       "    <tr style=\"text-align: right;\">\n",
       "      <th></th>\n",
       "      <th>serial_number</th>\n",
       "      <th>equipment_id</th>\n",
       "      <th>group</th>\n",
       "      <th>client_code</th>\n",
       "      <th>fleet_type</th>\n",
       "      <th>fixed_asset</th>\n",
       "      <th>construction_year</th>\n",
       "      <th>brand_name</th>\n",
       "      <th>created_date</th>\n",
       "      <th>warranty_type</th>\n",
       "      <th>service_start_date</th>\n",
       "      <th>last_service_date</th>\n",
       "      <th>warranty_start</th>\n",
       "      <th>equipment_type_name</th>\n",
       "      <th>construction_month</th>\n",
       "      <th>country</th>\n",
       "      <th>technician</th>\n",
       "      <th>equipment_type</th>\n",
       "      <th>is_inactive</th>\n",
       "    </tr>\n",
       "  </thead>\n",
       "  <tbody>\n",
       "    <tr>\n",
       "      <th>2</th>\n",
       "      <td>W4X979W12995</td>\n",
       "      <td>1290040</td>\n",
       "      <td>E82</td>\n",
       "      <td>33927373</td>\n",
       "      <td>C</td>\n",
       "      <td>N/A</td>\n",
       "      <td>2008</td>\n",
       "      <td>LINDE</td>\n",
       "      <td>2012-12-18</td>\n",
       "      <td>N/A</td>\n",
       "      <td>2008-05-29 00:00:00</td>\n",
       "      <td>2023-09-19 00:00:00</td>\n",
       "      <td>N/A</td>\n",
       "      <td>Apilador</td>\n",
       "      <td>6</td>\n",
       "      <td>NaN</td>\n",
       "      <td>KXE-6156</td>\n",
       "      <td>L</td>\n",
       "      <td>False</td>\n",
       "    </tr>\n",
       "    <tr>\n",
       "      <th>3</th>\n",
       "      <td>H2X994R11511</td>\n",
       "      <td>1306179</td>\n",
       "      <td>unknown</td>\n",
       "      <td>33922280</td>\n",
       "      <td>N</td>\n",
       "      <td>N/A</td>\n",
       "      <td>2004</td>\n",
       "      <td>LINDE</td>\n",
       "      <td>2012-12-18</td>\n",
       "      <td>N/A</td>\n",
       "      <td>2004-04-30 00:00:00</td>\n",
       "      <td>2023-05-24 00:00:00</td>\n",
       "      <td>N/A</td>\n",
       "      <td>Contrapesada térmica</td>\n",
       "      <td>5</td>\n",
       "      <td>NaN</td>\n",
       "      <td>NaN</td>\n",
       "      <td>L</td>\n",
       "      <td>False</td>\n",
       "    </tr>\n",
       "    <tr>\n",
       "      <th>7</th>\n",
       "      <td>H2X926C19625</td>\n",
       "      <td>2205572</td>\n",
       "      <td>E12</td>\n",
       "      <td>39327943</td>\n",
       "      <td>C</td>\n",
       "      <td>N/A</td>\n",
       "      <td>2012</td>\n",
       "      <td>LINDE</td>\n",
       "      <td>2015-12-05</td>\n",
       "      <td>12mon/900hrs</td>\n",
       "      <td>2020-10-08 00:00:00</td>\n",
       "      <td>2024-03-14 00:00:00</td>\n",
       "      <td>2020-12-18 00:00:00</td>\n",
       "      <td>Contrapesada eléctrica</td>\n",
       "      <td>5</td>\n",
       "      <td>DE</td>\n",
       "      <td>KXE-6157</td>\n",
       "      <td>L</td>\n",
       "      <td>False</td>\n",
       "    </tr>\n",
       "    <tr>\n",
       "      <th>8</th>\n",
       "      <td>W45552G19154</td>\n",
       "      <td>2576292</td>\n",
       "      <td>unknown</td>\n",
       "      <td>383</td>\n",
       "      <td>C</td>\n",
       "      <td>N/A</td>\n",
       "      <td>2016</td>\n",
       "      <td>LINDE</td>\n",
       "      <td>2016-09-23</td>\n",
       "      <td>12 Mon./2000 h</td>\n",
       "      <td>2022-09-21 00:00:00</td>\n",
       "      <td>2023-06-27 00:00:00</td>\n",
       "      <td>2016-10-25 00:00:00</td>\n",
       "      <td>Transpaleta eléctrica</td>\n",
       "      <td>9</td>\n",
       "      <td>NaN</td>\n",
       "      <td>NaN</td>\n",
       "      <td>L</td>\n",
       "      <td>False</td>\n",
       "    </tr>\n",
       "    <tr>\n",
       "      <th>9</th>\n",
       "      <td>AE512955</td>\n",
       "      <td>2979962</td>\n",
       "      <td>E11</td>\n",
       "      <td>33923773</td>\n",
       "      <td>C</td>\n",
       "      <td>N/A</td>\n",
       "      <td>2016</td>\n",
       "      <td>Others</td>\n",
       "      <td>2017-11-29</td>\n",
       "      <td>12 Mon./2000 h</td>\n",
       "      <td>2019-04-16 00:00:00</td>\n",
       "      <td>2019-08-19 00:00:00</td>\n",
       "      <td>2007-03-20 00:00:00</td>\n",
       "      <td>Batería</td>\n",
       "      <td>1</td>\n",
       "      <td>NaN</td>\n",
       "      <td>LE616666</td>\n",
       "      <td>C</td>\n",
       "      <td>True</td>\n",
       "    </tr>\n",
       "  </tbody>\n",
       "</table>\n",
       "</div>"
      ],
      "text/plain": [
       "  serial_number  equipment_id    group  client_code fleet_type fixed_asset  \\\n",
       "2  W4X979W12995       1290040      E82     33927373          C         N/A   \n",
       "3  H2X994R11511       1306179  unknown     33922280          N         N/A   \n",
       "7  H2X926C19625       2205572      E12     39327943          C         N/A   \n",
       "8  W45552G19154       2576292  unknown          383          C         N/A   \n",
       "9      AE512955       2979962      E11     33923773          C         N/A   \n",
       "\n",
       "   construction_year brand_name created_date   warranty_type  \\\n",
       "2               2008      LINDE   2012-12-18             N/A   \n",
       "3               2004      LINDE   2012-12-18             N/A   \n",
       "7               2012      LINDE   2015-12-05    12mon/900hrs   \n",
       "8               2016      LINDE   2016-09-23  12 Mon./2000 h   \n",
       "9               2016     Others   2017-11-29  12 Mon./2000 h   \n",
       "\n",
       "    service_start_date    last_service_date       warranty_start  \\\n",
       "2  2008-05-29 00:00:00  2023-09-19 00:00:00                  N/A   \n",
       "3  2004-04-30 00:00:00  2023-05-24 00:00:00                  N/A   \n",
       "7  2020-10-08 00:00:00  2024-03-14 00:00:00  2020-12-18 00:00:00   \n",
       "8  2022-09-21 00:00:00  2023-06-27 00:00:00  2016-10-25 00:00:00   \n",
       "9  2019-04-16 00:00:00  2019-08-19 00:00:00  2007-03-20 00:00:00   \n",
       "\n",
       "      equipment_type_name  construction_month country technician  \\\n",
       "2                Apilador                   6     NaN   KXE-6156   \n",
       "3    Contrapesada térmica                   5     NaN        NaN   \n",
       "7  Contrapesada eléctrica                   5      DE   KXE-6157   \n",
       "8   Transpaleta eléctrica                   9     NaN        NaN   \n",
       "9                 Batería                   1     NaN   LE616666   \n",
       "\n",
       "  equipment_type  is_inactive  \n",
       "2              L        False  \n",
       "3              L        False  \n",
       "7              L        False  \n",
       "8              L        False  \n",
       "9              C         True  "
      ]
     },
     "execution_count": 242,
     "metadata": {},
     "output_type": "execute_result"
    }
   ],
   "source": [
    "clean_dataset.head()"
   ]
  },
  {
   "cell_type": "code",
   "execution_count": 243,
   "metadata": {},
   "outputs": [
    {
     "data": {
      "text/plain": [
       "0"
      ]
     },
     "execution_count": 243,
     "metadata": {},
     "output_type": "execute_result"
    }
   ],
   "source": [
    "clean_dataset.is_inactive.isnull().sum()"
   ]
  },
  {
   "cell_type": "code",
   "execution_count": 244,
   "metadata": {},
   "outputs": [
    {
     "name": "stdout",
     "output_type": "stream",
     "text": [
      "<class 'pandas.core.series.Series'>\n",
      "Int64Index: 46608 entries, 2 to 75548\n",
      "Series name: is_inactive\n",
      "Non-Null Count  Dtype\n",
      "--------------  -----\n",
      "46608 non-null  bool \n",
      "dtypes: bool(1)\n",
      "memory usage: 409.6 KB\n"
     ]
    }
   ],
   "source": [
    "clean_dataset.is_inactive.info()"
   ]
  },
  {
   "cell_type": "markdown",
   "metadata": {},
   "source": [
    "### equipment_type\n",
    "\n",
    "This is one of the relevant ones\n",
    "\n",
    "Tipo de Equipo. \n",
    "\n",
    "C Máquina de la competencia/D Máquina Dummy/G Máquina Demo /L Máquina Linde Mh /O Otros Equipos/ V Componentes Aislados"
   ]
  },
  {
   "cell_type": "code",
   "execution_count": 245,
   "metadata": {},
   "outputs": [
    {
     "data": {
      "text/plain": [
       "0"
      ]
     },
     "execution_count": 245,
     "metadata": {},
     "output_type": "execute_result"
    }
   ],
   "source": [
    "clean_dataset.equipment_type.isnull().sum()"
   ]
  },
  {
   "cell_type": "code",
   "execution_count": 246,
   "metadata": {},
   "outputs": [
    {
     "data": {
      "text/plain": [
       "array(['L', 'C', 'V', 'O', 'G'], dtype=object)"
      ]
     },
     "execution_count": 246,
     "metadata": {},
     "output_type": "execute_result"
    }
   ],
   "source": [
    "clean_dataset.equipment_type.unique()"
   ]
  },
  {
   "cell_type": "code",
   "execution_count": 247,
   "metadata": {},
   "outputs": [
    {
     "data": {
      "text/html": [
       "<div>\n",
       "<style scoped>\n",
       "    .dataframe tbody tr th:only-of-type {\n",
       "        vertical-align: middle;\n",
       "    }\n",
       "\n",
       "    .dataframe tbody tr th {\n",
       "        vertical-align: top;\n",
       "    }\n",
       "\n",
       "    .dataframe thead th {\n",
       "        text-align: right;\n",
       "    }\n",
       "</style>\n",
       "<table border=\"1\" class=\"dataframe\">\n",
       "  <thead>\n",
       "    <tr style=\"text-align: right;\">\n",
       "      <th></th>\n",
       "      <th>serial_number</th>\n",
       "      <th>equipment_id</th>\n",
       "      <th>group</th>\n",
       "      <th>client_code</th>\n",
       "      <th>fleet_type</th>\n",
       "      <th>fixed_asset</th>\n",
       "      <th>construction_year</th>\n",
       "      <th>brand_name</th>\n",
       "      <th>created_date</th>\n",
       "      <th>warranty_type</th>\n",
       "      <th>service_start_date</th>\n",
       "      <th>last_service_date</th>\n",
       "      <th>warranty_start</th>\n",
       "      <th>equipment_type_name</th>\n",
       "      <th>construction_month</th>\n",
       "      <th>country</th>\n",
       "      <th>technician</th>\n",
       "      <th>equipment_type</th>\n",
       "      <th>is_inactive</th>\n",
       "    </tr>\n",
       "  </thead>\n",
       "  <tbody>\n",
       "    <tr>\n",
       "      <th>87</th>\n",
       "      <td>E5X959T11997</td>\n",
       "      <td>2981314</td>\n",
       "      <td>E11</td>\n",
       "      <td>33923773</td>\n",
       "      <td>C</td>\n",
       "      <td>N/A</td>\n",
       "      <td>2006</td>\n",
       "      <td>Not defined</td>\n",
       "      <td>2017-11-29</td>\n",
       "      <td>12 Mon./2000 h</td>\n",
       "      <td>2019-12-23 00:00:00</td>\n",
       "      <td>2019-06-11 00:00:00</td>\n",
       "      <td>2006-11-24 00:00:00</td>\n",
       "      <td>Contrapesada térmica</td>\n",
       "      <td>1</td>\n",
       "      <td>GB</td>\n",
       "      <td>KXE-6629</td>\n",
       "      <td>L</td>\n",
       "      <td>True</td>\n",
       "    </tr>\n",
       "    <tr>\n",
       "      <th>129</th>\n",
       "      <td>F25572D11112</td>\n",
       "      <td>2981948</td>\n",
       "      <td>E13</td>\n",
       "      <td>50</td>\n",
       "      <td>C</td>\n",
       "      <td>N/A</td>\n",
       "      <td>2013</td>\n",
       "      <td>Not defined</td>\n",
       "      <td>2017-11-29</td>\n",
       "      <td>12 Mon./2000 h</td>\n",
       "      <td>N/A</td>\n",
       "      <td>N/A</td>\n",
       "      <td>2013-12-18 00:00:00</td>\n",
       "      <td>N/A</td>\n",
       "      <td>1</td>\n",
       "      <td>FR</td>\n",
       "      <td>LE616666</td>\n",
       "      <td>L</td>\n",
       "      <td>True</td>\n",
       "    </tr>\n",
       "    <tr>\n",
       "      <th>130</th>\n",
       "      <td>F25572D11222</td>\n",
       "      <td>2981956</td>\n",
       "      <td>E13</td>\n",
       "      <td>50</td>\n",
       "      <td>C</td>\n",
       "      <td>N/A</td>\n",
       "      <td>2013</td>\n",
       "      <td>Not defined</td>\n",
       "      <td>2017-11-29</td>\n",
       "      <td>12 Mon./2000 h</td>\n",
       "      <td>N/A</td>\n",
       "      <td>N/A</td>\n",
       "      <td>2013-12-18 00:00:00</td>\n",
       "      <td>N/A</td>\n",
       "      <td>1</td>\n",
       "      <td>FR</td>\n",
       "      <td>LE616666</td>\n",
       "      <td>L</td>\n",
       "      <td>True</td>\n",
       "    </tr>\n",
       "    <tr>\n",
       "      <th>136</th>\n",
       "      <td>F25572E11952</td>\n",
       "      <td>2982032</td>\n",
       "      <td>E11</td>\n",
       "      <td>50</td>\n",
       "      <td>C</td>\n",
       "      <td>N/A</td>\n",
       "      <td>2014</td>\n",
       "      <td>Not defined</td>\n",
       "      <td>2017-11-29</td>\n",
       "      <td>12 Mon./2000 h</td>\n",
       "      <td>N/A</td>\n",
       "      <td>N/A</td>\n",
       "      <td>2014-02-26 00:00:00</td>\n",
       "      <td>N/A</td>\n",
       "      <td>1</td>\n",
       "      <td>FR</td>\n",
       "      <td>KXE-6641</td>\n",
       "      <td>L</td>\n",
       "      <td>True</td>\n",
       "    </tr>\n",
       "    <tr>\n",
       "      <th>142</th>\n",
       "      <td>F25572E15255</td>\n",
       "      <td>2982140</td>\n",
       "      <td>E11</td>\n",
       "      <td>33292724</td>\n",
       "      <td>C</td>\n",
       "      <td>N/A</td>\n",
       "      <td>2014</td>\n",
       "      <td>Not defined</td>\n",
       "      <td>2017-11-29</td>\n",
       "      <td>12 Mon./2000 h</td>\n",
       "      <td>2022-03-08 00:00:00</td>\n",
       "      <td>2021-10-13 00:00:00</td>\n",
       "      <td>2014-06-25 00:00:00</td>\n",
       "      <td>Preparador de pedidos vertical</td>\n",
       "      <td>1</td>\n",
       "      <td>FR</td>\n",
       "      <td>KXE-6647</td>\n",
       "      <td>L</td>\n",
       "      <td>True</td>\n",
       "    </tr>\n",
       "    <tr>\n",
       "      <th>...</th>\n",
       "      <td>...</td>\n",
       "      <td>...</td>\n",
       "      <td>...</td>\n",
       "      <td>...</td>\n",
       "      <td>...</td>\n",
       "      <td>...</td>\n",
       "      <td>...</td>\n",
       "      <td>...</td>\n",
       "      <td>...</td>\n",
       "      <td>...</td>\n",
       "      <td>...</td>\n",
       "      <td>...</td>\n",
       "      <td>...</td>\n",
       "      <td>...</td>\n",
       "      <td>...</td>\n",
       "      <td>...</td>\n",
       "      <td>...</td>\n",
       "      <td>...</td>\n",
       "      <td>...</td>\n",
       "    </tr>\n",
       "    <tr>\n",
       "      <th>75037</th>\n",
       "      <td>G5X527W51597</td>\n",
       "      <td>6025209</td>\n",
       "      <td>E81</td>\n",
       "      <td>33933233</td>\n",
       "      <td>C</td>\n",
       "      <td>N/A</td>\n",
       "      <td>2016</td>\n",
       "      <td>Not defined</td>\n",
       "      <td>2024-01-24</td>\n",
       "      <td>N/A</td>\n",
       "      <td>N/A</td>\n",
       "      <td>N/A</td>\n",
       "      <td>N/A</td>\n",
       "      <td>Tractor de arrastre</td>\n",
       "      <td>1</td>\n",
       "      <td>GB</td>\n",
       "      <td>KXE-6144</td>\n",
       "      <td>L</td>\n",
       "      <td>False</td>\n",
       "    </tr>\n",
       "    <tr>\n",
       "      <th>75179</th>\n",
       "      <td>H25254N11145</td>\n",
       "      <td>6050111</td>\n",
       "      <td>E11</td>\n",
       "      <td>33934507</td>\n",
       "      <td>R</td>\n",
       "      <td>J09560</td>\n",
       "      <td>2024</td>\n",
       "      <td>Not defined</td>\n",
       "      <td>2024-02-10</td>\n",
       "      <td>12 Mon./2000 h</td>\n",
       "      <td>2024-02-21 00:00:00</td>\n",
       "      <td>2024-02-20 00:00:00</td>\n",
       "      <td>2024-02-21 00:00:00</td>\n",
       "      <td>Contrapesada eléctrica</td>\n",
       "      <td>1</td>\n",
       "      <td>DE</td>\n",
       "      <td>LE196666</td>\n",
       "      <td>L</td>\n",
       "      <td>False</td>\n",
       "    </tr>\n",
       "    <tr>\n",
       "      <th>75194</th>\n",
       "      <td>W45555N15119</td>\n",
       "      <td>6058317</td>\n",
       "      <td>E11</td>\n",
       "      <td>33934507</td>\n",
       "      <td>R</td>\n",
       "      <td>J09561</td>\n",
       "      <td>2024</td>\n",
       "      <td>Not defined</td>\n",
       "      <td>2024-02-15</td>\n",
       "      <td>12 Mon./2000 h</td>\n",
       "      <td>2024-02-21 00:00:00</td>\n",
       "      <td>2024-03-13 00:00:00</td>\n",
       "      <td>2024-02-21 00:00:00</td>\n",
       "      <td>Transpaleta eléctrica</td>\n",
       "      <td>2</td>\n",
       "      <td>FR</td>\n",
       "      <td>LE196666</td>\n",
       "      <td>L</td>\n",
       "      <td>False</td>\n",
       "    </tr>\n",
       "    <tr>\n",
       "      <th>75273</th>\n",
       "      <td>H25254N11151</td>\n",
       "      <td>6068378</td>\n",
       "      <td>E11</td>\n",
       "      <td>33934507</td>\n",
       "      <td>R</td>\n",
       "      <td>J09596</td>\n",
       "      <td>2024</td>\n",
       "      <td>Not defined</td>\n",
       "      <td>2024-02-22</td>\n",
       "      <td>12 Mon./2000 h</td>\n",
       "      <td>2024-03-05 00:00:00</td>\n",
       "      <td>2024-03-04 00:00:00</td>\n",
       "      <td>2024-03-05 00:00:00</td>\n",
       "      <td>Contrapesada eléctrica</td>\n",
       "      <td>2</td>\n",
       "      <td>DE</td>\n",
       "      <td>LE196666</td>\n",
       "      <td>L</td>\n",
       "      <td>False</td>\n",
       "    </tr>\n",
       "    <tr>\n",
       "      <th>75494</th>\n",
       "      <td>H2X995T11519</td>\n",
       "      <td>6103215</td>\n",
       "      <td>unknown</td>\n",
       "      <td>39973830</td>\n",
       "      <td>C</td>\n",
       "      <td>N/A</td>\n",
       "      <td>2006</td>\n",
       "      <td>Not defined</td>\n",
       "      <td>2024-03-18</td>\n",
       "      <td>N/A</td>\n",
       "      <td>N/A</td>\n",
       "      <td>N/A</td>\n",
       "      <td>N/A</td>\n",
       "      <td>Contrapesada térmica</td>\n",
       "      <td>11</td>\n",
       "      <td>DE</td>\n",
       "      <td>NaN</td>\n",
       "      <td>L</td>\n",
       "      <td>False</td>\n",
       "    </tr>\n",
       "  </tbody>\n",
       "</table>\n",
       "<p>453 rows × 19 columns</p>\n",
       "</div>"
      ],
      "text/plain": [
       "      serial_number  equipment_id    group  client_code fleet_type  \\\n",
       "87     E5X959T11997       2981314      E11     33923773          C   \n",
       "129    F25572D11112       2981948      E13           50          C   \n",
       "130    F25572D11222       2981956      E13           50          C   \n",
       "136    F25572E11952       2982032      E11           50          C   \n",
       "142    F25572E15255       2982140      E11     33292724          C   \n",
       "...             ...           ...      ...          ...        ...   \n",
       "75037  G5X527W51597       6025209      E81     33933233          C   \n",
       "75179  H25254N11145       6050111      E11     33934507          R   \n",
       "75194  W45555N15119       6058317      E11     33934507          R   \n",
       "75273  H25254N11151       6068378      E11     33934507          R   \n",
       "75494  H2X995T11519       6103215  unknown     39973830          C   \n",
       "\n",
       "      fixed_asset  construction_year   brand_name created_date  \\\n",
       "87            N/A               2006  Not defined   2017-11-29   \n",
       "129           N/A               2013  Not defined   2017-11-29   \n",
       "130           N/A               2013  Not defined   2017-11-29   \n",
       "136           N/A               2014  Not defined   2017-11-29   \n",
       "142           N/A               2014  Not defined   2017-11-29   \n",
       "...           ...                ...          ...          ...   \n",
       "75037         N/A               2016  Not defined   2024-01-24   \n",
       "75179      J09560               2024  Not defined   2024-02-10   \n",
       "75194      J09561               2024  Not defined   2024-02-15   \n",
       "75273      J09596               2024  Not defined   2024-02-22   \n",
       "75494         N/A               2006  Not defined   2024-03-18   \n",
       "\n",
       "        warranty_type   service_start_date    last_service_date  \\\n",
       "87     12 Mon./2000 h  2019-12-23 00:00:00  2019-06-11 00:00:00   \n",
       "129    12 Mon./2000 h                  N/A                  N/A   \n",
       "130    12 Mon./2000 h                  N/A                  N/A   \n",
       "136    12 Mon./2000 h                  N/A                  N/A   \n",
       "142    12 Mon./2000 h  2022-03-08 00:00:00  2021-10-13 00:00:00   \n",
       "...               ...                  ...                  ...   \n",
       "75037             N/A                  N/A                  N/A   \n",
       "75179  12 Mon./2000 h  2024-02-21 00:00:00  2024-02-20 00:00:00   \n",
       "75194  12 Mon./2000 h  2024-02-21 00:00:00  2024-03-13 00:00:00   \n",
       "75273  12 Mon./2000 h  2024-03-05 00:00:00  2024-03-04 00:00:00   \n",
       "75494             N/A                  N/A                  N/A   \n",
       "\n",
       "            warranty_start             equipment_type_name  \\\n",
       "87     2006-11-24 00:00:00            Contrapesada térmica   \n",
       "129    2013-12-18 00:00:00                             N/A   \n",
       "130    2013-12-18 00:00:00                             N/A   \n",
       "136    2014-02-26 00:00:00                             N/A   \n",
       "142    2014-06-25 00:00:00  Preparador de pedidos vertical   \n",
       "...                    ...                             ...   \n",
       "75037                  N/A             Tractor de arrastre   \n",
       "75179  2024-02-21 00:00:00          Contrapesada eléctrica   \n",
       "75194  2024-02-21 00:00:00           Transpaleta eléctrica   \n",
       "75273  2024-03-05 00:00:00          Contrapesada eléctrica   \n",
       "75494                  N/A            Contrapesada térmica   \n",
       "\n",
       "       construction_month country technician equipment_type  is_inactive  \n",
       "87                      1      GB   KXE-6629              L         True  \n",
       "129                     1      FR   LE616666              L         True  \n",
       "130                     1      FR   LE616666              L         True  \n",
       "136                     1      FR   KXE-6641              L         True  \n",
       "142                     1      FR   KXE-6647              L         True  \n",
       "...                   ...     ...        ...            ...          ...  \n",
       "75037                   1      GB   KXE-6144              L        False  \n",
       "75179                   1      DE   LE196666              L        False  \n",
       "75194                   2      FR   LE196666              L        False  \n",
       "75273                   2      DE   LE196666              L        False  \n",
       "75494                  11      DE        NaN              L        False  \n",
       "\n",
       "[453 rows x 19 columns]"
      ]
     },
     "execution_count": 247,
     "metadata": {},
     "output_type": "execute_result"
    }
   ],
   "source": [
    "clean_dataset[(clean_dataset.equipment_type == \"L\") & (clean_dataset.brand_name == \"Not defined\")]"
   ]
  },
  {
   "cell_type": "code",
   "execution_count": 248,
   "metadata": {},
   "outputs": [
    {
     "data": {
      "text/plain": [
       "Toyota / BT               10164\n",
       "LINDE                      8587\n",
       "JUNGHEINRICH               5651\n",
       "Still / OM Pimespo         5183\n",
       "Others                     4340\n",
       "Not defined                3486\n",
       "HYSTER                     2407\n",
       "NISSAN                     2324\n",
       "CATERPILLAR                1059\n",
       "MITSUBISHI                  939\n",
       "YALE                        725\n",
       "CROWN                       525\n",
       "KOMATSU                     364\n",
       "CLARK                       293\n",
       "CESAB                       240\n",
       "DAEWOO                      117\n",
       "ATLET                       116\n",
       "KALMAR                       36\n",
       "LUGLI                        11\n",
       "TOYOTA !!OUT OF DATE!!       11\n",
       "STEINBOCK                    10\n",
       "BT !!OUT OF DATE!!            7\n",
       "CASCADE                       3\n",
       "KÄRCHER                       2\n",
       "FENWICK                       2\n",
       "MANITOU                       2\n",
       "TCM                           2\n",
       "BOLZONI-AURAMO                1\n",
       "HYUNDAI                       1\n",
       "Name: brand_name, dtype: int64"
      ]
     },
     "execution_count": 248,
     "metadata": {},
     "output_type": "execute_result"
    }
   ],
   "source": [
    "clean_dataset.brand_name.value_counts()"
   ]
  },
  {
   "cell_type": "code",
   "execution_count": 249,
   "metadata": {},
   "outputs": [],
   "source": [
    "#looking at equipment type  maybe we can fill some not defined elements from the \"brand_name\" column as we know these are Linde\n",
    "\n",
    "\n",
    "# Update \"brand_name\" from \"not defined\" to \"LINDE\" where \"equipment_type\" is \"L\"\n",
    "clean_dataset.loc[\n",
    "    (clean_dataset['equipment_type'] == \"L\") & (clean_dataset['brand_name'] == \"Not defined\"),\n",
    "    'brand_name'\n",
    "] = \"LINDE\"\n"
   ]
  },
  {
   "cell_type": "code",
   "execution_count": 250,
   "metadata": {},
   "outputs": [
    {
     "data": {
      "text/plain": [
       "Toyota / BT               10164\n",
       "LINDE                      9040\n",
       "JUNGHEINRICH               5651\n",
       "Still / OM Pimespo         5183\n",
       "Others                     4340\n",
       "Not defined                3033\n",
       "HYSTER                     2407\n",
       "NISSAN                     2324\n",
       "CATERPILLAR                1059\n",
       "MITSUBISHI                  939\n",
       "YALE                        725\n",
       "CROWN                       525\n",
       "KOMATSU                     364\n",
       "CLARK                       293\n",
       "CESAB                       240\n",
       "DAEWOO                      117\n",
       "ATLET                       116\n",
       "KALMAR                       36\n",
       "LUGLI                        11\n",
       "TOYOTA !!OUT OF DATE!!       11\n",
       "STEINBOCK                    10\n",
       "BT !!OUT OF DATE!!            7\n",
       "CASCADE                       3\n",
       "KÄRCHER                       2\n",
       "FENWICK                       2\n",
       "MANITOU                       2\n",
       "TCM                           2\n",
       "BOLZONI-AURAMO                1\n",
       "HYUNDAI                       1\n",
       "Name: brand_name, dtype: int64"
      ]
     },
     "execution_count": 250,
     "metadata": {},
     "output_type": "execute_result"
    }
   ],
   "source": [
    "clean_dataset.brand_name.value_counts()"
   ]
  },
  {
   "cell_type": "markdown",
   "metadata": {},
   "source": [
    "-----"
   ]
  },
  {
   "cell_type": "markdown",
   "metadata": {},
   "source": [
    "## review"
   ]
  },
  {
   "cell_type": "code",
   "execution_count": 251,
   "metadata": {},
   "outputs": [],
   "source": [
    "#extra drops\n"
   ]
  },
  {
   "cell_type": "code",
   "execution_count": 252,
   "metadata": {},
   "outputs": [],
   "source": [
    "clean_dataset = clean_dataset.drop(columns=[\"created_date\", \"technician\",\"group\",\"country\"])"
   ]
  },
  {
   "cell_type": "code",
   "execution_count": 253,
   "metadata": {},
   "outputs": [
    {
     "data": {
      "text/html": [
       "<div>\n",
       "<style scoped>\n",
       "    .dataframe tbody tr th:only-of-type {\n",
       "        vertical-align: middle;\n",
       "    }\n",
       "\n",
       "    .dataframe tbody tr th {\n",
       "        vertical-align: top;\n",
       "    }\n",
       "\n",
       "    .dataframe thead th {\n",
       "        text-align: right;\n",
       "    }\n",
       "</style>\n",
       "<table border=\"1\" class=\"dataframe\">\n",
       "  <thead>\n",
       "    <tr style=\"text-align: right;\">\n",
       "      <th></th>\n",
       "      <th>serial_number</th>\n",
       "      <th>equipment_id</th>\n",
       "      <th>client_code</th>\n",
       "      <th>fleet_type</th>\n",
       "      <th>fixed_asset</th>\n",
       "      <th>construction_year</th>\n",
       "      <th>brand_name</th>\n",
       "      <th>warranty_type</th>\n",
       "      <th>service_start_date</th>\n",
       "      <th>last_service_date</th>\n",
       "      <th>warranty_start</th>\n",
       "      <th>equipment_type_name</th>\n",
       "      <th>construction_month</th>\n",
       "      <th>equipment_type</th>\n",
       "      <th>is_inactive</th>\n",
       "    </tr>\n",
       "  </thead>\n",
       "  <tbody>\n",
       "    <tr>\n",
       "      <th>2</th>\n",
       "      <td>W4X979W12995</td>\n",
       "      <td>1290040</td>\n",
       "      <td>33927373</td>\n",
       "      <td>C</td>\n",
       "      <td>N/A</td>\n",
       "      <td>2008</td>\n",
       "      <td>LINDE</td>\n",
       "      <td>N/A</td>\n",
       "      <td>2008-05-29 00:00:00</td>\n",
       "      <td>2023-09-19 00:00:00</td>\n",
       "      <td>N/A</td>\n",
       "      <td>Apilador</td>\n",
       "      <td>6</td>\n",
       "      <td>L</td>\n",
       "      <td>False</td>\n",
       "    </tr>\n",
       "    <tr>\n",
       "      <th>3</th>\n",
       "      <td>H2X994R11511</td>\n",
       "      <td>1306179</td>\n",
       "      <td>33922280</td>\n",
       "      <td>N</td>\n",
       "      <td>N/A</td>\n",
       "      <td>2004</td>\n",
       "      <td>LINDE</td>\n",
       "      <td>N/A</td>\n",
       "      <td>2004-04-30 00:00:00</td>\n",
       "      <td>2023-05-24 00:00:00</td>\n",
       "      <td>N/A</td>\n",
       "      <td>Contrapesada térmica</td>\n",
       "      <td>5</td>\n",
       "      <td>L</td>\n",
       "      <td>False</td>\n",
       "    </tr>\n",
       "    <tr>\n",
       "      <th>7</th>\n",
       "      <td>H2X926C19625</td>\n",
       "      <td>2205572</td>\n",
       "      <td>39327943</td>\n",
       "      <td>C</td>\n",
       "      <td>N/A</td>\n",
       "      <td>2012</td>\n",
       "      <td>LINDE</td>\n",
       "      <td>12mon/900hrs</td>\n",
       "      <td>2020-10-08 00:00:00</td>\n",
       "      <td>2024-03-14 00:00:00</td>\n",
       "      <td>2020-12-18 00:00:00</td>\n",
       "      <td>Contrapesada eléctrica</td>\n",
       "      <td>5</td>\n",
       "      <td>L</td>\n",
       "      <td>False</td>\n",
       "    </tr>\n",
       "    <tr>\n",
       "      <th>8</th>\n",
       "      <td>W45552G19154</td>\n",
       "      <td>2576292</td>\n",
       "      <td>383</td>\n",
       "      <td>C</td>\n",
       "      <td>N/A</td>\n",
       "      <td>2016</td>\n",
       "      <td>LINDE</td>\n",
       "      <td>12 Mon./2000 h</td>\n",
       "      <td>2022-09-21 00:00:00</td>\n",
       "      <td>2023-06-27 00:00:00</td>\n",
       "      <td>2016-10-25 00:00:00</td>\n",
       "      <td>Transpaleta eléctrica</td>\n",
       "      <td>9</td>\n",
       "      <td>L</td>\n",
       "      <td>False</td>\n",
       "    </tr>\n",
       "    <tr>\n",
       "      <th>9</th>\n",
       "      <td>AE512955</td>\n",
       "      <td>2979962</td>\n",
       "      <td>33923773</td>\n",
       "      <td>C</td>\n",
       "      <td>N/A</td>\n",
       "      <td>2016</td>\n",
       "      <td>Others</td>\n",
       "      <td>12 Mon./2000 h</td>\n",
       "      <td>2019-04-16 00:00:00</td>\n",
       "      <td>2019-08-19 00:00:00</td>\n",
       "      <td>2007-03-20 00:00:00</td>\n",
       "      <td>Batería</td>\n",
       "      <td>1</td>\n",
       "      <td>C</td>\n",
       "      <td>True</td>\n",
       "    </tr>\n",
       "  </tbody>\n",
       "</table>\n",
       "</div>"
      ],
      "text/plain": [
       "  serial_number  equipment_id  client_code fleet_type fixed_asset  \\\n",
       "2  W4X979W12995       1290040     33927373          C         N/A   \n",
       "3  H2X994R11511       1306179     33922280          N         N/A   \n",
       "7  H2X926C19625       2205572     39327943          C         N/A   \n",
       "8  W45552G19154       2576292          383          C         N/A   \n",
       "9      AE512955       2979962     33923773          C         N/A   \n",
       "\n",
       "   construction_year brand_name   warranty_type   service_start_date  \\\n",
       "2               2008      LINDE             N/A  2008-05-29 00:00:00   \n",
       "3               2004      LINDE             N/A  2004-04-30 00:00:00   \n",
       "7               2012      LINDE    12mon/900hrs  2020-10-08 00:00:00   \n",
       "8               2016      LINDE  12 Mon./2000 h  2022-09-21 00:00:00   \n",
       "9               2016     Others  12 Mon./2000 h  2019-04-16 00:00:00   \n",
       "\n",
       "     last_service_date       warranty_start     equipment_type_name  \\\n",
       "2  2023-09-19 00:00:00                  N/A                Apilador   \n",
       "3  2023-05-24 00:00:00                  N/A    Contrapesada térmica   \n",
       "7  2024-03-14 00:00:00  2020-12-18 00:00:00  Contrapesada eléctrica   \n",
       "8  2023-06-27 00:00:00  2016-10-25 00:00:00   Transpaleta eléctrica   \n",
       "9  2019-08-19 00:00:00  2007-03-20 00:00:00                 Batería   \n",
       "\n",
       "   construction_month equipment_type  is_inactive  \n",
       "2                   6              L        False  \n",
       "3                   5              L        False  \n",
       "7                   5              L        False  \n",
       "8                   9              L        False  \n",
       "9                   1              C         True  "
      ]
     },
     "execution_count": 253,
     "metadata": {},
     "output_type": "execute_result"
    }
   ],
   "source": [
    "clean_dataset.head()"
   ]
  },
  {
   "cell_type": "code",
   "execution_count": 254,
   "metadata": {},
   "outputs": [
    {
     "name": "stdout",
     "output_type": "stream",
     "text": [
      "<class 'pandas.core.frame.DataFrame'>\n",
      "Int64Index: 46608 entries, 2 to 75548\n",
      "Data columns (total 15 columns):\n",
      " #   Column               Non-Null Count  Dtype \n",
      "---  ------               --------------  ----- \n",
      " 0   serial_number        46608 non-null  object\n",
      " 1   equipment_id         46608 non-null  int64 \n",
      " 2   client_code          46608 non-null  int64 \n",
      " 3   fleet_type           46608 non-null  object\n",
      " 4   fixed_asset          46608 non-null  object\n",
      " 5   construction_year    46608 non-null  int64 \n",
      " 6   brand_name           46608 non-null  object\n",
      " 7   warranty_type        46608 non-null  object\n",
      " 8   service_start_date   46608 non-null  object\n",
      " 9   last_service_date    46608 non-null  object\n",
      " 10  warranty_start       46608 non-null  object\n",
      " 11  equipment_type_name  46608 non-null  object\n",
      " 12  construction_month   46608 non-null  int64 \n",
      " 13  equipment_type       46608 non-null  object\n",
      " 14  is_inactive          46608 non-null  bool  \n",
      "dtypes: bool(1), int64(4), object(10)\n",
      "memory usage: 5.4+ MB\n"
     ]
    }
   ],
   "source": [
    "clean_dataset.info()"
   ]
  },
  {
   "cell_type": "markdown",
   "metadata": {},
   "source": [
    "## Add calculated fields + re-order\n",
    "\n",
    "\n",
    "fields to add \n",
    "\n",
    "- manufacturing date (month + year)"
   ]
  },
  {
   "cell_type": "markdown",
   "metadata": {},
   "source": []
  },
  {
   "cell_type": "code",
   "execution_count": 255,
   "metadata": {},
   "outputs": [],
   "source": [
    "#to simplify, let's add another column called manufacturing date with month and year. Since we had some null values, we filled them with the most common ones (month = 7 and year = 2016)\n"
   ]
  },
  {
   "cell_type": "code",
   "execution_count": 256,
   "metadata": {},
   "outputs": [
    {
     "data": {
      "text/plain": [
       "1     7428\n",
       "7     4682\n",
       "9     4280\n",
       "5     4033\n",
       "2     3944\n",
       "11    3712\n",
       "3     3694\n",
       "6     3588\n",
       "4     3504\n",
       "10    2973\n",
       "12    2719\n",
       "8     2051\n",
       "Name: construction_month, dtype: int64"
      ]
     },
     "execution_count": 256,
     "metadata": {},
     "output_type": "execute_result"
    }
   ],
   "source": [
    "clean_dataset.construction_month.value_counts()"
   ]
  },
  {
   "cell_type": "code",
   "execution_count": 257,
   "metadata": {},
   "outputs": [
    {
     "name": "stdout",
     "output_type": "stream",
     "text": [
      "0\n",
      "[ 6  5  9  1 11  7  3  4  2  8 10 12]\n"
     ]
    }
   ],
   "source": [
    "print(clean_dataset.construction_month.isnull().sum())\n",
    "print(clean_dataset.construction_month.unique())"
   ]
  },
  {
   "cell_type": "code",
   "execution_count": 258,
   "metadata": {},
   "outputs": [
    {
     "name": "stdout",
     "output_type": "stream",
     "text": [
      "0\n",
      "[2008 2004 2012 2016 2017 2000 1999 2002 2006 2014 2013 2007 2015 2003\n",
      " 2010 2011 2005 2009 2001 2019 1998 1995 2018 2023 2020 2022 2021 1992\n",
      " 1996 1990 1985 1991 2024]\n"
     ]
    }
   ],
   "source": [
    "print(clean_dataset.construction_year.isnull().sum())\n",
    "print(clean_dataset.construction_year.unique())"
   ]
  },
  {
   "cell_type": "code",
   "execution_count": 259,
   "metadata": {},
   "outputs": [],
   "source": [
    "\n",
    "clean_dataset[\"construction_date\"] = pd.to_datetime(\n",
    "    clean_dataset[\"construction_year\"].astype(\"Int64\").astype(str) + \"-\" +\n",
    "    clean_dataset[\"construction_month\"].fillna(1).astype(\"Int64\").astype(str).str.zfill(2) + \"-01\",\n",
    "    errors=\"coerce\"\n",
    ")"
   ]
  },
  {
   "cell_type": "code",
   "execution_count": 260,
   "metadata": {},
   "outputs": [
    {
     "data": {
      "text/plain": [
       "0"
      ]
     },
     "execution_count": 260,
     "metadata": {},
     "output_type": "execute_result"
    }
   ],
   "source": [
    "clean_dataset.construction_date.isnull().sum()"
   ]
  },
  {
   "cell_type": "code",
   "execution_count": 261,
   "metadata": {},
   "outputs": [
    {
     "name": "stdout",
     "output_type": "stream",
     "text": [
      "<class 'pandas.core.frame.DataFrame'>\n",
      "Int64Index: 46608 entries, 2 to 75548\n",
      "Data columns (total 16 columns):\n",
      " #   Column               Non-Null Count  Dtype         \n",
      "---  ------               --------------  -----         \n",
      " 0   serial_number        46608 non-null  object        \n",
      " 1   equipment_id         46608 non-null  int64         \n",
      " 2   client_code          46608 non-null  int64         \n",
      " 3   fleet_type           46608 non-null  object        \n",
      " 4   fixed_asset          46608 non-null  object        \n",
      " 5   construction_year    46608 non-null  int64         \n",
      " 6   brand_name           46608 non-null  object        \n",
      " 7   warranty_type        46608 non-null  object        \n",
      " 8   service_start_date   46608 non-null  object        \n",
      " 9   last_service_date    46608 non-null  object        \n",
      " 10  warranty_start       46608 non-null  object        \n",
      " 11  equipment_type_name  46608 non-null  object        \n",
      " 12  construction_month   46608 non-null  int64         \n",
      " 13  equipment_type       46608 non-null  object        \n",
      " 14  is_inactive          46608 non-null  bool          \n",
      " 15  construction_date    46608 non-null  datetime64[ns]\n",
      "dtypes: bool(1), datetime64[ns](1), int64(4), object(10)\n",
      "memory usage: 5.7+ MB\n"
     ]
    }
   ],
   "source": [
    "clean_dataset.info()"
   ]
  },
  {
   "cell_type": "code",
   "execution_count": 262,
   "metadata": {},
   "outputs": [
    {
     "data": {
      "text/html": [
       "<div>\n",
       "<style scoped>\n",
       "    .dataframe tbody tr th:only-of-type {\n",
       "        vertical-align: middle;\n",
       "    }\n",
       "\n",
       "    .dataframe tbody tr th {\n",
       "        vertical-align: top;\n",
       "    }\n",
       "\n",
       "    .dataframe thead th {\n",
       "        text-align: right;\n",
       "    }\n",
       "</style>\n",
       "<table border=\"1\" class=\"dataframe\">\n",
       "  <thead>\n",
       "    <tr style=\"text-align: right;\">\n",
       "      <th></th>\n",
       "      <th>Número de serie</th>\n",
       "      <th>Equipo</th>\n",
       "      <th>Número-identificación técnica</th>\n",
       "      <th>Grupo planificación</th>\n",
       "      <th>Enviar a parte</th>\n",
       "      <th>Flota</th>\n",
       "      <th>Activo fijo</th>\n",
       "      <th>Año de construcción</th>\n",
       "      <th>Brand name</th>\n",
       "      <th>Creado el</th>\n",
       "      <th>...</th>\n",
       "      <th>Modificado por</th>\n",
       "      <th>Fe.puesta servicio</th>\n",
       "      <th>Fecha de última orden</th>\n",
       "      <th>Inic.garantía clte.</th>\n",
       "      <th>intervalo</th>\n",
       "      <th>Mes de construcción</th>\n",
       "      <th>País de fabricación</th>\n",
       "      <th>Pto.tbjo.responsable</th>\n",
       "      <th>Status de usuario</th>\n",
       "      <th>Tipo de equipo</th>\n",
       "    </tr>\n",
       "  </thead>\n",
       "  <tbody>\n",
       "    <tr>\n",
       "      <th>0</th>\n",
       "      <td>H2X992W15465</td>\n",
       "      <td>1132732</td>\n",
       "      <td>3</td>\n",
       "      <td>E82</td>\n",
       "      <td>33925845</td>\n",
       "      <td>C</td>\n",
       "      <td>NaN</td>\n",
       "      <td>2008.0</td>\n",
       "      <td>LINDE</td>\n",
       "      <td>12/6/2012</td>\n",
       "      <td>...</td>\n",
       "      <td>HK57F5</td>\n",
       "      <td>NaN</td>\n",
       "      <td>11/11/2022</td>\n",
       "      <td>15/9/2008</td>\n",
       "      <td>Contrapesada térmica</td>\n",
       "      <td>5.0</td>\n",
       "      <td>DE</td>\n",
       "      <td>KXE-6188</td>\n",
       "      <td>AVLB</td>\n",
       "      <td>L</td>\n",
       "    </tr>\n",
       "    <tr>\n",
       "      <th>1</th>\n",
       "      <td>H2X995S19125</td>\n",
       "      <td>1207034</td>\n",
       "      <td>NaN</td>\n",
       "      <td>E12</td>\n",
       "      <td>39380933</td>\n",
       "      <td>C</td>\n",
       "      <td>NaN</td>\n",
       "      <td>2005.0</td>\n",
       "      <td>NaN</td>\n",
       "      <td>18/6/2012</td>\n",
       "      <td>...</td>\n",
       "      <td>HK57F5</td>\n",
       "      <td>NaN</td>\n",
       "      <td>13/7/2018</td>\n",
       "      <td>14/12/2011</td>\n",
       "      <td>Contrapesada eléctrica</td>\n",
       "      <td>5.0</td>\n",
       "      <td>DE</td>\n",
       "      <td>KXE-6639</td>\n",
       "      <td>AVLB PINA</td>\n",
       "      <td>L</td>\n",
       "    </tr>\n",
       "    <tr>\n",
       "      <th>2</th>\n",
       "      <td>W4X979W12995</td>\n",
       "      <td>1290040</td>\n",
       "      <td>1204 PMP EX</td>\n",
       "      <td>E82</td>\n",
       "      <td>33927373</td>\n",
       "      <td>C</td>\n",
       "      <td>NaN</td>\n",
       "      <td>2008.0</td>\n",
       "      <td>LINDE</td>\n",
       "      <td>18/12/2012</td>\n",
       "      <td>...</td>\n",
       "      <td>CKMAGKNK</td>\n",
       "      <td>29/5/2008</td>\n",
       "      <td>19/9/2023</td>\n",
       "      <td>NaN</td>\n",
       "      <td>Apilador</td>\n",
       "      <td>6.0</td>\n",
       "      <td>NaN</td>\n",
       "      <td>KXE-6156</td>\n",
       "      <td>AWIN</td>\n",
       "      <td>L</td>\n",
       "    </tr>\n",
       "    <tr>\n",
       "      <th>3</th>\n",
       "      <td>H2X994R11511</td>\n",
       "      <td>1306179</td>\n",
       "      <td>NaN</td>\n",
       "      <td>NaN</td>\n",
       "      <td>33922280</td>\n",
       "      <td>N</td>\n",
       "      <td>NaN</td>\n",
       "      <td>2004.0</td>\n",
       "      <td>LINDE</td>\n",
       "      <td>18/12/2012</td>\n",
       "      <td>...</td>\n",
       "      <td>HK57F5</td>\n",
       "      <td>30/4/2004</td>\n",
       "      <td>24/5/2023</td>\n",
       "      <td>NaN</td>\n",
       "      <td>Contrapesada térmica</td>\n",
       "      <td>5.0</td>\n",
       "      <td>NaN</td>\n",
       "      <td>NaN</td>\n",
       "      <td>AVLB</td>\n",
       "      <td>L</td>\n",
       "    </tr>\n",
       "    <tr>\n",
       "      <th>4</th>\n",
       "      <td>G5X997P11599</td>\n",
       "      <td>1655177</td>\n",
       "      <td>NaN</td>\n",
       "      <td>E11</td>\n",
       "      <td>33923892</td>\n",
       "      <td>C</td>\n",
       "      <td>NaN</td>\n",
       "      <td>2003.0</td>\n",
       "      <td>NaN</td>\n",
       "      <td>23/9/2014</td>\n",
       "      <td>...</td>\n",
       "      <td>HK57F5</td>\n",
       "      <td>NaN</td>\n",
       "      <td>1/4/2020</td>\n",
       "      <td>15/7/2003</td>\n",
       "      <td>Contrapesada eléctrica</td>\n",
       "      <td>6.0</td>\n",
       "      <td>GB</td>\n",
       "      <td>KXE-6263</td>\n",
       "      <td>AVLB PINA</td>\n",
       "      <td>L</td>\n",
       "    </tr>\n",
       "  </tbody>\n",
       "</table>\n",
       "<p>5 rows × 22 columns</p>\n",
       "</div>"
      ],
      "text/plain": [
       "  Número de serie   Equipo Número-identificación técnica Grupo planificación  \\\n",
       "0    H2X992W15465  1132732                             3                 E82   \n",
       "1    H2X995S19125  1207034                           NaN                 E12   \n",
       "2    W4X979W12995  1290040                   1204 PMP EX                 E82   \n",
       "3    H2X994R11511  1306179                           NaN                 NaN   \n",
       "4    G5X997P11599  1655177                           NaN                 E11   \n",
       "\n",
       "   Enviar a parte Flota Activo fijo  Año de construcción Brand name  \\\n",
       "0        33925845     C         NaN               2008.0      LINDE   \n",
       "1        39380933     C         NaN               2005.0        NaN   \n",
       "2        33927373     C         NaN               2008.0      LINDE   \n",
       "3        33922280     N         NaN               2004.0      LINDE   \n",
       "4        33923892     C         NaN               2003.0        NaN   \n",
       "\n",
       "    Creado el  ... Modificado por Fe.puesta servicio Fecha de última orden  \\\n",
       "0   12/6/2012  ...         HK57F5                NaN            11/11/2022   \n",
       "1   18/6/2012  ...         HK57F5                NaN             13/7/2018   \n",
       "2  18/12/2012  ...       CKMAGKNK          29/5/2008             19/9/2023   \n",
       "3  18/12/2012  ...         HK57F5          30/4/2004             24/5/2023   \n",
       "4   23/9/2014  ...         HK57F5                NaN              1/4/2020   \n",
       "\n",
       "  Inic.garantía clte.               intervalo Mes de construcción  \\\n",
       "0           15/9/2008    Contrapesada térmica                 5.0   \n",
       "1          14/12/2011  Contrapesada eléctrica                 5.0   \n",
       "2                 NaN                Apilador                 6.0   \n",
       "3                 NaN    Contrapesada térmica                 5.0   \n",
       "4           15/7/2003  Contrapesada eléctrica                 6.0   \n",
       "\n",
       "  País de fabricación  Pto.tbjo.responsable Status de usuario Tipo de equipo  \n",
       "0                  DE              KXE-6188              AVLB              L  \n",
       "1                  DE              KXE-6639         AVLB PINA              L  \n",
       "2                 NaN              KXE-6156              AWIN              L  \n",
       "3                 NaN                   NaN              AVLB              L  \n",
       "4                  GB              KXE-6263         AVLB PINA              L  \n",
       "\n",
       "[5 rows x 22 columns]"
      ]
     },
     "execution_count": 262,
     "metadata": {},
     "output_type": "execute_result"
    }
   ],
   "source": [
    "origin_dataset.head()"
   ]
  },
  {
   "cell_type": "code",
   "execution_count": 263,
   "metadata": {},
   "outputs": [
    {
     "data": {
      "text/plain": [
       "serial_number          0\n",
       "equipment_id           0\n",
       "client_code            0\n",
       "fleet_type             0\n",
       "fixed_asset            0\n",
       "construction_year      0\n",
       "brand_name             0\n",
       "warranty_type          0\n",
       "service_start_date     0\n",
       "last_service_date      0\n",
       "warranty_start         0\n",
       "equipment_type_name    0\n",
       "construction_month     0\n",
       "equipment_type         0\n",
       "is_inactive            0\n",
       "construction_date      0\n",
       "dtype: int64"
      ]
     },
     "execution_count": 263,
     "metadata": {},
     "output_type": "execute_result"
    }
   ],
   "source": [
    "clean_dataset.isnull().sum()"
   ]
  },
  {
   "cell_type": "code",
   "execution_count": 264,
   "metadata": {},
   "outputs": [
    {
     "data": {
      "text/plain": [
       "0"
      ]
     },
     "execution_count": 264,
     "metadata": {},
     "output_type": "execute_result"
    }
   ],
   "source": [
    "clean_dataset.last_service_date.isnull().sum()"
   ]
  },
  {
   "cell_type": "code",
   "execution_count": 265,
   "metadata": {},
   "outputs": [
    {
     "data": {
      "text/plain": [
       "(75564, 22)"
      ]
     },
     "execution_count": 265,
     "metadata": {},
     "output_type": "execute_result"
    }
   ],
   "source": [
    "origin_dataset.shape"
   ]
  },
  {
   "cell_type": "code",
   "execution_count": 266,
   "metadata": {},
   "outputs": [
    {
     "data": {
      "text/plain": [
       "(46608, 16)"
      ]
     },
     "execution_count": 266,
     "metadata": {},
     "output_type": "execute_result"
    }
   ],
   "source": [
    "clean_dataset.shape"
   ]
  },
  {
   "cell_type": "code",
   "execution_count": 268,
   "metadata": {},
   "outputs": [
    {
     "name": "stdout",
     "output_type": "stream",
     "text": [
      "<class 'pandas.core.frame.DataFrame'>\n",
      "Int64Index: 46608 entries, 2 to 75548\n",
      "Data columns (total 16 columns):\n",
      " #   Column               Non-Null Count  Dtype         \n",
      "---  ------               --------------  -----         \n",
      " 0   serial_number        46608 non-null  object        \n",
      " 1   equipment_id         46608 non-null  int64         \n",
      " 2   client_code          46608 non-null  int64         \n",
      " 3   fleet_type           46608 non-null  object        \n",
      " 4   fixed_asset          46608 non-null  object        \n",
      " 5   construction_year    46608 non-null  int64         \n",
      " 6   brand_name           46608 non-null  object        \n",
      " 7   warranty_type        46608 non-null  object        \n",
      " 8   service_start_date   46608 non-null  object        \n",
      " 9   last_service_date    46608 non-null  object        \n",
      " 10  warranty_start       46608 non-null  object        \n",
      " 11  equipment_type_name  46608 non-null  object        \n",
      " 12  construction_month   46608 non-null  int64         \n",
      " 13  equipment_type       46608 non-null  object        \n",
      " 14  is_inactive          46608 non-null  bool          \n",
      " 15  construction_date    46608 non-null  datetime64[ns]\n",
      "dtypes: bool(1), datetime64[ns](1), int64(4), object(10)\n",
      "memory usage: 5.7+ MB\n"
     ]
    }
   ],
   "source": [
    "clean_dataset.info()"
   ]
  },
  {
   "cell_type": "code",
   "execution_count": 269,
   "metadata": {},
   "outputs": [],
   "source": [
    "clean_dataset = clean_dataset.drop(columns =[\"construction_year\",\"construction_month\"])"
   ]
  },
  {
   "cell_type": "code",
   "execution_count": 270,
   "metadata": {},
   "outputs": [
    {
     "name": "stdout",
     "output_type": "stream",
     "text": [
      "<class 'pandas.core.frame.DataFrame'>\n",
      "Int64Index: 46608 entries, 2 to 75548\n",
      "Data columns (total 14 columns):\n",
      " #   Column               Non-Null Count  Dtype         \n",
      "---  ------               --------------  -----         \n",
      " 0   serial_number        46608 non-null  object        \n",
      " 1   equipment_id         46608 non-null  int64         \n",
      " 2   client_code          46608 non-null  int64         \n",
      " 3   fleet_type           46608 non-null  object        \n",
      " 4   fixed_asset          46608 non-null  object        \n",
      " 5   brand_name           46608 non-null  object        \n",
      " 6   warranty_type        46608 non-null  object        \n",
      " 7   service_start_date   46608 non-null  object        \n",
      " 8   last_service_date    46608 non-null  object        \n",
      " 9   warranty_start       46608 non-null  object        \n",
      " 10  equipment_type_name  46608 non-null  object        \n",
      " 11  equipment_type       46608 non-null  object        \n",
      " 12  is_inactive          46608 non-null  bool          \n",
      " 13  construction_date    46608 non-null  datetime64[ns]\n",
      "dtypes: bool(1), datetime64[ns](1), int64(2), object(10)\n",
      "memory usage: 5.0+ MB\n"
     ]
    }
   ],
   "source": [
    "clean_dataset.info()"
   ]
  },
  {
   "cell_type": "code",
   "execution_count": 271,
   "metadata": {},
   "outputs": [
    {
     "data": {
      "text/plain": [
       "(46608, 14)"
      ]
     },
     "execution_count": 271,
     "metadata": {},
     "output_type": "execute_result"
    }
   ],
   "source": [
    "clean_dataset.shape"
   ]
  },
  {
   "cell_type": "code",
   "execution_count": null,
   "metadata": {},
   "outputs": [],
   "source": []
  }
 ],
 "metadata": {
  "kernelspec": {
   "display_name": "Python 3 (ipykernel)",
   "language": "python",
   "name": "python3"
  },
  "language_info": {
   "codemirror_mode": {
    "name": "ipython",
    "version": 3
   },
   "file_extension": ".py",
   "mimetype": "text/x-python",
   "name": "python",
   "nbconvert_exporter": "python",
   "pygments_lexer": "ipython3",
   "version": "3.10.6"
  },
  "toc": {
   "base_numbering": 1,
   "nav_menu": {},
   "number_sections": true,
   "sideBar": true,
   "skip_h1_title": false,
   "title_cell": "Table of Contents",
   "title_sidebar": "Contents",
   "toc_cell": false,
   "toc_position": {},
   "toc_section_display": true,
   "toc_window_display": false
  }
 },
 "nbformat": 4,
 "nbformat_minor": 2
}
