{
 "cells": [
  {
   "cell_type": "markdown",
   "metadata": {},
   "source": [
    "## Data migration case\n",
    "\n",
    "Based on this dataset, decide what data we are going to inherit from the origin to the future data system. First understand what the data is about and what are the needs, clean and analyze the dataset and explain the process. "
   ]
  },
  {
   "cell_type": "markdown",
   "metadata": {},
   "source": [
    "## Import and visualize data"
   ]
  },
  {
   "cell_type": "code",
   "execution_count": 1,
   "metadata": {},
   "outputs": [],
   "source": [
    "import pandas as pd"
   ]
  },
  {
   "cell_type": "code",
   "execution_count": 2,
   "metadata": {},
   "outputs": [],
   "source": [
    "origin_dataset = pd.read_csv(\"/Users/martafillolbruguera/Documents/Data_projects/practice_Case/dataset.csv\")"
   ]
  },
  {
   "cell_type": "code",
   "execution_count": 3,
   "metadata": {},
   "outputs": [
    {
     "data": {
      "text/html": [
       "<div>\n",
       "<style scoped>\n",
       "    .dataframe tbody tr th:only-of-type {\n",
       "        vertical-align: middle;\n",
       "    }\n",
       "\n",
       "    .dataframe tbody tr th {\n",
       "        vertical-align: top;\n",
       "    }\n",
       "\n",
       "    .dataframe thead th {\n",
       "        text-align: right;\n",
       "    }\n",
       "</style>\n",
       "<table border=\"1\" class=\"dataframe\">\n",
       "  <thead>\n",
       "    <tr style=\"text-align: right;\">\n",
       "      <th></th>\n",
       "      <th>Número de serie</th>\n",
       "      <th>Equipo</th>\n",
       "      <th>Número-identificación técnica</th>\n",
       "      <th>Grupo planificación</th>\n",
       "      <th>Enviar a parte</th>\n",
       "      <th>Flota</th>\n",
       "      <th>Activo fijo</th>\n",
       "      <th>Año de construcción</th>\n",
       "      <th>Brand name</th>\n",
       "      <th>Creado el</th>\n",
       "      <th>...</th>\n",
       "      <th>Modificado por</th>\n",
       "      <th>Fe.puesta servicio</th>\n",
       "      <th>Fecha de última orden</th>\n",
       "      <th>Inic.garantía clte.</th>\n",
       "      <th>intervalo</th>\n",
       "      <th>Mes de construcción</th>\n",
       "      <th>País de fabricación</th>\n",
       "      <th>Pto.tbjo.responsable</th>\n",
       "      <th>Status de usuario</th>\n",
       "      <th>Tipo de equipo</th>\n",
       "    </tr>\n",
       "  </thead>\n",
       "  <tbody>\n",
       "    <tr>\n",
       "      <th>0</th>\n",
       "      <td>H2X992W15465</td>\n",
       "      <td>1132732</td>\n",
       "      <td>3</td>\n",
       "      <td>E82</td>\n",
       "      <td>33925845</td>\n",
       "      <td>C</td>\n",
       "      <td>NaN</td>\n",
       "      <td>2008.0</td>\n",
       "      <td>LINDE</td>\n",
       "      <td>12/6/2012</td>\n",
       "      <td>...</td>\n",
       "      <td>HK57F5</td>\n",
       "      <td>NaN</td>\n",
       "      <td>11/11/2022</td>\n",
       "      <td>15/9/2008</td>\n",
       "      <td>Contrapesada térmica</td>\n",
       "      <td>5.0</td>\n",
       "      <td>DE</td>\n",
       "      <td>KXE-6188</td>\n",
       "      <td>AVLB</td>\n",
       "      <td>L</td>\n",
       "    </tr>\n",
       "    <tr>\n",
       "      <th>1</th>\n",
       "      <td>H2X995S19125</td>\n",
       "      <td>1207034</td>\n",
       "      <td>NaN</td>\n",
       "      <td>E12</td>\n",
       "      <td>39380933</td>\n",
       "      <td>C</td>\n",
       "      <td>NaN</td>\n",
       "      <td>2005.0</td>\n",
       "      <td>NaN</td>\n",
       "      <td>18/6/2012</td>\n",
       "      <td>...</td>\n",
       "      <td>HK57F5</td>\n",
       "      <td>NaN</td>\n",
       "      <td>13/7/2018</td>\n",
       "      <td>14/12/2011</td>\n",
       "      <td>Contrapesada eléctrica</td>\n",
       "      <td>5.0</td>\n",
       "      <td>DE</td>\n",
       "      <td>KXE-6639</td>\n",
       "      <td>AVLB PINA</td>\n",
       "      <td>L</td>\n",
       "    </tr>\n",
       "    <tr>\n",
       "      <th>2</th>\n",
       "      <td>W4X979W12995</td>\n",
       "      <td>1290040</td>\n",
       "      <td>1204 PMP EX</td>\n",
       "      <td>E82</td>\n",
       "      <td>33927373</td>\n",
       "      <td>C</td>\n",
       "      <td>NaN</td>\n",
       "      <td>2008.0</td>\n",
       "      <td>LINDE</td>\n",
       "      <td>18/12/2012</td>\n",
       "      <td>...</td>\n",
       "      <td>CKMAGKNK</td>\n",
       "      <td>29/5/2008</td>\n",
       "      <td>19/9/2023</td>\n",
       "      <td>NaN</td>\n",
       "      <td>Apilador</td>\n",
       "      <td>6.0</td>\n",
       "      <td>NaN</td>\n",
       "      <td>KXE-6156</td>\n",
       "      <td>AWIN</td>\n",
       "      <td>L</td>\n",
       "    </tr>\n",
       "    <tr>\n",
       "      <th>3</th>\n",
       "      <td>H2X994R11511</td>\n",
       "      <td>1306179</td>\n",
       "      <td>NaN</td>\n",
       "      <td>NaN</td>\n",
       "      <td>33922280</td>\n",
       "      <td>N</td>\n",
       "      <td>NaN</td>\n",
       "      <td>2004.0</td>\n",
       "      <td>LINDE</td>\n",
       "      <td>18/12/2012</td>\n",
       "      <td>...</td>\n",
       "      <td>HK57F5</td>\n",
       "      <td>30/4/2004</td>\n",
       "      <td>24/5/2023</td>\n",
       "      <td>NaN</td>\n",
       "      <td>Contrapesada térmica</td>\n",
       "      <td>5.0</td>\n",
       "      <td>NaN</td>\n",
       "      <td>NaN</td>\n",
       "      <td>AVLB</td>\n",
       "      <td>L</td>\n",
       "    </tr>\n",
       "    <tr>\n",
       "      <th>4</th>\n",
       "      <td>G5X997P11599</td>\n",
       "      <td>1655177</td>\n",
       "      <td>NaN</td>\n",
       "      <td>E11</td>\n",
       "      <td>33923892</td>\n",
       "      <td>C</td>\n",
       "      <td>NaN</td>\n",
       "      <td>2003.0</td>\n",
       "      <td>NaN</td>\n",
       "      <td>23/9/2014</td>\n",
       "      <td>...</td>\n",
       "      <td>HK57F5</td>\n",
       "      <td>NaN</td>\n",
       "      <td>1/4/2020</td>\n",
       "      <td>15/7/2003</td>\n",
       "      <td>Contrapesada eléctrica</td>\n",
       "      <td>6.0</td>\n",
       "      <td>GB</td>\n",
       "      <td>KXE-6263</td>\n",
       "      <td>AVLB PINA</td>\n",
       "      <td>L</td>\n",
       "    </tr>\n",
       "  </tbody>\n",
       "</table>\n",
       "<p>5 rows × 22 columns</p>\n",
       "</div>"
      ],
      "text/plain": [
       "  Número de serie   Equipo Número-identificación técnica Grupo planificación  \\\n",
       "0    H2X992W15465  1132732                             3                 E82   \n",
       "1    H2X995S19125  1207034                           NaN                 E12   \n",
       "2    W4X979W12995  1290040                   1204 PMP EX                 E82   \n",
       "3    H2X994R11511  1306179                           NaN                 NaN   \n",
       "4    G5X997P11599  1655177                           NaN                 E11   \n",
       "\n",
       "   Enviar a parte Flota Activo fijo  Año de construcción Brand name  \\\n",
       "0        33925845     C         NaN               2008.0      LINDE   \n",
       "1        39380933     C         NaN               2005.0        NaN   \n",
       "2        33927373     C         NaN               2008.0      LINDE   \n",
       "3        33922280     N         NaN               2004.0      LINDE   \n",
       "4        33923892     C         NaN               2003.0        NaN   \n",
       "\n",
       "    Creado el  ... Modificado por Fe.puesta servicio Fecha de última orden  \\\n",
       "0   12/6/2012  ...         HK57F5                NaN            11/11/2022   \n",
       "1   18/6/2012  ...         HK57F5                NaN             13/7/2018   \n",
       "2  18/12/2012  ...       CKMAGKNK          29/5/2008             19/9/2023   \n",
       "3  18/12/2012  ...         HK57F5          30/4/2004             24/5/2023   \n",
       "4   23/9/2014  ...         HK57F5                NaN              1/4/2020   \n",
       "\n",
       "  Inic.garantía clte.               intervalo Mes de construcción  \\\n",
       "0           15/9/2008    Contrapesada térmica                 5.0   \n",
       "1          14/12/2011  Contrapesada eléctrica                 5.0   \n",
       "2                 NaN                Apilador                 6.0   \n",
       "3                 NaN    Contrapesada térmica                 5.0   \n",
       "4           15/7/2003  Contrapesada eléctrica                 6.0   \n",
       "\n",
       "  País de fabricación  Pto.tbjo.responsable Status de usuario Tipo de equipo  \n",
       "0                  DE              KXE-6188              AVLB              L  \n",
       "1                  DE              KXE-6639         AVLB PINA              L  \n",
       "2                 NaN              KXE-6156              AWIN              L  \n",
       "3                 NaN                   NaN              AVLB              L  \n",
       "4                  GB              KXE-6263         AVLB PINA              L  \n",
       "\n",
       "[5 rows x 22 columns]"
      ]
     },
     "execution_count": 3,
     "metadata": {},
     "output_type": "execute_result"
    }
   ],
   "source": [
    "origin_dataset.head()"
   ]
  },
  {
   "cell_type": "markdown",
   "metadata": {},
   "source": [
    "## What information do we need to migrate to the future system and what data is not essential? \n",
    "\n",
    "In order to know this, we need to answer the next questions:\n",
    "\n",
    "- What is the purpose of the future system? What do we want to analyze or extract from this data in the future? Will this data have to be compared and merged with other systems? \n",
    "- What is the use that we will get from this data? For example, if we want to know what is the biggest client and what machines they usually use? We want to control manufacturing time for machines that are more popular?\n",
    "- Are we evaluating manufacturing time to see if we can improve it?\n",
    "\n",
    "Knowing this we can be sure about what data is not needed or just overcomplicating the dataset and what data would be nice to have (for example, calculated fields from what we already have).\n",
    "\n",
    "Assumption: why we need this data and what we will be using it for.\n",
    "\n",
    "Important data according to our assumption: "
   ]
  },
  {
   "cell_type": "markdown",
   "metadata": {},
   "source": [
    "## Let's analyze all the dataset step by step: \n",
    "\n",
    "- Check for null values, duplicates, unique values, and possible errors in format\n",
    "- Substitute null values or other unnecessary data and why (ex: activo fijo could be boolean)\n",
    "- Fix errors or change values that could lead to confusion\n",
    "- See if we can group data to simplify the dataset\n",
    "- See if we can add calculated fields to get more relevant information\n",
    "- Remove columns that we won't need in the future"
   ]
  },
  {
   "cell_type": "markdown",
   "metadata": {},
   "source": [
    "## Other options?\n",
    "\n",
    "- SQL\n",
    "- Review assumptions?\n",
    "\n"
   ]
  },
  {
   "cell_type": "markdown",
   "metadata": {},
   "source": [
    "-------"
   ]
  },
  {
   "cell_type": "markdown",
   "metadata": {},
   "source": [
    "## General exploration"
   ]
  },
  {
   "cell_type": "code",
   "execution_count": 4,
   "metadata": {},
   "outputs": [
    {
     "data": {
      "text/html": [
       "<div>\n",
       "<style scoped>\n",
       "    .dataframe tbody tr th:only-of-type {\n",
       "        vertical-align: middle;\n",
       "    }\n",
       "\n",
       "    .dataframe tbody tr th {\n",
       "        vertical-align: top;\n",
       "    }\n",
       "\n",
       "    .dataframe thead th {\n",
       "        text-align: right;\n",
       "    }\n",
       "</style>\n",
       "<table border=\"1\" class=\"dataframe\">\n",
       "  <thead>\n",
       "    <tr style=\"text-align: right;\">\n",
       "      <th></th>\n",
       "      <th>Número de serie</th>\n",
       "      <th>Equipo</th>\n",
       "      <th>Número-identificación técnica</th>\n",
       "      <th>Grupo planificación</th>\n",
       "      <th>Enviar a parte</th>\n",
       "      <th>Flota</th>\n",
       "      <th>Activo fijo</th>\n",
       "      <th>Año de construcción</th>\n",
       "      <th>Brand name</th>\n",
       "      <th>Creado el</th>\n",
       "      <th>...</th>\n",
       "      <th>Modificado por</th>\n",
       "      <th>Fe.puesta servicio</th>\n",
       "      <th>Fecha de última orden</th>\n",
       "      <th>Inic.garantía clte.</th>\n",
       "      <th>intervalo</th>\n",
       "      <th>Mes de construcción</th>\n",
       "      <th>País de fabricación</th>\n",
       "      <th>Pto.tbjo.responsable</th>\n",
       "      <th>Status de usuario</th>\n",
       "      <th>Tipo de equipo</th>\n",
       "    </tr>\n",
       "  </thead>\n",
       "  <tbody>\n",
       "    <tr>\n",
       "      <th>0</th>\n",
       "      <td>H2X992W15465</td>\n",
       "      <td>1132732</td>\n",
       "      <td>3</td>\n",
       "      <td>E82</td>\n",
       "      <td>33925845</td>\n",
       "      <td>C</td>\n",
       "      <td>NaN</td>\n",
       "      <td>2008.0</td>\n",
       "      <td>LINDE</td>\n",
       "      <td>12/6/2012</td>\n",
       "      <td>...</td>\n",
       "      <td>HK57F5</td>\n",
       "      <td>NaN</td>\n",
       "      <td>11/11/2022</td>\n",
       "      <td>15/9/2008</td>\n",
       "      <td>Contrapesada térmica</td>\n",
       "      <td>5.0</td>\n",
       "      <td>DE</td>\n",
       "      <td>KXE-6188</td>\n",
       "      <td>AVLB</td>\n",
       "      <td>L</td>\n",
       "    </tr>\n",
       "    <tr>\n",
       "      <th>1</th>\n",
       "      <td>H2X995S19125</td>\n",
       "      <td>1207034</td>\n",
       "      <td>NaN</td>\n",
       "      <td>E12</td>\n",
       "      <td>39380933</td>\n",
       "      <td>C</td>\n",
       "      <td>NaN</td>\n",
       "      <td>2005.0</td>\n",
       "      <td>NaN</td>\n",
       "      <td>18/6/2012</td>\n",
       "      <td>...</td>\n",
       "      <td>HK57F5</td>\n",
       "      <td>NaN</td>\n",
       "      <td>13/7/2018</td>\n",
       "      <td>14/12/2011</td>\n",
       "      <td>Contrapesada eléctrica</td>\n",
       "      <td>5.0</td>\n",
       "      <td>DE</td>\n",
       "      <td>KXE-6639</td>\n",
       "      <td>AVLB PINA</td>\n",
       "      <td>L</td>\n",
       "    </tr>\n",
       "    <tr>\n",
       "      <th>2</th>\n",
       "      <td>W4X979W12995</td>\n",
       "      <td>1290040</td>\n",
       "      <td>1204 PMP EX</td>\n",
       "      <td>E82</td>\n",
       "      <td>33927373</td>\n",
       "      <td>C</td>\n",
       "      <td>NaN</td>\n",
       "      <td>2008.0</td>\n",
       "      <td>LINDE</td>\n",
       "      <td>18/12/2012</td>\n",
       "      <td>...</td>\n",
       "      <td>CKMAGKNK</td>\n",
       "      <td>29/5/2008</td>\n",
       "      <td>19/9/2023</td>\n",
       "      <td>NaN</td>\n",
       "      <td>Apilador</td>\n",
       "      <td>6.0</td>\n",
       "      <td>NaN</td>\n",
       "      <td>KXE-6156</td>\n",
       "      <td>AWIN</td>\n",
       "      <td>L</td>\n",
       "    </tr>\n",
       "    <tr>\n",
       "      <th>3</th>\n",
       "      <td>H2X994R11511</td>\n",
       "      <td>1306179</td>\n",
       "      <td>NaN</td>\n",
       "      <td>NaN</td>\n",
       "      <td>33922280</td>\n",
       "      <td>N</td>\n",
       "      <td>NaN</td>\n",
       "      <td>2004.0</td>\n",
       "      <td>LINDE</td>\n",
       "      <td>18/12/2012</td>\n",
       "      <td>...</td>\n",
       "      <td>HK57F5</td>\n",
       "      <td>30/4/2004</td>\n",
       "      <td>24/5/2023</td>\n",
       "      <td>NaN</td>\n",
       "      <td>Contrapesada térmica</td>\n",
       "      <td>5.0</td>\n",
       "      <td>NaN</td>\n",
       "      <td>NaN</td>\n",
       "      <td>AVLB</td>\n",
       "      <td>L</td>\n",
       "    </tr>\n",
       "    <tr>\n",
       "      <th>4</th>\n",
       "      <td>G5X997P11599</td>\n",
       "      <td>1655177</td>\n",
       "      <td>NaN</td>\n",
       "      <td>E11</td>\n",
       "      <td>33923892</td>\n",
       "      <td>C</td>\n",
       "      <td>NaN</td>\n",
       "      <td>2003.0</td>\n",
       "      <td>NaN</td>\n",
       "      <td>23/9/2014</td>\n",
       "      <td>...</td>\n",
       "      <td>HK57F5</td>\n",
       "      <td>NaN</td>\n",
       "      <td>1/4/2020</td>\n",
       "      <td>15/7/2003</td>\n",
       "      <td>Contrapesada eléctrica</td>\n",
       "      <td>6.0</td>\n",
       "      <td>GB</td>\n",
       "      <td>KXE-6263</td>\n",
       "      <td>AVLB PINA</td>\n",
       "      <td>L</td>\n",
       "    </tr>\n",
       "  </tbody>\n",
       "</table>\n",
       "<p>5 rows × 22 columns</p>\n",
       "</div>"
      ],
      "text/plain": [
       "  Número de serie   Equipo Número-identificación técnica Grupo planificación  \\\n",
       "0    H2X992W15465  1132732                             3                 E82   \n",
       "1    H2X995S19125  1207034                           NaN                 E12   \n",
       "2    W4X979W12995  1290040                   1204 PMP EX                 E82   \n",
       "3    H2X994R11511  1306179                           NaN                 NaN   \n",
       "4    G5X997P11599  1655177                           NaN                 E11   \n",
       "\n",
       "   Enviar a parte Flota Activo fijo  Año de construcción Brand name  \\\n",
       "0        33925845     C         NaN               2008.0      LINDE   \n",
       "1        39380933     C         NaN               2005.0        NaN   \n",
       "2        33927373     C         NaN               2008.0      LINDE   \n",
       "3        33922280     N         NaN               2004.0      LINDE   \n",
       "4        33923892     C         NaN               2003.0        NaN   \n",
       "\n",
       "    Creado el  ... Modificado por Fe.puesta servicio Fecha de última orden  \\\n",
       "0   12/6/2012  ...         HK57F5                NaN            11/11/2022   \n",
       "1   18/6/2012  ...         HK57F5                NaN             13/7/2018   \n",
       "2  18/12/2012  ...       CKMAGKNK          29/5/2008             19/9/2023   \n",
       "3  18/12/2012  ...         HK57F5          30/4/2004             24/5/2023   \n",
       "4   23/9/2014  ...         HK57F5                NaN              1/4/2020   \n",
       "\n",
       "  Inic.garantía clte.               intervalo Mes de construcción  \\\n",
       "0           15/9/2008    Contrapesada térmica                 5.0   \n",
       "1          14/12/2011  Contrapesada eléctrica                 5.0   \n",
       "2                 NaN                Apilador                 6.0   \n",
       "3                 NaN    Contrapesada térmica                 5.0   \n",
       "4           15/7/2003  Contrapesada eléctrica                 6.0   \n",
       "\n",
       "  País de fabricación  Pto.tbjo.responsable Status de usuario Tipo de equipo  \n",
       "0                  DE              KXE-6188              AVLB              L  \n",
       "1                  DE              KXE-6639         AVLB PINA              L  \n",
       "2                 NaN              KXE-6156              AWIN              L  \n",
       "3                 NaN                   NaN              AVLB              L  \n",
       "4                  GB              KXE-6263         AVLB PINA              L  \n",
       "\n",
       "[5 rows x 22 columns]"
      ]
     },
     "execution_count": 4,
     "metadata": {},
     "output_type": "execute_result"
    }
   ],
   "source": [
    "#first let's look at the columns and description that we are working with.\n",
    "#First thing that comes to mind is there are some column names that could be improved to be more readable, like enviar a parte, creado el, intervalo. It's important that we understand what the column is about without confusing it with something else in case we need to merge with other data in the future\n",
    "#I also see that we have the same date were the machine was manufactured but one column is the year and the other the month, is there a reason we need this division? Can we create a column just with the manufacturing date?\n",
    "#Seems like the n serie needs to be 12 cts long, so would be good to check that for all items\n",
    "#Do we need to calculate extra columns? Time from manufacturing to service? Final garantía? Status PINA\n",
    "#Check type of data so it can be used for analysis later\n",
    "#Would be interesting to analyze later by brand, country, status\n",
    "\n",
    "\n",
    "origin_dataset.head()"
   ]
  },
  {
   "cell_type": "code",
   "execution_count": 5,
   "metadata": {},
   "outputs": [
    {
     "data": {
      "text/plain": [
       "Index(['Número de serie', 'Equipo', 'Número-identificación técnica',\n",
       "       'Grupo planificación', 'Enviar a parte', 'Flota', 'Activo fijo',\n",
       "       'Año de construcción', 'Brand name', 'Creado el',\n",
       "       'Denominación de garantía de cliente', 'Modificado el',\n",
       "       'Modificado por', 'Fe.puesta servicio', 'Fecha de última orden',\n",
       "       'Inic.garantía clte.', 'intervalo', 'Mes de construcción',\n",
       "       'País de fabricación', 'Pto.tbjo.responsable', 'Status de usuario',\n",
       "       'Tipo de equipo'],\n",
       "      dtype='object')"
      ]
     },
     "execution_count": 5,
     "metadata": {},
     "output_type": "execute_result"
    }
   ],
   "source": [
    "origin_dataset.columns"
   ]
  },
  {
   "cell_type": "code",
   "execution_count": 6,
   "metadata": {},
   "outputs": [
    {
     "data": {
      "text/plain": [
       "(75564, 22)"
      ]
     },
     "execution_count": 6,
     "metadata": {},
     "output_type": "execute_result"
    }
   ],
   "source": [
    "origin_dataset.shape\n",
    "\n",
    "#check shape of table (rows, columns)"
   ]
  },
  {
   "cell_type": "code",
   "execution_count": 7,
   "metadata": {},
   "outputs": [
    {
     "data": {
      "text/html": [
       "<div>\n",
       "<style scoped>\n",
       "    .dataframe tbody tr th:only-of-type {\n",
       "        vertical-align: middle;\n",
       "    }\n",
       "\n",
       "    .dataframe tbody tr th {\n",
       "        vertical-align: top;\n",
       "    }\n",
       "\n",
       "    .dataframe thead th {\n",
       "        text-align: right;\n",
       "    }\n",
       "</style>\n",
       "<table border=\"1\" class=\"dataframe\">\n",
       "  <thead>\n",
       "    <tr style=\"text-align: right;\">\n",
       "      <th></th>\n",
       "      <th>Equipo</th>\n",
       "      <th>Enviar a parte</th>\n",
       "      <th>Año de construcción</th>\n",
       "      <th>Mes de construcción</th>\n",
       "    </tr>\n",
       "  </thead>\n",
       "  <tbody>\n",
       "    <tr>\n",
       "      <th>count</th>\n",
       "      <td>7.556400e+04</td>\n",
       "      <td>7.556400e+04</td>\n",
       "      <td>73369.000000</td>\n",
       "      <td>71685.000000</td>\n",
       "    </tr>\n",
       "    <tr>\n",
       "      <th>mean</th>\n",
       "      <td>3.778983e+06</td>\n",
       "      <td>3.403705e+07</td>\n",
       "      <td>2015.357113</td>\n",
       "      <td>5.317458</td>\n",
       "    </tr>\n",
       "    <tr>\n",
       "      <th>std</th>\n",
       "      <td>8.280466e+05</td>\n",
       "      <td>2.435792e+06</td>\n",
       "      <td>8.611414</td>\n",
       "      <td>3.835214</td>\n",
       "    </tr>\n",
       "    <tr>\n",
       "      <th>min</th>\n",
       "      <td>1.132732e+06</td>\n",
       "      <td>2.000000e+00</td>\n",
       "      <td>199.000000</td>\n",
       "      <td>0.000000</td>\n",
       "    </tr>\n",
       "    <tr>\n",
       "      <th>25%</th>\n",
       "      <td>3.222933e+06</td>\n",
       "      <td>3.392587e+07</td>\n",
       "      <td>2013.000000</td>\n",
       "      <td>2.000000</td>\n",
       "    </tr>\n",
       "    <tr>\n",
       "      <th>50%</th>\n",
       "      <td>3.256996e+06</td>\n",
       "      <td>3.393747e+07</td>\n",
       "      <td>2016.000000</td>\n",
       "      <td>5.000000</td>\n",
       "    </tr>\n",
       "    <tr>\n",
       "      <th>75%</th>\n",
       "      <td>4.280855e+06</td>\n",
       "      <td>3.394443e+07</td>\n",
       "      <td>2019.000000</td>\n",
       "      <td>9.000000</td>\n",
       "    </tr>\n",
       "    <tr>\n",
       "      <th>max</th>\n",
       "      <td>6.122680e+06</td>\n",
       "      <td>7.395305e+07</td>\n",
       "      <td>2202.000000</td>\n",
       "      <td>12.000000</td>\n",
       "    </tr>\n",
       "  </tbody>\n",
       "</table>\n",
       "</div>"
      ],
      "text/plain": [
       "             Equipo  Enviar a parte  Año de construcción  Mes de construcción\n",
       "count  7.556400e+04    7.556400e+04         73369.000000         71685.000000\n",
       "mean   3.778983e+06    3.403705e+07          2015.357113             5.317458\n",
       "std    8.280466e+05    2.435792e+06             8.611414             3.835214\n",
       "min    1.132732e+06    2.000000e+00           199.000000             0.000000\n",
       "25%    3.222933e+06    3.392587e+07          2013.000000             2.000000\n",
       "50%    3.256996e+06    3.393747e+07          2016.000000             5.000000\n",
       "75%    4.280855e+06    3.394443e+07          2019.000000             9.000000\n",
       "max    6.122680e+06    7.395305e+07          2202.000000            12.000000"
      ]
     },
     "execution_count": 7,
     "metadata": {},
     "output_type": "execute_result"
    }
   ],
   "source": [
    "origin_dataset.describe()\n",
    "\n",
    "#not relevant in this case"
   ]
  },
  {
   "cell_type": "code",
   "execution_count": 8,
   "metadata": {},
   "outputs": [
    {
     "name": "stdout",
     "output_type": "stream",
     "text": [
      "<class 'pandas.core.frame.DataFrame'>\n",
      "RangeIndex: 75564 entries, 0 to 75563\n",
      "Data columns (total 22 columns):\n",
      " #   Column                               Non-Null Count  Dtype  \n",
      "---  ------                               --------------  -----  \n",
      " 0   Número de serie                      50634 non-null  object \n",
      " 1   Equipo                               75564 non-null  int64  \n",
      " 2   Número-identificación técnica        5817 non-null   object \n",
      " 3   Grupo planificación                  13431 non-null  object \n",
      " 4   Enviar a parte                       75564 non-null  int64  \n",
      " 5   Flota                                75558 non-null  object \n",
      " 6   Activo fijo                          1800 non-null   object \n",
      " 7   Año de construcción                  73369 non-null  float64\n",
      " 8   Brand name                           70433 non-null  object \n",
      " 9   Creado el                            75564 non-null  object \n",
      " 10  Denominación de garantía de cliente  11980 non-null  object \n",
      " 11  Modificado el                        63966 non-null  object \n",
      " 12  Modificado por                       63966 non-null  object \n",
      " 13  Fe.puesta servicio                   9741 non-null   object \n",
      " 14  Fecha de última orden                12824 non-null  object \n",
      " 15  Inic.garantía clte.                  11982 non-null  object \n",
      " 16  intervalo                            11251 non-null  object \n",
      " 17  Mes de construcción                  71685 non-null  float64\n",
      " 18  País de fabricación                  9543 non-null   object \n",
      " 19  Pto.tbjo.responsable                 13336 non-null  object \n",
      " 20  Status de usuario                    14319 non-null  object \n",
      " 21  Tipo de equipo                       75564 non-null  object \n",
      "dtypes: float64(2), int64(2), object(18)\n",
      "memory usage: 12.7+ MB\n"
     ]
    }
   ],
   "source": [
    "info = pd.DataFrame(origin_dataset.info())\n",
    "\n",
    "# information about the type of data we have and the number of null values\n",
    "# we can already see here that there are some weird dtypes (dates have different types, equipo being integer, month being float) so we will fix this when cleaning.\n",
    "#There are some columns that are more relevant: Equipo, Flota, Tipo de Equipo, Numero de serie. I would drop the rows that have null values in more than one of these."
   ]
  },
  {
   "cell_type": "code",
   "execution_count": 9,
   "metadata": {},
   "outputs": [
    {
     "data": {
      "text/plain": [
       "Número de serie                        24930\n",
       "Equipo                                     0\n",
       "Número-identificación técnica          69747\n",
       "Grupo planificación                    62133\n",
       "Enviar a parte                             0\n",
       "Flota                                      6\n",
       "Activo fijo                            73764\n",
       "Año de construcción                     2195\n",
       "Brand name                              5131\n",
       "Creado el                                  0\n",
       "Denominación de garantía de cliente    63584\n",
       "Modificado el                          11598\n",
       "Modificado por                         11598\n",
       "Fe.puesta servicio                     65823\n",
       "Fecha de última orden                  62740\n",
       "Inic.garantía clte.                    63582\n",
       "intervalo                              64313\n",
       "Mes de construcción                     3879\n",
       "País de fabricación                    66021\n",
       "Pto.tbjo.responsable                   62228\n",
       "Status de usuario                      61245\n",
       "Tipo de equipo                             0\n",
       "dtype: int64"
      ]
     },
     "execution_count": 9,
     "metadata": {},
     "output_type": "execute_result"
    }
   ],
   "source": [
    "origin_dataset.isnull().sum()\n",
    "\n",
    "#check for null values. The only columns that don't have any are Equipo, enviar a parte, Creado el, Tipo de equipo so we will consider these columns like the most relevant\n",
    "#Activo fijo has the most null values so we will check this column later to see if we need it or we can substitute the null values."
   ]
  },
  {
   "cell_type": "code",
   "execution_count": 10,
   "metadata": {},
   "outputs": [
    {
     "data": {
      "text/plain": [
       "1132732    1\n",
       "3880535    1\n",
       "3882621    1\n",
       "3882562    1\n",
       "3882310    1\n",
       "          ..\n",
       "3230089    1\n",
       "3230088    1\n",
       "3230087    1\n",
       "3230086    1\n",
       "6122680    1\n",
       "Name: Equipo, Length: 75564, dtype: int64"
      ]
     },
     "execution_count": 10,
     "metadata": {},
     "output_type": "execute_result"
    }
   ],
   "source": [
    "origin_dataset[\"Equipo\"].value_counts()\n",
    "\n",
    "#equipo are all unique values and non-null"
   ]
  },
  {
   "cell_type": "code",
   "execution_count": 11,
   "metadata": {},
   "outputs": [
    {
     "data": {
      "text/plain": [
       "2,99E+52         17\n",
       "2991552111259    12\n",
       "2991552111252    11\n",
       "7991142115255    11\n",
       "2991552111555    11\n",
       "                 ..\n",
       "9521122111499     1\n",
       "9521122111492     1\n",
       "9521122111911     1\n",
       "9521142111421     1\n",
       "W45565N11195      1\n",
       "Name: Número de serie, Length: 33667, dtype: int64"
      ]
     },
     "execution_count": 11,
     "metadata": {},
     "output_type": "execute_result"
    }
   ],
   "source": [
    "origin_dataset[\"Número de serie\"].value_counts()\n",
    "# check the number of unique values in each column.\n",
    "# For numero de serie which is a unique identifier we have multiple elements in the table, which means they have different values in other columns\n",
    "\n",
    "#I would drop the rows that are duplicated if they don't have any other relevant data in other columns."
   ]
  },
  {
   "cell_type": "markdown",
   "metadata": {},
   "source": [
    "---------"
   ]
  },
  {
   "cell_type": "markdown",
   "metadata": {},
   "source": [
    "### Conclusions from this exploration:\n",
    "\n",
    "- We could make some adjustments in the naming of the columns to see faster what they are\n",
    "- The type of data is not coherent, we will change some columns to make it easier to use in the future.\n",
    "- The columns año/mes could be grouped but we have a lot of nulls, so drop the rows where we have both empty and create a new column called \"manufacturing date\".\n",
    "- Activo Fijo has a lot of null values, could be transformed to boolean maybe.\n",
    "- We could create another column to know how long has been the warranty active. because the start date alone does not say anything. \n",
    "- Before dropping columns\n",
    "  - The most relevant fields could be Numero de serie, Equipo, Flota, Tipo de Equipo, Enviar a parte, brand, fecha construcción. We will drop rows that have null values in more than one of these. \n",
    "\n",
    "- columns to drop:  \n",
    "    Modificado por: could be dropped, doesn't seem relevant for analysis or to migrate to the future system.   \n",
    "    Pto.tbjo.responsable: internal doesn't seem relevant to migrate, many nulls   \n",
    "    Grupo planificación: also internal seems like something that could change over time and many nulls   \n"
   ]
  },
  {
   "cell_type": "markdown",
   "metadata": {},
   "source": [
    "------"
   ]
  },
  {
   "cell_type": "markdown",
   "metadata": {},
   "source": [
    "## General changes"
   ]
  },
  {
   "cell_type": "markdown",
   "metadata": {},
   "source": [
    "### Updating names"
   ]
  },
  {
   "cell_type": "code",
   "execution_count": 12,
   "metadata": {},
   "outputs": [
    {
     "data": {
      "text/html": [
       "<div>\n",
       "<style scoped>\n",
       "    .dataframe tbody tr th:only-of-type {\n",
       "        vertical-align: middle;\n",
       "    }\n",
       "\n",
       "    .dataframe tbody tr th {\n",
       "        vertical-align: top;\n",
       "    }\n",
       "\n",
       "    .dataframe thead th {\n",
       "        text-align: right;\n",
       "    }\n",
       "</style>\n",
       "<table border=\"1\" class=\"dataframe\">\n",
       "  <thead>\n",
       "    <tr style=\"text-align: right;\">\n",
       "      <th></th>\n",
       "      <th>Número de serie</th>\n",
       "      <th>Equipo</th>\n",
       "      <th>Número-identificación técnica</th>\n",
       "      <th>Grupo planificación</th>\n",
       "      <th>Enviar a parte</th>\n",
       "      <th>Flota</th>\n",
       "      <th>Activo fijo</th>\n",
       "      <th>Año de construcción</th>\n",
       "      <th>Brand name</th>\n",
       "      <th>Creado el</th>\n",
       "      <th>...</th>\n",
       "      <th>Modificado por</th>\n",
       "      <th>Fe.puesta servicio</th>\n",
       "      <th>Fecha de última orden</th>\n",
       "      <th>Inic.garantía clte.</th>\n",
       "      <th>intervalo</th>\n",
       "      <th>Mes de construcción</th>\n",
       "      <th>País de fabricación</th>\n",
       "      <th>Pto.tbjo.responsable</th>\n",
       "      <th>Status de usuario</th>\n",
       "      <th>Tipo de equipo</th>\n",
       "    </tr>\n",
       "  </thead>\n",
       "  <tbody>\n",
       "    <tr>\n",
       "      <th>0</th>\n",
       "      <td>H2X992W15465</td>\n",
       "      <td>1132732</td>\n",
       "      <td>3</td>\n",
       "      <td>E82</td>\n",
       "      <td>33925845</td>\n",
       "      <td>C</td>\n",
       "      <td>NaN</td>\n",
       "      <td>2008.0</td>\n",
       "      <td>LINDE</td>\n",
       "      <td>12/6/2012</td>\n",
       "      <td>...</td>\n",
       "      <td>HK57F5</td>\n",
       "      <td>NaN</td>\n",
       "      <td>11/11/2022</td>\n",
       "      <td>15/9/2008</td>\n",
       "      <td>Contrapesada térmica</td>\n",
       "      <td>5.0</td>\n",
       "      <td>DE</td>\n",
       "      <td>KXE-6188</td>\n",
       "      <td>AVLB</td>\n",
       "      <td>L</td>\n",
       "    </tr>\n",
       "    <tr>\n",
       "      <th>1</th>\n",
       "      <td>H2X995S19125</td>\n",
       "      <td>1207034</td>\n",
       "      <td>NaN</td>\n",
       "      <td>E12</td>\n",
       "      <td>39380933</td>\n",
       "      <td>C</td>\n",
       "      <td>NaN</td>\n",
       "      <td>2005.0</td>\n",
       "      <td>NaN</td>\n",
       "      <td>18/6/2012</td>\n",
       "      <td>...</td>\n",
       "      <td>HK57F5</td>\n",
       "      <td>NaN</td>\n",
       "      <td>13/7/2018</td>\n",
       "      <td>14/12/2011</td>\n",
       "      <td>Contrapesada eléctrica</td>\n",
       "      <td>5.0</td>\n",
       "      <td>DE</td>\n",
       "      <td>KXE-6639</td>\n",
       "      <td>AVLB PINA</td>\n",
       "      <td>L</td>\n",
       "    </tr>\n",
       "    <tr>\n",
       "      <th>2</th>\n",
       "      <td>W4X979W12995</td>\n",
       "      <td>1290040</td>\n",
       "      <td>1204 PMP EX</td>\n",
       "      <td>E82</td>\n",
       "      <td>33927373</td>\n",
       "      <td>C</td>\n",
       "      <td>NaN</td>\n",
       "      <td>2008.0</td>\n",
       "      <td>LINDE</td>\n",
       "      <td>18/12/2012</td>\n",
       "      <td>...</td>\n",
       "      <td>CKMAGKNK</td>\n",
       "      <td>29/5/2008</td>\n",
       "      <td>19/9/2023</td>\n",
       "      <td>NaN</td>\n",
       "      <td>Apilador</td>\n",
       "      <td>6.0</td>\n",
       "      <td>NaN</td>\n",
       "      <td>KXE-6156</td>\n",
       "      <td>AWIN</td>\n",
       "      <td>L</td>\n",
       "    </tr>\n",
       "    <tr>\n",
       "      <th>3</th>\n",
       "      <td>H2X994R11511</td>\n",
       "      <td>1306179</td>\n",
       "      <td>NaN</td>\n",
       "      <td>NaN</td>\n",
       "      <td>33922280</td>\n",
       "      <td>N</td>\n",
       "      <td>NaN</td>\n",
       "      <td>2004.0</td>\n",
       "      <td>LINDE</td>\n",
       "      <td>18/12/2012</td>\n",
       "      <td>...</td>\n",
       "      <td>HK57F5</td>\n",
       "      <td>30/4/2004</td>\n",
       "      <td>24/5/2023</td>\n",
       "      <td>NaN</td>\n",
       "      <td>Contrapesada térmica</td>\n",
       "      <td>5.0</td>\n",
       "      <td>NaN</td>\n",
       "      <td>NaN</td>\n",
       "      <td>AVLB</td>\n",
       "      <td>L</td>\n",
       "    </tr>\n",
       "    <tr>\n",
       "      <th>4</th>\n",
       "      <td>G5X997P11599</td>\n",
       "      <td>1655177</td>\n",
       "      <td>NaN</td>\n",
       "      <td>E11</td>\n",
       "      <td>33923892</td>\n",
       "      <td>C</td>\n",
       "      <td>NaN</td>\n",
       "      <td>2003.0</td>\n",
       "      <td>NaN</td>\n",
       "      <td>23/9/2014</td>\n",
       "      <td>...</td>\n",
       "      <td>HK57F5</td>\n",
       "      <td>NaN</td>\n",
       "      <td>1/4/2020</td>\n",
       "      <td>15/7/2003</td>\n",
       "      <td>Contrapesada eléctrica</td>\n",
       "      <td>6.0</td>\n",
       "      <td>GB</td>\n",
       "      <td>KXE-6263</td>\n",
       "      <td>AVLB PINA</td>\n",
       "      <td>L</td>\n",
       "    </tr>\n",
       "  </tbody>\n",
       "</table>\n",
       "<p>5 rows × 22 columns</p>\n",
       "</div>"
      ],
      "text/plain": [
       "  Número de serie   Equipo Número-identificación técnica Grupo planificación  \\\n",
       "0    H2X992W15465  1132732                             3                 E82   \n",
       "1    H2X995S19125  1207034                           NaN                 E12   \n",
       "2    W4X979W12995  1290040                   1204 PMP EX                 E82   \n",
       "3    H2X994R11511  1306179                           NaN                 NaN   \n",
       "4    G5X997P11599  1655177                           NaN                 E11   \n",
       "\n",
       "   Enviar a parte Flota Activo fijo  Año de construcción Brand name  \\\n",
       "0        33925845     C         NaN               2008.0      LINDE   \n",
       "1        39380933     C         NaN               2005.0        NaN   \n",
       "2        33927373     C         NaN               2008.0      LINDE   \n",
       "3        33922280     N         NaN               2004.0      LINDE   \n",
       "4        33923892     C         NaN               2003.0        NaN   \n",
       "\n",
       "    Creado el  ... Modificado por Fe.puesta servicio Fecha de última orden  \\\n",
       "0   12/6/2012  ...         HK57F5                NaN            11/11/2022   \n",
       "1   18/6/2012  ...         HK57F5                NaN             13/7/2018   \n",
       "2  18/12/2012  ...       CKMAGKNK          29/5/2008             19/9/2023   \n",
       "3  18/12/2012  ...         HK57F5          30/4/2004             24/5/2023   \n",
       "4   23/9/2014  ...         HK57F5                NaN              1/4/2020   \n",
       "\n",
       "  Inic.garantía clte.               intervalo Mes de construcción  \\\n",
       "0           15/9/2008    Contrapesada térmica                 5.0   \n",
       "1          14/12/2011  Contrapesada eléctrica                 5.0   \n",
       "2                 NaN                Apilador                 6.0   \n",
       "3                 NaN    Contrapesada térmica                 5.0   \n",
       "4           15/7/2003  Contrapesada eléctrica                 6.0   \n",
       "\n",
       "  País de fabricación  Pto.tbjo.responsable Status de usuario Tipo de equipo  \n",
       "0                  DE              KXE-6188              AVLB              L  \n",
       "1                  DE              KXE-6639         AVLB PINA              L  \n",
       "2                 NaN              KXE-6156              AWIN              L  \n",
       "3                 NaN                   NaN              AVLB              L  \n",
       "4                  GB              KXE-6263         AVLB PINA              L  \n",
       "\n",
       "[5 rows x 22 columns]"
      ]
     },
     "execution_count": 12,
     "metadata": {},
     "output_type": "execute_result"
    }
   ],
   "source": [
    "clean_dataset = pd.read_csv(\"/Users/martafillolbruguera/Documents/Data_projects/practice_Case/dataset.csv\")\n",
    "\n",
    "clean_dataset.head()"
   ]
  },
  {
   "cell_type": "code",
   "execution_count": 13,
   "metadata": {},
   "outputs": [
    {
     "name": "stdout",
     "output_type": "stream",
     "text": [
      "Número de serie\n",
      "Equipo\n",
      "Número-identificación técnica\n",
      "Grupo planificación\n",
      "Enviar a parte\n",
      "Flota\n",
      "Activo fijo\n",
      "Año de construcción\n",
      "Brand name\n",
      "Creado el\n",
      "Denominación de garantía de cliente\n",
      "Modificado el\n",
      "Modificado por\n",
      "Fe.puesta servicio\n",
      "Fecha de última orden\n",
      "Inic.garantía clte.\n",
      "intervalo\n",
      "Mes de construcción\n",
      "País de fabricación\n",
      "Pto.tbjo.responsable\n",
      "Status de usuario\n",
      "Tipo de equipo\n"
     ]
    }
   ],
   "source": [
    "list = clean_dataset.columns\n",
    "list\n",
    "\n",
    "for i in list:\n",
    "    print(i)"
   ]
  },
  {
   "cell_type": "code",
   "execution_count": 14,
   "metadata": {},
   "outputs": [],
   "source": [
    "# Mapping of old column names to new column names\n",
    "\n",
    "column_mapping = {\n",
    "    \"Número de serie\": \"serial_number\",\n",
    "    \"Equipo\": \"equipment_id\",\n",
    "    \"Número-identificación técnica\": \"client_id\",\n",
    "    \"Grupo planificación\": \"group\",\n",
    "    \"Enviar a parte\": \"client_code\",\n",
    "    \"Flota\": \"fleet_type\",\n",
    "    \"Activo fijo\": \"fixed_asset\",\n",
    "    \"Año de construcción\": \"construction_year\",\n",
    "    \"Brand name\": \"brand_name\",\n",
    "    \"Creado el\": \"created_date\",\n",
    "    \"Denominación de garantía de cliente\": \"warranty_type\",\n",
    "    \"Modificado el\": \"last_modified\",\n",
    "    \"Modificado por\": \"modified_by\",\n",
    "    \"Fe.puesta servicio\": \"service_start_date\",\n",
    "    \"Fecha de última orden\": \"last_service_date\",\n",
    "    \"Inic.garantía clte.\": \"warranty_start\",\n",
    "    \"intervalo\": \"equipment_type_name\",\n",
    "    \"Mes de construcción\": \"construction_month\",\n",
    "    \"País de fabricación\": \"country\",\n",
    "    \"Pto.tbjo.responsable\": \"technician\",\n",
    "    \"Status de usuario\": \"user_status\",\n",
    "    \"Tipo de equipo\": \"equipment_type\"\n",
    "}\n",
    "\n",
    "clean_dataset.reset_index(drop=True, inplace=True)\n",
    "\n",
    "clean_dataset.rename(columns=column_mapping, inplace=True)\n"
   ]
  },
  {
   "cell_type": "code",
   "execution_count": 15,
   "metadata": {},
   "outputs": [
    {
     "data": {
      "text/html": [
       "<div>\n",
       "<style scoped>\n",
       "    .dataframe tbody tr th:only-of-type {\n",
       "        vertical-align: middle;\n",
       "    }\n",
       "\n",
       "    .dataframe tbody tr th {\n",
       "        vertical-align: top;\n",
       "    }\n",
       "\n",
       "    .dataframe thead th {\n",
       "        text-align: right;\n",
       "    }\n",
       "</style>\n",
       "<table border=\"1\" class=\"dataframe\">\n",
       "  <thead>\n",
       "    <tr style=\"text-align: right;\">\n",
       "      <th></th>\n",
       "      <th>serial_number</th>\n",
       "      <th>equipment_id</th>\n",
       "      <th>client_id</th>\n",
       "      <th>group</th>\n",
       "      <th>client_code</th>\n",
       "      <th>fleet_type</th>\n",
       "      <th>fixed_asset</th>\n",
       "      <th>construction_year</th>\n",
       "      <th>brand_name</th>\n",
       "      <th>created_date</th>\n",
       "      <th>...</th>\n",
       "      <th>modified_by</th>\n",
       "      <th>service_start_date</th>\n",
       "      <th>last_service_date</th>\n",
       "      <th>warranty_start</th>\n",
       "      <th>equipment_type_name</th>\n",
       "      <th>construction_month</th>\n",
       "      <th>country</th>\n",
       "      <th>technician</th>\n",
       "      <th>user_status</th>\n",
       "      <th>equipment_type</th>\n",
       "    </tr>\n",
       "  </thead>\n",
       "  <tbody>\n",
       "    <tr>\n",
       "      <th>0</th>\n",
       "      <td>H2X992W15465</td>\n",
       "      <td>1132732</td>\n",
       "      <td>3</td>\n",
       "      <td>E82</td>\n",
       "      <td>33925845</td>\n",
       "      <td>C</td>\n",
       "      <td>NaN</td>\n",
       "      <td>2008.0</td>\n",
       "      <td>LINDE</td>\n",
       "      <td>12/6/2012</td>\n",
       "      <td>...</td>\n",
       "      <td>HK57F5</td>\n",
       "      <td>NaN</td>\n",
       "      <td>11/11/2022</td>\n",
       "      <td>15/9/2008</td>\n",
       "      <td>Contrapesada térmica</td>\n",
       "      <td>5.0</td>\n",
       "      <td>DE</td>\n",
       "      <td>KXE-6188</td>\n",
       "      <td>AVLB</td>\n",
       "      <td>L</td>\n",
       "    </tr>\n",
       "    <tr>\n",
       "      <th>1</th>\n",
       "      <td>H2X995S19125</td>\n",
       "      <td>1207034</td>\n",
       "      <td>NaN</td>\n",
       "      <td>E12</td>\n",
       "      <td>39380933</td>\n",
       "      <td>C</td>\n",
       "      <td>NaN</td>\n",
       "      <td>2005.0</td>\n",
       "      <td>NaN</td>\n",
       "      <td>18/6/2012</td>\n",
       "      <td>...</td>\n",
       "      <td>HK57F5</td>\n",
       "      <td>NaN</td>\n",
       "      <td>13/7/2018</td>\n",
       "      <td>14/12/2011</td>\n",
       "      <td>Contrapesada eléctrica</td>\n",
       "      <td>5.0</td>\n",
       "      <td>DE</td>\n",
       "      <td>KXE-6639</td>\n",
       "      <td>AVLB PINA</td>\n",
       "      <td>L</td>\n",
       "    </tr>\n",
       "    <tr>\n",
       "      <th>2</th>\n",
       "      <td>W4X979W12995</td>\n",
       "      <td>1290040</td>\n",
       "      <td>1204 PMP EX</td>\n",
       "      <td>E82</td>\n",
       "      <td>33927373</td>\n",
       "      <td>C</td>\n",
       "      <td>NaN</td>\n",
       "      <td>2008.0</td>\n",
       "      <td>LINDE</td>\n",
       "      <td>18/12/2012</td>\n",
       "      <td>...</td>\n",
       "      <td>CKMAGKNK</td>\n",
       "      <td>29/5/2008</td>\n",
       "      <td>19/9/2023</td>\n",
       "      <td>NaN</td>\n",
       "      <td>Apilador</td>\n",
       "      <td>6.0</td>\n",
       "      <td>NaN</td>\n",
       "      <td>KXE-6156</td>\n",
       "      <td>AWIN</td>\n",
       "      <td>L</td>\n",
       "    </tr>\n",
       "    <tr>\n",
       "      <th>3</th>\n",
       "      <td>H2X994R11511</td>\n",
       "      <td>1306179</td>\n",
       "      <td>NaN</td>\n",
       "      <td>NaN</td>\n",
       "      <td>33922280</td>\n",
       "      <td>N</td>\n",
       "      <td>NaN</td>\n",
       "      <td>2004.0</td>\n",
       "      <td>LINDE</td>\n",
       "      <td>18/12/2012</td>\n",
       "      <td>...</td>\n",
       "      <td>HK57F5</td>\n",
       "      <td>30/4/2004</td>\n",
       "      <td>24/5/2023</td>\n",
       "      <td>NaN</td>\n",
       "      <td>Contrapesada térmica</td>\n",
       "      <td>5.0</td>\n",
       "      <td>NaN</td>\n",
       "      <td>NaN</td>\n",
       "      <td>AVLB</td>\n",
       "      <td>L</td>\n",
       "    </tr>\n",
       "    <tr>\n",
       "      <th>4</th>\n",
       "      <td>G5X997P11599</td>\n",
       "      <td>1655177</td>\n",
       "      <td>NaN</td>\n",
       "      <td>E11</td>\n",
       "      <td>33923892</td>\n",
       "      <td>C</td>\n",
       "      <td>NaN</td>\n",
       "      <td>2003.0</td>\n",
       "      <td>NaN</td>\n",
       "      <td>23/9/2014</td>\n",
       "      <td>...</td>\n",
       "      <td>HK57F5</td>\n",
       "      <td>NaN</td>\n",
       "      <td>1/4/2020</td>\n",
       "      <td>15/7/2003</td>\n",
       "      <td>Contrapesada eléctrica</td>\n",
       "      <td>6.0</td>\n",
       "      <td>GB</td>\n",
       "      <td>KXE-6263</td>\n",
       "      <td>AVLB PINA</td>\n",
       "      <td>L</td>\n",
       "    </tr>\n",
       "  </tbody>\n",
       "</table>\n",
       "<p>5 rows × 22 columns</p>\n",
       "</div>"
      ],
      "text/plain": [
       "  serial_number  equipment_id    client_id group  client_code fleet_type  \\\n",
       "0  H2X992W15465       1132732            3   E82     33925845          C   \n",
       "1  H2X995S19125       1207034          NaN   E12     39380933          C   \n",
       "2  W4X979W12995       1290040  1204 PMP EX   E82     33927373          C   \n",
       "3  H2X994R11511       1306179          NaN   NaN     33922280          N   \n",
       "4  G5X997P11599       1655177          NaN   E11     33923892          C   \n",
       "\n",
       "  fixed_asset  construction_year brand_name created_date  ... modified_by  \\\n",
       "0         NaN             2008.0      LINDE    12/6/2012  ...      HK57F5   \n",
       "1         NaN             2005.0        NaN    18/6/2012  ...      HK57F5   \n",
       "2         NaN             2008.0      LINDE   18/12/2012  ...    CKMAGKNK   \n",
       "3         NaN             2004.0      LINDE   18/12/2012  ...      HK57F5   \n",
       "4         NaN             2003.0        NaN    23/9/2014  ...      HK57F5   \n",
       "\n",
       "  service_start_date last_service_date warranty_start     equipment_type_name  \\\n",
       "0                NaN        11/11/2022      15/9/2008    Contrapesada térmica   \n",
       "1                NaN         13/7/2018     14/12/2011  Contrapesada eléctrica   \n",
       "2          29/5/2008         19/9/2023            NaN                Apilador   \n",
       "3          30/4/2004         24/5/2023            NaN    Contrapesada térmica   \n",
       "4                NaN          1/4/2020      15/7/2003  Contrapesada eléctrica   \n",
       "\n",
       "  construction_month country  technician user_status equipment_type  \n",
       "0                5.0      DE    KXE-6188        AVLB              L  \n",
       "1                5.0      DE    KXE-6639   AVLB PINA              L  \n",
       "2                6.0     NaN    KXE-6156        AWIN              L  \n",
       "3                5.0     NaN         NaN        AVLB              L  \n",
       "4                6.0      GB    KXE-6263   AVLB PINA              L  \n",
       "\n",
       "[5 rows x 22 columns]"
      ]
     },
     "execution_count": 15,
     "metadata": {},
     "output_type": "execute_result"
    }
   ],
   "source": [
    "clean_dataset.head()"
   ]
  },
  {
   "cell_type": "markdown",
   "metadata": {},
   "source": [
    "### Changing dtypes"
   ]
  },
  {
   "cell_type": "code",
   "execution_count": 16,
   "metadata": {},
   "outputs": [
    {
     "name": "stdout",
     "output_type": "stream",
     "text": [
      "<class 'pandas.core.frame.DataFrame'>\n",
      "RangeIndex: 75564 entries, 0 to 75563\n",
      "Data columns (total 22 columns):\n",
      " #   Column               Non-Null Count  Dtype  \n",
      "---  ------               --------------  -----  \n",
      " 0   serial_number        50634 non-null  object \n",
      " 1   equipment_id         75564 non-null  int64  \n",
      " 2   client_id            5817 non-null   object \n",
      " 3   group                13431 non-null  object \n",
      " 4   client_code          75564 non-null  int64  \n",
      " 5   fleet_type           75558 non-null  object \n",
      " 6   fixed_asset          1800 non-null   object \n",
      " 7   construction_year    73369 non-null  float64\n",
      " 8   brand_name           70433 non-null  object \n",
      " 9   created_date         75564 non-null  object \n",
      " 10  warranty_type        11980 non-null  object \n",
      " 11  last_modified        63966 non-null  object \n",
      " 12  modified_by          63966 non-null  object \n",
      " 13  service_start_date   9741 non-null   object \n",
      " 14  last_service_date    12824 non-null  object \n",
      " 15  warranty_start       11982 non-null  object \n",
      " 16  equipment_type_name  11251 non-null  object \n",
      " 17  construction_month   71685 non-null  float64\n",
      " 18  country              9543 non-null   object \n",
      " 19  technician           13336 non-null  object \n",
      " 20  user_status          14319 non-null  object \n",
      " 21  equipment_type       75564 non-null  object \n",
      "dtypes: float64(2), int64(2), object(18)\n",
      "memory usage: 12.7+ MB\n"
     ]
    }
   ],
   "source": [
    "clean_dataset.info()"
   ]
  },
  {
   "cell_type": "code",
   "execution_count": 17,
   "metadata": {},
   "outputs": [],
   "source": [
    "#for now, change dates into datetime format, and change mes/año to int instead of float to combine later\n",
    "\n",
    "# created_date\n",
    "# last_modified\n",
    "# service_start_date\n",
    "# last_service_date\n",
    "# warranty_start"
   ]
  },
  {
   "cell_type": "code",
   "execution_count": 18,
   "metadata": {},
   "outputs": [],
   "source": [
    "clean_dataset.created_date = pd.to_datetime(clean_dataset.created_date, format='%d/%m/%Y', errors='coerce')\n",
    "clean_dataset.last_modified = pd.to_datetime(clean_dataset.last_modified, format='%d/%m/%Y', errors='coerce')\n",
    "clean_dataset.service_start_date = pd.to_datetime(clean_dataset.service_start_date, format='%d/%m/%Y', errors='coerce')\n",
    "clean_dataset.last_service_date = pd.to_datetime(clean_dataset.last_service_date, format='%d/%m/%Y', errors='coerce')\n",
    "clean_dataset.warranty_start = pd.to_datetime(clean_dataset.warranty_start, format='%d/%m/%Y', errors='coerce')"
   ]
  },
  {
   "cell_type": "code",
   "execution_count": 19,
   "metadata": {},
   "outputs": [
    {
     "name": "stdout",
     "output_type": "stream",
     "text": [
      "<class 'pandas.core.frame.DataFrame'>\n",
      "RangeIndex: 75564 entries, 0 to 75563\n",
      "Data columns (total 22 columns):\n",
      " #   Column               Non-Null Count  Dtype         \n",
      "---  ------               --------------  -----         \n",
      " 0   serial_number        50634 non-null  object        \n",
      " 1   equipment_id         75564 non-null  int64         \n",
      " 2   client_id            5817 non-null   object        \n",
      " 3   group                13431 non-null  object        \n",
      " 4   client_code          75564 non-null  int64         \n",
      " 5   fleet_type           75558 non-null  object        \n",
      " 6   fixed_asset          1800 non-null   object        \n",
      " 7   construction_year    73369 non-null  float64       \n",
      " 8   brand_name           70433 non-null  object        \n",
      " 9   created_date         75564 non-null  datetime64[ns]\n",
      " 10  warranty_type        11980 non-null  object        \n",
      " 11  last_modified        63966 non-null  datetime64[ns]\n",
      " 12  modified_by          63966 non-null  object        \n",
      " 13  service_start_date   9741 non-null   datetime64[ns]\n",
      " 14  last_service_date    12824 non-null  datetime64[ns]\n",
      " 15  warranty_start       11982 non-null  datetime64[ns]\n",
      " 16  equipment_type_name  11251 non-null  object        \n",
      " 17  construction_month   71685 non-null  float64       \n",
      " 18  country              9543 non-null   object        \n",
      " 19  technician           13336 non-null  object        \n",
      " 20  user_status          14319 non-null  object        \n",
      " 21  equipment_type       75564 non-null  object        \n",
      "dtypes: datetime64[ns](5), float64(2), int64(2), object(13)\n",
      "memory usage: 12.7+ MB\n"
     ]
    }
   ],
   "source": [
    "clean_dataset.info()"
   ]
  },
  {
   "cell_type": "code",
   "execution_count": 20,
   "metadata": {},
   "outputs": [
    {
     "data": {
      "text/html": [
       "<div>\n",
       "<style scoped>\n",
       "    .dataframe tbody tr th:only-of-type {\n",
       "        vertical-align: middle;\n",
       "    }\n",
       "\n",
       "    .dataframe tbody tr th {\n",
       "        vertical-align: top;\n",
       "    }\n",
       "\n",
       "    .dataframe thead th {\n",
       "        text-align: right;\n",
       "    }\n",
       "</style>\n",
       "<table border=\"1\" class=\"dataframe\">\n",
       "  <thead>\n",
       "    <tr style=\"text-align: right;\">\n",
       "      <th></th>\n",
       "      <th>serial_number</th>\n",
       "      <th>equipment_id</th>\n",
       "      <th>client_id</th>\n",
       "      <th>group</th>\n",
       "      <th>client_code</th>\n",
       "      <th>fleet_type</th>\n",
       "      <th>fixed_asset</th>\n",
       "      <th>construction_year</th>\n",
       "      <th>brand_name</th>\n",
       "      <th>created_date</th>\n",
       "      <th>...</th>\n",
       "      <th>modified_by</th>\n",
       "      <th>service_start_date</th>\n",
       "      <th>last_service_date</th>\n",
       "      <th>warranty_start</th>\n",
       "      <th>equipment_type_name</th>\n",
       "      <th>construction_month</th>\n",
       "      <th>country</th>\n",
       "      <th>technician</th>\n",
       "      <th>user_status</th>\n",
       "      <th>equipment_type</th>\n",
       "    </tr>\n",
       "  </thead>\n",
       "  <tbody>\n",
       "    <tr>\n",
       "      <th>0</th>\n",
       "      <td>H2X992W15465</td>\n",
       "      <td>1132732</td>\n",
       "      <td>3</td>\n",
       "      <td>E82</td>\n",
       "      <td>33925845</td>\n",
       "      <td>C</td>\n",
       "      <td>NaN</td>\n",
       "      <td>2008.0</td>\n",
       "      <td>LINDE</td>\n",
       "      <td>2012-06-12</td>\n",
       "      <td>...</td>\n",
       "      <td>HK57F5</td>\n",
       "      <td>NaT</td>\n",
       "      <td>2022-11-11</td>\n",
       "      <td>2008-09-15</td>\n",
       "      <td>Contrapesada térmica</td>\n",
       "      <td>5.0</td>\n",
       "      <td>DE</td>\n",
       "      <td>KXE-6188</td>\n",
       "      <td>AVLB</td>\n",
       "      <td>L</td>\n",
       "    </tr>\n",
       "    <tr>\n",
       "      <th>1</th>\n",
       "      <td>H2X995S19125</td>\n",
       "      <td>1207034</td>\n",
       "      <td>NaN</td>\n",
       "      <td>E12</td>\n",
       "      <td>39380933</td>\n",
       "      <td>C</td>\n",
       "      <td>NaN</td>\n",
       "      <td>2005.0</td>\n",
       "      <td>NaN</td>\n",
       "      <td>2012-06-18</td>\n",
       "      <td>...</td>\n",
       "      <td>HK57F5</td>\n",
       "      <td>NaT</td>\n",
       "      <td>2018-07-13</td>\n",
       "      <td>2011-12-14</td>\n",
       "      <td>Contrapesada eléctrica</td>\n",
       "      <td>5.0</td>\n",
       "      <td>DE</td>\n",
       "      <td>KXE-6639</td>\n",
       "      <td>AVLB PINA</td>\n",
       "      <td>L</td>\n",
       "    </tr>\n",
       "    <tr>\n",
       "      <th>2</th>\n",
       "      <td>W4X979W12995</td>\n",
       "      <td>1290040</td>\n",
       "      <td>1204 PMP EX</td>\n",
       "      <td>E82</td>\n",
       "      <td>33927373</td>\n",
       "      <td>C</td>\n",
       "      <td>NaN</td>\n",
       "      <td>2008.0</td>\n",
       "      <td>LINDE</td>\n",
       "      <td>2012-12-18</td>\n",
       "      <td>...</td>\n",
       "      <td>CKMAGKNK</td>\n",
       "      <td>2008-05-29</td>\n",
       "      <td>2023-09-19</td>\n",
       "      <td>NaT</td>\n",
       "      <td>Apilador</td>\n",
       "      <td>6.0</td>\n",
       "      <td>NaN</td>\n",
       "      <td>KXE-6156</td>\n",
       "      <td>AWIN</td>\n",
       "      <td>L</td>\n",
       "    </tr>\n",
       "    <tr>\n",
       "      <th>3</th>\n",
       "      <td>H2X994R11511</td>\n",
       "      <td>1306179</td>\n",
       "      <td>NaN</td>\n",
       "      <td>NaN</td>\n",
       "      <td>33922280</td>\n",
       "      <td>N</td>\n",
       "      <td>NaN</td>\n",
       "      <td>2004.0</td>\n",
       "      <td>LINDE</td>\n",
       "      <td>2012-12-18</td>\n",
       "      <td>...</td>\n",
       "      <td>HK57F5</td>\n",
       "      <td>2004-04-30</td>\n",
       "      <td>2023-05-24</td>\n",
       "      <td>NaT</td>\n",
       "      <td>Contrapesada térmica</td>\n",
       "      <td>5.0</td>\n",
       "      <td>NaN</td>\n",
       "      <td>NaN</td>\n",
       "      <td>AVLB</td>\n",
       "      <td>L</td>\n",
       "    </tr>\n",
       "    <tr>\n",
       "      <th>4</th>\n",
       "      <td>G5X997P11599</td>\n",
       "      <td>1655177</td>\n",
       "      <td>NaN</td>\n",
       "      <td>E11</td>\n",
       "      <td>33923892</td>\n",
       "      <td>C</td>\n",
       "      <td>NaN</td>\n",
       "      <td>2003.0</td>\n",
       "      <td>NaN</td>\n",
       "      <td>2014-09-23</td>\n",
       "      <td>...</td>\n",
       "      <td>HK57F5</td>\n",
       "      <td>NaT</td>\n",
       "      <td>2020-04-01</td>\n",
       "      <td>2003-07-15</td>\n",
       "      <td>Contrapesada eléctrica</td>\n",
       "      <td>6.0</td>\n",
       "      <td>GB</td>\n",
       "      <td>KXE-6263</td>\n",
       "      <td>AVLB PINA</td>\n",
       "      <td>L</td>\n",
       "    </tr>\n",
       "  </tbody>\n",
       "</table>\n",
       "<p>5 rows × 22 columns</p>\n",
       "</div>"
      ],
      "text/plain": [
       "  serial_number  equipment_id    client_id group  client_code fleet_type  \\\n",
       "0  H2X992W15465       1132732            3   E82     33925845          C   \n",
       "1  H2X995S19125       1207034          NaN   E12     39380933          C   \n",
       "2  W4X979W12995       1290040  1204 PMP EX   E82     33927373          C   \n",
       "3  H2X994R11511       1306179          NaN   NaN     33922280          N   \n",
       "4  G5X997P11599       1655177          NaN   E11     33923892          C   \n",
       "\n",
       "  fixed_asset  construction_year brand_name created_date  ... modified_by  \\\n",
       "0         NaN             2008.0      LINDE   2012-06-12  ...      HK57F5   \n",
       "1         NaN             2005.0        NaN   2012-06-18  ...      HK57F5   \n",
       "2         NaN             2008.0      LINDE   2012-12-18  ...    CKMAGKNK   \n",
       "3         NaN             2004.0      LINDE   2012-12-18  ...      HK57F5   \n",
       "4         NaN             2003.0        NaN   2014-09-23  ...      HK57F5   \n",
       "\n",
       "  service_start_date last_service_date warranty_start     equipment_type_name  \\\n",
       "0                NaT        2022-11-11     2008-09-15    Contrapesada térmica   \n",
       "1                NaT        2018-07-13     2011-12-14  Contrapesada eléctrica   \n",
       "2         2008-05-29        2023-09-19            NaT                Apilador   \n",
       "3         2004-04-30        2023-05-24            NaT    Contrapesada térmica   \n",
       "4                NaT        2020-04-01     2003-07-15  Contrapesada eléctrica   \n",
       "\n",
       "  construction_month country  technician user_status equipment_type  \n",
       "0                5.0      DE    KXE-6188        AVLB              L  \n",
       "1                5.0      DE    KXE-6639   AVLB PINA              L  \n",
       "2                6.0     NaN    KXE-6156        AWIN              L  \n",
       "3                5.0     NaN         NaN        AVLB              L  \n",
       "4                6.0      GB    KXE-6263   AVLB PINA              L  \n",
       "\n",
       "[5 rows x 22 columns]"
      ]
     },
     "execution_count": 20,
     "metadata": {},
     "output_type": "execute_result"
    }
   ],
   "source": [
    "# review changes\n",
    "clean_dataset.head()"
   ]
  },
  {
   "cell_type": "code",
   "execution_count": 21,
   "metadata": {},
   "outputs": [
    {
     "name": "stdout",
     "output_type": "stream",
     "text": [
      "serial_number          24930\n",
      "equipment_id               0\n",
      "client_id              69747\n",
      "group                  62133\n",
      "client_code                0\n",
      "fleet_type                 6\n",
      "fixed_asset            73764\n",
      "construction_year       2195\n",
      "brand_name              5131\n",
      "created_date               0\n",
      "warranty_type          63584\n",
      "last_modified          11598\n",
      "modified_by            11598\n",
      "service_start_date     65823\n",
      "last_service_date      62740\n",
      "warranty_start         63582\n",
      "equipment_type_name    64313\n",
      "construction_month      3879\n",
      "country                66021\n",
      "technician             62228\n",
      "user_status            61245\n",
      "equipment_type             0\n",
      "dtype: int64\n"
     ]
    },
    {
     "data": {
      "text/plain": [
       "Número de serie                        24930\n",
       "Equipo                                     0\n",
       "Número-identificación técnica          69747\n",
       "Grupo planificación                    62133\n",
       "Enviar a parte                             0\n",
       "Flota                                      6\n",
       "Activo fijo                            73764\n",
       "Año de construcción                     2195\n",
       "Brand name                              5131\n",
       "Creado el                                  0\n",
       "Denominación de garantía de cliente    63584\n",
       "Modificado el                          11598\n",
       "Modificado por                         11598\n",
       "Fe.puesta servicio                     65823\n",
       "Fecha de última orden                  62740\n",
       "Inic.garantía clte.                    63582\n",
       "intervalo                              64313\n",
       "Mes de construcción                     3879\n",
       "País de fabricación                    66021\n",
       "Pto.tbjo.responsable                   62228\n",
       "Status de usuario                      61245\n",
       "Tipo de equipo                             0\n",
       "dtype: int64"
      ]
     },
     "execution_count": 21,
     "metadata": {},
     "output_type": "execute_result"
    }
   ],
   "source": [
    "#review nulls are the same as before\n",
    "\n",
    "print(clean_dataset.isnull().sum())\n",
    "\n",
    "origin_dataset.isnull().sum()\n"
   ]
  },
  {
   "cell_type": "code",
   "execution_count": 22,
   "metadata": {},
   "outputs": [],
   "source": [
    "#change float to int month and year. We can't convert null values directly to int, so we have to fill null values with 0.\n",
    "\n",
    "clean_dataset.construction_month = clean_dataset.construction_month.fillna(0).astype(int)\n",
    "clean_dataset.construction_year = clean_dataset.construction_year.fillna(0).astype(int)"
   ]
  },
  {
   "cell_type": "code",
   "execution_count": 23,
   "metadata": {},
   "outputs": [
    {
     "name": "stdout",
     "output_type": "stream",
     "text": [
      "<class 'pandas.core.frame.DataFrame'>\n",
      "RangeIndex: 75564 entries, 0 to 75563\n",
      "Data columns (total 22 columns):\n",
      " #   Column               Non-Null Count  Dtype         \n",
      "---  ------               --------------  -----         \n",
      " 0   serial_number        50634 non-null  object        \n",
      " 1   equipment_id         75564 non-null  int64         \n",
      " 2   client_id            5817 non-null   object        \n",
      " 3   group                13431 non-null  object        \n",
      " 4   client_code          75564 non-null  int64         \n",
      " 5   fleet_type           75558 non-null  object        \n",
      " 6   fixed_asset          1800 non-null   object        \n",
      " 7   construction_year    75564 non-null  int64         \n",
      " 8   brand_name           70433 non-null  object        \n",
      " 9   created_date         75564 non-null  datetime64[ns]\n",
      " 10  warranty_type        11980 non-null  object        \n",
      " 11  last_modified        63966 non-null  datetime64[ns]\n",
      " 12  modified_by          63966 non-null  object        \n",
      " 13  service_start_date   9741 non-null   datetime64[ns]\n",
      " 14  last_service_date    12824 non-null  datetime64[ns]\n",
      " 15  warranty_start       11982 non-null  datetime64[ns]\n",
      " 16  equipment_type_name  11251 non-null  object        \n",
      " 17  construction_month   75564 non-null  int64         \n",
      " 18  country              9543 non-null   object        \n",
      " 19  technician           13336 non-null  object        \n",
      " 20  user_status          14319 non-null  object        \n",
      " 21  equipment_type       75564 non-null  object        \n",
      "dtypes: datetime64[ns](5), int64(4), object(13)\n",
      "memory usage: 12.7+ MB\n"
     ]
    }
   ],
   "source": [
    "#check that the change has been made correctly\n",
    "\n",
    "clean_dataset.info()"
   ]
  },
  {
   "cell_type": "code",
   "execution_count": 24,
   "metadata": {},
   "outputs": [
    {
     "data": {
      "text/plain": [
       "serial_number          24930\n",
       "equipment_id               0\n",
       "client_id              69747\n",
       "group                  62133\n",
       "client_code                0\n",
       "fleet_type                 6\n",
       "fixed_asset            73764\n",
       "construction_year          0\n",
       "brand_name              5131\n",
       "created_date               0\n",
       "warranty_type          63584\n",
       "last_modified          11598\n",
       "modified_by            11598\n",
       "service_start_date     65823\n",
       "last_service_date      62740\n",
       "warranty_start         63582\n",
       "equipment_type_name    64313\n",
       "construction_month         0\n",
       "country                66021\n",
       "technician             62228\n",
       "user_status            61245\n",
       "equipment_type             0\n",
       "dtype: int64"
      ]
     },
     "execution_count": 24,
     "metadata": {},
     "output_type": "execute_result"
    }
   ],
   "source": [
    "clean_dataset.isnull().sum()\n",
    "\n",
    "#now the columns construction year and month have 0 null values."
   ]
  },
  {
   "cell_type": "code",
   "execution_count": 25,
   "metadata": {},
   "outputs": [
    {
     "data": {
      "text/html": [
       "<div>\n",
       "<style scoped>\n",
       "    .dataframe tbody tr th:only-of-type {\n",
       "        vertical-align: middle;\n",
       "    }\n",
       "\n",
       "    .dataframe tbody tr th {\n",
       "        vertical-align: top;\n",
       "    }\n",
       "\n",
       "    .dataframe thead th {\n",
       "        text-align: right;\n",
       "    }\n",
       "</style>\n",
       "<table border=\"1\" class=\"dataframe\">\n",
       "  <thead>\n",
       "    <tr style=\"text-align: right;\">\n",
       "      <th></th>\n",
       "      <th>serial_number</th>\n",
       "      <th>equipment_id</th>\n",
       "      <th>client_id</th>\n",
       "      <th>group</th>\n",
       "      <th>client_code</th>\n",
       "      <th>fleet_type</th>\n",
       "      <th>fixed_asset</th>\n",
       "      <th>construction_year</th>\n",
       "      <th>brand_name</th>\n",
       "      <th>created_date</th>\n",
       "      <th>...</th>\n",
       "      <th>modified_by</th>\n",
       "      <th>service_start_date</th>\n",
       "      <th>last_service_date</th>\n",
       "      <th>warranty_start</th>\n",
       "      <th>equipment_type_name</th>\n",
       "      <th>construction_month</th>\n",
       "      <th>country</th>\n",
       "      <th>technician</th>\n",
       "      <th>user_status</th>\n",
       "      <th>equipment_type</th>\n",
       "    </tr>\n",
       "  </thead>\n",
       "  <tbody>\n",
       "    <tr>\n",
       "      <th>0</th>\n",
       "      <td>H2X992W15465</td>\n",
       "      <td>1132732</td>\n",
       "      <td>3</td>\n",
       "      <td>E82</td>\n",
       "      <td>33925845</td>\n",
       "      <td>C</td>\n",
       "      <td>NaN</td>\n",
       "      <td>2008</td>\n",
       "      <td>LINDE</td>\n",
       "      <td>2012-06-12</td>\n",
       "      <td>...</td>\n",
       "      <td>HK57F5</td>\n",
       "      <td>NaT</td>\n",
       "      <td>2022-11-11</td>\n",
       "      <td>2008-09-15</td>\n",
       "      <td>Contrapesada térmica</td>\n",
       "      <td>5</td>\n",
       "      <td>DE</td>\n",
       "      <td>KXE-6188</td>\n",
       "      <td>AVLB</td>\n",
       "      <td>L</td>\n",
       "    </tr>\n",
       "    <tr>\n",
       "      <th>1</th>\n",
       "      <td>H2X995S19125</td>\n",
       "      <td>1207034</td>\n",
       "      <td>NaN</td>\n",
       "      <td>E12</td>\n",
       "      <td>39380933</td>\n",
       "      <td>C</td>\n",
       "      <td>NaN</td>\n",
       "      <td>2005</td>\n",
       "      <td>NaN</td>\n",
       "      <td>2012-06-18</td>\n",
       "      <td>...</td>\n",
       "      <td>HK57F5</td>\n",
       "      <td>NaT</td>\n",
       "      <td>2018-07-13</td>\n",
       "      <td>2011-12-14</td>\n",
       "      <td>Contrapesada eléctrica</td>\n",
       "      <td>5</td>\n",
       "      <td>DE</td>\n",
       "      <td>KXE-6639</td>\n",
       "      <td>AVLB PINA</td>\n",
       "      <td>L</td>\n",
       "    </tr>\n",
       "    <tr>\n",
       "      <th>2</th>\n",
       "      <td>W4X979W12995</td>\n",
       "      <td>1290040</td>\n",
       "      <td>1204 PMP EX</td>\n",
       "      <td>E82</td>\n",
       "      <td>33927373</td>\n",
       "      <td>C</td>\n",
       "      <td>NaN</td>\n",
       "      <td>2008</td>\n",
       "      <td>LINDE</td>\n",
       "      <td>2012-12-18</td>\n",
       "      <td>...</td>\n",
       "      <td>CKMAGKNK</td>\n",
       "      <td>2008-05-29</td>\n",
       "      <td>2023-09-19</td>\n",
       "      <td>NaT</td>\n",
       "      <td>Apilador</td>\n",
       "      <td>6</td>\n",
       "      <td>NaN</td>\n",
       "      <td>KXE-6156</td>\n",
       "      <td>AWIN</td>\n",
       "      <td>L</td>\n",
       "    </tr>\n",
       "    <tr>\n",
       "      <th>3</th>\n",
       "      <td>H2X994R11511</td>\n",
       "      <td>1306179</td>\n",
       "      <td>NaN</td>\n",
       "      <td>NaN</td>\n",
       "      <td>33922280</td>\n",
       "      <td>N</td>\n",
       "      <td>NaN</td>\n",
       "      <td>2004</td>\n",
       "      <td>LINDE</td>\n",
       "      <td>2012-12-18</td>\n",
       "      <td>...</td>\n",
       "      <td>HK57F5</td>\n",
       "      <td>2004-04-30</td>\n",
       "      <td>2023-05-24</td>\n",
       "      <td>NaT</td>\n",
       "      <td>Contrapesada térmica</td>\n",
       "      <td>5</td>\n",
       "      <td>NaN</td>\n",
       "      <td>NaN</td>\n",
       "      <td>AVLB</td>\n",
       "      <td>L</td>\n",
       "    </tr>\n",
       "    <tr>\n",
       "      <th>4</th>\n",
       "      <td>G5X997P11599</td>\n",
       "      <td>1655177</td>\n",
       "      <td>NaN</td>\n",
       "      <td>E11</td>\n",
       "      <td>33923892</td>\n",
       "      <td>C</td>\n",
       "      <td>NaN</td>\n",
       "      <td>2003</td>\n",
       "      <td>NaN</td>\n",
       "      <td>2014-09-23</td>\n",
       "      <td>...</td>\n",
       "      <td>HK57F5</td>\n",
       "      <td>NaT</td>\n",
       "      <td>2020-04-01</td>\n",
       "      <td>2003-07-15</td>\n",
       "      <td>Contrapesada eléctrica</td>\n",
       "      <td>6</td>\n",
       "      <td>GB</td>\n",
       "      <td>KXE-6263</td>\n",
       "      <td>AVLB PINA</td>\n",
       "      <td>L</td>\n",
       "    </tr>\n",
       "  </tbody>\n",
       "</table>\n",
       "<p>5 rows × 22 columns</p>\n",
       "</div>"
      ],
      "text/plain": [
       "  serial_number  equipment_id    client_id group  client_code fleet_type  \\\n",
       "0  H2X992W15465       1132732            3   E82     33925845          C   \n",
       "1  H2X995S19125       1207034          NaN   E12     39380933          C   \n",
       "2  W4X979W12995       1290040  1204 PMP EX   E82     33927373          C   \n",
       "3  H2X994R11511       1306179          NaN   NaN     33922280          N   \n",
       "4  G5X997P11599       1655177          NaN   E11     33923892          C   \n",
       "\n",
       "  fixed_asset  construction_year brand_name created_date  ... modified_by  \\\n",
       "0         NaN               2008      LINDE   2012-06-12  ...      HK57F5   \n",
       "1         NaN               2005        NaN   2012-06-18  ...      HK57F5   \n",
       "2         NaN               2008      LINDE   2012-12-18  ...    CKMAGKNK   \n",
       "3         NaN               2004      LINDE   2012-12-18  ...      HK57F5   \n",
       "4         NaN               2003        NaN   2014-09-23  ...      HK57F5   \n",
       "\n",
       "  service_start_date last_service_date warranty_start     equipment_type_name  \\\n",
       "0                NaT        2022-11-11     2008-09-15    Contrapesada térmica   \n",
       "1                NaT        2018-07-13     2011-12-14  Contrapesada eléctrica   \n",
       "2         2008-05-29        2023-09-19            NaT                Apilador   \n",
       "3         2004-04-30        2023-05-24            NaT    Contrapesada térmica   \n",
       "4                NaT        2020-04-01     2003-07-15  Contrapesada eléctrica   \n",
       "\n",
       "  construction_month country  technician user_status equipment_type  \n",
       "0                  5      DE    KXE-6188        AVLB              L  \n",
       "1                  5      DE    KXE-6639   AVLB PINA              L  \n",
       "2                  6     NaN    KXE-6156        AWIN              L  \n",
       "3                  5     NaN         NaN        AVLB              L  \n",
       "4                  6      GB    KXE-6263   AVLB PINA              L  \n",
       "\n",
       "[5 rows x 22 columns]"
      ]
     },
     "execution_count": 25,
     "metadata": {},
     "output_type": "execute_result"
    }
   ],
   "source": [
    "\n",
    "clean_dataset.head()"
   ]
  },
  {
   "cell_type": "markdown",
   "metadata": {},
   "source": [
    "## Cleaning by column"
   ]
  },
  {
   "cell_type": "code",
   "execution_count": 26,
   "metadata": {},
   "outputs": [
    {
     "name": "stdout",
     "output_type": "stream",
     "text": [
      "### serial_number\n",
      "### equipment_id\n",
      "### client_id\n",
      "### group\n",
      "### client_code\n",
      "### fleet_type\n",
      "### fixed_asset\n",
      "### construction_year\n",
      "### brand_name\n",
      "### created_date\n",
      "### warranty_type\n",
      "### last_modified\n",
      "### modified_by\n",
      "### service_start_date\n",
      "### last_service_date\n",
      "### warranty_start\n",
      "### equipment_type_name\n",
      "### construction_month\n",
      "### country\n",
      "### technician\n",
      "### user_status\n",
      "### equipment_type\n"
     ]
    }
   ],
   "source": [
    "list = clean_dataset.columns\n",
    "\n",
    "for i in list:\n",
    "    print(\"### \"+i)"
   ]
  },
  {
   "cell_type": "markdown",
   "metadata": {},
   "source": [
    "### serial_number\n",
    "\n",
    "- verify if Linde have 12 cts \n",
    "- Unique? \n",
    "- Missing values\n",
    "- Dtype"
   ]
  },
  {
   "cell_type": "code",
   "execution_count": 27,
   "metadata": {},
   "outputs": [
    {
     "name": "stdout",
     "output_type": "stream",
     "text": [
      "<class 'pandas.core.series.Series'>\n",
      "RangeIndex: 75564 entries, 0 to 75563\n",
      "Series name: serial_number\n",
      "Non-Null Count  Dtype \n",
      "--------------  ----- \n",
      "50634 non-null  object\n",
      "dtypes: object(1)\n",
      "memory usage: 590.5+ KB\n"
     ]
    }
   ],
   "source": [
    "\n",
    "clean_dataset.serial_number.info()\n",
    "\n",
    "#dtype is string and it makes sense since it's alphanumeric element"
   ]
  },
  {
   "cell_type": "code",
   "execution_count": 28,
   "metadata": {},
   "outputs": [
    {
     "data": {
      "text/html": [
       "<div>\n",
       "<style scoped>\n",
       "    .dataframe tbody tr th:only-of-type {\n",
       "        vertical-align: middle;\n",
       "    }\n",
       "\n",
       "    .dataframe tbody tr th {\n",
       "        vertical-align: top;\n",
       "    }\n",
       "\n",
       "    .dataframe thead th {\n",
       "        text-align: right;\n",
       "    }\n",
       "</style>\n",
       "<table border=\"1\" class=\"dataframe\">\n",
       "  <thead>\n",
       "    <tr style=\"text-align: right;\">\n",
       "      <th></th>\n",
       "      <th>serial_number</th>\n",
       "      <th>equipment_id</th>\n",
       "      <th>client_id</th>\n",
       "      <th>group</th>\n",
       "      <th>client_code</th>\n",
       "      <th>fleet_type</th>\n",
       "      <th>fixed_asset</th>\n",
       "      <th>construction_year</th>\n",
       "      <th>brand_name</th>\n",
       "      <th>created_date</th>\n",
       "      <th>...</th>\n",
       "      <th>modified_by</th>\n",
       "      <th>service_start_date</th>\n",
       "      <th>last_service_date</th>\n",
       "      <th>warranty_start</th>\n",
       "      <th>equipment_type_name</th>\n",
       "      <th>construction_month</th>\n",
       "      <th>country</th>\n",
       "      <th>technician</th>\n",
       "      <th>user_status</th>\n",
       "      <th>equipment_type</th>\n",
       "    </tr>\n",
       "  </thead>\n",
       "  <tbody>\n",
       "    <tr>\n",
       "      <th>0</th>\n",
       "      <td>H2X992W15465</td>\n",
       "      <td>1132732</td>\n",
       "      <td>3</td>\n",
       "      <td>E82</td>\n",
       "      <td>33925845</td>\n",
       "      <td>C</td>\n",
       "      <td>NaN</td>\n",
       "      <td>2008</td>\n",
       "      <td>LINDE</td>\n",
       "      <td>2012-06-12</td>\n",
       "      <td>...</td>\n",
       "      <td>HK57F5</td>\n",
       "      <td>NaT</td>\n",
       "      <td>2022-11-11</td>\n",
       "      <td>2008-09-15</td>\n",
       "      <td>Contrapesada térmica</td>\n",
       "      <td>5</td>\n",
       "      <td>DE</td>\n",
       "      <td>KXE-6188</td>\n",
       "      <td>AVLB</td>\n",
       "      <td>L</td>\n",
       "    </tr>\n",
       "    <tr>\n",
       "      <th>2</th>\n",
       "      <td>W4X979W12995</td>\n",
       "      <td>1290040</td>\n",
       "      <td>1204 PMP EX</td>\n",
       "      <td>E82</td>\n",
       "      <td>33927373</td>\n",
       "      <td>C</td>\n",
       "      <td>NaN</td>\n",
       "      <td>2008</td>\n",
       "      <td>LINDE</td>\n",
       "      <td>2012-12-18</td>\n",
       "      <td>...</td>\n",
       "      <td>CKMAGKNK</td>\n",
       "      <td>2008-05-29</td>\n",
       "      <td>2023-09-19</td>\n",
       "      <td>NaT</td>\n",
       "      <td>Apilador</td>\n",
       "      <td>6</td>\n",
       "      <td>NaN</td>\n",
       "      <td>KXE-6156</td>\n",
       "      <td>AWIN</td>\n",
       "      <td>L</td>\n",
       "    </tr>\n",
       "    <tr>\n",
       "      <th>3</th>\n",
       "      <td>H2X994R11511</td>\n",
       "      <td>1306179</td>\n",
       "      <td>NaN</td>\n",
       "      <td>NaN</td>\n",
       "      <td>33922280</td>\n",
       "      <td>N</td>\n",
       "      <td>NaN</td>\n",
       "      <td>2004</td>\n",
       "      <td>LINDE</td>\n",
       "      <td>2012-12-18</td>\n",
       "      <td>...</td>\n",
       "      <td>HK57F5</td>\n",
       "      <td>2004-04-30</td>\n",
       "      <td>2023-05-24</td>\n",
       "      <td>NaT</td>\n",
       "      <td>Contrapesada térmica</td>\n",
       "      <td>5</td>\n",
       "      <td>NaN</td>\n",
       "      <td>NaN</td>\n",
       "      <td>AVLB</td>\n",
       "      <td>L</td>\n",
       "    </tr>\n",
       "    <tr>\n",
       "      <th>5</th>\n",
       "      <td>W4X595F14922</td>\n",
       "      <td>2139958</td>\n",
       "      <td>NaN</td>\n",
       "      <td>E11</td>\n",
       "      <td>33933808</td>\n",
       "      <td>C</td>\n",
       "      <td>NaN</td>\n",
       "      <td>2015</td>\n",
       "      <td>LINDE</td>\n",
       "      <td>2015-10-14</td>\n",
       "      <td>...</td>\n",
       "      <td>HK57F5</td>\n",
       "      <td>NaT</td>\n",
       "      <td>2021-02-10</td>\n",
       "      <td>2015-10-05</td>\n",
       "      <td>Transpaleta eléctrica</td>\n",
       "      <td>10</td>\n",
       "      <td>FR</td>\n",
       "      <td>KXE-6626</td>\n",
       "      <td>ONOD PINA</td>\n",
       "      <td>L</td>\n",
       "    </tr>\n",
       "    <tr>\n",
       "      <th>7</th>\n",
       "      <td>H2X926C19625</td>\n",
       "      <td>2205572</td>\n",
       "      <td>NaN</td>\n",
       "      <td>E12</td>\n",
       "      <td>39327943</td>\n",
       "      <td>C</td>\n",
       "      <td>NaN</td>\n",
       "      <td>2012</td>\n",
       "      <td>LINDE</td>\n",
       "      <td>2015-12-05</td>\n",
       "      <td>...</td>\n",
       "      <td>CKMAGKNK</td>\n",
       "      <td>2020-10-08</td>\n",
       "      <td>2024-03-14</td>\n",
       "      <td>2020-12-18</td>\n",
       "      <td>Contrapesada eléctrica</td>\n",
       "      <td>5</td>\n",
       "      <td>DE</td>\n",
       "      <td>KXE-6157</td>\n",
       "      <td>SOLD RSVD</td>\n",
       "      <td>L</td>\n",
       "    </tr>\n",
       "    <tr>\n",
       "      <th>...</th>\n",
       "      <td>...</td>\n",
       "      <td>...</td>\n",
       "      <td>...</td>\n",
       "      <td>...</td>\n",
       "      <td>...</td>\n",
       "      <td>...</td>\n",
       "      <td>...</td>\n",
       "      <td>...</td>\n",
       "      <td>...</td>\n",
       "      <td>...</td>\n",
       "      <td>...</td>\n",
       "      <td>...</td>\n",
       "      <td>...</td>\n",
       "      <td>...</td>\n",
       "      <td>...</td>\n",
       "      <td>...</td>\n",
       "      <td>...</td>\n",
       "      <td>...</td>\n",
       "      <td>...</td>\n",
       "      <td>...</td>\n",
       "      <td>...</td>\n",
       "    </tr>\n",
       "    <tr>\n",
       "      <th>75514</th>\n",
       "      <td>W41559C15595</td>\n",
       "      <td>6106796</td>\n",
       "      <td>A7</td>\n",
       "      <td>E81</td>\n",
       "      <td>33933227</td>\n",
       "      <td>C</td>\n",
       "      <td>NaN</td>\n",
       "      <td>0</td>\n",
       "      <td>LINDE</td>\n",
       "      <td>2024-03-20</td>\n",
       "      <td>...</td>\n",
       "      <td>NaN</td>\n",
       "      <td>NaT</td>\n",
       "      <td>2024-03-07</td>\n",
       "      <td>NaT</td>\n",
       "      <td>Transpaleta eléctrica</td>\n",
       "      <td>0</td>\n",
       "      <td>NaN</td>\n",
       "      <td>KXE-6215</td>\n",
       "      <td>AVLB</td>\n",
       "      <td>L</td>\n",
       "    </tr>\n",
       "    <tr>\n",
       "      <th>75517</th>\n",
       "      <td>W45565N11199</td>\n",
       "      <td>6108537</td>\n",
       "      <td>NaN</td>\n",
       "      <td>E11</td>\n",
       "      <td>33934507</td>\n",
       "      <td>R</td>\n",
       "      <td>NaN</td>\n",
       "      <td>2024</td>\n",
       "      <td>LINDE</td>\n",
       "      <td>2024-03-21</td>\n",
       "      <td>...</td>\n",
       "      <td>A0063827</td>\n",
       "      <td>2024-04-02</td>\n",
       "      <td>NaT</td>\n",
       "      <td>2024-04-02</td>\n",
       "      <td>Apilador</td>\n",
       "      <td>3</td>\n",
       "      <td>FR</td>\n",
       "      <td>LE196666</td>\n",
       "      <td>AVLB</td>\n",
       "      <td>L</td>\n",
       "    </tr>\n",
       "    <tr>\n",
       "      <th>75522</th>\n",
       "      <td>996F12155991</td>\n",
       "      <td>6109448</td>\n",
       "      <td>NaN</td>\n",
       "      <td>E11</td>\n",
       "      <td>39303353</td>\n",
       "      <td>C</td>\n",
       "      <td>NaN</td>\n",
       "      <td>0</td>\n",
       "      <td>LINDE</td>\n",
       "      <td>2024-03-22</td>\n",
       "      <td>...</td>\n",
       "      <td>KS411A</td>\n",
       "      <td>NaT</td>\n",
       "      <td>NaT</td>\n",
       "      <td>NaT</td>\n",
       "      <td>NaN</td>\n",
       "      <td>0</td>\n",
       "      <td>NaN</td>\n",
       "      <td>KXE-6642</td>\n",
       "      <td>AVLB</td>\n",
       "      <td>L</td>\n",
       "    </tr>\n",
       "    <tr>\n",
       "      <th>75526</th>\n",
       "      <td>W45552F19256</td>\n",
       "      <td>6109504</td>\n",
       "      <td>NaN</td>\n",
       "      <td>E12</td>\n",
       "      <td>33933702</td>\n",
       "      <td>C</td>\n",
       "      <td>NaN</td>\n",
       "      <td>0</td>\n",
       "      <td>LINDE</td>\n",
       "      <td>2024-03-22</td>\n",
       "      <td>...</td>\n",
       "      <td>NaN</td>\n",
       "      <td>NaT</td>\n",
       "      <td>NaT</td>\n",
       "      <td>NaT</td>\n",
       "      <td>NaN</td>\n",
       "      <td>0</td>\n",
       "      <td>NaN</td>\n",
       "      <td>KXE-6646</td>\n",
       "      <td>AVLB</td>\n",
       "      <td>L</td>\n",
       "    </tr>\n",
       "    <tr>\n",
       "      <th>75548</th>\n",
       "      <td>W45565N11195</td>\n",
       "      <td>6118220</td>\n",
       "      <td>NaN</td>\n",
       "      <td>E11</td>\n",
       "      <td>33934507</td>\n",
       "      <td>R</td>\n",
       "      <td>NaN</td>\n",
       "      <td>2024</td>\n",
       "      <td>LINDE</td>\n",
       "      <td>2024-03-29</td>\n",
       "      <td>...</td>\n",
       "      <td>A0084112</td>\n",
       "      <td>2024-04-03</td>\n",
       "      <td>NaT</td>\n",
       "      <td>2024-04-03</td>\n",
       "      <td>Apilador</td>\n",
       "      <td>3</td>\n",
       "      <td>FR</td>\n",
       "      <td>LE196666</td>\n",
       "      <td>AVLB</td>\n",
       "      <td>L</td>\n",
       "    </tr>\n",
       "  </tbody>\n",
       "</table>\n",
       "<p>11502 rows × 22 columns</p>\n",
       "</div>"
      ],
      "text/plain": [
       "      serial_number  equipment_id    client_id group  client_code fleet_type  \\\n",
       "0      H2X992W15465       1132732            3   E82     33925845          C   \n",
       "2      W4X979W12995       1290040  1204 PMP EX   E82     33927373          C   \n",
       "3      H2X994R11511       1306179          NaN   NaN     33922280          N   \n",
       "5      W4X595F14922       2139958          NaN   E11     33933808          C   \n",
       "7      H2X926C19625       2205572          NaN   E12     39327943          C   \n",
       "...             ...           ...          ...   ...          ...        ...   \n",
       "75514  W41559C15595       6106796           A7   E81     33933227          C   \n",
       "75517  W45565N11199       6108537          NaN   E11     33934507          R   \n",
       "75522  996F12155991       6109448          NaN   E11     39303353          C   \n",
       "75526  W45552F19256       6109504          NaN   E12     33933702          C   \n",
       "75548  W45565N11195       6118220          NaN   E11     33934507          R   \n",
       "\n",
       "      fixed_asset  construction_year brand_name created_date  ... modified_by  \\\n",
       "0             NaN               2008      LINDE   2012-06-12  ...      HK57F5   \n",
       "2             NaN               2008      LINDE   2012-12-18  ...    CKMAGKNK   \n",
       "3             NaN               2004      LINDE   2012-12-18  ...      HK57F5   \n",
       "5             NaN               2015      LINDE   2015-10-14  ...      HK57F5   \n",
       "7             NaN               2012      LINDE   2015-12-05  ...    CKMAGKNK   \n",
       "...           ...                ...        ...          ...  ...         ...   \n",
       "75514         NaN                  0      LINDE   2024-03-20  ...         NaN   \n",
       "75517         NaN               2024      LINDE   2024-03-21  ...    A0063827   \n",
       "75522         NaN                  0      LINDE   2024-03-22  ...      KS411A   \n",
       "75526         NaN                  0      LINDE   2024-03-22  ...         NaN   \n",
       "75548         NaN               2024      LINDE   2024-03-29  ...    A0084112   \n",
       "\n",
       "      service_start_date last_service_date warranty_start  \\\n",
       "0                    NaT        2022-11-11     2008-09-15   \n",
       "2             2008-05-29        2023-09-19            NaT   \n",
       "3             2004-04-30        2023-05-24            NaT   \n",
       "5                    NaT        2021-02-10     2015-10-05   \n",
       "7             2020-10-08        2024-03-14     2020-12-18   \n",
       "...                  ...               ...            ...   \n",
       "75514                NaT        2024-03-07            NaT   \n",
       "75517         2024-04-02               NaT     2024-04-02   \n",
       "75522                NaT               NaT            NaT   \n",
       "75526                NaT               NaT            NaT   \n",
       "75548         2024-04-03               NaT     2024-04-03   \n",
       "\n",
       "          equipment_type_name construction_month country  technician  \\\n",
       "0        Contrapesada térmica                  5      DE    KXE-6188   \n",
       "2                    Apilador                  6     NaN    KXE-6156   \n",
       "3        Contrapesada térmica                  5     NaN         NaN   \n",
       "5       Transpaleta eléctrica                 10      FR    KXE-6626   \n",
       "7      Contrapesada eléctrica                  5      DE    KXE-6157   \n",
       "...                       ...                ...     ...         ...   \n",
       "75514   Transpaleta eléctrica                  0     NaN    KXE-6215   \n",
       "75517                Apilador                  3      FR    LE196666   \n",
       "75522                     NaN                  0     NaN    KXE-6642   \n",
       "75526                     NaN                  0     NaN    KXE-6646   \n",
       "75548                Apilador                  3      FR    LE196666   \n",
       "\n",
       "      user_status equipment_type  \n",
       "0            AVLB              L  \n",
       "2            AWIN              L  \n",
       "3            AVLB              L  \n",
       "5       ONOD PINA              L  \n",
       "7       SOLD RSVD              L  \n",
       "...           ...            ...  \n",
       "75514        AVLB              L  \n",
       "75517        AVLB              L  \n",
       "75522        AVLB              L  \n",
       "75526        AVLB              L  \n",
       "75548        AVLB              L  \n",
       "\n",
       "[11502 rows x 22 columns]"
      ]
     },
     "execution_count": 28,
     "metadata": {},
     "output_type": "execute_result"
    }
   ],
   "source": [
    "#verify if Linde has 12 cts in serial number\n",
    "\n",
    "linde_brand = clean_dataset[clean_dataset.brand_name == \"LINDE\"]\n",
    "linde_brand"
   ]
  },
  {
   "cell_type": "code",
   "execution_count": 29,
   "metadata": {},
   "outputs": [
    {
     "data": {
      "text/html": [
       "<div>\n",
       "<style scoped>\n",
       "    .dataframe tbody tr th:only-of-type {\n",
       "        vertical-align: middle;\n",
       "    }\n",
       "\n",
       "    .dataframe tbody tr th {\n",
       "        vertical-align: top;\n",
       "    }\n",
       "\n",
       "    .dataframe thead th {\n",
       "        text-align: right;\n",
       "    }\n",
       "</style>\n",
       "<table border=\"1\" class=\"dataframe\">\n",
       "  <thead>\n",
       "    <tr style=\"text-align: right;\">\n",
       "      <th></th>\n",
       "      <th>serial_number</th>\n",
       "      <th>equipment_id</th>\n",
       "      <th>client_id</th>\n",
       "      <th>group</th>\n",
       "      <th>client_code</th>\n",
       "      <th>fleet_type</th>\n",
       "      <th>fixed_asset</th>\n",
       "      <th>construction_year</th>\n",
       "      <th>brand_name</th>\n",
       "      <th>created_date</th>\n",
       "      <th>...</th>\n",
       "      <th>modified_by</th>\n",
       "      <th>service_start_date</th>\n",
       "      <th>last_service_date</th>\n",
       "      <th>warranty_start</th>\n",
       "      <th>equipment_type_name</th>\n",
       "      <th>construction_month</th>\n",
       "      <th>country</th>\n",
       "      <th>technician</th>\n",
       "      <th>user_status</th>\n",
       "      <th>equipment_type</th>\n",
       "    </tr>\n",
       "  </thead>\n",
       "  <tbody>\n",
       "    <tr>\n",
       "      <th>61</th>\n",
       "      <td>E1L71GTE1119242</td>\n",
       "      <td>2981089</td>\n",
       "      <td>NaN</td>\n",
       "      <td>E11</td>\n",
       "      <td>33930535</td>\n",
       "      <td>C</td>\n",
       "      <td>NaN</td>\n",
       "      <td>0</td>\n",
       "      <td>LINDE</td>\n",
       "      <td>2017-11-29</td>\n",
       "      <td>...</td>\n",
       "      <td>HK57F5</td>\n",
       "      <td>2019-05-30</td>\n",
       "      <td>2020-04-06</td>\n",
       "      <td>NaT</td>\n",
       "      <td>NaN</td>\n",
       "      <td>0</td>\n",
       "      <td>NaN</td>\n",
       "      <td>LE616666</td>\n",
       "      <td>SOTR PINA</td>\n",
       "      <td>C</td>\n",
       "    </tr>\n",
       "    <tr>\n",
       "      <th>348</th>\n",
       "      <td>HLI1416595</td>\n",
       "      <td>2984170</td>\n",
       "      <td>NaN</td>\n",
       "      <td>E14</td>\n",
       "      <td>33933050</td>\n",
       "      <td>R</td>\n",
       "      <td>J01186</td>\n",
       "      <td>2017</td>\n",
       "      <td>LINDE</td>\n",
       "      <td>2017-11-29</td>\n",
       "      <td>...</td>\n",
       "      <td>CKMAGKNK</td>\n",
       "      <td>NaT</td>\n",
       "      <td>2024-01-12</td>\n",
       "      <td>2017-08-22</td>\n",
       "      <td>Transpaleta manual</td>\n",
       "      <td>8</td>\n",
       "      <td>NaN</td>\n",
       "      <td>KXE-6278</td>\n",
       "      <td>NORE</td>\n",
       "      <td>L</td>\n",
       "    </tr>\n",
       "    <tr>\n",
       "      <th>393</th>\n",
       "      <td>GRSSALVESEN</td>\n",
       "      <td>2984446</td>\n",
       "      <td>NaN</td>\n",
       "      <td>E11</td>\n",
       "      <td>33929798</td>\n",
       "      <td>C</td>\n",
       "      <td>NaN</td>\n",
       "      <td>0</td>\n",
       "      <td>LINDE</td>\n",
       "      <td>2017-11-29</td>\n",
       "      <td>...</td>\n",
       "      <td>HK57F5</td>\n",
       "      <td>NaT</td>\n",
       "      <td>2020-02-05</td>\n",
       "      <td>2016-02-02</td>\n",
       "      <td>NaN</td>\n",
       "      <td>0</td>\n",
       "      <td>NaN</td>\n",
       "      <td>KXE-6191</td>\n",
       "      <td>AVLB PINA</td>\n",
       "      <td>C</td>\n",
       "    </tr>\n",
       "    <tr>\n",
       "      <th>3233</th>\n",
       "      <td>UFW212792</td>\n",
       "      <td>3013111</td>\n",
       "      <td>NaN</td>\n",
       "      <td>E11</td>\n",
       "      <td>33923308</td>\n",
       "      <td>C</td>\n",
       "      <td>NaN</td>\n",
       "      <td>2017</td>\n",
       "      <td>LINDE</td>\n",
       "      <td>2017-11-29</td>\n",
       "      <td>...</td>\n",
       "      <td>HK57F5</td>\n",
       "      <td>2021-06-15</td>\n",
       "      <td>2022-01-28</td>\n",
       "      <td>2021-06-15</td>\n",
       "      <td>Retráctil</td>\n",
       "      <td>0</td>\n",
       "      <td>SE</td>\n",
       "      <td>KXE-6626</td>\n",
       "      <td>SOLD PINA</td>\n",
       "      <td>L</td>\n",
       "    </tr>\n",
       "    <tr>\n",
       "      <th>3454</th>\n",
       "      <td>W4X595F15472OLD</td>\n",
       "      <td>3014862</td>\n",
       "      <td>NaN</td>\n",
       "      <td>NaN</td>\n",
       "      <td>55</td>\n",
       "      <td>C</td>\n",
       "      <td>NaN</td>\n",
       "      <td>2015</td>\n",
       "      <td>LINDE</td>\n",
       "      <td>2017-11-30</td>\n",
       "      <td>...</td>\n",
       "      <td>HK57F5</td>\n",
       "      <td>2018-10-05</td>\n",
       "      <td>NaT</td>\n",
       "      <td>2015-03-26</td>\n",
       "      <td>Transpaleta eléctrica</td>\n",
       "      <td>0</td>\n",
       "      <td>FR</td>\n",
       "      <td>NaN</td>\n",
       "      <td>SOLD PINA</td>\n",
       "      <td>L</td>\n",
       "    </tr>\n",
       "    <tr>\n",
       "      <th>...</th>\n",
       "      <td>...</td>\n",
       "      <td>...</td>\n",
       "      <td>...</td>\n",
       "      <td>...</td>\n",
       "      <td>...</td>\n",
       "      <td>...</td>\n",
       "      <td>...</td>\n",
       "      <td>...</td>\n",
       "      <td>...</td>\n",
       "      <td>...</td>\n",
       "      <td>...</td>\n",
       "      <td>...</td>\n",
       "      <td>...</td>\n",
       "      <td>...</td>\n",
       "      <td>...</td>\n",
       "      <td>...</td>\n",
       "      <td>...</td>\n",
       "      <td>...</td>\n",
       "      <td>...</td>\n",
       "      <td>...</td>\n",
       "      <td>...</td>\n",
       "    </tr>\n",
       "    <tr>\n",
       "      <th>75156</th>\n",
       "      <td>NaN</td>\n",
       "      <td>6045292</td>\n",
       "      <td>NaN</td>\n",
       "      <td>NaN</td>\n",
       "      <td>39354898</td>\n",
       "      <td>C</td>\n",
       "      <td>NaN</td>\n",
       "      <td>2006</td>\n",
       "      <td>LINDE</td>\n",
       "      <td>2024-02-07</td>\n",
       "      <td>...</td>\n",
       "      <td>NaN</td>\n",
       "      <td>NaT</td>\n",
       "      <td>NaT</td>\n",
       "      <td>NaT</td>\n",
       "      <td>NaN</td>\n",
       "      <td>0</td>\n",
       "      <td>NaN</td>\n",
       "      <td>NaN</td>\n",
       "      <td>NaN</td>\n",
       "      <td>G</td>\n",
       "    </tr>\n",
       "    <tr>\n",
       "      <th>75301</th>\n",
       "      <td>NaN</td>\n",
       "      <td>6074424</td>\n",
       "      <td>NaN</td>\n",
       "      <td>NaN</td>\n",
       "      <td>32384905</td>\n",
       "      <td>C</td>\n",
       "      <td>NaN</td>\n",
       "      <td>1996</td>\n",
       "      <td>LINDE</td>\n",
       "      <td>2024-02-27</td>\n",
       "      <td>...</td>\n",
       "      <td>NaN</td>\n",
       "      <td>NaT</td>\n",
       "      <td>NaT</td>\n",
       "      <td>NaT</td>\n",
       "      <td>NaN</td>\n",
       "      <td>0</td>\n",
       "      <td>NaN</td>\n",
       "      <td>NaN</td>\n",
       "      <td>NaN</td>\n",
       "      <td>G</td>\n",
       "    </tr>\n",
       "    <tr>\n",
       "      <th>75323</th>\n",
       "      <td>BAT.H2X922D11122</td>\n",
       "      <td>6076355</td>\n",
       "      <td>NaN</td>\n",
       "      <td>E12</td>\n",
       "      <td>33937707</td>\n",
       "      <td>C</td>\n",
       "      <td>NaN</td>\n",
       "      <td>0</td>\n",
       "      <td>LINDE</td>\n",
       "      <td>2024-02-28</td>\n",
       "      <td>...</td>\n",
       "      <td>KS411A</td>\n",
       "      <td>NaT</td>\n",
       "      <td>NaT</td>\n",
       "      <td>NaT</td>\n",
       "      <td>NaN</td>\n",
       "      <td>0</td>\n",
       "      <td>NaN</td>\n",
       "      <td>KXE-6646</td>\n",
       "      <td>AVLB</td>\n",
       "      <td>L</td>\n",
       "    </tr>\n",
       "    <tr>\n",
       "      <th>75429</th>\n",
       "      <td>NaN</td>\n",
       "      <td>6087932</td>\n",
       "      <td>NaN</td>\n",
       "      <td>NaN</td>\n",
       "      <td>33940808</td>\n",
       "      <td>C</td>\n",
       "      <td>NaN</td>\n",
       "      <td>1998</td>\n",
       "      <td>LINDE</td>\n",
       "      <td>2024-03-07</td>\n",
       "      <td>...</td>\n",
       "      <td>NaN</td>\n",
       "      <td>NaT</td>\n",
       "      <td>NaT</td>\n",
       "      <td>NaT</td>\n",
       "      <td>NaN</td>\n",
       "      <td>0</td>\n",
       "      <td>NaN</td>\n",
       "      <td>NaN</td>\n",
       "      <td>NaN</td>\n",
       "      <td>G</td>\n",
       "    </tr>\n",
       "    <tr>\n",
       "      <th>75430</th>\n",
       "      <td>NaN</td>\n",
       "      <td>6087934</td>\n",
       "      <td>NaN</td>\n",
       "      <td>NaN</td>\n",
       "      <td>33940808</td>\n",
       "      <td>C</td>\n",
       "      <td>NaN</td>\n",
       "      <td>1998</td>\n",
       "      <td>LINDE</td>\n",
       "      <td>2024-03-07</td>\n",
       "      <td>...</td>\n",
       "      <td>NaN</td>\n",
       "      <td>NaT</td>\n",
       "      <td>NaT</td>\n",
       "      <td>NaT</td>\n",
       "      <td>NaN</td>\n",
       "      <td>0</td>\n",
       "      <td>NaN</td>\n",
       "      <td>NaN</td>\n",
       "      <td>NaN</td>\n",
       "      <td>G</td>\n",
       "    </tr>\n",
       "  </tbody>\n",
       "</table>\n",
       "<p>777 rows × 22 columns</p>\n",
       "</div>"
      ],
      "text/plain": [
       "          serial_number  equipment_id client_id group  client_code fleet_type  \\\n",
       "61      E1L71GTE1119242       2981089       NaN   E11     33930535          C   \n",
       "348          HLI1416595       2984170       NaN   E14     33933050          R   \n",
       "393         GRSSALVESEN       2984446       NaN   E11     33929798          C   \n",
       "3233          UFW212792       3013111       NaN   E11     33923308          C   \n",
       "3454    W4X595F15472OLD       3014862       NaN   NaN           55          C   \n",
       "...                 ...           ...       ...   ...          ...        ...   \n",
       "75156               NaN       6045292       NaN   NaN     39354898          C   \n",
       "75301               NaN       6074424       NaN   NaN     32384905          C   \n",
       "75323  BAT.H2X922D11122       6076355       NaN   E12     33937707          C   \n",
       "75429               NaN       6087932       NaN   NaN     33940808          C   \n",
       "75430               NaN       6087934       NaN   NaN     33940808          C   \n",
       "\n",
       "      fixed_asset  construction_year brand_name created_date  ... modified_by  \\\n",
       "61            NaN                  0      LINDE   2017-11-29  ...      HK57F5   \n",
       "348        J01186               2017      LINDE   2017-11-29  ...    CKMAGKNK   \n",
       "393           NaN                  0      LINDE   2017-11-29  ...      HK57F5   \n",
       "3233          NaN               2017      LINDE   2017-11-29  ...      HK57F5   \n",
       "3454          NaN               2015      LINDE   2017-11-30  ...      HK57F5   \n",
       "...           ...                ...        ...          ...  ...         ...   \n",
       "75156         NaN               2006      LINDE   2024-02-07  ...         NaN   \n",
       "75301         NaN               1996      LINDE   2024-02-27  ...         NaN   \n",
       "75323         NaN                  0      LINDE   2024-02-28  ...      KS411A   \n",
       "75429         NaN               1998      LINDE   2024-03-07  ...         NaN   \n",
       "75430         NaN               1998      LINDE   2024-03-07  ...         NaN   \n",
       "\n",
       "      service_start_date last_service_date warranty_start  \\\n",
       "61            2019-05-30        2020-04-06            NaT   \n",
       "348                  NaT        2024-01-12     2017-08-22   \n",
       "393                  NaT        2020-02-05     2016-02-02   \n",
       "3233          2021-06-15        2022-01-28     2021-06-15   \n",
       "3454          2018-10-05               NaT     2015-03-26   \n",
       "...                  ...               ...            ...   \n",
       "75156                NaT               NaT            NaT   \n",
       "75301                NaT               NaT            NaT   \n",
       "75323                NaT               NaT            NaT   \n",
       "75429                NaT               NaT            NaT   \n",
       "75430                NaT               NaT            NaT   \n",
       "\n",
       "         equipment_type_name construction_month country  technician  \\\n",
       "61                       NaN                  0     NaN    LE616666   \n",
       "348       Transpaleta manual                  8     NaN    KXE-6278   \n",
       "393                      NaN                  0     NaN    KXE-6191   \n",
       "3233               Retráctil                  0      SE    KXE-6626   \n",
       "3454   Transpaleta eléctrica                  0      FR         NaN   \n",
       "...                      ...                ...     ...         ...   \n",
       "75156                    NaN                  0     NaN         NaN   \n",
       "75301                    NaN                  0     NaN         NaN   \n",
       "75323                    NaN                  0     NaN    KXE-6646   \n",
       "75429                    NaN                  0     NaN         NaN   \n",
       "75430                    NaN                  0     NaN         NaN   \n",
       "\n",
       "      user_status equipment_type  \n",
       "61      SOTR PINA              C  \n",
       "348          NORE              L  \n",
       "393     AVLB PINA              C  \n",
       "3233    SOLD PINA              L  \n",
       "3454    SOLD PINA              L  \n",
       "...           ...            ...  \n",
       "75156         NaN              G  \n",
       "75301         NaN              G  \n",
       "75323        AVLB              L  \n",
       "75429         NaN              G  \n",
       "75430         NaN              G  \n",
       "\n",
       "[777 rows x 22 columns]"
      ]
     },
     "execution_count": 29,
     "metadata": {},
     "output_type": "execute_result"
    }
   ],
   "source": [
    "#We have 11502 rows with Linde brand elements. Now check character length\n",
    "\n",
    "# Check rows where the length of elements in the column is NOT 12\n",
    "invalid_length = linde_brand[\"serial_number\"].str.len() != 12\n",
    "\n",
    "# Display rows with invalid lengths with a boolean mask\n",
    "rows_with_invalid_length = linde_brand[invalid_length]\n",
    "rows_with_invalid_length"
   ]
  },
  {
   "cell_type": "code",
   "execution_count": 30,
   "metadata": {},
   "outputs": [
    {
     "name": "stdout",
     "output_type": "stream",
     "text": [
      "      serial_number  equipment_id    client_id group  client_code fleet_type  \\\n",
      "0      H2X992W15465       1132732            3   E82     33925845          C   \n",
      "1      H2X995S19125       1207034          NaN   E12     39380933          C   \n",
      "2      W4X979W12995       1290040  1204 PMP EX   E82     33927373          C   \n",
      "3      H2X994R11511       1306179          NaN   NaN     33922280          N   \n",
      "4      G5X997P11599       1655177          NaN   E11     33923892          C   \n",
      "...             ...           ...          ...   ...          ...        ...   \n",
      "75559           NaN       6122641          NaN   NaN     39333323          C   \n",
      "75560           NaN       6122642          NaN   NaN     39333323          C   \n",
      "75561           NaN       6122677          NaN   NaN     39333323          C   \n",
      "75562           NaN       6122678          NaN   NaN     39333323          C   \n",
      "75563           NaN       6122680          NaN   NaN     39333323          C   \n",
      "\n",
      "      fixed_asset  construction_year brand_name created_date  ... modified_by  \\\n",
      "0             NaN               2008      LINDE   2012-06-12  ...      HK57F5   \n",
      "1             NaN               2005        NaN   2012-06-18  ...      HK57F5   \n",
      "2             NaN               2008      LINDE   2012-12-18  ...    CKMAGKNK   \n",
      "3             NaN               2004      LINDE   2012-12-18  ...      HK57F5   \n",
      "4             NaN               2003        NaN   2014-09-23  ...      HK57F5   \n",
      "...           ...                ...        ...          ...  ...         ...   \n",
      "75559         NaN               2024     Others   2024-04-03  ...         NaN   \n",
      "75560         NaN               2024     Others   2024-04-03  ...         NaN   \n",
      "75561         NaN               2024     Others   2024-04-03  ...         NaN   \n",
      "75562         NaN               2024     Others   2024-04-03  ...         NaN   \n",
      "75563         NaN               2024     Others   2024-04-03  ...         NaN   \n",
      "\n",
      "      service_start_date last_service_date warranty_start  \\\n",
      "0                    NaT        2022-11-11     2008-09-15   \n",
      "1                    NaT        2018-07-13     2011-12-14   \n",
      "2             2008-05-29        2023-09-19            NaT   \n",
      "3             2004-04-30        2023-05-24            NaT   \n",
      "4                    NaT        2020-04-01     2003-07-15   \n",
      "...                  ...               ...            ...   \n",
      "75559                NaT               NaT            NaT   \n",
      "75560                NaT               NaT            NaT   \n",
      "75561                NaT               NaT            NaT   \n",
      "75562                NaT               NaT            NaT   \n",
      "75563                NaT               NaT            NaT   \n",
      "\n",
      "          equipment_type_name construction_month country  technician  \\\n",
      "0        Contrapesada térmica                  5      DE    KXE-6188   \n",
      "1      Contrapesada eléctrica                  5      DE    KXE-6639   \n",
      "2                    Apilador                  6     NaN    KXE-6156   \n",
      "3        Contrapesada térmica                  5     NaN         NaN   \n",
      "4      Contrapesada eléctrica                  6      GB    KXE-6263   \n",
      "...                       ...                ...     ...         ...   \n",
      "75559                     NaN                  6     NaN         NaN   \n",
      "75560                     NaN                  6     NaN         NaN   \n",
      "75561                     NaN                  6     NaN         NaN   \n",
      "75562                     NaN                  6     NaN         NaN   \n",
      "75563                     NaN                  6     NaN         NaN   \n",
      "\n",
      "      user_status equipment_type  \n",
      "0            AVLB              L  \n",
      "1       AVLB PINA              L  \n",
      "2            AWIN              L  \n",
      "3            AVLB              L  \n",
      "4       AVLB PINA              L  \n",
      "...           ...            ...  \n",
      "75559         NaN              G  \n",
      "75560         NaN              G  \n",
      "75561         NaN              G  \n",
      "75562         NaN              G  \n",
      "75563         NaN              G  \n",
      "\n",
      "[74787 rows x 22 columns]\n"
     ]
    }
   ],
   "source": [
    "#there are 777 rows of invalid length, so i would drop these\n",
    "\n",
    "invalid_rows = (clean_dataset[\"brand_name\"] == \"LINDE\") & (clean_dataset[\"serial_number\"].str.len() != 12)\n",
    "clean_dataset = clean_dataset[~invalid_rows]\n",
    "\n",
    "print(clean_dataset)"
   ]
  },
  {
   "cell_type": "code",
   "execution_count": 31,
   "metadata": {},
   "outputs": [
    {
     "data": {
      "text/plain": [
       "(74787, 22)"
      ]
     },
     "execution_count": 31,
     "metadata": {},
     "output_type": "execute_result"
    }
   ],
   "source": [
    "#now we have 74787 rows, 777 less than before\n",
    "\n",
    "clean_dataset.shape"
   ]
  },
  {
   "cell_type": "code",
   "execution_count": 32,
   "metadata": {},
   "outputs": [
    {
     "data": {
      "text/plain": [
       "24261"
      ]
     },
     "execution_count": 32,
     "metadata": {},
     "output_type": "execute_result"
    }
   ],
   "source": [
    "#we still have null values. I would drop them unless we can use equipment id as a unique identifier. So let's check first equipment ID unique values and then come back to this to see if we have still too many nulls.\n",
    "\n",
    "clean_dataset.serial_number.isnull().sum()"
   ]
  },
  {
   "cell_type": "code",
   "execution_count": 33,
   "metadata": {},
   "outputs": [],
   "source": [
    "#since serial number is critical, I would drop the rows that have nulls (it's 30% of the rows)\n",
    "\n",
    "clean_dataset = clean_dataset.dropna(subset=[\"serial_number\"])"
   ]
  },
  {
   "cell_type": "code",
   "execution_count": 34,
   "metadata": {},
   "outputs": [
    {
     "data": {
      "text/plain": [
       "(50526, 22)"
      ]
     },
     "execution_count": 34,
     "metadata": {},
     "output_type": "execute_result"
    }
   ],
   "source": [
    "clean_dataset.shape"
   ]
  },
  {
   "cell_type": "markdown",
   "metadata": {},
   "source": [
    "### equipment_id\n",
    "\n",
    "- see if we have unique values\n",
    "- missing values\n",
    "- dtype"
   ]
  },
  {
   "cell_type": "code",
   "execution_count": 35,
   "metadata": {},
   "outputs": [
    {
     "data": {
      "text/plain": [
       "0"
      ]
     },
     "execution_count": 35,
     "metadata": {},
     "output_type": "execute_result"
    }
   ],
   "source": [
    "clean_dataset.equipment_id.isnull().sum()"
   ]
  },
  {
   "cell_type": "code",
   "execution_count": 36,
   "metadata": {},
   "outputs": [
    {
     "data": {
      "text/plain": [
       "<bound method Series.unique of 0        1132732\n",
       "1        1207034\n",
       "2        1290040\n",
       "3        1306179\n",
       "4        1655177\n",
       "          ...   \n",
       "75532    6109690\n",
       "75533    6109768\n",
       "75541    6111696\n",
       "75542    6112185\n",
       "75548    6118220\n",
       "Name: equipment_id, Length: 50526, dtype: int64>"
      ]
     },
     "execution_count": 36,
     "metadata": {},
     "output_type": "execute_result"
    }
   ],
   "source": [
    "clean_dataset.equipment_id.unique"
   ]
  },
  {
   "cell_type": "code",
   "execution_count": 37,
   "metadata": {},
   "outputs": [],
   "source": [
    "#perfect, we have 74787 unique values and 0 nulls so we don't have to drop anything."
   ]
  },
  {
   "cell_type": "markdown",
   "metadata": {},
   "source": [
    "### client_id\n",
    "\n",
    "- see if we have unique values\n",
    "- missing values\n",
    "- dtype\n"
   ]
  },
  {
   "cell_type": "code",
   "execution_count": 38,
   "metadata": {},
   "outputs": [
    {
     "data": {
      "text/plain": [
       "44787"
      ]
     },
     "execution_count": 38,
     "metadata": {},
     "output_type": "execute_result"
    }
   ],
   "source": [
    "clean_dataset.client_id.isnull().sum()"
   ]
  },
  {
   "cell_type": "code",
   "execution_count": 39,
   "metadata": {},
   "outputs": [
    {
     "data": {
      "text/plain": [
       "2                      78\n",
       "3                      77\n",
       "1                      72\n",
       "SUPERSOL BELLAVISTA    68\n",
       "SUPERSOL GETAFE        63\n",
       "                       ..\n",
       "PALENCIA                1\n",
       "SALAMANCA               1\n",
       "24v/225ah               1\n",
       "CON POCISIONADOR        1\n",
       "muelle palas largas     1\n",
       "Name: client_id, Length: 2953, dtype: int64"
      ]
     },
     "execution_count": 39,
     "metadata": {},
     "output_type": "execute_result"
    }
   ],
   "source": [
    "clean_dataset.client_id.value_counts()"
   ]
  },
  {
   "cell_type": "code",
   "execution_count": 40,
   "metadata": {},
   "outputs": [
    {
     "name": "stdout",
     "output_type": "stream",
     "text": [
      "<class 'pandas.core.series.Series'>\n",
      "Int64Index: 50526 entries, 0 to 75548\n",
      "Series name: client_id\n",
      "Non-Null Count  Dtype \n",
      "--------------  ----- \n",
      "5739 non-null   object\n",
      "dtypes: object(1)\n",
      "memory usage: 789.5+ KB\n"
     ]
    }
   ],
   "source": [
    "clean_dataset.client_id.info()"
   ]
  },
  {
   "cell_type": "code",
   "execution_count": 41,
   "metadata": {},
   "outputs": [
    {
     "data": {
      "text/html": [
       "<div>\n",
       "<style scoped>\n",
       "    .dataframe tbody tr th:only-of-type {\n",
       "        vertical-align: middle;\n",
       "    }\n",
       "\n",
       "    .dataframe tbody tr th {\n",
       "        vertical-align: top;\n",
       "    }\n",
       "\n",
       "    .dataframe thead th {\n",
       "        text-align: right;\n",
       "    }\n",
       "</style>\n",
       "<table border=\"1\" class=\"dataframe\">\n",
       "  <thead>\n",
       "    <tr style=\"text-align: right;\">\n",
       "      <th></th>\n",
       "      <th>serial_number</th>\n",
       "      <th>equipment_id</th>\n",
       "      <th>group</th>\n",
       "      <th>client_code</th>\n",
       "      <th>fleet_type</th>\n",
       "      <th>fixed_asset</th>\n",
       "      <th>construction_year</th>\n",
       "      <th>brand_name</th>\n",
       "      <th>created_date</th>\n",
       "      <th>warranty_type</th>\n",
       "      <th>...</th>\n",
       "      <th>modified_by</th>\n",
       "      <th>service_start_date</th>\n",
       "      <th>last_service_date</th>\n",
       "      <th>warranty_start</th>\n",
       "      <th>equipment_type_name</th>\n",
       "      <th>construction_month</th>\n",
       "      <th>country</th>\n",
       "      <th>technician</th>\n",
       "      <th>user_status</th>\n",
       "      <th>equipment_type</th>\n",
       "    </tr>\n",
       "  </thead>\n",
       "  <tbody>\n",
       "    <tr>\n",
       "      <th>0</th>\n",
       "      <td>H2X992W15465</td>\n",
       "      <td>1132732</td>\n",
       "      <td>E82</td>\n",
       "      <td>33925845</td>\n",
       "      <td>C</td>\n",
       "      <td>NaN</td>\n",
       "      <td>2008</td>\n",
       "      <td>LINDE</td>\n",
       "      <td>2012-06-12</td>\n",
       "      <td>NaN</td>\n",
       "      <td>...</td>\n",
       "      <td>HK57F5</td>\n",
       "      <td>NaT</td>\n",
       "      <td>2022-11-11</td>\n",
       "      <td>2008-09-15</td>\n",
       "      <td>Contrapesada térmica</td>\n",
       "      <td>5</td>\n",
       "      <td>DE</td>\n",
       "      <td>KXE-6188</td>\n",
       "      <td>AVLB</td>\n",
       "      <td>L</td>\n",
       "    </tr>\n",
       "    <tr>\n",
       "      <th>1</th>\n",
       "      <td>H2X995S19125</td>\n",
       "      <td>1207034</td>\n",
       "      <td>E12</td>\n",
       "      <td>39380933</td>\n",
       "      <td>C</td>\n",
       "      <td>NaN</td>\n",
       "      <td>2005</td>\n",
       "      <td>NaN</td>\n",
       "      <td>2012-06-18</td>\n",
       "      <td>NaN</td>\n",
       "      <td>...</td>\n",
       "      <td>HK57F5</td>\n",
       "      <td>NaT</td>\n",
       "      <td>2018-07-13</td>\n",
       "      <td>2011-12-14</td>\n",
       "      <td>Contrapesada eléctrica</td>\n",
       "      <td>5</td>\n",
       "      <td>DE</td>\n",
       "      <td>KXE-6639</td>\n",
       "      <td>AVLB PINA</td>\n",
       "      <td>L</td>\n",
       "    </tr>\n",
       "    <tr>\n",
       "      <th>2</th>\n",
       "      <td>W4X979W12995</td>\n",
       "      <td>1290040</td>\n",
       "      <td>E82</td>\n",
       "      <td>33927373</td>\n",
       "      <td>C</td>\n",
       "      <td>NaN</td>\n",
       "      <td>2008</td>\n",
       "      <td>LINDE</td>\n",
       "      <td>2012-12-18</td>\n",
       "      <td>NaN</td>\n",
       "      <td>...</td>\n",
       "      <td>CKMAGKNK</td>\n",
       "      <td>2008-05-29</td>\n",
       "      <td>2023-09-19</td>\n",
       "      <td>NaT</td>\n",
       "      <td>Apilador</td>\n",
       "      <td>6</td>\n",
       "      <td>NaN</td>\n",
       "      <td>KXE-6156</td>\n",
       "      <td>AWIN</td>\n",
       "      <td>L</td>\n",
       "    </tr>\n",
       "    <tr>\n",
       "      <th>3</th>\n",
       "      <td>H2X994R11511</td>\n",
       "      <td>1306179</td>\n",
       "      <td>NaN</td>\n",
       "      <td>33922280</td>\n",
       "      <td>N</td>\n",
       "      <td>NaN</td>\n",
       "      <td>2004</td>\n",
       "      <td>LINDE</td>\n",
       "      <td>2012-12-18</td>\n",
       "      <td>NaN</td>\n",
       "      <td>...</td>\n",
       "      <td>HK57F5</td>\n",
       "      <td>2004-04-30</td>\n",
       "      <td>2023-05-24</td>\n",
       "      <td>NaT</td>\n",
       "      <td>Contrapesada térmica</td>\n",
       "      <td>5</td>\n",
       "      <td>NaN</td>\n",
       "      <td>NaN</td>\n",
       "      <td>AVLB</td>\n",
       "      <td>L</td>\n",
       "    </tr>\n",
       "    <tr>\n",
       "      <th>4</th>\n",
       "      <td>G5X997P11599</td>\n",
       "      <td>1655177</td>\n",
       "      <td>E11</td>\n",
       "      <td>33923892</td>\n",
       "      <td>C</td>\n",
       "      <td>NaN</td>\n",
       "      <td>2003</td>\n",
       "      <td>NaN</td>\n",
       "      <td>2014-09-23</td>\n",
       "      <td>12 Mon./2000 h</td>\n",
       "      <td>...</td>\n",
       "      <td>HK57F5</td>\n",
       "      <td>NaT</td>\n",
       "      <td>2020-04-01</td>\n",
       "      <td>2003-07-15</td>\n",
       "      <td>Contrapesada eléctrica</td>\n",
       "      <td>6</td>\n",
       "      <td>GB</td>\n",
       "      <td>KXE-6263</td>\n",
       "      <td>AVLB PINA</td>\n",
       "      <td>L</td>\n",
       "    </tr>\n",
       "  </tbody>\n",
       "</table>\n",
       "<p>5 rows × 21 columns</p>\n",
       "</div>"
      ],
      "text/plain": [
       "  serial_number  equipment_id group  client_code fleet_type fixed_asset  \\\n",
       "0  H2X992W15465       1132732   E82     33925845          C         NaN   \n",
       "1  H2X995S19125       1207034   E12     39380933          C         NaN   \n",
       "2  W4X979W12995       1290040   E82     33927373          C         NaN   \n",
       "3  H2X994R11511       1306179   NaN     33922280          N         NaN   \n",
       "4  G5X997P11599       1655177   E11     33923892          C         NaN   \n",
       "\n",
       "   construction_year brand_name created_date   warranty_type  ... modified_by  \\\n",
       "0               2008      LINDE   2012-06-12             NaN  ...      HK57F5   \n",
       "1               2005        NaN   2012-06-18             NaN  ...      HK57F5   \n",
       "2               2008      LINDE   2012-12-18             NaN  ...    CKMAGKNK   \n",
       "3               2004      LINDE   2012-12-18             NaN  ...      HK57F5   \n",
       "4               2003        NaN   2014-09-23  12 Mon./2000 h  ...      HK57F5   \n",
       "\n",
       "  service_start_date last_service_date warranty_start     equipment_type_name  \\\n",
       "0                NaT        2022-11-11     2008-09-15    Contrapesada térmica   \n",
       "1                NaT        2018-07-13     2011-12-14  Contrapesada eléctrica   \n",
       "2         2008-05-29        2023-09-19            NaT                Apilador   \n",
       "3         2004-04-30        2023-05-24            NaT    Contrapesada térmica   \n",
       "4                NaT        2020-04-01     2003-07-15  Contrapesada eléctrica   \n",
       "\n",
       "  construction_month  country technician user_status equipment_type  \n",
       "0                  5       DE   KXE-6188        AVLB              L  \n",
       "1                  5       DE   KXE-6639   AVLB PINA              L  \n",
       "2                  6      NaN   KXE-6156        AWIN              L  \n",
       "3                  5      NaN        NaN        AVLB              L  \n",
       "4                  6       GB   KXE-6263   AVLB PINA              L  \n",
       "\n",
       "[5 rows x 21 columns]"
      ]
     },
     "execution_count": 41,
     "metadata": {},
     "output_type": "execute_result"
    }
   ],
   "source": [
    "#we could drop this column because it has 93% null values and it's not reliable as an id, as it's how the client identifies it so we might not need this for future systems.\n",
    "\n",
    "clean_dataset = clean_dataset.drop(columns=[\"client_id\"])\n",
    "clean_dataset.head()"
   ]
  },
  {
   "cell_type": "markdown",
   "metadata": {},
   "source": [
    "### group\n",
    "\n",
    "Also could be dropped, I don't see how this would be relevant in the future"
   ]
  },
  {
   "cell_type": "code",
   "execution_count": 42,
   "metadata": {},
   "outputs": [
    {
     "data": {
      "text/plain": [
       "37178"
      ]
     },
     "execution_count": 42,
     "metadata": {},
     "output_type": "execute_result"
    }
   ],
   "source": [
    "clean_dataset.group.isnull().sum()"
   ]
  },
  {
   "cell_type": "code",
   "execution_count": 43,
   "metadata": {},
   "outputs": [
    {
     "data": {
      "text/plain": [
       "E11    5446\n",
       "E12    2648\n",
       "E81    2271\n",
       "E14    1740\n",
       "E13     646\n",
       "E82     596\n",
       "E83       1\n",
       "Name: group, dtype: int64"
      ]
     },
     "execution_count": 43,
     "metadata": {},
     "output_type": "execute_result"
    }
   ],
   "source": [
    "clean_dataset.group.value_counts()"
   ]
  },
  {
   "cell_type": "code",
   "execution_count": 47,
   "metadata": {},
   "outputs": [
    {
     "data": {
      "text/plain": [
       "array(['E82', 'E12', nan, 'E11', 'E13', 'E14', 'E81', 'E83'], dtype=object)"
      ]
     },
     "execution_count": 47,
     "metadata": {},
     "output_type": "execute_result"
    }
   ],
   "source": [
    "clean_dataset.group.unique()\n"
   ]
  },
  {
   "cell_type": "code",
   "execution_count": 48,
   "metadata": {},
   "outputs": [
    {
     "data": {
      "text/plain": [
       "0"
      ]
     },
     "execution_count": 48,
     "metadata": {},
     "output_type": "execute_result"
    }
   ],
   "source": [
    "#for now maybe let's fillna with \"unknown\"\n",
    "\n",
    "clean_dataset.group = clean_dataset.group.fillna(\"unknown\")\n",
    "clean_dataset.group.isnull().sum()"
   ]
  },
  {
   "cell_type": "code",
   "execution_count": 49,
   "metadata": {},
   "outputs": [
    {
     "data": {
      "text/plain": [
       "unknown    37178\n",
       "E11         5446\n",
       "E12         2648\n",
       "E81         2271\n",
       "E14         1740\n",
       "E13          646\n",
       "E82          596\n",
       "E83            1\n",
       "Name: group, dtype: int64"
      ]
     },
     "execution_count": 49,
     "metadata": {},
     "output_type": "execute_result"
    }
   ],
   "source": [
    "clean_dataset.group.value_counts()"
   ]
  },
  {
   "cell_type": "markdown",
   "metadata": {},
   "source": [
    "### client_code\n",
    "\n",
    "\"enviar a parte\" \n",
    "\n",
    "This is a relevant column"
   ]
  },
  {
   "cell_type": "code",
   "execution_count": 50,
   "metadata": {},
   "outputs": [
    {
     "data": {
      "text/plain": [
       "0"
      ]
     },
     "execution_count": 50,
     "metadata": {},
     "output_type": "execute_result"
    }
   ],
   "source": [
    "clean_dataset.client_code.isnull().sum()"
   ]
  },
  {
   "cell_type": "code",
   "execution_count": 53,
   "metadata": {},
   "outputs": [
    {
     "data": {
      "text/plain": [
       "<bound method Series.unique of 0        33925845\n",
       "1        39380933\n",
       "2        33927373\n",
       "3        33922280\n",
       "4        33923892\n",
       "           ...   \n",
       "75532    33934592\n",
       "75533    33934592\n",
       "75541    33920279\n",
       "75542    33923302\n",
       "75548    33934507\n",
       "Name: client_code, Length: 50526, dtype: int64>"
      ]
     },
     "execution_count": 53,
     "metadata": {},
     "output_type": "execute_result"
    }
   ],
   "source": [
    "clean_dataset.client_code.unique"
   ]
  },
  {
   "cell_type": "code",
   "execution_count": 54,
   "metadata": {},
   "outputs": [
    {
     "data": {
      "text/plain": [
       "(50526, 21)"
      ]
     },
     "execution_count": 54,
     "metadata": {},
     "output_type": "execute_result"
    }
   ],
   "source": [
    "clean_dataset.shape"
   ]
  },
  {
   "cell_type": "code",
   "execution_count": 55,
   "metadata": {},
   "outputs": [],
   "source": [
    "#all the client codes are unique, so this is good.\n"
   ]
  },
  {
   "cell_type": "code",
   "execution_count": null,
   "metadata": {},
   "outputs": [
    {
     "name": "stdout",
     "output_type": "stream",
     "text": [
      "<class 'pandas.core.series.Series'>\n",
      "Int64Index: 50526 entries, 0 to 75548\n",
      "Series name: client_code\n",
      "Non-Null Count  Dtype\n",
      "--------------  -----\n",
      "50526 non-null  int64\n",
      "dtypes: int64(1)\n",
      "memory usage: 789.5 KB\n"
     ]
    }
   ],
   "source": [
    "clean_dataset.client_code.info()"
   ]
  },
  {
   "cell_type": "markdown",
   "metadata": {},
   "source": [
    "### fleet_type\n",
    "\n",
    "\n",
    "\n"
   ]
  },
  {
   "cell_type": "code",
   "execution_count": 59,
   "metadata": {},
   "outputs": [
    {
     "data": {
      "text/plain": [
       "6"
      ]
     },
     "execution_count": 59,
     "metadata": {},
     "output_type": "execute_result"
    }
   ],
   "source": [
    "clean_dataset.fleet_type.isnull().sum()"
   ]
  },
  {
   "cell_type": "code",
   "execution_count": 60,
   "metadata": {},
   "outputs": [
    {
     "data": {
      "text/plain": [
       "array(['C', 'N', 'U', 'R', 'D', nan], dtype=object)"
      ]
     },
     "execution_count": 60,
     "metadata": {},
     "output_type": "execute_result"
    }
   ],
   "source": [
    "clean_dataset.fleet_type.unique()"
   ]
  },
  {
   "cell_type": "code",
   "execution_count": 61,
   "metadata": {},
   "outputs": [],
   "source": [
    "#since there are only 6 nulls and it's a relevant field, i will drop them\n",
    "\n",
    "clean_dataset = clean_dataset.dropna(subset=[\"fleet_type\"])"
   ]
  },
  {
   "cell_type": "code",
   "execution_count": 64,
   "metadata": {},
   "outputs": [
    {
     "data": {
      "text/plain": [
       "0"
      ]
     },
     "execution_count": 64,
     "metadata": {},
     "output_type": "execute_result"
    }
   ],
   "source": [
    "clean_dataset.fleet_type.isnull().sum()"
   ]
  },
  {
   "cell_type": "code",
   "execution_count": 62,
   "metadata": {},
   "outputs": [
    {
     "data": {
      "text/plain": [
       "(50520, 21)"
      ]
     },
     "execution_count": 62,
     "metadata": {},
     "output_type": "execute_result"
    }
   ],
   "source": [
    "clean_dataset.shape"
   ]
  },
  {
   "cell_type": "markdown",
   "metadata": {},
   "source": [
    "### Activo fijo\n",
    "\n",
    "Activo Fijo. Cuanto la maquina pertenece a flotas de la compañía tiene asociado un numero de activo.\n",
    "\n",
    "Convert to boolean, 0/1"
   ]
  },
  {
   "cell_type": "code",
   "execution_count": 65,
   "metadata": {},
   "outputs": [
    {
     "data": {
      "text/plain": [
       "48723"
      ]
     },
     "execution_count": 65,
     "metadata": {},
     "output_type": "execute_result"
    }
   ],
   "source": [
    "clean_dataset.fixed_asset.isnull().sum()"
   ]
  },
  {
   "cell_type": "code",
   "execution_count": 66,
   "metadata": {},
   "outputs": [
    {
     "data": {
      "text/plain": [
       "array([nan, 'J06271', 'J05127', ..., 'J096J3', 'J096J2', 'J096JJ'],\n",
       "      dtype=object)"
      ]
     },
     "execution_count": 66,
     "metadata": {},
     "output_type": "execute_result"
    }
   ],
   "source": [
    "clean_dataset.fixed_asset.unique()"
   ]
  },
  {
   "cell_type": "code",
   "execution_count": 67,
   "metadata": {},
   "outputs": [
    {
     "data": {
      "text/plain": [
       "J05127    2\n",
       "J01211    2\n",
       "J072J6    1\n",
       "J07JJ9    1\n",
       "J07378    1\n",
       "         ..\n",
       "J08856    1\n",
       "J0391J    1\n",
       "J08953    1\n",
       "J0J921    1\n",
       "J096JJ    1\n",
       "Name: fixed_asset, Length: 1795, dtype: int64"
      ]
     },
     "execution_count": 67,
     "metadata": {},
     "output_type": "execute_result"
    }
   ],
   "source": [
    "clean_dataset.fixed_asset.value_counts()"
   ]
  },
  {
   "cell_type": "code",
   "execution_count": 68,
   "metadata": {},
   "outputs": [],
   "source": [
    "#not sure if i would drop it, because it's internal classification so not sure about the future use with other systems. and there are only 1795 assets.\n",
    "\n",
    "#for now let's fillna with not applicable in case it's not a fixed asset\n",
    "\n",
    "clean_dataset.fixed_asset = clean_dataset.fixed_asset.fillna(\"N/A\")"
   ]
  },
  {
   "cell_type": "code",
   "execution_count": 70,
   "metadata": {},
   "outputs": [
    {
     "data": {
      "text/plain": [
       "0"
      ]
     },
     "execution_count": 70,
     "metadata": {},
     "output_type": "execute_result"
    }
   ],
   "source": [
    "clean_dataset.fixed_asset.isnull().sum()"
   ]
  },
  {
   "cell_type": "markdown",
   "metadata": {},
   "source": [
    "### Año de construcción\n",
    "\n",
    "Año de fabricación del equipo.  \n",
    "\n",
    "Converted to int, we will group later"
   ]
  },
  {
   "cell_type": "code",
   "execution_count": 72,
   "metadata": {},
   "outputs": [
    {
     "data": {
      "text/plain": [
       "0"
      ]
     },
     "execution_count": 72,
     "metadata": {},
     "output_type": "execute_result"
    }
   ],
   "source": [
    "clean_dataset.construction_year.isnull().sum()"
   ]
  },
  {
   "cell_type": "code",
   "execution_count": 73,
   "metadata": {},
   "outputs": [
    {
     "data": {
      "text/plain": [
       "array([2008, 2005, 2004, 2003, 2015, 2012, 2016,    0, 2017, 2013, 2014,\n",
       "       2000, 2001, 2007, 1999, 2002, 2006, 2010, 2011, 2009, 2019, 1998,\n",
       "       1993, 1995, 1997, 1991, 1989, 1990, 1992, 1994, 1984, 1986, 1987,\n",
       "       1988, 1900, 1996, 1985, 2018, 2023, 2020, 2022, 2021, 2024,  199])"
      ]
     },
     "execution_count": 73,
     "metadata": {},
     "output_type": "execute_result"
    }
   ],
   "source": [
    "clean_dataset.construction_year.unique()"
   ]
  },
  {
   "cell_type": "code",
   "execution_count": 86,
   "metadata": {},
   "outputs": [
    {
     "data": {
      "text/plain": [
       "0      2129\n",
       "199       1\n",
       "Name: construction_year, dtype: int64"
      ]
     },
     "execution_count": 86,
     "metadata": {},
     "output_type": "execute_result"
    }
   ],
   "source": [
    "# we see some wrong years, let's delete them\n",
    "\n",
    "wrong_year = clean_dataset[(clean_dataset.construction_year == 0) | (clean_dataset.construction_year == 199)]\n",
    "wrong_year.construction_year.value_counts()"
   ]
  },
  {
   "cell_type": "code",
   "execution_count": 92,
   "metadata": {},
   "outputs": [
    {
     "data": {
      "text/plain": [
       "array([2008, 2005, 2004, 2003, 2015, 2012, 2016, 2017, 2013, 2014, 2000,\n",
       "       2001, 2007, 1999, 2002, 2006, 2010, 2011, 2009, 2019, 1998, 1993,\n",
       "       1995, 1997, 1991, 1989, 1990, 1992, 1994, 1984, 1986, 1987, 1988,\n",
       "       1900, 1996, 1985, 2018, 2023, 2020, 2022, 2021, 2024])"
      ]
     },
     "execution_count": 92,
     "metadata": {},
     "output_type": "execute_result"
    }
   ],
   "source": [
    "clean_dataset = clean_dataset[~((clean_dataset.construction_year == 0) | (clean_dataset.construction_year == 199))]\n",
    "clean_dataset.construction_year.unique()"
   ]
  },
  {
   "cell_type": "code",
   "execution_count": 94,
   "metadata": {},
   "outputs": [
    {
     "data": {
      "text/plain": [
       "(48390, 21)"
      ]
     },
     "execution_count": 94,
     "metadata": {},
     "output_type": "execute_result"
    }
   ],
   "source": [
    "clean_dataset.shape"
   ]
  },
  {
   "cell_type": "code",
   "execution_count": 95,
   "metadata": {},
   "outputs": [
    {
     "data": {
      "text/plain": [
       "0"
      ]
     },
     "execution_count": 95,
     "metadata": {},
     "output_type": "execute_result"
    }
   ],
   "source": [
    "clean_dataset.construction_year.isnull().sum()"
   ]
  },
  {
   "cell_type": "markdown",
   "metadata": {},
   "source": [
    "### Brand name"
   ]
  },
  {
   "cell_type": "code",
   "execution_count": 97,
   "metadata": {},
   "outputs": [
    {
     "data": {
      "text/plain": [
       "3478"
      ]
     },
     "execution_count": 97,
     "metadata": {},
     "output_type": "execute_result"
    }
   ],
   "source": [
    "clean_dataset.brand_name.isnull().sum()"
   ]
  },
  {
   "cell_type": "code",
   "execution_count": null,
   "metadata": {},
   "outputs": [
    {
     "data": {
      "text/plain": [
       "array(['LINDE', nan, 'KÄRCHER', 'Others', 'Still / OM Pimespo', 'FENWICK',\n",
       "       'Not defined', 'Toyota / BT', 'NISSAN', 'JUNGHEINRICH', 'CLARK',\n",
       "       'DAEWOO', 'YALE', 'CATERPILLAR', 'MITSUBISHI', 'HYSTER', 'CROWN',\n",
       "       'KOMATSU', 'CESAB', 'KALMAR', 'ATLET', 'STEINBOCK', 'MANITOU',\n",
       "       'LUGLI', 'BT !!OUT OF DATE!!', 'BOLZONI-AURAMO', 'CASCADE'],\n",
       "      dtype=object)"
      ]
     },
     "execution_count": 98,
     "metadata": {},
     "output_type": "execute_result"
    }
   ],
   "source": [
    "#ok we have some null values, let's see what the others are\n",
    "\n",
    "clean_dataset.brand_name.unique()"
   ]
  },
  {
   "cell_type": "code",
   "execution_count": 100,
   "metadata": {},
   "outputs": [
    {
     "data": {
      "text/plain": [
       "LINDE                 10482\n",
       "Toyota / BT           10159\n",
       "JUNGHEINRICH           5640\n",
       "Still / OM Pimespo     5153\n",
       "Others                 4333\n",
       "HYSTER                 2406\n",
       "NISSAN                 2308\n",
       "CATERPILLAR            1056\n",
       "MITSUBISHI              936\n",
       "YALE                    721\n",
       "CROWN                   524\n",
       "KOMATSU                 363\n",
       "CLARK                   291\n",
       "CESAB                   239\n",
       "DAEWOO                  116\n",
       "ATLET                   114\n",
       "KALMAR                   36\n",
       "LUGLI                    11\n",
       "STEINBOCK                10\n",
       "MANITOU                   3\n",
       "CASCADE                   3\n",
       "FENWICK                   2\n",
       "KÄRCHER                   2\n",
       "BT !!OUT OF DATE!!        2\n",
       "Not defined               1\n",
       "BOLZONI-AURAMO            1\n",
       "Name: brand_name, dtype: int64"
      ]
     },
     "execution_count": 100,
     "metadata": {},
     "output_type": "execute_result"
    }
   ],
   "source": [
    "clean_dataset.brand_name.value_counts()"
   ]
  },
  {
   "cell_type": "code",
   "execution_count": 102,
   "metadata": {},
   "outputs": [
    {
     "data": {
      "text/plain": [
       "0"
      ]
     },
     "execution_count": 102,
     "metadata": {},
     "output_type": "execute_result"
    }
   ],
   "source": [
    "#i see that there is a not defined brand, so let's check if we can fillna with this value\n",
    "clean_dataset.brand_name = clean_dataset.brand_name.fillna(\"Not defined\")\n",
    "clean_dataset.brand_name.isnull().sum()"
   ]
  },
  {
   "cell_type": "code",
   "execution_count": 103,
   "metadata": {},
   "outputs": [
    {
     "data": {
      "text/plain": [
       "LINDE                 10482\n",
       "Toyota / BT           10159\n",
       "JUNGHEINRICH           5640\n",
       "Still / OM Pimespo     5153\n",
       "Others                 4333\n",
       "Not defined            3479\n",
       "HYSTER                 2406\n",
       "NISSAN                 2308\n",
       "CATERPILLAR            1056\n",
       "MITSUBISHI              936\n",
       "YALE                    721\n",
       "CROWN                   524\n",
       "KOMATSU                 363\n",
       "CLARK                   291\n",
       "CESAB                   239\n",
       "DAEWOO                  116\n",
       "ATLET                   114\n",
       "KALMAR                   36\n",
       "LUGLI                    11\n",
       "STEINBOCK                10\n",
       "MANITOU                   3\n",
       "CASCADE                   3\n",
       "FENWICK                   2\n",
       "KÄRCHER                   2\n",
       "BT !!OUT OF DATE!!        2\n",
       "BOLZONI-AURAMO            1\n",
       "Name: brand_name, dtype: int64"
      ]
     },
     "execution_count": 103,
     "metadata": {},
     "output_type": "execute_result"
    }
   ],
   "source": [
    "clean_dataset.brand_name.value_counts()"
   ]
  },
  {
   "cell_type": "markdown",
   "metadata": {},
   "source": [
    "### Creado el"
   ]
  },
  {
   "cell_type": "code",
   "execution_count": null,
   "metadata": {},
   "outputs": [],
   "source": []
  },
  {
   "cell_type": "markdown",
   "metadata": {},
   "source": [
    "### Denominación de garantía de cliente"
   ]
  },
  {
   "cell_type": "markdown",
   "metadata": {},
   "source": [
    "### Modificado el"
   ]
  },
  {
   "cell_type": "markdown",
   "metadata": {},
   "source": [
    "### Modificado por"
   ]
  },
  {
   "cell_type": "markdown",
   "metadata": {},
   "source": [
    "### Fe.puesta servicio"
   ]
  },
  {
   "cell_type": "markdown",
   "metadata": {},
   "source": [
    "### Fecha de última orden"
   ]
  },
  {
   "cell_type": "markdown",
   "metadata": {},
   "source": [
    "### Inic.garantía clte."
   ]
  },
  {
   "cell_type": "markdown",
   "metadata": {},
   "source": [
    "### intervalo"
   ]
  },
  {
   "cell_type": "markdown",
   "metadata": {},
   "source": [
    "### Mes de construcción"
   ]
  },
  {
   "cell_type": "markdown",
   "metadata": {},
   "source": [
    "### País de fabricación"
   ]
  },
  {
   "cell_type": "markdown",
   "metadata": {},
   "source": [
    "### Pto.tbjo.responsable\n"
   ]
  },
  {
   "cell_type": "markdown",
   "metadata": {},
   "source": [
    "### Status de usuario\n"
   ]
  },
  {
   "cell_type": "markdown",
   "metadata": {},
   "source": [
    "### Tipo de equipo"
   ]
  },
  {
   "cell_type": "markdown",
   "metadata": {},
   "source": []
  },
  {
   "cell_type": "markdown",
   "metadata": {},
   "source": [
    "## Add calculated fields + re-order"
   ]
  },
  {
   "cell_type": "markdown",
   "metadata": {},
   "source": []
  }
 ],
 "metadata": {
  "kernelspec": {
   "display_name": "lewagon",
   "language": "python",
   "name": "python3"
  },
  "language_info": {
   "codemirror_mode": {
    "name": "ipython",
    "version": 3
   },
   "file_extension": ".py",
   "mimetype": "text/x-python",
   "name": "python",
   "nbconvert_exporter": "python",
   "pygments_lexer": "ipython3",
   "version": "3.10.6"
  }
 },
 "nbformat": 4,
 "nbformat_minor": 2
}
